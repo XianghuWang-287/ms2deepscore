{
 "cells": [
  {
   "cell_type": "code",
   "execution_count": 1,
   "metadata": {},
   "outputs": [],
   "source": [
    "import os\n",
    "import sys\n",
    "import numpy as np\n",
    "from tqdm.notebook import tqdm\n",
    "from matchms.importing import load_from_json\n",
    "import tensorflow as tf\n",
    "from tensorflow.keras.utils import to_categorical\n",
    "\n",
    "path_root = os.path.dirname(os.getcwd())\n",
    "path_data = os.path.join(os.path.dirname(path_root), \"Data\")  # add your local data folder here"
   ]
  },
  {
   "cell_type": "markdown",
   "metadata": {},
   "source": [
    "## Load spectra \n",
    "- imported, cleaned by matchms + Pubchem lookup\n",
    "- processed (intensity normalization, peak removal outside 10.0-1000.0 Da, minimum 5 peaks)\n",
    "- remove spectra without InChIKey + smiles/inchi"
   ]
  },
  {
   "cell_type": "code",
   "execution_count": 2,
   "metadata": {},
   "outputs": [
    {
     "name": "stdout",
     "output_type": "stream",
     "text": [
      "number of spectra: 250371\n"
     ]
    }
   ],
   "source": [
    "import pickle\n",
    "\n",
    "outfile = os.path.join(path_data, 'GNPS_all', 'ALL_GNPS_210409_positive_processed_annotated.pickle')\n",
    "with open(outfile, 'rb') as file:\n",
    "    spectrums = pickle.load(file)\n",
    "\n",
    "print(\"number of spectra:\", len(spectrums))"
   ]
  },
  {
   "cell_type": "code",
   "execution_count": 3,
   "metadata": {},
   "outputs": [],
   "source": [
    "def count_annotations(spectrums):\n",
    "    inchi_lst = []\n",
    "    smiles_lst = []\n",
    "    inchikey_lst = []\n",
    "    for i, spec in enumerate(spectrums):\n",
    "        inchi_lst.append(spec.get(\"inchi\"))\n",
    "        smiles_lst.append(spec.get(\"smiles\"))\n",
    "        inchikey = spec.get(\"inchikey\")\n",
    "        if inchikey is None:\n",
    "            inchikey = spec.get(\"inchikey_inchi\")\n",
    "        inchikey_lst.append(inchikey)\n",
    "\n",
    "    inchi_count = sum([1 for x in inchi_lst if x])\n",
    "    smiles_count = sum([1 for x in smiles_lst if x])\n",
    "    inchikey_count = sum([1 for x in inchikey_lst if x])\n",
    "    print(\"Inchis:\", inchi_count, \"--\", len(set(inchi_lst)), \"unique\")\n",
    "    print(\"Smiles:\", smiles_count, \"--\", len(set(smiles_lst)), \"unique\")\n",
    "    print(\"Inchikeys:\", inchikey_count, \"--\", \n",
    "          len(set([x[:14] for x in inchikey_lst if x])), \"unique (first 14 characters)\")"
   ]
  },
  {
   "cell_type": "code",
   "execution_count": 4,
   "metadata": {},
   "outputs": [
    {
     "name": "stdout",
     "output_type": "stream",
     "text": [
      "Inchis: 250371 -- 20395 unique\n",
      "Smiles: 250371 -- 26760 unique\n",
      "Inchikeys: 250371 -- 17106 unique (first 14 characters)\n"
     ]
    }
   ],
   "source": [
    "count_annotations(spectrums)"
   ]
  },
  {
   "cell_type": "markdown",
   "metadata": {},
   "source": [
    "## Create reference scores (Tanimoto)\n",
    "- Check better alternatives?"
   ]
  },
  {
   "cell_type": "code",
   "execution_count": 5,
   "metadata": {},
   "outputs": [],
   "source": [
    "from collections import Counter \n",
    "  \n",
    "def most_frequent(List): \n",
    "    occurence_count = Counter(List) \n",
    "    return occurence_count.most_common(1)[0][0] "
   ]
  },
  {
   "cell_type": "code",
   "execution_count": 6,
   "metadata": {},
   "outputs": [],
   "source": [
    "inchikeys_list = []\n",
    "for s in spectrums:\n",
    "    inchikeys_list.append(s.get(\"inchikey\"))\n",
    "\n",
    "inchikeys14_array = np.array([x[:14] for x in inchikeys_list])"
   ]
  },
  {
   "cell_type": "code",
   "execution_count": 7,
   "metadata": {},
   "outputs": [
    {
     "data": {
      "text/plain": [
       "17106"
      ]
     },
     "execution_count": 7,
     "metadata": {},
     "output_type": "execute_result"
    }
   ],
   "source": [
    "inchikeys14_unique = list({x[:14] for x in inchikeys_list})\n",
    "len(inchikeys14_unique)"
   ]
  },
  {
   "cell_type": "code",
   "execution_count": 9,
   "metadata": {},
   "outputs": [
    {
     "name": "stdout",
     "output_type": "stream",
     "text": [
      "HJBWJAPEBGSQPR\n",
      "COc1ccc(/C=C/C(=O)O)cc1OC\n",
      "\n",
      "COC1=CC=C(\\C=C\\C(O)=O)C=C1OC\n",
      "\n",
      "COC1=C(C=C(C=C1)/C=C/C(=O)O)OC\n",
      "\n",
      "COC1=C(C=C(C=C1)/C=C/C(=O)O)OC\n",
      "\n",
      "COc(c1)c(OC)cc(C=CC(O)=O)c1\n",
      "\n",
      "COc(c1)c(OC)cc(C=CC(O)=O)c1\n",
      "\n",
      "COc(c1)c(OC)cc(C=CC(O)=O)c1\n",
      "\n",
      "COc(c1)c(OC)cc(C=CC(O)=O)c1\n",
      "\n",
      "COc(c1)c(OC)cc(C=CC(O)=O)c1\n",
      "\n",
      "COC1=C(OC)C=C(\\C=C\\C(O)=O)C=C1\n",
      "\n",
      "COC1=C(OC)C=C(\\C=C\\C(O)=O)C=C1\n",
      "\n",
      "COC1=C(OC)C=C(\\C=C\\C(O)=O)C=C1\n",
      "\n",
      "COC1=C(OC)C=C(\\C=C\\C(O)=O)C=C1\n",
      "\n",
      "COC1=C(OC)C=C(\\C=C\\C(O)=O)C=C1\n",
      "\n",
      "COC1=C(OC)C=C(\\C=C\\C(O)=O)C=C1\n",
      "\n",
      "COC1=C(OC)C=C(\\C=C\\C(O)=O)C=C1\n",
      "\n",
      "COC1=C(OC)C=C(C=CC(O)=O)C=C1\n",
      "\n",
      "COC1=C(OC)C=C(\\C=C\\C(O)=O)C=C1\n",
      "\n",
      "COC1=C(OC)C=C(\\C=C\\C(O)=O)C=C1\n",
      "\n",
      "COC1=C(OC)C=C(\\C=C\\C(O)=O)C=C1\n",
      "\n",
      "COC1=C(C=C(C=C1)C=CC(=O)O)OC\n",
      "\n",
      "COC1=C(C=C(C=C1)C=CC(=O)O)OC\n",
      "\n",
      "COC1=C(C=C(C=C1)C=CC(=O)O)OC\n",
      "\n",
      "COC1=C(C=C(C=C1)C=CC(=O)O)OC\n",
      "\n",
      "most frequent: COC1=C(OC)C=C(\\C=C\\C(O)=O)C=C1\n"
     ]
    }
   ],
   "source": [
    "inchikey14 = inchikeys14_unique[2]\n",
    "print(inchikey14)\n",
    "\n",
    "idx = np.where(inchikeys14_array == inchikey14)[0]\n",
    "for i in idx:\n",
    "    print(spectrums[i].get(\"smiles\") + \"\\n\")\n",
    "\n",
    "print(\"most frequent:\", most_frequent([spectrums[i].get(\"smiles\") for i in idx]))"
   ]
  },
  {
   "cell_type": "code",
   "execution_count": 10,
   "metadata": {},
   "outputs": [],
   "source": [
    "inchi_list = []\n",
    "for s in spectrums:\n",
    "    inchi_list.append(s.get(\"inchi\"))\n",
    "\n",
    "inchi_array = np.array(inchi_list)"
   ]
  },
  {
   "cell_type": "code",
   "execution_count": 11,
   "metadata": {},
   "outputs": [],
   "source": [
    "inchi_mapping = []\n",
    "ID_mapping = []\n",
    "\n",
    "for inchikey14 in inchikeys14_unique:\n",
    "    idx = np.where(inchikeys14_array == inchikey14)[0]\n",
    "    \n",
    "    inchi = most_frequent([spectrums[i].get(\"inchi\") for i in idx])\n",
    "    inchi_mapping.append(inchi)\n",
    "    ID = idx[np.where(inchi_array[idx] == inchi)[0][0]]\n",
    "    ID_mapping.append(ID)"
   ]
  },
  {
   "cell_type": "code",
   "execution_count": 12,
   "metadata": {},
   "outputs": [
    {
     "data": {
      "text/html": [
       "<div>\n",
       "<style scoped>\n",
       "    .dataframe tbody tr th:only-of-type {\n",
       "        vertical-align: middle;\n",
       "    }\n",
       "\n",
       "    .dataframe tbody tr th {\n",
       "        vertical-align: top;\n",
       "    }\n",
       "\n",
       "    .dataframe thead th {\n",
       "        text-align: right;\n",
       "    }\n",
       "</style>\n",
       "<table border=\"1\" class=\"dataframe\">\n",
       "  <thead>\n",
       "    <tr style=\"text-align: right;\">\n",
       "      <th></th>\n",
       "      <th>inchikey</th>\n",
       "      <th>inchi</th>\n",
       "      <th>ID</th>\n",
       "    </tr>\n",
       "  </thead>\n",
       "  <tbody>\n",
       "    <tr>\n",
       "      <th>0</th>\n",
       "      <td>STZYTFJPGGDRJD</td>\n",
       "      <td>InChI=1S/C30H47NO4S/c1-7-28(4)16-24(35-25(33)1...</td>\n",
       "      <td>9914</td>\n",
       "    </tr>\n",
       "    <tr>\n",
       "      <th>1</th>\n",
       "      <td>SWTDXMBCOHIACK</td>\n",
       "      <td>InChI=1S/C27H32O7/c1-25(2)19(12-20(28)32-5)27(...</td>\n",
       "      <td>89952</td>\n",
       "    </tr>\n",
       "    <tr>\n",
       "      <th>2</th>\n",
       "      <td>HJBWJAPEBGSQPR</td>\n",
       "      <td>InChI=1S/C11H12O4/c1-14-9-5-3-8(4-6-11(12)13)7...</td>\n",
       "      <td>11055</td>\n",
       "    </tr>\n",
       "    <tr>\n",
       "      <th>3</th>\n",
       "      <td>VQNWOYVWHDVFJY</td>\n",
       "      <td>InChI=1S/C40H64N6O6/c1-14-15-16-18-21-28(8)37(...</td>\n",
       "      <td>29825</td>\n",
       "    </tr>\n",
       "    <tr>\n",
       "      <th>4</th>\n",
       "      <td>WFDXOXNFNRHQEC</td>\n",
       "      <td>InChI=1S/C22H17N3O5/c1-27-13-17(22(26)28-2)16-...</td>\n",
       "      <td>21467</td>\n",
       "    </tr>\n",
       "  </tbody>\n",
       "</table>\n",
       "</div>"
      ],
      "text/plain": [
       "         inchikey                                              inchi     ID\n",
       "0  STZYTFJPGGDRJD  InChI=1S/C30H47NO4S/c1-7-28(4)16-24(35-25(33)1...   9914\n",
       "1  SWTDXMBCOHIACK  InChI=1S/C27H32O7/c1-25(2)19(12-20(28)32-5)27(...  89952\n",
       "2  HJBWJAPEBGSQPR  InChI=1S/C11H12O4/c1-14-9-5-3-8(4-6-11(12)13)7...  11055\n",
       "3  VQNWOYVWHDVFJY  InChI=1S/C40H64N6O6/c1-14-15-16-18-21-28(8)37(...  29825\n",
       "4  WFDXOXNFNRHQEC  InChI=1S/C22H17N3O5/c1-27-13-17(22(26)28-2)16-...  21467"
      ]
     },
     "execution_count": 12,
     "metadata": {},
     "output_type": "execute_result"
    }
   ],
   "source": [
    "import pandas as pd\n",
    "metadata = pd.DataFrame(list(zip(inchikeys14_unique, inchi_mapping, ID_mapping)), columns=[\"inchikey\", \"inchi\", \"ID\"])\n",
    "metadata.head()"
   ]
  },
  {
   "cell_type": "code",
   "execution_count": 15,
   "metadata": {},
   "outputs": [
    {
     "data": {
      "text/plain": [
       "'HJBWJAPEBGSQPR-GQCTYLIASA-N'"
      ]
     },
     "execution_count": 15,
     "metadata": {},
     "output_type": "execute_result"
    }
   ],
   "source": [
    "spectrums[11055].get(\"inchikey\")"
   ]
  },
  {
   "cell_type": "code",
   "execution_count": 13,
   "metadata": {},
   "outputs": [],
   "source": [
    "metadata.to_csv(\"metadata_AllInchikeys_data210409_positive.csv\")"
   ]
  },
  {
   "cell_type": "code",
   "execution_count": 16,
   "metadata": {},
   "outputs": [
    {
     "data": {
      "text/html": [
       "<div>\n",
       "<style scoped>\n",
       "    .dataframe tbody tr th:only-of-type {\n",
       "        vertical-align: middle;\n",
       "    }\n",
       "\n",
       "    .dataframe tbody tr th {\n",
       "        vertical-align: top;\n",
       "    }\n",
       "\n",
       "    .dataframe thead th {\n",
       "        text-align: right;\n",
       "    }\n",
       "</style>\n",
       "<table border=\"1\" class=\"dataframe\">\n",
       "  <thead>\n",
       "    <tr style=\"text-align: right;\">\n",
       "      <th></th>\n",
       "      <th>Unnamed: 0</th>\n",
       "      <th>inchikey</th>\n",
       "      <th>inchi</th>\n",
       "      <th>ID</th>\n",
       "    </tr>\n",
       "  </thead>\n",
       "  <tbody>\n",
       "    <tr>\n",
       "      <th>0</th>\n",
       "      <td>0</td>\n",
       "      <td>STZYTFJPGGDRJD</td>\n",
       "      <td>InChI=1S/C30H47NO4S/c1-7-28(4)16-24(35-25(33)1...</td>\n",
       "      <td>9914</td>\n",
       "    </tr>\n",
       "    <tr>\n",
       "      <th>1</th>\n",
       "      <td>1</td>\n",
       "      <td>SWTDXMBCOHIACK</td>\n",
       "      <td>InChI=1S/C27H32O7/c1-25(2)19(12-20(28)32-5)27(...</td>\n",
       "      <td>89952</td>\n",
       "    </tr>\n",
       "    <tr>\n",
       "      <th>2</th>\n",
       "      <td>2</td>\n",
       "      <td>HJBWJAPEBGSQPR</td>\n",
       "      <td>InChI=1S/C11H12O4/c1-14-9-5-3-8(4-6-11(12)13)7...</td>\n",
       "      <td>11055</td>\n",
       "    </tr>\n",
       "    <tr>\n",
       "      <th>3</th>\n",
       "      <td>3</td>\n",
       "      <td>VQNWOYVWHDVFJY</td>\n",
       "      <td>InChI=1S/C40H64N6O6/c1-14-15-16-18-21-28(8)37(...</td>\n",
       "      <td>29825</td>\n",
       "    </tr>\n",
       "    <tr>\n",
       "      <th>4</th>\n",
       "      <td>4</td>\n",
       "      <td>WFDXOXNFNRHQEC</td>\n",
       "      <td>InChI=1S/C22H17N3O5/c1-27-13-17(22(26)28-2)16-...</td>\n",
       "      <td>21467</td>\n",
       "    </tr>\n",
       "  </tbody>\n",
       "</table>\n",
       "</div>"
      ],
      "text/plain": [
       "   Unnamed: 0        inchikey  \\\n",
       "0           0  STZYTFJPGGDRJD   \n",
       "1           1  SWTDXMBCOHIACK   \n",
       "2           2  HJBWJAPEBGSQPR   \n",
       "3           3  VQNWOYVWHDVFJY   \n",
       "4           4  WFDXOXNFNRHQEC   \n",
       "\n",
       "                                               inchi     ID  \n",
       "0  InChI=1S/C30H47NO4S/c1-7-28(4)16-24(35-25(33)1...   9914  \n",
       "1  InChI=1S/C27H32O7/c1-25(2)19(12-20(28)32-5)27(...  89952  \n",
       "2  InChI=1S/C11H12O4/c1-14-9-5-3-8(4-6-11(12)13)7...  11055  \n",
       "3  InChI=1S/C40H64N6O6/c1-14-15-16-18-21-28(8)37(...  29825  \n",
       "4  InChI=1S/C22H17N3O5/c1-27-13-17(22(26)28-2)16-...  21467  "
      ]
     },
     "execution_count": 16,
     "metadata": {},
     "output_type": "execute_result"
    }
   ],
   "source": [
    "metadata = pd.read_csv(\"metadata_AllInchikeys_data210409_positive.csv\")\n",
    "metadata.head()"
   ]
  },
  {
   "cell_type": "code",
   "execution_count": 14,
   "metadata": {},
   "outputs": [
    {
     "data": {
      "text/plain": [
       "(17106,)"
      ]
     },
     "execution_count": 14,
     "metadata": {},
     "output_type": "execute_result"
    }
   ],
   "source": [
    "metadata.ID.values.shape"
   ]
  },
  {
   "cell_type": "markdown",
   "metadata": {},
   "source": [
    "## Add fingerprints (where necessary)"
   ]
  },
  {
   "cell_type": "code",
   "execution_count": 17,
   "metadata": {},
   "outputs": [
    {
     "data": {
      "application/vnd.jupyter.widget-view+json": {
       "model_id": "6a18d11be118481fbf92dd0b28093523",
       "version_major": 2,
       "version_minor": 0
      },
      "text/plain": [
       "  0%|          | 0/17106 [00:00<?, ?it/s]"
      ]
     },
     "metadata": {},
     "output_type": "display_data"
    }
   ],
   "source": [
    "from matchms.filtering.add_fingerprint import add_fingerprint\n",
    "from tqdm.notebook import tqdm\n",
    "\n",
    "for i in tqdm(metadata.ID.values):\n",
    "    spectrums[i] = add_fingerprint(spectrums[i],\n",
    "                                   fingerprint_type=\"daylight\", nbits=2048)"
   ]
  },
  {
   "cell_type": "code",
   "execution_count": 18,
   "metadata": {},
   "outputs": [
    {
     "data": {
      "application/vnd.jupyter.widget-view+json": {
       "model_id": "43a94216322f410f8f67a493887f9929",
       "version_major": 2,
       "version_minor": 0
      },
      "text/plain": [
       "  0%|          | 0/17106 [00:00<?, ?it/s]"
      ]
     },
     "metadata": {},
     "output_type": "display_data"
    }
   ],
   "source": [
    "for i in tqdm(metadata.ID.values):\n",
    "    if np.any(np.isnan(spectrums[i].get(\"fingerprint\"))):\n",
    "        print(i)"
   ]
  },
  {
   "cell_type": "code",
   "execution_count": 19,
   "metadata": {},
   "outputs": [
    {
     "name": "stdout",
     "output_type": "stream",
     "text": [
      "Calculation took 1376.32 s.\n"
     ]
    }
   ],
   "source": [
    "from matchms.similarity import FingerprintSimilarity\n",
    "import time\n",
    "\n",
    "spectrums_represent = [spectrums[i] for i in metadata.ID.values]\n",
    "\n",
    "similarity_measure = FingerprintSimilarity(similarity_measure=\"jaccard\")\n",
    "tstart = time.time()\n",
    "scores_mol_similarity = similarity_measure.matrix(spectrums_represent, spectrums_represent)\n",
    "tend = time.time()\n",
    "print(f\"Calculation took {tend-tstart:.2f} s.\")"
   ]
  },
  {
   "cell_type": "code",
   "execution_count": 20,
   "metadata": {},
   "outputs": [],
   "source": [
    "filename = os.path.join(path_data, \"similarities_ALL_GNPS_210409_positive_daylight2048_jaccard.npy\")\n",
    "np.save(filename, scores_mol_similarity)"
   ]
  },
  {
   "cell_type": "code",
   "execution_count": 21,
   "metadata": {},
   "outputs": [
    {
     "data": {
      "text/plain": [
       "(17106, 17106)"
      ]
     },
     "execution_count": 21,
     "metadata": {},
     "output_type": "execute_result"
    }
   ],
   "source": [
    "scores_mol_similarity.shape"
   ]
  },
  {
   "cell_type": "code",
   "execution_count": 22,
   "metadata": {},
   "outputs": [
    {
     "data": {
      "text/html": [
       "<div>\n",
       "<style scoped>\n",
       "    .dataframe tbody tr th:only-of-type {\n",
       "        vertical-align: middle;\n",
       "    }\n",
       "\n",
       "    .dataframe tbody tr th {\n",
       "        vertical-align: top;\n",
       "    }\n",
       "\n",
       "    .dataframe thead th {\n",
       "        text-align: right;\n",
       "    }\n",
       "</style>\n",
       "<table border=\"1\" class=\"dataframe\">\n",
       "  <thead>\n",
       "    <tr style=\"text-align: right;\">\n",
       "      <th></th>\n",
       "      <th>STZYTFJPGGDRJD</th>\n",
       "      <th>SWTDXMBCOHIACK</th>\n",
       "      <th>HJBWJAPEBGSQPR</th>\n",
       "      <th>VQNWOYVWHDVFJY</th>\n",
       "      <th>WFDXOXNFNRHQEC</th>\n",
       "      <th>GZLIPAFSJXROEC</th>\n",
       "      <th>YTZSBJLNMIQROD</th>\n",
       "      <th>FOULCGVQZYQEQM</th>\n",
       "      <th>BPSJMBKZSUTYNF</th>\n",
       "      <th>PZJVSTTVMXPZCJ</th>\n",
       "      <th>...</th>\n",
       "      <th>VLSRUFWCGBMYDJ</th>\n",
       "      <th>SXXHPCVDFDABHW</th>\n",
       "      <th>MRHAPHFJBAUDTR</th>\n",
       "      <th>ZYCWGZVLCXRARB</th>\n",
       "      <th>CGUNOWXWUXNOPE</th>\n",
       "      <th>MGRVRXRGTBOSHW</th>\n",
       "      <th>WELCNKRQSNXMDQ</th>\n",
       "      <th>XFANDVLPSBUGKD</th>\n",
       "      <th>NDTYTMIUWGWIMO</th>\n",
       "      <th>OAUIRSVJXOFAOO</th>\n",
       "    </tr>\n",
       "  </thead>\n",
       "  <tbody>\n",
       "    <tr>\n",
       "      <th>STZYTFJPGGDRJD</th>\n",
       "      <td>1.000000</td>\n",
       "      <td>0.377404</td>\n",
       "      <td>0.124056</td>\n",
       "      <td>0.269856</td>\n",
       "      <td>0.233411</td>\n",
       "      <td>0.258824</td>\n",
       "      <td>0.354221</td>\n",
       "      <td>0.227136</td>\n",
       "      <td>0.277537</td>\n",
       "      <td>0.316971</td>\n",
       "      <td>...</td>\n",
       "      <td>0.112832</td>\n",
       "      <td>0.177950</td>\n",
       "      <td>0.277099</td>\n",
       "      <td>0.308905</td>\n",
       "      <td>0.341988</td>\n",
       "      <td>0.017219</td>\n",
       "      <td>0.274643</td>\n",
       "      <td>0.298611</td>\n",
       "      <td>0.138404</td>\n",
       "      <td>0.270531</td>\n",
       "    </tr>\n",
       "    <tr>\n",
       "      <th>SWTDXMBCOHIACK</th>\n",
       "      <td>0.377404</td>\n",
       "      <td>1.000000</td>\n",
       "      <td>0.158318</td>\n",
       "      <td>0.274962</td>\n",
       "      <td>0.297240</td>\n",
       "      <td>0.324305</td>\n",
       "      <td>0.372534</td>\n",
       "      <td>0.216172</td>\n",
       "      <td>0.274742</td>\n",
       "      <td>0.351300</td>\n",
       "      <td>...</td>\n",
       "      <td>0.140399</td>\n",
       "      <td>0.184380</td>\n",
       "      <td>0.325533</td>\n",
       "      <td>0.353607</td>\n",
       "      <td>0.387618</td>\n",
       "      <td>0.014911</td>\n",
       "      <td>0.364401</td>\n",
       "      <td>0.371447</td>\n",
       "      <td>0.153314</td>\n",
       "      <td>0.366841</td>\n",
       "    </tr>\n",
       "    <tr>\n",
       "      <th>HJBWJAPEBGSQPR</th>\n",
       "      <td>0.124056</td>\n",
       "      <td>0.158318</td>\n",
       "      <td>1.000000</td>\n",
       "      <td>0.159198</td>\n",
       "      <td>0.209205</td>\n",
       "      <td>0.200203</td>\n",
       "      <td>0.133133</td>\n",
       "      <td>0.106944</td>\n",
       "      <td>0.201604</td>\n",
       "      <td>0.157643</td>\n",
       "      <td>...</td>\n",
       "      <td>0.753012</td>\n",
       "      <td>0.152395</td>\n",
       "      <td>0.180529</td>\n",
       "      <td>0.188280</td>\n",
       "      <td>0.147473</td>\n",
       "      <td>0.005848</td>\n",
       "      <td>0.199245</td>\n",
       "      <td>0.234842</td>\n",
       "      <td>0.074725</td>\n",
       "      <td>0.180833</td>\n",
       "    </tr>\n",
       "    <tr>\n",
       "      <th>VQNWOYVWHDVFJY</th>\n",
       "      <td>0.269856</td>\n",
       "      <td>0.274962</td>\n",
       "      <td>0.159198</td>\n",
       "      <td>1.000000</td>\n",
       "      <td>0.270677</td>\n",
       "      <td>0.261011</td>\n",
       "      <td>0.218063</td>\n",
       "      <td>0.237487</td>\n",
       "      <td>0.228497</td>\n",
       "      <td>0.471683</td>\n",
       "      <td>...</td>\n",
       "      <td>0.149272</td>\n",
       "      <td>0.216159</td>\n",
       "      <td>0.591716</td>\n",
       "      <td>0.370402</td>\n",
       "      <td>0.279240</td>\n",
       "      <td>0.014306</td>\n",
       "      <td>0.288416</td>\n",
       "      <td>0.314224</td>\n",
       "      <td>0.100515</td>\n",
       "      <td>0.262040</td>\n",
       "    </tr>\n",
       "    <tr>\n",
       "      <th>WFDXOXNFNRHQEC</th>\n",
       "      <td>0.233411</td>\n",
       "      <td>0.297240</td>\n",
       "      <td>0.209205</td>\n",
       "      <td>0.270677</td>\n",
       "      <td>1.000000</td>\n",
       "      <td>0.329466</td>\n",
       "      <td>0.273837</td>\n",
       "      <td>0.184561</td>\n",
       "      <td>0.258525</td>\n",
       "      <td>0.355102</td>\n",
       "      <td>...</td>\n",
       "      <td>0.194030</td>\n",
       "      <td>0.212011</td>\n",
       "      <td>0.330603</td>\n",
       "      <td>0.312870</td>\n",
       "      <td>0.318026</td>\n",
       "      <td>0.017301</td>\n",
       "      <td>0.319708</td>\n",
       "      <td>0.357045</td>\n",
       "      <td>0.083333</td>\n",
       "      <td>0.351071</td>\n",
       "    </tr>\n",
       "  </tbody>\n",
       "</table>\n",
       "<p>5 rows × 17106 columns</p>\n",
       "</div>"
      ],
      "text/plain": [
       "                STZYTFJPGGDRJD  SWTDXMBCOHIACK  HJBWJAPEBGSQPR  \\\n",
       "STZYTFJPGGDRJD        1.000000        0.377404        0.124056   \n",
       "SWTDXMBCOHIACK        0.377404        1.000000        0.158318   \n",
       "HJBWJAPEBGSQPR        0.124056        0.158318        1.000000   \n",
       "VQNWOYVWHDVFJY        0.269856        0.274962        0.159198   \n",
       "WFDXOXNFNRHQEC        0.233411        0.297240        0.209205   \n",
       "\n",
       "                VQNWOYVWHDVFJY  WFDXOXNFNRHQEC  GZLIPAFSJXROEC  \\\n",
       "STZYTFJPGGDRJD        0.269856        0.233411        0.258824   \n",
       "SWTDXMBCOHIACK        0.274962        0.297240        0.324305   \n",
       "HJBWJAPEBGSQPR        0.159198        0.209205        0.200203   \n",
       "VQNWOYVWHDVFJY        1.000000        0.270677        0.261011   \n",
       "WFDXOXNFNRHQEC        0.270677        1.000000        0.329466   \n",
       "\n",
       "                YTZSBJLNMIQROD  FOULCGVQZYQEQM  BPSJMBKZSUTYNF  \\\n",
       "STZYTFJPGGDRJD        0.354221        0.227136        0.277537   \n",
       "SWTDXMBCOHIACK        0.372534        0.216172        0.274742   \n",
       "HJBWJAPEBGSQPR        0.133133        0.106944        0.201604   \n",
       "VQNWOYVWHDVFJY        0.218063        0.237487        0.228497   \n",
       "WFDXOXNFNRHQEC        0.273837        0.184561        0.258525   \n",
       "\n",
       "                PZJVSTTVMXPZCJ  ...  VLSRUFWCGBMYDJ  SXXHPCVDFDABHW  \\\n",
       "STZYTFJPGGDRJD        0.316971  ...        0.112832        0.177950   \n",
       "SWTDXMBCOHIACK        0.351300  ...        0.140399        0.184380   \n",
       "HJBWJAPEBGSQPR        0.157643  ...        0.753012        0.152395   \n",
       "VQNWOYVWHDVFJY        0.471683  ...        0.149272        0.216159   \n",
       "WFDXOXNFNRHQEC        0.355102  ...        0.194030        0.212011   \n",
       "\n",
       "                MRHAPHFJBAUDTR  ZYCWGZVLCXRARB  CGUNOWXWUXNOPE  \\\n",
       "STZYTFJPGGDRJD        0.277099        0.308905        0.341988   \n",
       "SWTDXMBCOHIACK        0.325533        0.353607        0.387618   \n",
       "HJBWJAPEBGSQPR        0.180529        0.188280        0.147473   \n",
       "VQNWOYVWHDVFJY        0.591716        0.370402        0.279240   \n",
       "WFDXOXNFNRHQEC        0.330603        0.312870        0.318026   \n",
       "\n",
       "                MGRVRXRGTBOSHW  WELCNKRQSNXMDQ  XFANDVLPSBUGKD  \\\n",
       "STZYTFJPGGDRJD        0.017219        0.274643        0.298611   \n",
       "SWTDXMBCOHIACK        0.014911        0.364401        0.371447   \n",
       "HJBWJAPEBGSQPR        0.005848        0.199245        0.234842   \n",
       "VQNWOYVWHDVFJY        0.014306        0.288416        0.314224   \n",
       "WFDXOXNFNRHQEC        0.017301        0.319708        0.357045   \n",
       "\n",
       "                NDTYTMIUWGWIMO  OAUIRSVJXOFAOO  \n",
       "STZYTFJPGGDRJD        0.138404        0.270531  \n",
       "SWTDXMBCOHIACK        0.153314        0.366841  \n",
       "HJBWJAPEBGSQPR        0.074725        0.180833  \n",
       "VQNWOYVWHDVFJY        0.100515        0.262040  \n",
       "WFDXOXNFNRHQEC        0.083333        0.351071  \n",
       "\n",
       "[5 rows x 17106 columns]"
      ]
     },
     "execution_count": 22,
     "metadata": {},
     "output_type": "execute_result"
    }
   ],
   "source": [
    "tanimoto_df = pd.DataFrame(scores_mol_similarity, columns=metadata.inchikey.values, index=metadata.inchikey.values)\n",
    "tanimoto_df.head()"
   ]
  },
  {
   "cell_type": "code",
   "execution_count": 23,
   "metadata": {},
   "outputs": [],
   "source": [
    "filename = os.path.join(path_data, \"ALL_GNPS_210409_positive_tanimoto_scores.pickle\")\n",
    "tanimoto_df.to_pickle(filename)"
   ]
  }
 ],
 "metadata": {
  "kernelspec": {
   "display_name": "Python 3",
   "language": "python",
   "name": "python3"
  },
  "language_info": {
   "codemirror_mode": {
    "name": "ipython",
    "version": 3
   },
   "file_extension": ".py",
   "mimetype": "text/x-python",
   "name": "python",
   "nbconvert_exporter": "python",
   "pygments_lexer": "ipython3",
   "version": "3.8.5"
  }
 },
 "nbformat": 4,
 "nbformat_minor": 4
}
