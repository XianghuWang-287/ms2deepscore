{
 "cells": [
  {
   "cell_type": "markdown",
   "id": "plastic-cambridge",
   "metadata": {},
   "source": [
    "# Comparison to Spec2Vec\n",
    "Spec2Vec is an unsupervised approach, described in detail here: https://journals.plos.org/ploscompbiol/article?id=10.1371/journal.pcbi.1008724\n"
   ]
  },
  {
   "cell_type": "code",
   "execution_count": 3,
   "id": "english-olive",
   "metadata": {},
   "outputs": [],
   "source": [
    "import os\n",
    "#import sys\n",
    "import pickle\n",
    "import pandas as pd\n",
    "from matplotlib import pyplot as plt\n",
    "import numpy as np\n",
    "from ms2deepscore import SpectrumBinner\n",
    "from ms2deepscore.models import SiameseModel\n",
    "\n",
    "ROOT = os.path.dirname(os.getcwd())\n",
    "path_data = os.path.join(os.path.dirname(ROOT), \"Data\")  # add your local data folder here"
   ]
  },
  {
   "cell_type": "markdown",
   "id": "vocational-manhattan",
   "metadata": {},
   "source": [
    "## Import Spec2Vec model"
   ]
  },
  {
   "cell_type": "code",
   "execution_count": 3,
   "id": "peaceful-aging",
   "metadata": {},
   "outputs": [],
   "source": [
    "import gensim\n",
    "\n",
    "path_model = os.path.join(path_data, \"trained_models\") # specify folder to downloaded/trained model\n",
    "filename_model = \"ALL_GNPS_positive_210305_Spec2Vec_stricter_losses10_1000_iter_20.model\" #\"spec2vec_AllPositive_ratio05_filtered_201101_iter_15.model\"\n",
    "filename = os.path.join(path_model, filename_model)\n",
    "\n",
    "model = gensim.models.Word2Vec.load(filename)"
   ]
  },
  {
   "cell_type": "markdown",
   "id": "collected-muslim",
   "metadata": {},
   "source": [
    "## Import test data"
   ]
  },
  {
   "cell_type": "code",
   "execution_count": 4,
   "id": "opened-flexibility",
   "metadata": {},
   "outputs": [
    {
     "name": "stdout",
     "output_type": "stream",
     "text": [
      "3601 spectrums in test data.\n"
     ]
    }
   ],
   "source": [
    "import pickle\n",
    "outfile = os.path.join(path_data, 'GNPS_all', 'ALL_GNPS_positive_test_split_210301.pickle')\n",
    "with open(outfile, 'rb') as file:\n",
    "    spectrums_test = pickle.load(file)\n",
    "\n",
    "print(f\"{len(spectrums_test)} spectrums in test data.\")"
   ]
  },
  {
   "cell_type": "code",
   "execution_count": 5,
   "id": "imperial-simon",
   "metadata": {},
   "outputs": [],
   "source": [
    "from matchms.filtering import normalize_intensities\n",
    "from matchms.filtering import select_by_intensity, select_by_mz\n",
    "from matchms.filtering import reduce_to_number_of_peaks\n",
    "from matchms.filtering import require_minimum_number_of_peaks\n",
    "from matchms.filtering import add_losses\n",
    "\n",
    "def peak_processing(spectrum):\n",
    "    spectrum = normalize_intensities(spectrum)\n",
    "    spectrum = select_by_intensity(spectrum, intensity_from=0.001)\n",
    "    spectrum = select_by_mz(spectrum, mz_from=10, mz_to=1000)\n",
    "    spectrum = reduce_to_number_of_peaks(spectrum, n_max=1000)\n",
    "    spectrum = add_losses(spectrum, loss_mz_from=5.0, loss_mz_to=1000.0)\n",
    "    return spectrum"
   ]
  },
  {
   "cell_type": "code",
   "execution_count": 6,
   "id": "electoral-microphone",
   "metadata": {},
   "outputs": [],
   "source": [
    "spectrums_test = [peak_processing(s) for s in spectrums_test]"
   ]
  },
  {
   "cell_type": "markdown",
   "id": "lightweight-electricity",
   "metadata": {},
   "source": [
    "## Compute Spec2Vec similarities"
   ]
  },
  {
   "cell_type": "code",
   "execution_count": 7,
   "id": "disciplinary-minnesota",
   "metadata": {},
   "outputs": [
    {
     "name": "stderr",
     "output_type": "stream",
     "text": [
      "Calculating vectors of reference spectrums:   1%|▍                                  | 47/3601 [00:00<00:15, 230.69it/s]"
     ]
    },
    {
     "name": "stdout",
     "output_type": "stream",
     "text": [
      "Found 1 word(s) missing in the model. Weighted missing percentage not covered by the given model is 5.52%.\n",
      "Found 3 word(s) missing in the model. Weighted missing percentage not covered by the given model is 0.32%.\n",
      "Found 3 word(s) missing in the model. Weighted missing percentage not covered by the given model is 0.43%.\n",
      "Found 7 word(s) missing in the model. Weighted missing percentage not covered by the given model is 1.04%.\n",
      "Found 1 word(s) missing in the model. Weighted missing percentage not covered by the given model is 0.19%.\n",
      "Found 2 word(s) missing in the model. Weighted missing percentage not covered by the given model is 0.66%.\n",
      "Found 1 word(s) missing in the model. Weighted missing percentage not covered by the given model is 0.18%.\n",
      "Found 6 word(s) missing in the model. Weighted missing percentage not covered by the given model is 1.03%.\n",
      "Found 2 word(s) missing in the model. Weighted missing percentage not covered by the given model is 0.96%.\n",
      "Found 6 word(s) missing in the model. Weighted missing percentage not covered by the given model is 0.91%.\n",
      "Found 4 word(s) missing in the model. Weighted missing percentage not covered by the given model is 0.47%.\n",
      "Found 7 word(s) missing in the model. Weighted missing percentage not covered by the given model is 1.32%.\n",
      "Found 3 word(s) missing in the model. Weighted missing percentage not covered by the given model is 0.50%.\n",
      "Found 2 word(s) missing in the model. Weighted missing percentage not covered by the given model is 0.34%.\n",
      "Found 15 word(s) missing in the model. Weighted missing percentage not covered by the given model is 2.49%.\n",
      "Found 30 word(s) missing in the model. Weighted missing percentage not covered by the given model is 1.30%.\n",
      "Found 4 word(s) missing in the model. Weighted missing percentage not covered by the given model is 4.87%.\n",
      "Found 21 word(s) missing in the model. Weighted missing percentage not covered by the given model is 2.41%.\n",
      "Found 1 word(s) missing in the model. Weighted missing percentage not covered by the given model is 0.15%.\n",
      "Found 1 word(s) missing in the model. Weighted missing percentage not covered by the given model is 0.17%.\n",
      "Found 1 word(s) missing in the model. Weighted missing percentage not covered by the given model is 0.70%.\n"
     ]
    },
    {
     "name": "stderr",
     "output_type": "stream",
     "text": [
      "\r",
      "Calculating vectors of reference spectrums:   2%|▋                                  | 71/3601 [00:00<00:22, 153.82it/s]"
     ]
    },
    {
     "name": "stdout",
     "output_type": "stream",
     "text": [
      "Found 42 word(s) missing in the model. Weighted missing percentage not covered by the given model is 1.05%.\n",
      "Found 19 word(s) missing in the model. Weighted missing percentage not covered by the given model is 0.88%.\n",
      "Found 6 word(s) missing in the model. Weighted missing percentage not covered by the given model is 1.85%.\n",
      "Found 2 word(s) missing in the model. Weighted missing percentage not covered by the given model is 0.13%.\n",
      "Found 3 word(s) missing in the model. Weighted missing percentage not covered by the given model is 0.45%.\n",
      "Found 3 word(s) missing in the model. Weighted missing percentage not covered by the given model is 1.12%.\n",
      "Found 5 word(s) missing in the model. Weighted missing percentage not covered by the given model is 1.37%.\n",
      "Found 26 word(s) missing in the model. Weighted missing percentage not covered by the given model is 13.11%.\n",
      "Found 1 word(s) missing in the model. Weighted missing percentage not covered by the given model is 1.97%.\n",
      "Found 1 word(s) missing in the model. Weighted missing percentage not covered by the given model is 0.76%.\n",
      "Found 1 word(s) missing in the model. Weighted missing percentage not covered by the given model is 0.09%.\n"
     ]
    },
    {
     "name": "stderr",
     "output_type": "stream",
     "text": [
      "\r",
      "Calculating vectors of reference spectrums:   3%|▉                                 | 100/3601 [00:00<00:18, 190.26it/s]"
     ]
    },
    {
     "name": "stdout",
     "output_type": "stream",
     "text": [
      "Found 1 word(s) missing in the model. Weighted missing percentage not covered by the given model is 0.39%.\n",
      "Found 1 word(s) missing in the model. Weighted missing percentage not covered by the given model is 0.13%.\n",
      "Found 3 word(s) missing in the model. Weighted missing percentage not covered by the given model is 0.68%.\n",
      "Found 1 word(s) missing in the model. Weighted missing percentage not covered by the given model is 3.20%.\n",
      "Found 4 word(s) missing in the model. Weighted missing percentage not covered by the given model is 2.80%.\n",
      "Found 1 word(s) missing in the model. Weighted missing percentage not covered by the given model is 8.42%.\n",
      "Found 1 word(s) missing in the model. Weighted missing percentage not covered by the given model is 0.41%.\n",
      "Found 1 word(s) missing in the model. Weighted missing percentage not covered by the given model is 0.13%.\n",
      "Found 1 word(s) missing in the model. Weighted missing percentage not covered by the given model is 0.23%.\n",
      "Found 8 word(s) missing in the model. Weighted missing percentage not covered by the given model is 1.74%.\n",
      "Found 6 word(s) missing in the model. Weighted missing percentage not covered by the given model is 1.69%.\n",
      "Found 9 word(s) missing in the model. Weighted missing percentage not covered by the given model is 2.15%.\n",
      "Found 19 word(s) missing in the model. Weighted missing percentage not covered by the given model is 1.83%.\n",
      "Found 2 word(s) missing in the model. Weighted missing percentage not covered by the given model is 0.70%.\n",
      "Found 2 word(s) missing in the model. Weighted missing percentage not covered by the given model is 0.49%.\n",
      "Found 1 word(s) missing in the model. Weighted missing percentage not covered by the given model is 0.30%.\n",
      "Found 4 word(s) missing in the model. Weighted missing percentage not covered by the given model is 0.37%.\n"
     ]
    },
    {
     "name": "stderr",
     "output_type": "stream",
     "text": [
      "Calculating vectors of reference spectrums:   4%|█▎                                | 143/3601 [00:00<00:21, 159.87it/s]"
     ]
    },
    {
     "name": "stdout",
     "output_type": "stream",
     "text": [
      "Found 3 word(s) missing in the model. Weighted missing percentage not covered by the given model is 0.83%.\n",
      "Found 34 word(s) missing in the model. Weighted missing percentage not covered by the given model is 2.03%.\n",
      "Found 33 word(s) missing in the model. Weighted missing percentage not covered by the given model is 1.79%.\n",
      "Found 9 word(s) missing in the model. Weighted missing percentage not covered by the given model is 0.46%.\n",
      "Found 8 word(s) missing in the model. Weighted missing percentage not covered by the given model is 0.34%.\n",
      "Found 7 word(s) missing in the model. Weighted missing percentage not covered by the given model is 1.24%.\n",
      "Found 1 word(s) missing in the model. Weighted missing percentage not covered by the given model is 0.90%.\n",
      "Found 7 word(s) missing in the model. Weighted missing percentage not covered by the given model is 0.33%.\n",
      "Found 3 word(s) missing in the model. Weighted missing percentage not covered by the given model is 28.98%.\n",
      "Found 9 word(s) missing in the model. Weighted missing percentage not covered by the given model is 0.44%.\n",
      "Found 5 word(s) missing in the model. Weighted missing percentage not covered by the given model is 0.35%.\n"
     ]
    },
    {
     "name": "stderr",
     "output_type": "stream",
     "text": [
      "\r",
      "Calculating vectors of reference spectrums:   4%|█▌                                | 161/3601 [00:01<00:26, 130.29it/s]"
     ]
    },
    {
     "name": "stdout",
     "output_type": "stream",
     "text": [
      "Found 7 word(s) missing in the model. Weighted missing percentage not covered by the given model is 0.48%.\n",
      "Found 8 word(s) missing in the model. Weighted missing percentage not covered by the given model is 0.43%.\n",
      "Found 1 word(s) missing in the model. Weighted missing percentage not covered by the given model is 0.36%.\n",
      "Found 1 word(s) missing in the model. Weighted missing percentage not covered by the given model is 0.23%.\n",
      "Found 11 word(s) missing in the model. Weighted missing percentage not covered by the given model is 0.51%.\n",
      "Found 14 word(s) missing in the model. Weighted missing percentage not covered by the given model is 0.62%.\n",
      "Found 6 word(s) missing in the model. Weighted missing percentage not covered by the given model is 0.97%.\n",
      "Found 8 word(s) missing in the model. Weighted missing percentage not covered by the given model is 0.47%.\n",
      "Found 1 word(s) missing in the model. Weighted missing percentage not covered by the given model is 0.76%.\n",
      "Found 2 word(s) missing in the model. Weighted missing percentage not covered by the given model is 0.51%.\n",
      "Found 7 word(s) missing in the model. Weighted missing percentage not covered by the given model is 0.49%.\n",
      "Found 1 word(s) missing in the model. Weighted missing percentage not covered by the given model is 0.43%.\n",
      "Found 4 word(s) missing in the model. Weighted missing percentage not covered by the given model is 0.46%.\n",
      "Found 3 word(s) missing in the model. Weighted missing percentage not covered by the given model is 0.18%.\n"
     ]
    },
    {
     "name": "stderr",
     "output_type": "stream",
     "text": [
      "Calculating vectors of reference spectrums:   6%|██                                | 222/3601 [00:01<00:17, 191.58it/s]"
     ]
    },
    {
     "name": "stdout",
     "output_type": "stream",
     "text": [
      "Found 2 word(s) missing in the model. Weighted missing percentage not covered by the given model is 0.40%.\n",
      "Found 5 word(s) missing in the model. Weighted missing percentage not covered by the given model is 6.77%.\n",
      "Found 1 word(s) missing in the model. Weighted missing percentage not covered by the given model is 1.56%.\n",
      "Found 1 word(s) missing in the model. Weighted missing percentage not covered by the given model is 2.32%.\n",
      "Found 4 word(s) missing in the model. Weighted missing percentage not covered by the given model is 4.95%.\n",
      "Found 1 word(s) missing in the model. Weighted missing percentage not covered by the given model is 0.24%.\n",
      "Found 13 word(s) missing in the model. Weighted missing percentage not covered by the given model is 9.55%.\n",
      "Found 1 word(s) missing in the model. Weighted missing percentage not covered by the given model is 0.70%.\n",
      "Found 4 word(s) missing in the model. Weighted missing percentage not covered by the given model is 2.06%.\n",
      "Found 1 word(s) missing in the model. Weighted missing percentage not covered by the given model is 0.54%.\n",
      "Found 2 word(s) missing in the model. Weighted missing percentage not covered by the given model is 0.53%.\n",
      "Found 1 word(s) missing in the model. Weighted missing percentage not covered by the given model is 0.24%.\n",
      "Found 2 word(s) missing in the model. Weighted missing percentage not covered by the given model is 0.09%.\n",
      "Found 1 word(s) missing in the model. Weighted missing percentage not covered by the given model is 0.05%.\n",
      "Found 2 word(s) missing in the model. Weighted missing percentage not covered by the given model is 3.42%.\n",
      "Found 12 word(s) missing in the model. Weighted missing percentage not covered by the given model is 8.75%.\n",
      "Found 13 word(s) missing in the model. Weighted missing percentage not covered by the given model is 4.91%.\n",
      "Found 15 word(s) missing in the model. Weighted missing percentage not covered by the given model is 0.83%.\n",
      "Found 13 word(s) missing in the model. Weighted missing percentage not covered by the given model is 9.57%.\n",
      "Found 17 word(s) missing in the model. Weighted missing percentage not covered by the given model is 6.08%.\n",
      "Found 17 word(s) missing in the model. Weighted missing percentage not covered by the given model is 1.17%.\n"
     ]
    },
    {
     "name": "stderr",
     "output_type": "stream",
     "text": [
      "\r",
      "Calculating vectors of reference spectrums:   7%|██▎                               | 244/3601 [00:01<00:19, 171.50it/s]"
     ]
    },
    {
     "name": "stdout",
     "output_type": "stream",
     "text": [
      "Found 11 word(s) missing in the model. Weighted missing percentage not covered by the given model is 7.82%.\n",
      "Found 16 word(s) missing in the model. Weighted missing percentage not covered by the given model is 5.33%.\n",
      "Found 10 word(s) missing in the model. Weighted missing percentage not covered by the given model is 0.78%.\n",
      "Found 1 word(s) missing in the model. Weighted missing percentage not covered by the given model is 1.30%.\n",
      "Found 1 word(s) missing in the model. Weighted missing percentage not covered by the given model is 0.23%.\n",
      "Found 2 word(s) missing in the model. Weighted missing percentage not covered by the given model is 0.28%.\n",
      "Found 16 word(s) missing in the model. Weighted missing percentage not covered by the given model is 2.42%.\n",
      "Found 10 word(s) missing in the model. Weighted missing percentage not covered by the given model is 0.88%.\n",
      "Found 1 word(s) missing in the model. Weighted missing percentage not covered by the given model is 0.08%.\n",
      "Found 9 word(s) missing in the model. Weighted missing percentage not covered by the given model is 2.32%.\n",
      "Found 7 word(s) missing in the model. Weighted missing percentage not covered by the given model is 0.43%.\n",
      "Found 40 word(s) missing in the model. Weighted missing percentage not covered by the given model is 2.89%.\n",
      "Found 6 word(s) missing in the model. Weighted missing percentage not covered by the given model is 1.02%.\n",
      "Found 4 word(s) missing in the model. Weighted missing percentage not covered by the given model is 0.27%.\n",
      "Found 27 word(s) missing in the model. Weighted missing percentage not covered by the given model is 2.30%.\n",
      "Found 4 word(s) missing in the model. Weighted missing percentage not covered by the given model is 1.83%.\n",
      "Found 15 word(s) missing in the model. Weighted missing percentage not covered by the given model is 0.62%.\n",
      "Found 9 word(s) missing in the model. Weighted missing percentage not covered by the given model is 0.39%.\n",
      "Found 2 word(s) missing in the model. Weighted missing percentage not covered by the given model is 0.68%.\n",
      "Found 7 word(s) missing in the model. Weighted missing percentage not covered by the given model is 0.82%.\n",
      "Found 1 word(s) missing in the model. Weighted missing percentage not covered by the given model is 0.05%.\n",
      "Found 3 word(s) missing in the model. Weighted missing percentage not covered by the given model is 0.36%.\n",
      "Found 16 word(s) missing in the model. Weighted missing percentage not covered by the given model is 1.85%.\n",
      "Found 9 word(s) missing in the model. Weighted missing percentage not covered by the given model is 0.75%.\n",
      "Found 3 word(s) missing in the model. Weighted missing percentage not covered by the given model is 0.41%.\n",
      "Found 1 word(s) missing in the model. Weighted missing percentage not covered by the given model is 0.14%.\n"
     ]
    },
    {
     "name": "stderr",
     "output_type": "stream",
     "text": [
      "\r",
      "Calculating vectors of reference spectrums:   7%|██▍                               | 264/3601 [00:01<00:27, 121.31it/s]"
     ]
    },
    {
     "name": "stdout",
     "output_type": "stream",
     "text": [
      "Found 8 word(s) missing in the model. Weighted missing percentage not covered by the given model is 0.33%.\n",
      "Found 1 word(s) missing in the model. Weighted missing percentage not covered by the given model is 0.07%.\n",
      "Found 1 word(s) missing in the model. Weighted missing percentage not covered by the given model is 0.15%.\n",
      "Found 5 word(s) missing in the model. Weighted missing percentage not covered by the given model is 1.88%.\n",
      "Found 1 word(s) missing in the model. Weighted missing percentage not covered by the given model is 0.21%.\n",
      "Found 2 word(s) missing in the model. Weighted missing percentage not covered by the given model is 0.38%.\n",
      "Found 7 word(s) missing in the model. Weighted missing percentage not covered by the given model is 1.55%.\n",
      "Found 5 word(s) missing in the model. Weighted missing percentage not covered by the given model is 0.28%.\n",
      "Found 4 word(s) missing in the model. Weighted missing percentage not covered by the given model is 0.42%.\n",
      "Found 1 word(s) missing in the model. Weighted missing percentage not covered by the given model is 0.57%.\n",
      "Found 1 word(s) missing in the model. Weighted missing percentage not covered by the given model is 0.05%.\n"
     ]
    },
    {
     "name": "stderr",
     "output_type": "stream",
     "text": [
      "\r",
      "Calculating vectors of reference spectrums:   8%|██▋                               | 280/3601 [00:01<00:28, 115.44it/s]"
     ]
    },
    {
     "name": "stdout",
     "output_type": "stream",
     "text": [
      "Found 3 word(s) missing in the model. Weighted missing percentage not covered by the given model is 0.85%.\n",
      "Found 6 word(s) missing in the model. Weighted missing percentage not covered by the given model is 0.77%.\n",
      "Found 2 word(s) missing in the model. Weighted missing percentage not covered by the given model is 0.13%.\n",
      "Found 8 word(s) missing in the model. Weighted missing percentage not covered by the given model is 0.33%.\n",
      "Found 2 word(s) missing in the model. Weighted missing percentage not covered by the given model is 0.09%.\n",
      "Found 6 word(s) missing in the model. Weighted missing percentage not covered by the given model is 0.24%.\n",
      "Found 5 word(s) missing in the model. Weighted missing percentage not covered by the given model is 0.29%.\n",
      "Found 10 word(s) missing in the model. Weighted missing percentage not covered by the given model is 0.39%.\n"
     ]
    },
    {
     "name": "stderr",
     "output_type": "stream",
     "text": [
      "\r",
      "Calculating vectors of reference spectrums:   8%|██▊                                | 294/3601 [00:02<00:41, 79.71it/s]"
     ]
    },
    {
     "name": "stdout",
     "output_type": "stream",
     "text": [
      "Found 2 word(s) missing in the model. Weighted missing percentage not covered by the given model is 0.09%.\n",
      "Found 2 word(s) missing in the model. Weighted missing percentage not covered by the given model is 0.07%.\n",
      "Found 3 word(s) missing in the model. Weighted missing percentage not covered by the given model is 0.14%.\n",
      "Found 3 word(s) missing in the model. Weighted missing percentage not covered by the given model is 0.19%.\n",
      "Found 7 word(s) missing in the model. Weighted missing percentage not covered by the given model is 0.52%.\n",
      "Found 6 word(s) missing in the model. Weighted missing percentage not covered by the given model is 0.30%.\n",
      "Found 1 word(s) missing in the model. Weighted missing percentage not covered by the given model is 0.08%.\n"
     ]
    },
    {
     "name": "stderr",
     "output_type": "stream",
     "text": [
      "\r",
      "Calculating vectors of reference spectrums:   8%|██▉                                | 305/3601 [00:02<00:45, 72.47it/s]"
     ]
    },
    {
     "name": "stdout",
     "output_type": "stream",
     "text": [
      "Found 3 word(s) missing in the model. Weighted missing percentage not covered by the given model is 0.43%.\n",
      "Found 3 word(s) missing in the model. Weighted missing percentage not covered by the given model is 0.13%.\n",
      "Found 6 word(s) missing in the model. Weighted missing percentage not covered by the given model is 0.24%.\n",
      "Found 1 word(s) missing in the model. Weighted missing percentage not covered by the given model is 0.05%.\n",
      "Found 1 word(s) missing in the model. Weighted missing percentage not covered by the given model is 0.04%.\n",
      "Found 1 word(s) missing in the model. Weighted missing percentage not covered by the given model is 0.08%.\n",
      "Found 6 word(s) missing in the model. Weighted missing percentage not covered by the given model is 0.35%.\n",
      "Found 1 word(s) missing in the model. Weighted missing percentage not covered by the given model is 0.04%.\n",
      "Found 1 word(s) missing in the model. Weighted missing percentage not covered by the given model is 0.07%.\n"
     ]
    },
    {
     "name": "stderr",
     "output_type": "stream",
     "text": [
      "\r",
      "Calculating vectors of reference spectrums:   9%|███                                | 315/3601 [00:02<00:51, 64.15it/s]"
     ]
    },
    {
     "name": "stdout",
     "output_type": "stream",
     "text": [
      "Found 6 word(s) missing in the model. Weighted missing percentage not covered by the given model is 0.26%.\n",
      "Found 6 word(s) missing in the model. Weighted missing percentage not covered by the given model is 0.24%.\n",
      "Found 8 word(s) missing in the model. Weighted missing percentage not covered by the given model is 0.37%.\n",
      "Found 6 word(s) missing in the model. Weighted missing percentage not covered by the given model is 0.36%.\n",
      "Found 3 word(s) missing in the model. Weighted missing percentage not covered by the given model is 0.31%.\n",
      "Found 11 word(s) missing in the model. Weighted missing percentage not covered by the given model is 0.47%.\n",
      "Found 1 word(s) missing in the model. Weighted missing percentage not covered by the given model is 0.03%.\n",
      "Found 5 word(s) missing in the model. Weighted missing percentage not covered by the given model is 0.21%.\n"
     ]
    },
    {
     "name": "stderr",
     "output_type": "stream",
     "text": [
      "\r",
      "Calculating vectors of reference spectrums:   9%|███▏                               | 323/3601 [00:02<00:55, 59.12it/s]"
     ]
    },
    {
     "name": "stdout",
     "output_type": "stream",
     "text": [
      "Found 4 word(s) missing in the model. Weighted missing percentage not covered by the given model is 0.41%.\n",
      "Found 2 word(s) missing in the model. Weighted missing percentage not covered by the given model is 0.14%.\n",
      "Found 2 word(s) missing in the model. Weighted missing percentage not covered by the given model is 0.15%.\n",
      "Found 6 word(s) missing in the model. Weighted missing percentage not covered by the given model is 0.35%.\n",
      "Found 3 word(s) missing in the model. Weighted missing percentage not covered by the given model is 0.25%.\n",
      "Found 4 word(s) missing in the model. Weighted missing percentage not covered by the given model is 0.22%.\n",
      "Found 2 word(s) missing in the model. Weighted missing percentage not covered by the given model is 0.08%.\n"
     ]
    },
    {
     "name": "stderr",
     "output_type": "stream",
     "text": [
      "Calculating vectors of reference spectrums:   9%|███▎                               | 340/3601 [00:03<00:56, 57.87it/s]"
     ]
    },
    {
     "name": "stdout",
     "output_type": "stream",
     "text": [
      "Found 5 word(s) missing in the model. Weighted missing percentage not covered by the given model is 0.38%.\n",
      "Found 3 word(s) missing in the model. Weighted missing percentage not covered by the given model is 0.14%.\n",
      "Found 2 word(s) missing in the model. Weighted missing percentage not covered by the given model is 0.42%.\n",
      "Found 1 word(s) missing in the model. Weighted missing percentage not covered by the given model is 0.09%.\n",
      "Found 1 word(s) missing in the model. Weighted missing percentage not covered by the given model is 0.13%.\n",
      "Found 1 word(s) missing in the model. Weighted missing percentage not covered by the given model is 0.10%.\n"
     ]
    },
    {
     "name": "stderr",
     "output_type": "stream",
     "text": [
      "Calculating vectors of reference spectrums:  10%|███▌                               | 371/3601 [00:03<00:36, 88.50it/s]"
     ]
    },
    {
     "name": "stdout",
     "output_type": "stream",
     "text": [
      "Found 6 word(s) missing in the model. Weighted missing percentage not covered by the given model is 0.38%.\n",
      "Found 2 word(s) missing in the model. Weighted missing percentage not covered by the given model is 1.26%.\n",
      "Found 2 word(s) missing in the model. Weighted missing percentage not covered by the given model is 0.47%.\n",
      "Found 2 word(s) missing in the model. Weighted missing percentage not covered by the given model is 0.13%.\n",
      "Found 5 word(s) missing in the model. Weighted missing percentage not covered by the given model is 0.12%.\n",
      "Found 2 word(s) missing in the model. Weighted missing percentage not covered by the given model is 0.17%.\n"
     ]
    },
    {
     "name": "stderr",
     "output_type": "stream",
     "text": [
      "Calculating vectors of reference spectrums:  11%|███▊                              | 402/3601 [00:03<00:31, 103.14it/s]"
     ]
    },
    {
     "name": "stdout",
     "output_type": "stream",
     "text": [
      "Found 1 word(s) missing in the model. Weighted missing percentage not covered by the given model is 0.29%.\n",
      "Found 4 word(s) missing in the model. Weighted missing percentage not covered by the given model is 0.62%.\n",
      "Found 4 word(s) missing in the model. Weighted missing percentage not covered by the given model is 2.48%.\n",
      "Found 31 word(s) missing in the model. Weighted missing percentage not covered by the given model is 1.60%.\n",
      "Found 30 word(s) missing in the model. Weighted missing percentage not covered by the given model is 2.32%.\n",
      "Found 75 word(s) missing in the model. Weighted missing percentage not covered by the given model is 1.64%.\n",
      "Found 13 word(s) missing in the model. Weighted missing percentage not covered by the given model is 1.20%.\n",
      "Found 1 word(s) missing in the model. Weighted missing percentage not covered by the given model is 0.17%.\n",
      "Found 1 word(s) missing in the model. Weighted missing percentage not covered by the given model is 0.11%.\n",
      "Found 1 word(s) missing in the model. Weighted missing percentage not covered by the given model is 0.04%.\n"
     ]
    },
    {
     "name": "stderr",
     "output_type": "stream",
     "text": [
      "\r",
      "Calculating vectors of reference spectrums:  11%|████                               | 414/3601 [00:03<00:32, 98.63it/s]"
     ]
    },
    {
     "name": "stdout",
     "output_type": "stream",
     "text": [
      "Found 5 word(s) missing in the model. Weighted missing percentage not covered by the given model is 0.96%.\n",
      "Found 20 word(s) missing in the model. Weighted missing percentage not covered by the given model is 1.45%.\n",
      "Found 11 word(s) missing in the model. Weighted missing percentage not covered by the given model is 1.35%.\n",
      "Found 12 word(s) missing in the model. Weighted missing percentage not covered by the given model is 1.42%.\n",
      "Found 1 word(s) missing in the model. Weighted missing percentage not covered by the given model is 0.47%.\n",
      "Found 11 word(s) missing in the model. Weighted missing percentage not covered by the given model is 0.28%.\n",
      "Found 5 word(s) missing in the model. Weighted missing percentage not covered by the given model is 0.21%.\n",
      "Found 1 word(s) missing in the model. Weighted missing percentage not covered by the given model is 0.06%.\n",
      "Found 1 word(s) missing in the model. Weighted missing percentage not covered by the given model is 0.28%.\n",
      "Found 2 word(s) missing in the model. Weighted missing percentage not covered by the given model is 0.32%.\n",
      "Found 3 word(s) missing in the model. Weighted missing percentage not covered by the given model is 0.56%.\n",
      "Found 1 word(s) missing in the model. Weighted missing percentage not covered by the given model is 0.36%.\n"
     ]
    },
    {
     "name": "stderr",
     "output_type": "stream",
     "text": [
      "Calculating vectors of reference spectrums:  12%|████▏                             | 447/3601 [00:04<00:24, 127.49it/s]"
     ]
    },
    {
     "name": "stdout",
     "output_type": "stream",
     "text": [
      "Found 5 word(s) missing in the model. Weighted missing percentage not covered by the given model is 1.21%.\n",
      "Found 3 word(s) missing in the model. Weighted missing percentage not covered by the given model is 1.21%.\n",
      "Found 5 word(s) missing in the model. Weighted missing percentage not covered by the given model is 0.30%.\n",
      "Found 4 word(s) missing in the model. Weighted missing percentage not covered by the given model is 0.26%.\n",
      "Found 2 word(s) missing in the model. Weighted missing percentage not covered by the given model is 0.38%.\n",
      "Found 4 word(s) missing in the model. Weighted missing percentage not covered by the given model is 2.97%.\n",
      "Found 1 word(s) missing in the model. Weighted missing percentage not covered by the given model is 0.14%.\n",
      "Found 3 word(s) missing in the model. Weighted missing percentage not covered by the given model is 1.11%.\n",
      "Found 12 word(s) missing in the model. Weighted missing percentage not covered by the given model is 1.53%.\n",
      "Found 52 word(s) missing in the model. Weighted missing percentage not covered by the given model is 2.06%.\n",
      "Found 10 word(s) missing in the model. Weighted missing percentage not covered by the given model is 0.62%.\n",
      "Found 1 word(s) missing in the model. Weighted missing percentage not covered by the given model is 0.08%.\n",
      "Found 1 word(s) missing in the model. Weighted missing percentage not covered by the given model is 0.37%.\n"
     ]
    },
    {
     "name": "stderr",
     "output_type": "stream",
     "text": [
      "Calculating vectors of reference spectrums:  13%|████▌                             | 481/3601 [00:04<00:22, 140.59it/s]"
     ]
    },
    {
     "name": "stdout",
     "output_type": "stream",
     "text": [
      "Found 2 word(s) missing in the model. Weighted missing percentage not covered by the given model is 1.16%.\n",
      "Found 1 word(s) missing in the model. Weighted missing percentage not covered by the given model is 0.18%.\n",
      "Found 1 word(s) missing in the model. Weighted missing percentage not covered by the given model is 0.06%.\n",
      "Found 3 word(s) missing in the model. Weighted missing percentage not covered by the given model is 0.23%.\n",
      "Found 1 word(s) missing in the model. Weighted missing percentage not covered by the given model is 0.44%.\n",
      "Found 1 word(s) missing in the model. Weighted missing percentage not covered by the given model is 0.83%.\n",
      "Found 1 word(s) missing in the model. Weighted missing percentage not covered by the given model is 0.09%.\n",
      "Found 1 word(s) missing in the model. Weighted missing percentage not covered by the given model is 0.18%.\n",
      "Found 1 word(s) missing in the model. Weighted missing percentage not covered by the given model is 0.28%.\n",
      "Found 20 word(s) missing in the model. Weighted missing percentage not covered by the given model is 2.55%.\n",
      "Found 2 word(s) missing in the model. Weighted missing percentage not covered by the given model is 0.46%.\n",
      "Found 1 word(s) missing in the model. Weighted missing percentage not covered by the given model is 0.10%.\n"
     ]
    },
    {
     "name": "stderr",
     "output_type": "stream",
     "text": [
      "Calculating vectors of reference spectrums:  14%|████▊                             | 511/3601 [00:04<00:22, 134.66it/s]"
     ]
    },
    {
     "name": "stdout",
     "output_type": "stream",
     "text": [
      "Found 1 word(s) missing in the model. Weighted missing percentage not covered by the given model is 0.39%.\n",
      "Found 4 word(s) missing in the model. Weighted missing percentage not covered by the given model is 0.79%.\n",
      "Found 1 word(s) missing in the model. Weighted missing percentage not covered by the given model is 0.15%.\n",
      "Found 1 word(s) missing in the model. Weighted missing percentage not covered by the given model is 0.32%.\n",
      "Found 1 word(s) missing in the model. Weighted missing percentage not covered by the given model is 0.05%.\n",
      "Found 2 word(s) missing in the model. Weighted missing percentage not covered by the given model is 0.04%.\n",
      "Found 1 word(s) missing in the model. Weighted missing percentage not covered by the given model is 0.20%.\n",
      "Found 3 word(s) missing in the model. Weighted missing percentage not covered by the given model is 0.08%.\n",
      "Found 1 word(s) missing in the model. Weighted missing percentage not covered by the given model is 0.33%.\n"
     ]
    },
    {
     "name": "stderr",
     "output_type": "stream",
     "text": [
      "\r",
      "Calculating vectors of reference spectrums:  15%|█████▏                            | 550/3601 [00:04<00:15, 192.11it/s]"
     ]
    },
    {
     "name": "stdout",
     "output_type": "stream",
     "text": [
      "Found 1 word(s) missing in the model. Weighted missing percentage not covered by the given model is 0.66%.\n",
      "Found 3 word(s) missing in the model. Weighted missing percentage not covered by the given model is 7.39%.\n",
      "Found 2 word(s) missing in the model. Weighted missing percentage not covered by the given model is 1.33%.\n",
      "Found 2 word(s) missing in the model. Weighted missing percentage not covered by the given model is 6.98%.\n",
      "Found 4 word(s) missing in the model. Weighted missing percentage not covered by the given model is 1.56%.\n",
      "Found 3 word(s) missing in the model. Weighted missing percentage not covered by the given model is 7.20%.\n",
      "Found 3 word(s) missing in the model. Weighted missing percentage not covered by the given model is 0.11%.\n",
      "Found 6 word(s) missing in the model. Weighted missing percentage not covered by the given model is 0.22%.\n",
      "Found 145 word(s) missing in the model. Weighted missing percentage not covered by the given model is 6.45%.\n",
      "Found 10 word(s) missing in the model. Weighted missing percentage not covered by the given model is 0.48%.\n",
      "Found 7 word(s) missing in the model. Weighted missing percentage not covered by the given model is 0.59%.\n",
      "Found 8 word(s) missing in the model. Weighted missing percentage not covered by the given model is 0.29%.\n",
      "Found 14 word(s) missing in the model. Weighted missing percentage not covered by the given model is 1.70%.\n",
      "Found 7 word(s) missing in the model. Weighted missing percentage not covered by the given model is 0.66%.\n",
      "Found 2 word(s) missing in the model. Weighted missing percentage not covered by the given model is 0.09%.\n",
      "Found 3 word(s) missing in the model. Weighted missing percentage not covered by the given model is 0.14%.\n",
      "Found 4 word(s) missing in the model. Weighted missing percentage not covered by the given model is 0.17%.\n",
      "Found 3 word(s) missing in the model. Weighted missing percentage not covered by the given model is 0.10%.\n"
     ]
    },
    {
     "name": "stderr",
     "output_type": "stream",
     "text": [
      "\r",
      "Calculating vectors of reference spectrums:  16%|█████▌                             | 570/3601 [00:05<00:32, 93.36it/s]"
     ]
    },
    {
     "name": "stdout",
     "output_type": "stream",
     "text": [
      "Found 9 word(s) missing in the model. Weighted missing percentage not covered by the given model is 0.39%.\n",
      "Found 2 word(s) missing in the model. Weighted missing percentage not covered by the given model is 0.29%.\n",
      "Found 4 word(s) missing in the model. Weighted missing percentage not covered by the given model is 0.18%.\n",
      "Found 2 word(s) missing in the model. Weighted missing percentage not covered by the given model is 0.28%.\n",
      "Found 3 word(s) missing in the model. Weighted missing percentage not covered by the given model is 0.13%.\n",
      "Found 3 word(s) missing in the model. Weighted missing percentage not covered by the given model is 0.61%.\n",
      "Found 11 word(s) missing in the model. Weighted missing percentage not covered by the given model is 0.65%.\n",
      "Found 5 word(s) missing in the model. Weighted missing percentage not covered by the given model is 0.24%.\n",
      "Found 2 word(s) missing in the model. Weighted missing percentage not covered by the given model is 0.18%.\n",
      "Found 4 word(s) missing in the model. Weighted missing percentage not covered by the given model is 0.51%.\n",
      "Found 53 word(s) missing in the model. Weighted missing percentage not covered by the given model is 2.41%.\n",
      "Found 8 word(s) missing in the model. Weighted missing percentage not covered by the given model is 0.38%.\n",
      "Found 4 word(s) missing in the model. Weighted missing percentage not covered by the given model is 0.42%.\n",
      "Found 2 word(s) missing in the model. Weighted missing percentage not covered by the given model is 0.20%.\n",
      "Found 3 word(s) missing in the model. Weighted missing percentage not covered by the given model is 0.21%.\n",
      "Found 10 word(s) missing in the model. Weighted missing percentage not covered by the given model is 0.43%.\n",
      "Found 2 word(s) missing in the model. Weighted missing percentage not covered by the given model is 0.09%.\n"
     ]
    },
    {
     "name": "stderr",
     "output_type": "stream",
     "text": [
      "\r",
      "Calculating vectors of reference spectrums:  16%|█████▋                             | 585/3601 [00:05<00:40, 73.97it/s]"
     ]
    },
    {
     "name": "stdout",
     "output_type": "stream",
     "text": [
      "Found 2 word(s) missing in the model. Weighted missing percentage not covered by the given model is 0.08%.\n",
      "Found 2 word(s) missing in the model. Weighted missing percentage not covered by the given model is 0.17%.\n",
      "Found 6 word(s) missing in the model. Weighted missing percentage not covered by the given model is 0.23%.\n",
      "Found 2 word(s) missing in the model. Weighted missing percentage not covered by the given model is 0.09%.\n",
      "Found 4 word(s) missing in the model. Weighted missing percentage not covered by the given model is 0.16%.\n",
      "Found 8 word(s) missing in the model. Weighted missing percentage not covered by the given model is 0.33%.\n",
      "Found 5 word(s) missing in the model. Weighted missing percentage not covered by the given model is 0.21%.\n",
      "Found 4 word(s) missing in the model. Weighted missing percentage not covered by the given model is 0.16%.\n"
     ]
    },
    {
     "name": "stderr",
     "output_type": "stream",
     "text": [
      "Calculating vectors of reference spectrums:  18%|██████▏                           | 659/3601 [00:05<00:19, 150.51it/s]"
     ]
    },
    {
     "name": "stdout",
     "output_type": "stream",
     "text": [
      "Found 1 word(s) missing in the model. Weighted missing percentage not covered by the given model is 0.44%.\n",
      "Found 2 word(s) missing in the model. Weighted missing percentage not covered by the given model is 1.10%.\n",
      "Found 1 word(s) missing in the model. Weighted missing percentage not covered by the given model is 0.36%.\n",
      "Found 1 word(s) missing in the model. Weighted missing percentage not covered by the given model is 0.53%.\n",
      "Found 2 word(s) missing in the model. Weighted missing percentage not covered by the given model is 0.13%.\n",
      "Found 1 word(s) missing in the model. Weighted missing percentage not covered by the given model is 0.77%.\n",
      "Found 2 word(s) missing in the model. Weighted missing percentage not covered by the given model is 0.39%.\n",
      "Found 8 word(s) missing in the model. Weighted missing percentage not covered by the given model is 1.18%.\n",
      "Found 1 word(s) missing in the model. Weighted missing percentage not covered by the given model is 0.56%.\n",
      "Found 5 word(s) missing in the model. Weighted missing percentage not covered by the given model is 0.34%.\n",
      "Found 1 word(s) missing in the model. Weighted missing percentage not covered by the given model is 0.10%.\n",
      "Found 2 word(s) missing in the model. Weighted missing percentage not covered by the given model is 0.27%.\n",
      "Found 1 word(s) missing in the model. Weighted missing percentage not covered by the given model is 0.25%.\n",
      "Found 1 word(s) missing in the model. Weighted missing percentage not covered by the given model is 0.23%.\n",
      "Found 1 word(s) missing in the model. Weighted missing percentage not covered by the given model is 0.32%.\n"
     ]
    },
    {
     "name": "stderr",
     "output_type": "stream",
     "text": [
      "Calculating vectors of reference spectrums:  21%|███████▏                          | 766/3601 [00:05<00:10, 273.97it/s]"
     ]
    },
    {
     "name": "stdout",
     "output_type": "stream",
     "text": [
      "Found 2 word(s) missing in the model. Weighted missing percentage not covered by the given model is 0.20%.\n",
      "Found 1 word(s) missing in the model. Weighted missing percentage not covered by the given model is 0.15%.\n",
      "Found 1 word(s) missing in the model. Weighted missing percentage not covered by the given model is 1.06%.\n",
      "Found 3 word(s) missing in the model. Weighted missing percentage not covered by the given model is 0.78%.\n",
      "Found 1 word(s) missing in the model. Weighted missing percentage not covered by the given model is 1.39%.\n",
      "Found 1 word(s) missing in the model. Weighted missing percentage not covered by the given model is 1.19%.\n",
      "Found 6 word(s) missing in the model. Weighted missing percentage not covered by the given model is 0.90%.\n"
     ]
    },
    {
     "name": "stderr",
     "output_type": "stream",
     "text": [
      "\r",
      "Calculating vectors of reference spectrums:  22%|███████▌                          | 804/3601 [00:06<00:12, 230.85it/s]"
     ]
    },
    {
     "name": "stdout",
     "output_type": "stream",
     "text": [
      "Found 1 word(s) missing in the model. Weighted missing percentage not covered by the given model is 0.48%.\n",
      "Found 2 word(s) missing in the model. Weighted missing percentage not covered by the given model is 0.71%.\n",
      "Found 3 word(s) missing in the model. Weighted missing percentage not covered by the given model is 0.32%.\n",
      "Found 2 word(s) missing in the model. Weighted missing percentage not covered by the given model is 0.39%.\n",
      "Found 12 word(s) missing in the model. Weighted missing percentage not covered by the given model is 1.33%.\n",
      "Found 11 word(s) missing in the model. Weighted missing percentage not covered by the given model is 1.59%.\n",
      "Found 3 word(s) missing in the model. Weighted missing percentage not covered by the given model is 1.38%.\n",
      "Found 1 word(s) missing in the model. Weighted missing percentage not covered by the given model is 0.62%.\n",
      "Found 1 word(s) missing in the model. Weighted missing percentage not covered by the given model is 1.58%.\n",
      "Found 4 word(s) missing in the model. Weighted missing percentage not covered by the given model is 3.58%.\n",
      "Found 4 word(s) missing in the model. Weighted missing percentage not covered by the given model is 0.87%.\n",
      "Found 23 word(s) missing in the model. Weighted missing percentage not covered by the given model is 1.58%.\n",
      "Found 2 word(s) missing in the model. Weighted missing percentage not covered by the given model is 3.85%.\n",
      "Found 5 word(s) missing in the model. Weighted missing percentage not covered by the given model is 1.67%.\n",
      "Found 1 word(s) missing in the model. Weighted missing percentage not covered by the given model is 0.41%.\n",
      "Found 5 word(s) missing in the model. Weighted missing percentage not covered by the given model is 1.85%.\n",
      "Found 2 word(s) missing in the model. Weighted missing percentage not covered by the given model is 3.29%.\n",
      "Found 1 word(s) missing in the model. Weighted missing percentage not covered by the given model is 1.89%.\n",
      "Found 2 word(s) missing in the model. Weighted missing percentage not covered by the given model is 1.31%.\n",
      "Found 1 word(s) missing in the model. Weighted missing percentage not covered by the given model is 2.68%.\n",
      "Found 4 word(s) missing in the model. Weighted missing percentage not covered by the given model is 1.54%.\n",
      "Found 5 word(s) missing in the model. Weighted missing percentage not covered by the given model is 1.88%.\n",
      "Found 1 word(s) missing in the model. Weighted missing percentage not covered by the given model is 1.99%.\n"
     ]
    },
    {
     "name": "stderr",
     "output_type": "stream",
     "text": [
      "Calculating vectors of reference spectrums:  24%|████████▎                         | 881/3601 [00:06<00:09, 274.12it/s]"
     ]
    },
    {
     "name": "stdout",
     "output_type": "stream",
     "text": [
      "Found 4 word(s) missing in the model. Weighted missing percentage not covered by the given model is 1.62%.\n",
      "Found 5 word(s) missing in the model. Weighted missing percentage not covered by the given model is 1.82%.\n",
      "Found 4 word(s) missing in the model. Weighted missing percentage not covered by the given model is 1.61%.\n",
      "Found 4 word(s) missing in the model. Weighted missing percentage not covered by the given model is 1.37%.\n",
      "Found 1 word(s) missing in the model. Weighted missing percentage not covered by the given model is 0.66%.\n",
      "Found 2 word(s) missing in the model. Weighted missing percentage not covered by the given model is 0.89%.\n",
      "Found 1 word(s) missing in the model. Weighted missing percentage not covered by the given model is 0.51%.\n",
      "Found 4 word(s) missing in the model. Weighted missing percentage not covered by the given model is 1.53%.\n",
      "Found 1 word(s) missing in the model. Weighted missing percentage not covered by the given model is 1.55%.\n",
      "Found 5 word(s) missing in the model. Weighted missing percentage not covered by the given model is 1.78%.\n",
      "Found 4 word(s) missing in the model. Weighted missing percentage not covered by the given model is 1.73%.\n",
      "Found 5 word(s) missing in the model. Weighted missing percentage not covered by the given model is 1.86%.\n",
      "Found 5 word(s) missing in the model. Weighted missing percentage not covered by the given model is 1.75%.\n",
      "Found 1 word(s) missing in the model. Weighted missing percentage not covered by the given model is 1.04%.\n",
      "Found 3 word(s) missing in the model. Weighted missing percentage not covered by the given model is 1.21%.\n",
      "Found 1 word(s) missing in the model. Weighted missing percentage not covered by the given model is 1.18%.\n",
      "Found 3 word(s) missing in the model. Weighted missing percentage not covered by the given model is 1.13%.\n",
      "Found 4 word(s) missing in the model. Weighted missing percentage not covered by the given model is 1.44%.\n",
      "Found 1 word(s) missing in the model. Weighted missing percentage not covered by the given model is 1.66%.\n",
      "Found 5 word(s) missing in the model. Weighted missing percentage not covered by the given model is 1.87%.\n",
      "Found 5 word(s) missing in the model. Weighted missing percentage not covered by the given model is 1.80%.\n",
      "Found 4 word(s) missing in the model. Weighted missing percentage not covered by the given model is 1.58%.\n",
      "Found 3 word(s) missing in the model. Weighted missing percentage not covered by the given model is 1.23%.\n",
      "Found 1 word(s) missing in the model. Weighted missing percentage not covered by the given model is 2.34%.\n",
      "Found 3 word(s) missing in the model. Weighted missing percentage not covered by the given model is 1.37%.\n",
      "Found 3 word(s) missing in the model. Weighted missing percentage not covered by the given model is 1.24%.\n",
      "Found 2 word(s) missing in the model. Weighted missing percentage not covered by the given model is 0.91%.\n",
      "Found 1 word(s) missing in the model. Weighted missing percentage not covered by the given model is 2.08%.\n",
      "Found 4 word(s) missing in the model. Weighted missing percentage not covered by the given model is 1.63%.\n",
      "Found 2 word(s) missing in the model. Weighted missing percentage not covered by the given model is 1.08%.\n",
      "Found 2 word(s) missing in the model. Weighted missing percentage not covered by the given model is 1.08%.\n",
      "Found 6 word(s) missing in the model. Weighted missing percentage not covered by the given model is 5.56%.\n",
      "Found 3 word(s) missing in the model. Weighted missing percentage not covered by the given model is 0.42%.\n",
      "Found 4 word(s) missing in the model. Weighted missing percentage not covered by the given model is 1.52%.\n",
      "Found 4 word(s) missing in the model. Weighted missing percentage not covered by the given model is 1.52%.\n",
      "Found 1 word(s) missing in the model. Weighted missing percentage not covered by the given model is 0.55%.\n",
      "Found 5 word(s) missing in the model. Weighted missing percentage not covered by the given model is 1.80%.\n",
      "Found 1 word(s) missing in the model. Weighted missing percentage not covered by the given model is 0.55%.\n",
      "Found 5 word(s) missing in the model. Weighted missing percentage not covered by the given model is 1.80%.\n",
      "Found 1 word(s) missing in the model. Weighted missing percentage not covered by the given model is 0.31%.\n",
      "Found 5 word(s) missing in the model. Weighted missing percentage not covered by the given model is 1.96%.\n",
      "Found 1 word(s) missing in the model. Weighted missing percentage not covered by the given model is 0.31%.\n",
      "Found 5 word(s) missing in the model. Weighted missing percentage not covered by the given model is 1.96%.\n",
      "Found 5 word(s) missing in the model. Weighted missing percentage not covered by the given model is 1.75%.\n"
     ]
    },
    {
     "name": "stderr",
     "output_type": "stream",
     "text": [
      "\r",
      "Calculating vectors of reference spectrums:  25%|████████▋                         | 915/3601 [00:06<00:09, 272.08it/s]"
     ]
    },
    {
     "name": "stdout",
     "output_type": "stream",
     "text": [
      "Found 5 word(s) missing in the model. Weighted missing percentage not covered by the given model is 1.75%.\n",
      "Found 1 word(s) missing in the model. Weighted missing percentage not covered by the given model is 0.69%.\n",
      "Found 5 word(s) missing in the model. Weighted missing percentage not covered by the given model is 1.69%.\n",
      "Found 1 word(s) missing in the model. Weighted missing percentage not covered by the given model is 0.69%.\n",
      "Found 5 word(s) missing in the model. Weighted missing percentage not covered by the given model is 1.69%.\n",
      "Found 1 word(s) missing in the model. Weighted missing percentage not covered by the given model is 1.10%.\n",
      "Found 5 word(s) missing in the model. Weighted missing percentage not covered by the given model is 1.71%.\n",
      "Found 3 word(s) missing in the model. Weighted missing percentage not covered by the given model is 4.23%.\n",
      "Found 3 word(s) missing in the model. Weighted missing percentage not covered by the given model is 1.44%.\n",
      "Found 4 word(s) missing in the model. Weighted missing percentage not covered by the given model is 1.58%.\n",
      "Found 1 word(s) missing in the model. Weighted missing percentage not covered by the given model is 1.67%.\n",
      "Found 2 word(s) missing in the model. Weighted missing percentage not covered by the given model is 0.78%.\n",
      "Found 2 word(s) missing in the model. Weighted missing percentage not covered by the given model is 3.80%.\n",
      "Found 3 word(s) missing in the model. Weighted missing percentage not covered by the given model is 1.54%.\n",
      "Found 2 word(s) missing in the model. Weighted missing percentage not covered by the given model is 1.47%.\n",
      "Found 4 word(s) missing in the model. Weighted missing percentage not covered by the given model is 1.56%.\n",
      "Found 1 word(s) missing in the model. Weighted missing percentage not covered by the given model is 0.39%.\n",
      "Found 3 word(s) missing in the model. Weighted missing percentage not covered by the given model is 1.20%.\n",
      "Found 1 word(s) missing in the model. Weighted missing percentage not covered by the given model is 0.46%.\n",
      "Found 1 word(s) missing in the model. Weighted missing percentage not covered by the given model is 0.72%.\n",
      "Found 2 word(s) missing in the model. Weighted missing percentage not covered by the given model is 0.98%.\n",
      "Found 1 word(s) missing in the model. Weighted missing percentage not covered by the given model is 0.51%.\n",
      "Found 4 word(s) missing in the model. Weighted missing percentage not covered by the given model is 1.63%.\n",
      "Found 4 word(s) missing in the model. Weighted missing percentage not covered by the given model is 2.74%.\n",
      "Found 1 word(s) missing in the model. Weighted missing percentage not covered by the given model is 0.46%.\n",
      "Found 1 word(s) missing in the model. Weighted missing percentage not covered by the given model is 0.43%.\n",
      "Found 1 word(s) missing in the model. Weighted missing percentage not covered by the given model is 1.25%.\n",
      "Found 1 word(s) missing in the model. Weighted missing percentage not covered by the given model is 0.46%.\n",
      "Found 1 word(s) missing in the model. Weighted missing percentage not covered by the given model is 0.67%.\n",
      "Found 3 word(s) missing in the model. Weighted missing percentage not covered by the given model is 1.55%.\n",
      "Found 3 word(s) missing in the model. Weighted missing percentage not covered by the given model is 0.93%.\n",
      "Found 2 word(s) missing in the model. Weighted missing percentage not covered by the given model is 0.94%.\n",
      "Found 1 word(s) missing in the model. Weighted missing percentage not covered by the given model is 1.53%.\n",
      "Found 2 word(s) missing in the model. Weighted missing percentage not covered by the given model is 0.98%.\n",
      "Found 3 word(s) missing in the model. Weighted missing percentage not covered by the given model is 1.36%.\n",
      "Found 2 word(s) missing in the model. Weighted missing percentage not covered by the given model is 0.69%.\n",
      "Found 6 word(s) missing in the model. Weighted missing percentage not covered by the given model is 2.24%.\n",
      "Found 7 word(s) missing in the model. Weighted missing percentage not covered by the given model is 2.59%.\n",
      "Found 2 word(s) missing in the model. Weighted missing percentage not covered by the given model is 0.94%.\n",
      "Found 1 word(s) missing in the model. Weighted missing percentage not covered by the given model is 0.27%.\n"
     ]
    },
    {
     "name": "stderr",
     "output_type": "stream",
     "text": [
      "Calculating vectors of reference spectrums:  28%|█████████▏                       | 1007/3601 [00:06<00:07, 352.53it/s]"
     ]
    },
    {
     "name": "stdout",
     "output_type": "stream",
     "text": [
      "Found 1 word(s) missing in the model. Weighted missing percentage not covered by the given model is 0.32%.\n",
      "Found 2 word(s) missing in the model. Weighted missing percentage not covered by the given model is 5.34%.\n",
      "Found 1 word(s) missing in the model. Weighted missing percentage not covered by the given model is 0.37%.\n",
      "Found 1 word(s) missing in the model. Weighted missing percentage not covered by the given model is 0.54%.\n",
      "Found 3 word(s) missing in the model. Weighted missing percentage not covered by the given model is 1.16%.\n",
      "Found 4 word(s) missing in the model. Weighted missing percentage not covered by the given model is 1.61%.\n",
      "Found 3 word(s) missing in the model. Weighted missing percentage not covered by the given model is 1.20%.\n",
      "Found 5 word(s) missing in the model. Weighted missing percentage not covered by the given model is 1.97%.\n",
      "Found 5 word(s) missing in the model. Weighted missing percentage not covered by the given model is 2.08%.\n",
      "Found 1 word(s) missing in the model. Weighted missing percentage not covered by the given model is 1.87%.\n",
      "Found 5 word(s) missing in the model. Weighted missing percentage not covered by the given model is 1.95%.\n",
      "Found 1 word(s) missing in the model. Weighted missing percentage not covered by the given model is 2.13%.\n",
      "Found 3 word(s) missing in the model. Weighted missing percentage not covered by the given model is 1.37%.\n",
      "Found 3 word(s) missing in the model. Weighted missing percentage not covered by the given model is 1.14%.\n",
      "Found 2 word(s) missing in the model. Weighted missing percentage not covered by the given model is 0.93%.\n",
      "Found 2 word(s) missing in the model. Weighted missing percentage not covered by the given model is 0.80%.\n",
      "Found 3 word(s) missing in the model. Weighted missing percentage not covered by the given model is 1.21%.\n",
      "Found 4 word(s) missing in the model. Weighted missing percentage not covered by the given model is 1.68%.\n",
      "Found 1 word(s) missing in the model. Weighted missing percentage not covered by the given model is 2.02%.\n",
      "Found 5 word(s) missing in the model. Weighted missing percentage not covered by the given model is 1.83%.\n",
      "Found 1 word(s) missing in the model. Weighted missing percentage not covered by the given model is 1.04%.\n",
      "Found 3 word(s) missing in the model. Weighted missing percentage not covered by the given model is 1.17%.\n",
      "Found 3 word(s) missing in the model. Weighted missing percentage not covered by the given model is 1.41%.\n",
      "Found 6 word(s) missing in the model. Weighted missing percentage not covered by the given model is 2.32%.\n",
      "Found 1 word(s) missing in the model. Weighted missing percentage not covered by the given model is 0.64%.\n",
      "Found 3 word(s) missing in the model. Weighted missing percentage not covered by the given model is 1.08%.\n",
      "Found 4 word(s) missing in the model. Weighted missing percentage not covered by the given model is 1.53%.\n",
      "Found 1 word(s) missing in the model. Weighted missing percentage not covered by the given model is 0.17%.\n",
      "Found 2 word(s) missing in the model. Weighted missing percentage not covered by the given model is 0.88%.\n",
      "Found 3 word(s) missing in the model. Weighted missing percentage not covered by the given model is 3.20%.\n",
      "Found 1 word(s) missing in the model. Weighted missing percentage not covered by the given model is 1.05%.\n",
      "Found 2 word(s) missing in the model. Weighted missing percentage not covered by the given model is 1.03%.\n",
      "Found 1 word(s) missing in the model. Weighted missing percentage not covered by the given model is 1.20%.\n",
      "Found 3 word(s) missing in the model. Weighted missing percentage not covered by the given model is 1.54%.\n",
      "Found 2 word(s) missing in the model. Weighted missing percentage not covered by the given model is 1.79%.\n",
      "Found 3 word(s) missing in the model. Weighted missing percentage not covered by the given model is 1.63%.\n",
      "Found 1 word(s) missing in the model. Weighted missing percentage not covered by the given model is 0.77%.\n",
      "Found 4 word(s) missing in the model. Weighted missing percentage not covered by the given model is 1.73%.\n",
      "Found 2 word(s) missing in the model. Weighted missing percentage not covered by the given model is 1.51%.\n",
      "Found 3 word(s) missing in the model. Weighted missing percentage not covered by the given model is 1.34%.\n",
      "Found 2 word(s) missing in the model. Weighted missing percentage not covered by the given model is 1.68%.\n",
      "Found 2 word(s) missing in the model. Weighted missing percentage not covered by the given model is 1.19%.\n",
      "Found 1 word(s) missing in the model. Weighted missing percentage not covered by the given model is 0.54%.\n",
      "Found 2 word(s) missing in the model. Weighted missing percentage not covered by the given model is 1.19%.\n",
      "Found 1 word(s) missing in the model. Weighted missing percentage not covered by the given model is 0.30%.\n",
      "Found 1 word(s) missing in the model. Weighted missing percentage not covered by the given model is 0.47%.\n",
      "Found 1 word(s) missing in the model. Weighted missing percentage not covered by the given model is 0.67%.\n",
      "Found 1 word(s) missing in the model. Weighted missing percentage not covered by the given model is 1.80%.\n",
      "Found 2 word(s) missing in the model. Weighted missing percentage not covered by the given model is 8.34%.\n",
      "Found 2 word(s) missing in the model. Weighted missing percentage not covered by the given model is 0.65%.\n",
      "Found 1 word(s) missing in the model. Weighted missing percentage not covered by the given model is 0.99%.\n",
      "Found 1 word(s) missing in the model. Weighted missing percentage not covered by the given model is 0.43%.\n",
      "Found 2 word(s) missing in the model. Weighted missing percentage not covered by the given model is 1.03%.\n",
      "Found 3 word(s) missing in the model. Weighted missing percentage not covered by the given model is 1.12%.\n",
      "Found 1 word(s) missing in the model. Weighted missing percentage not covered by the given model is 0.60%.\n"
     ]
    },
    {
     "name": "stderr",
     "output_type": "stream",
     "text": [
      "\r",
      "Calculating vectors of reference spectrums:  29%|█████████▋                       | 1053/3601 [00:06<00:06, 379.16it/s]"
     ]
    },
    {
     "name": "stdout",
     "output_type": "stream",
     "text": [
      "Found 1 word(s) missing in the model. Weighted missing percentage not covered by the given model is 2.88%.\n",
      "Found 1 word(s) missing in the model. Weighted missing percentage not covered by the given model is 0.55%.\n",
      "Found 1 word(s) missing in the model. Weighted missing percentage not covered by the given model is 0.65%.\n",
      "Found 1 word(s) missing in the model. Weighted missing percentage not covered by the given model is 0.35%.\n",
      "Found 2 word(s) missing in the model. Weighted missing percentage not covered by the given model is 1.06%.\n",
      "Found 2 word(s) missing in the model. Weighted missing percentage not covered by the given model is 0.77%.\n",
      "Found 2 word(s) missing in the model. Weighted missing percentage not covered by the given model is 0.93%.\n",
      "Found 1 word(s) missing in the model. Weighted missing percentage not covered by the given model is 0.39%.\n",
      "Found 2 word(s) missing in the model. Weighted missing percentage not covered by the given model is 0.59%.\n",
      "Found 3 word(s) missing in the model. Weighted missing percentage not covered by the given model is 1.25%.\n",
      "Found 1 word(s) missing in the model. Weighted missing percentage not covered by the given model is 2.65%.\n",
      "Found 3 word(s) missing in the model. Weighted missing percentage not covered by the given model is 1.67%.\n",
      "Found 3 word(s) missing in the model. Weighted missing percentage not covered by the given model is 1.41%.\n",
      "Found 1 word(s) missing in the model. Weighted missing percentage not covered by the given model is 0.34%.\n",
      "Found 2 word(s) missing in the model. Weighted missing percentage not covered by the given model is 4.73%.\n",
      "Found 2 word(s) missing in the model. Weighted missing percentage not covered by the given model is 1.34%.\n",
      "Found 3 word(s) missing in the model. Weighted missing percentage not covered by the given model is 0.09%.\n",
      "Found 3 word(s) missing in the model. Weighted missing percentage not covered by the given model is 0.14%.\n"
     ]
    },
    {
     "name": "stderr",
     "output_type": "stream",
     "text": [
      "Calculating vectors of reference spectrums:  31%|██████████▎                      | 1130/3601 [00:07<00:07, 314.27it/s]"
     ]
    },
    {
     "name": "stdout",
     "output_type": "stream",
     "text": [
      "Found 4 word(s) missing in the model. Weighted missing percentage not covered by the given model is 0.27%.\n",
      "Found 5 word(s) missing in the model. Weighted missing percentage not covered by the given model is 0.48%.\n",
      "Found 4 word(s) missing in the model. Weighted missing percentage not covered by the given model is 0.14%.\n",
      "Found 7 word(s) missing in the model. Weighted missing percentage not covered by the given model is 0.28%.\n",
      "Found 33 word(s) missing in the model. Weighted missing percentage not covered by the given model is 1.54%.\n",
      "Found 1 word(s) missing in the model. Weighted missing percentage not covered by the given model is 1.49%.\n",
      "Found 1 word(s) missing in the model. Weighted missing percentage not covered by the given model is 0.14%.\n"
     ]
    },
    {
     "name": "stderr",
     "output_type": "stream",
     "text": [
      "Calculating vectors of reference spectrums:  41%|█████████████▌                   | 1477/3601 [00:07<00:02, 790.68it/s]"
     ]
    },
    {
     "name": "stdout",
     "output_type": "stream",
     "text": [
      "Found 1 word(s) missing in the model. Weighted missing percentage not covered by the given model is 3.79%.\n",
      "Found 2 word(s) missing in the model. Weighted missing percentage not covered by the given model is 5.08%.\n",
      "Found 1 word(s) missing in the model. Weighted missing percentage not covered by the given model is 2.63%.\n",
      "Found 2 word(s) missing in the model. Weighted missing percentage not covered by the given model is 1.55%.\n",
      "Found 2 word(s) missing in the model. Weighted missing percentage not covered by the given model is 2.34%.\n",
      "Found 4 word(s) missing in the model. Weighted missing percentage not covered by the given model is 2.87%.\n",
      "Found 1 word(s) missing in the model. Weighted missing percentage not covered by the given model is 0.50%.\n",
      "Found 1 word(s) missing in the model. Weighted missing percentage not covered by the given model is 7.24%.\n",
      "Found 1 word(s) missing in the model. Weighted missing percentage not covered by the given model is 6.88%.\n",
      "Found 1 word(s) missing in the model. Weighted missing percentage not covered by the given model is 7.68%.\n",
      "Found 1 word(s) missing in the model. Weighted missing percentage not covered by the given model is 4.16%.\n",
      "Found 1 word(s) missing in the model. Weighted missing percentage not covered by the given model is 0.33%.\n",
      "Found 1 word(s) missing in the model. Weighted missing percentage not covered by the given model is 2.79%.\n",
      "Found 1 word(s) missing in the model. Weighted missing percentage not covered by the given model is 0.72%.\n",
      "Found 1 word(s) missing in the model. Weighted missing percentage not covered by the given model is 0.63%.\n"
     ]
    },
    {
     "name": "stderr",
     "output_type": "stream",
     "text": [
      "\r",
      "Calculating vectors of reference spectrums:  43%|██████████████▎                  | 1562/3601 [00:07<00:02, 752.69it/s]"
     ]
    },
    {
     "name": "stdout",
     "output_type": "stream",
     "text": [
      "Found 1 word(s) missing in the model. Weighted missing percentage not covered by the given model is 0.27%.\n",
      "Found 1 word(s) missing in the model. Weighted missing percentage not covered by the given model is 2.46%.\n",
      "Found 1 word(s) missing in the model. Weighted missing percentage not covered by the given model is 16.76%.\n",
      "Found 1 word(s) missing in the model. Weighted missing percentage not covered by the given model is 0.35%.\n"
     ]
    },
    {
     "name": "stderr",
     "output_type": "stream",
     "text": [
      "Calculating vectors of reference spectrums:  48%|███████████████▋                 | 1714/3601 [00:07<00:03, 587.44it/s]"
     ]
    },
    {
     "name": "stdout",
     "output_type": "stream",
     "text": [
      "Found 1 word(s) missing in the model. Weighted missing percentage not covered by the given model is 0.24%.\n",
      "Found 2 word(s) missing in the model. Weighted missing percentage not covered by the given model is 1.06%.\n",
      "Found 1 word(s) missing in the model. Weighted missing percentage not covered by the given model is 0.33%.\n",
      "Found 1 word(s) missing in the model. Weighted missing percentage not covered by the given model is 0.17%.\n",
      "Found 1 word(s) missing in the model. Weighted missing percentage not covered by the given model is 0.32%.\n",
      "Found 1 word(s) missing in the model. Weighted missing percentage not covered by the given model is 1.12%.\n",
      "Found 1 word(s) missing in the model. Weighted missing percentage not covered by the given model is 0.40%.\n",
      "Found 1 word(s) missing in the model. Weighted missing percentage not covered by the given model is 0.48%.\n",
      "Found 1 word(s) missing in the model. Weighted missing percentage not covered by the given model is 0.27%.\n",
      "Found 1 word(s) missing in the model. Weighted missing percentage not covered by the given model is 0.25%.\n",
      "Found 1 word(s) missing in the model. Weighted missing percentage not covered by the given model is 0.57%.\n",
      "Found 1 word(s) missing in the model. Weighted missing percentage not covered by the given model is 0.63%.\n"
     ]
    },
    {
     "name": "stderr",
     "output_type": "stream",
     "text": [
      "\r",
      "Calculating vectors of reference spectrums:  49%|████████████████▎                | 1778/3601 [00:08<00:03, 552.83it/s]"
     ]
    },
    {
     "name": "stdout",
     "output_type": "stream",
     "text": [
      "Found 1 word(s) missing in the model. Weighted missing percentage not covered by the given model is 0.36%.\n",
      "Found 1 word(s) missing in the model. Weighted missing percentage not covered by the given model is 0.21%.\n",
      "Found 1 word(s) missing in the model. Weighted missing percentage not covered by the given model is 0.08%.\n",
      "Found 1 word(s) missing in the model. Weighted missing percentage not covered by the given model is 0.63%.\n",
      "Found 1 word(s) missing in the model. Weighted missing percentage not covered by the given model is 0.84%.\n",
      "Found 1 word(s) missing in the model. Weighted missing percentage not covered by the given model is 0.73%.\n",
      "Found 1 word(s) missing in the model. Weighted missing percentage not covered by the given model is 0.07%.\n",
      "Found 2 word(s) missing in the model. Weighted missing percentage not covered by the given model is 0.29%.\n",
      "Found 1 word(s) missing in the model. Weighted missing percentage not covered by the given model is 0.06%.\n"
     ]
    },
    {
     "name": "stderr",
     "output_type": "stream",
     "text": [
      "Calculating vectors of reference spectrums:  53%|█████████████████▋               | 1924/3601 [00:08<00:02, 587.78it/s]"
     ]
    },
    {
     "name": "stdout",
     "output_type": "stream",
     "text": [
      "Found 2 word(s) missing in the model. Weighted missing percentage not covered by the given model is 0.77%.\n"
     ]
    },
    {
     "name": "stderr",
     "output_type": "stream",
     "text": [
      "Calculating vectors of reference spectrums:  67%|█████████████████████▉           | 2397/3601 [00:08<00:01, 761.60it/s]"
     ]
    },
    {
     "name": "stdout",
     "output_type": "stream",
     "text": [
      "Found 5 word(s) missing in the model. Weighted missing percentage not covered by the given model is 0.77%.\n",
      "Found 2 word(s) missing in the model. Weighted missing percentage not covered by the given model is 0.76%.\n",
      "Found 6 word(s) missing in the model. Weighted missing percentage not covered by the given model is 1.21%.\n",
      "Found 1 word(s) missing in the model. Weighted missing percentage not covered by the given model is 0.14%.\n",
      "Found 1 word(s) missing in the model. Weighted missing percentage not covered by the given model is 0.08%.\n",
      "Found 1 word(s) missing in the model. Weighted missing percentage not covered by the given model is 5.80%.\n",
      "Found 1 word(s) missing in the model. Weighted missing percentage not covered by the given model is 2.58%.\n"
     ]
    },
    {
     "name": "stderr",
     "output_type": "stream",
     "text": [
      "\r",
      "Calculating vectors of reference spectrums:  69%|██████████████████████▉          | 2502/3601 [00:08<00:01, 839.95it/s]"
     ]
    },
    {
     "name": "stdout",
     "output_type": "stream",
     "text": [
      "Found 1 word(s) missing in the model. Weighted missing percentage not covered by the given model is 4.25%.\n",
      "Found 1 word(s) missing in the model. Weighted missing percentage not covered by the given model is 3.51%.\n",
      "Found 1 word(s) missing in the model. Weighted missing percentage not covered by the given model is 4.27%.\n",
      "Found 1 word(s) missing in the model. Weighted missing percentage not covered by the given model is 1.99%.\n",
      "Found 1 word(s) missing in the model. Weighted missing percentage not covered by the given model is 1.58%.\n",
      "Found 2 word(s) missing in the model. Weighted missing percentage not covered by the given model is 0.11%.\n",
      "Found 2 word(s) missing in the model. Weighted missing percentage not covered by the given model is 0.19%.\n",
      "Found 8 word(s) missing in the model. Weighted missing percentage not covered by the given model is 0.50%.\n",
      "Found 2 word(s) missing in the model. Weighted missing percentage not covered by the given model is 0.96%.\n",
      "Found 7 word(s) missing in the model. Weighted missing percentage not covered by the given model is 1.43%.\n",
      "Found 4 word(s) missing in the model. Weighted missing percentage not covered by the given model is 0.84%.\n",
      "Found 5 word(s) missing in the model. Weighted missing percentage not covered by the given model is 2.26%.\n",
      "Found 6 word(s) missing in the model. Weighted missing percentage not covered by the given model is 2.35%.\n",
      "Found 1 word(s) missing in the model. Weighted missing percentage not covered by the given model is 0.72%.\n",
      "Found 6 word(s) missing in the model. Weighted missing percentage not covered by the given model is 0.41%.\n",
      "Found 9 word(s) missing in the model. Weighted missing percentage not covered by the given model is 1.22%.\n",
      "Found 19 word(s) missing in the model. Weighted missing percentage not covered by the given model is 1.82%.\n",
      "Found 8 word(s) missing in the model. Weighted missing percentage not covered by the given model is 0.90%.\n",
      "Found 1 word(s) missing in the model. Weighted missing percentage not covered by the given model is 0.02%.\n",
      "Found 3 word(s) missing in the model. Weighted missing percentage not covered by the given model is 0.11%.\n",
      "Found 4 word(s) missing in the model. Weighted missing percentage not covered by the given model is 0.17%.\n",
      "Found 4 word(s) missing in the model. Weighted missing percentage not covered by the given model is 0.14%.\n",
      "Found 1 word(s) missing in the model. Weighted missing percentage not covered by the given model is 0.09%.\n",
      "Found 2 word(s) missing in the model. Weighted missing percentage not covered by the given model is 0.26%.\n",
      "Found 3 word(s) missing in the model. Weighted missing percentage not covered by the given model is 0.27%.\n",
      "Found 2 word(s) missing in the model. Weighted missing percentage not covered by the given model is 0.16%.\n",
      "Found 1 word(s) missing in the model. Weighted missing percentage not covered by the given model is 0.15%.\n",
      "Found 2 word(s) missing in the model. Weighted missing percentage not covered by the given model is 0.32%.\n",
      "Found 3 word(s) missing in the model. Weighted missing percentage not covered by the given model is 0.37%.\n",
      "Found 2 word(s) missing in the model. Weighted missing percentage not covered by the given model is 0.14%.\n",
      "Found 2 word(s) missing in the model. Weighted missing percentage not covered by the given model is 0.26%.\n",
      "Found 3 word(s) missing in the model. "
     ]
    },
    {
     "name": "stderr",
     "output_type": "stream",
     "text": [
      "\r",
      "Calculating vectors of reference spectrums:  72%|███████████████████████▋         | 2588/3601 [00:09<00:02, 387.39it/s]"
     ]
    },
    {
     "name": "stdout",
     "output_type": "stream",
     "text": [
      "Weighted missing percentage not covered by the given model is 0.36%.\n",
      "Found 1 word(s) missing in the model. Weighted missing percentage not covered by the given model is 0.56%.\n",
      "Found 1 word(s) missing in the model. Weighted missing percentage not covered by the given model is 0.14%.\n",
      "Found 2 word(s) missing in the model. Weighted missing percentage not covered by the given model is 0.71%.\n",
      "Found 1 word(s) missing in the model. Weighted missing percentage not covered by the given model is 0.13%.\n",
      "Found 2 word(s) missing in the model. Weighted missing percentage not covered by the given model is 0.21%.\n",
      "Found 1 word(s) missing in the model. Weighted missing percentage not covered by the given model is 0.03%.\n",
      "Found 1 word(s) missing in the model. Weighted missing percentage not covered by the given model is 0.07%.\n",
      "Found 1 word(s) missing in the model. Weighted missing percentage not covered by the given model is 0.07%.\n",
      "Found 1 word(s) missing in the model. Weighted missing percentage not covered by the given model is 0.03%.\n",
      "Found 2 word(s) missing in the model. Weighted missing percentage not covered by the given model is 0.06%.\n",
      "Found 1 word(s) missing in the model. Weighted missing percentage not covered by the given model is 0.03%.\n",
      "Found 4 word(s) missing in the model. Weighted missing percentage not covered by the given model is 0.20%.\n",
      "Found 1 word(s) missing in the model. Weighted missing percentage not covered by the given model is 0.19%.\n",
      "Found 1 word(s) missing in the model. Weighted missing percentage not covered by the given model is 0.18%.\n",
      "Found 1 word(s) missing in the model. Weighted missing percentage not covered by the given model is 0.10%.\n",
      "Found 1 word(s) missing in the model. Weighted missing percentage not covered by the given model is 0.20%.\n"
     ]
    },
    {
     "name": "stderr",
     "output_type": "stream",
     "text": [
      "\r",
      "Calculating vectors of reference spectrums:  74%|████████████████████████▎        | 2653/3601 [00:10<00:03, 249.62it/s]"
     ]
    },
    {
     "name": "stdout",
     "output_type": "stream",
     "text": [
      "Found 1 word(s) missing in the model. Weighted missing percentage not covered by the given model is 0.04%.\n",
      "Found 1 word(s) missing in the model. Weighted missing percentage not covered by the given model is 0.10%.\n",
      "Found 1 word(s) missing in the model. Weighted missing percentage not covered by the given model is 0.09%.\n",
      "Found 1 word(s) missing in the model. Weighted missing percentage not covered by the given model is 0.05%.\n",
      "Found 1 word(s) missing in the model. Weighted missing percentage not covered by the given model is 0.21%.\n",
      "Found 1 word(s) missing in the model. Weighted missing percentage not covered by the given model is 0.29%.\n",
      "Found 2 word(s) missing in the model. Weighted missing percentage not covered by the given model is 0.19%.\n",
      "Found 1 word(s) missing in the model. Weighted missing percentage not covered by the given model is 0.12%.\n",
      "Found 2 word(s) missing in the model. Weighted missing percentage not covered by the given model is 0.27%.\n",
      "Found 4 word(s) missing in the model. Weighted missing percentage not covered by the given model is 0.38%.\n",
      "Found 2 word(s) missing in the model. Weighted missing percentage not covered by the given model is 0.08%.\n"
     ]
    },
    {
     "name": "stderr",
     "output_type": "stream",
     "text": [
      "\r",
      "Calculating vectors of reference spectrums:  75%|████████████████████████▊        | 2702/3601 [00:10<00:03, 224.91it/s]"
     ]
    },
    {
     "name": "stdout",
     "output_type": "stream",
     "text": [
      "Found 1 word(s) missing in the model. Weighted missing percentage not covered by the given model is 0.03%.\n",
      "Found 4 word(s) missing in the model. Weighted missing percentage not covered by the given model is 0.24%.\n",
      "Found 1 word(s) missing in the model. Weighted missing percentage not covered by the given model is 0.25%.\n",
      "Found 1 word(s) missing in the model. Weighted missing percentage not covered by the given model is 0.17%.\n",
      "Found 1 word(s) missing in the model. Weighted missing percentage not covered by the given model is 0.33%.\n",
      "Found 1 word(s) missing in the model. Weighted missing percentage not covered by the given model is 0.41%.\n",
      "Found 1 word(s) missing in the model. Weighted missing percentage not covered by the given model is 0.05%.\n",
      "Found 4 word(s) missing in the model. Weighted missing percentage not covered by the given model is 0.38%.\n",
      "Found 2 word(s) missing in the model. Weighted missing percentage not covered by the given model is 0.15%.\n",
      "Found 1 word(s) missing in the model. Weighted missing percentage not covered by the given model is 0.04%.\n",
      "Found 2 word(s) missing in the model. Weighted missing percentage not covered by the given model is 0.22%.\n",
      "Found 5 word(s) missing in the model. Weighted missing percentage not covered by the given model is 0.53%.\n"
     ]
    },
    {
     "name": "stderr",
     "output_type": "stream",
     "text": [
      "\r",
      "Calculating vectors of reference spectrums:  76%|█████████████████████████▏       | 2742/3601 [00:10<00:04, 213.68it/s]"
     ]
    },
    {
     "name": "stdout",
     "output_type": "stream",
     "text": [
      "Found 1 word(s) missing in the model. Weighted missing percentage not covered by the given model is 0.05%.\n",
      "Found 1 word(s) missing in the model. Weighted missing percentage not covered by the given model is 0.22%.\n",
      "Found 1 word(s) missing in the model. Weighted missing percentage not covered by the given model is 0.09%.\n",
      "Found 3 word(s) missing in the model. Weighted missing percentage not covered by the given model is 0.61%.\n",
      "Found 1 word(s) missing in the model. Weighted missing percentage not covered by the given model is 0.07%.\n",
      "Found 1 word(s) missing in the model. Weighted missing percentage not covered by the given model is 0.20%.\n"
     ]
    },
    {
     "name": "stderr",
     "output_type": "stream",
     "text": [
      "\r",
      "Calculating vectors of reference spectrums:  77%|█████████████████████████▍       | 2775/3601 [00:10<00:04, 205.87it/s]"
     ]
    },
    {
     "name": "stdout",
     "output_type": "stream",
     "text": [
      "Found 1 word(s) missing in the model. Weighted missing percentage not covered by the given model is 0.16%.\n",
      "Found 1 word(s) missing in the model. Weighted missing percentage not covered by the given model is 0.20%.\n",
      "Found 1 word(s) missing in the model. Weighted missing percentage not covered by the given model is 0.03%.\n",
      "Found 1 word(s) missing in the model. Weighted missing percentage not covered by the given model is 0.04%.\n",
      "Found 1 word(s) missing in the model. Weighted missing percentage not covered by the given model is 0.08%.\n",
      "Found 2 word(s) missing in the model. Weighted missing percentage not covered by the given model is 0.08%.\n",
      "Found 2 word(s) missing in the model. Weighted missing percentage not covered by the given model is 0.10%.\n",
      "Found 1 word(s) missing in the model. Weighted missing percentage not covered by the given model is 0.08%.\n",
      "Found 1 word(s) missing in the model. Weighted missing percentage not covered by the given model is 0.08%.\n",
      "Found 1 word(s) missing in the model. Weighted missing percentage not covered by the given model is 0.27%.\n",
      "Found 2 word(s) missing in the model. Weighted missing percentage not covered by the given model is 0.30%.\n",
      "Found 1 word(s) missing in the model. Weighted missing percentage not covered by the given model is 0.10%.\n",
      "Found 1 word(s) missing in the model. Weighted missing percentage not covered by the given model is 0.18%.\n",
      "Found 4 word(s) missing in the model. Weighted missing percentage not covered by the given model is 0.38%.\n",
      "Found 1 word(s) missing in the model. Weighted missing percentage not covered by the given model is 0.05%.\n",
      "Found 1 word(s) missing in the model. Weighted missing percentage not covered by the given model is 0.14%.\n",
      "Found 1 word(s) missing in the model. Weighted missing percentage not covered by the given model is 0.07%.\n",
      "Found 2 word(s) missing in the model. Weighted missing percentage not covered by the given model is 0.21%.\n",
      "Found 2 word(s) missing in the model. Weighted missing percentage not covered by the given model is 0.11%.\n"
     ]
    },
    {
     "name": "stderr",
     "output_type": "stream",
     "text": [
      "Calculating vectors of reference spectrums:  79%|█████████████████████████▉       | 2827/3601 [00:11<00:04, 169.04it/s]"
     ]
    },
    {
     "name": "stdout",
     "output_type": "stream",
     "text": [
      "Found 2 word(s) missing in the model. Weighted missing percentage not covered by the given model is 0.39%.\n",
      "Found 6 word(s) missing in the model. Weighted missing percentage not covered by the given model is 0.89%.\n",
      "Found 1 word(s) missing in the model. Weighted missing percentage not covered by the given model is 0.18%.\n",
      "Found 1 word(s) missing in the model. Weighted missing percentage not covered by the given model is 0.34%.\n",
      "Found 1 word(s) missing in the model. Weighted missing percentage not covered by the given model is 0.05%.\n",
      "Found 2 word(s) missing in the model. Weighted missing percentage not covered by the given model is 0.22%.\n",
      "Found 1 word(s) missing in the model. Weighted missing percentage not covered by the given model is 0.13%.\n",
      "Found 1 word(s) missing in the model. Weighted missing percentage not covered by the given model is 0.03%.\n"
     ]
    },
    {
     "name": "stderr",
     "output_type": "stream",
     "text": [
      "\r",
      "Calculating vectors of reference spectrums:  79%|██████████████████████████       | 2848/3601 [00:11<00:04, 158.34it/s]"
     ]
    },
    {
     "name": "stdout",
     "output_type": "stream",
     "text": [
      "Found 1 word(s) missing in the model. Weighted missing percentage not covered by the given model is 0.04%.\n",
      "Found 1 word(s) missing in the model. Weighted missing percentage not covered by the given model is 0.06%.\n",
      "Found 2 word(s) missing in the model. Weighted missing percentage not covered by the given model is 0.20%.\n",
      "Found 1 word(s) missing in the model. Weighted missing percentage not covered by the given model is 0.22%.\n",
      "Found 5 word(s) missing in the model. Weighted missing percentage not covered by the given model is 0.18%.\n",
      "Found 11 word(s) missing in the model. Weighted missing percentage not covered by the given model is 0.33%.\n",
      "Found 4 word(s) missing in the model."
     ]
    },
    {
     "name": "stderr",
     "output_type": "stream",
     "text": [
      "\r",
      "Calculating vectors of reference spectrums:  80%|██████████████████████████▎      | 2867/3601 [00:11<00:05, 126.96it/s]"
     ]
    },
    {
     "name": "stdout",
     "output_type": "stream",
     "text": [
      " Weighted missing percentage not covered by the given model is 0.18%.\n",
      "Found 3 word(s) missing in the model. Weighted missing percentage not covered by the given model is 0.13%.\n",
      "Found 1 word(s) missing in the model. Weighted missing percentage not covered by the given model is 0.01%.\n",
      "Found 1 word(s) missing in the model. Weighted missing percentage not covered by the given model is 0.06%.\n",
      "Found 3 word(s) missing in the model. Weighted missing percentage not covered by the given model is 0.21%.\n",
      "Found 4 word(s) missing in the model. Weighted missing percentage not covered by the given model is 0.22%.\n",
      "Found 4 word(s) missing in the model. Weighted missing percentage not covered by the given model is 0.20%.\n",
      "Found 1 word(s) missing in the model. Weighted missing percentage not covered by the given model is 0.22%.\n",
      "Found 32 word(s) missing in the model. Weighted missing percentage not covered by the given model is 4.49%.\n",
      "Found 6 word(s) missing in the model. Weighted missing percentage not covered by the given model is 0.35%.\n",
      "Found 23 word(s) missing in the model. Weighted missing percentage not covered by the given model is 1.54%.\n",
      "Found 29 word(s) missing in the model. Weighted missing percentage not covered by the given model is 2.54%.\n"
     ]
    },
    {
     "name": "stderr",
     "output_type": "stream",
     "text": [
      "\r",
      "Calculating vectors of reference spectrums:  80%|██████████████████████████▍      | 2882/3601 [00:11<00:06, 117.15it/s]"
     ]
    },
    {
     "name": "stdout",
     "output_type": "stream",
     "text": [
      "Found 1 word(s) missing in the model. Weighted missing percentage not covered by the given model is 0.57%.\n",
      "Found 1 word(s) missing in the model. Weighted missing percentage not covered by the given model is 0.79%.\n",
      "Found 2 word(s) missing in the model. Weighted missing percentage not covered by the given model is 1.10%.\n",
      "Found 1 word(s) missing in the model. Weighted missing percentage not covered by the given model is 0.03%.\n",
      "Found 2 word(s) missing in the model. Weighted missing percentage not covered by the given model is 0.09%.\n",
      "Found 2 word(s) missing in the model. Weighted missing percentage not covered by the given model is 0.07%.\n",
      "Found 2 word(s) missing in the model. Weighted missing percentage not covered by the given model is 0.11%.\n",
      "Found 1 word(s) missing in the model. Weighted missing percentage not covered by the given model is 0.02%.\n",
      "Found 1 word(s) missing in the model. Weighted missing percentage not covered by the given model is 0.03%.\n",
      "Found 1 word(s) missing in the model. Weighted missing percentage not covered by the given model is 0.02%.\n",
      "Found 6 word(s) missing in the model. Weighted missing percentage not covered by the given model is 0.51%.\n",
      "Found 1 word(s) missing in the model. Weighted missing percentage not covered by the given model is 0.08%.\n",
      "Found 2 word(s) missing in the model. Weighted missing percentage not covered by the given model is 0.16%.\n",
      "Found 1 word(s) missing in the model. Weighted missing percentage not covered by the given model is 0.10%.\n",
      "Found 3 word(s) missing in the model. Weighted missing percentage not covered by the given model is 0.27%.\n",
      "Found 5 word(s) missing in the model. Weighted missing percentage not covered by the given model is 0.46%.\n",
      "Found 2 word(s) missing in the model. Weighted missing percentage not covered by the given model is 0.21%.\n"
     ]
    },
    {
     "name": "stderr",
     "output_type": "stream",
     "text": [
      "Calculating vectors of reference spectrums:  81%|███████████████████████████▍      | 2907/3601 [00:12<00:07, 87.27it/s]"
     ]
    },
    {
     "name": "stdout",
     "output_type": "stream",
     "text": [
      "Found 4 word(s) missing in the model. Weighted missing percentage not covered by the given model is 0.49%.\n",
      "Found 2 word(s) missing in the model. Weighted missing percentage not covered by the given model is 0.23%.\n",
      "Found 5 word(s) missing in the model. Weighted missing percentage not covered by the given model is 0.45%.\n",
      "Found 4 word(s) missing in the model. Weighted missing percentage not covered by the given model is 0.36%.\n",
      "Found 1 word(s) missing in the model. Weighted missing percentage not covered by the given model is 0.10%.\n",
      "Found 5 word(s) missing in the model. Weighted missing percentage not covered by the given model is 0.54%.\n",
      "Found 4 word(s) missing in the model. Weighted missing percentage not covered by the given model is 0.40%.\n",
      "Found 6 word(s) missing in the model. Weighted missing percentage not covered by the given model is 0.60%.\n",
      "Found 9 word(s) missing in the model. Weighted missing percentage not covered by the given model is 0.92%.\n",
      "Found 15 word(s) missing in the model. Weighted missing percentage not covered by the given model is 1.19%.\n",
      "Found 1 word(s) missing in the model. Weighted missing percentage not covered by the given model is 0.20%.\n"
     ]
    },
    {
     "name": "stderr",
     "output_type": "stream",
     "text": [
      "\r",
      "Calculating vectors of reference spectrums:  81%|███████████████████████████▌      | 2919/3601 [00:12<00:07, 89.03it/s]"
     ]
    },
    {
     "name": "stdout",
     "output_type": "stream",
     "text": [
      "Found 1 word(s) missing in the model. Weighted missing percentage not covered by the given model is 0.18%.\n",
      "Found 1 word(s) missing in the model. Weighted missing percentage not covered by the given model is 0.16%.\n",
      "Found 2 word(s) missing in the model. Weighted missing percentage not covered by the given model is 0.02%.\n",
      "Found 1 word(s) missing in the model. Weighted missing percentage not covered by the given model is 0.05%.\n"
     ]
    },
    {
     "name": "stderr",
     "output_type": "stream",
     "text": [
      "Calculating vectors of reference spectrums:  82%|███████████████████████████▊      | 2940/3601 [00:12<00:07, 89.94it/s]"
     ]
    },
    {
     "name": "stdout",
     "output_type": "stream",
     "text": [
      "Found 1 word(s) missing in the model. Weighted missing percentage not covered by the given model is 0.06%.\n",
      "Found 1 word(s) missing in the model. Weighted missing percentage not covered by the given model is 0.04%.\n",
      "Found 1 word(s) missing in the model. Weighted missing percentage not covered by the given model is 0.03%.\n",
      "Found 1 word(s) missing in the model. Weighted missing percentage not covered by the given model is 0.20%.\n",
      "Found 1 word(s) missing in the model. Weighted missing percentage not covered by the given model is 0.23%.\n",
      "Found 4 word(s) missing in the model. Weighted missing percentage not covered by the given model is 0.49%.\n"
     ]
    },
    {
     "name": "stderr",
     "output_type": "stream",
     "text": [
      "Calculating vectors of reference spectrums:  83%|███████████████████████████▏     | 2973/3601 [00:12<00:05, 118.31it/s]"
     ]
    },
    {
     "name": "stdout",
     "output_type": "stream",
     "text": [
      "Found 2 word(s) missing in the model. Weighted missing percentage not covered by the given model is 0.06%.\n",
      "Found 3 word(s) missing in the model. Weighted missing percentage not covered by the given model is 0.57%.\n",
      "Found 1 word(s) missing in the model. Weighted missing percentage not covered by the given model is 0.07%.\n",
      "Found 3 word(s) missing in the model. Weighted missing percentage not covered by the given model is 0.17%.\n",
      "Found 1 word(s) missing in the model. Weighted missing percentage not covered by the given model is 0.16%.\n",
      "Found 1 word(s) missing in the model. Weighted missing percentage not covered by the given model is 0.08%.\n",
      "Found 7 word(s) missing in the model. Weighted missing percentage not covered by the given model is 0.37%.\n",
      "Found 1 word(s) missing in the model. Weighted missing percentage not covered by the given model is 0.07%.\n",
      "Found 1 word(s) missing in the model. Weighted missing percentage not covered by the given model is 0.29%.\n"
     ]
    },
    {
     "name": "stderr",
     "output_type": "stream",
     "text": [
      "Calculating vectors of reference spectrums:  83%|███████████████████████████▌     | 3002/3601 [00:13<00:04, 126.80it/s]"
     ]
    },
    {
     "name": "stdout",
     "output_type": "stream",
     "text": [
      "Found 1 word(s) missing in the model. Weighted missing percentage not covered by the given model is 0.29%.\n",
      "Found 5 word(s) missing in the model. Weighted missing percentage not covered by the given model is 0.43%.\n",
      "Found 2 word(s) missing in the model. Weighted missing percentage not covered by the given model is 0.14%.\n",
      "Found 1 word(s) missing in the model. Weighted missing percentage not covered by the given model is 0.09%.\n",
      "Found 7 word(s) missing in the model. Weighted missing percentage not covered by the given model is 0.92%.\n",
      "Found 2 word(s) missing in the model. Weighted missing percentage not covered by the given model is 0.36%.\n",
      "Found 1 word(s) missing in the model. Weighted missing percentage not covered by the given model is 0.13%.\n",
      "Found 3 word(s) missing in the model. Weighted missing percentage not covered by the given model is 0.74%.\n",
      "Found 1 word(s) missing in the model. Weighted missing percentage not covered by the given model is 0.24%.\n",
      "Found 1 word(s) missing in the model. Weighted missing percentage not covered by the given model is 0.27%.\n",
      "Found 1 word(s) missing in the model. Weighted missing percentage not covered by the given model is 0.17%.\n",
      "Found 3 word(s) missing in the model. Weighted missing percentage not covered by the given model is 0.54%.\n",
      "Found 1 word(s) missing in the model. Weighted missing percentage not covered by the given model is 0.08%.\n",
      "Found 1 word(s) missing in the model. Weighted missing percentage not covered by the given model is 0.06%.\n",
      "Found 2 word(s) missing in the model. Weighted missing percentage not covered by the given model is 0.49%.\n",
      "Found 7 word(s) missing in the model. Weighted missing percentage not covered by the given model is 0.34%.\n"
     ]
    },
    {
     "name": "stderr",
     "output_type": "stream",
     "text": [
      "\r",
      "Calculating vectors of reference spectrums:  84%|███████████████████████████▋     | 3025/3601 [00:13<00:03, 145.76it/s]"
     ]
    },
    {
     "name": "stdout",
     "output_type": "stream",
     "text": [
      "Found 6 word(s) missing in the model. Weighted missing percentage not covered by the given model is 0.43%.\n",
      "Found 6 word(s) missing in the model. Weighted missing percentage not covered by the given model is 1.14%.\n",
      "Found 2 word(s) missing in the model. Weighted missing percentage not covered by the given model is 0.24%.\n",
      "Found 9 word(s) missing in the model. Weighted missing percentage not covered by the given model is 0.73%.\n",
      "Found 5 word(s) missing in the model. Weighted missing percentage not covered by the given model is 0.32%.\n",
      "Found 4 word(s) missing in the model. Weighted missing percentage not covered by the given model is 0.25%.\n",
      "Found 4 word(s) missing in the model. Weighted missing percentage not covered by the given model is 0.08%.\n",
      "Found 1 word(s) missing in the model. Weighted missing percentage not covered by the given model is 0.03%.\n",
      "Found 1 word(s) missing in the model. Weighted missing percentage not covered by the given model is 0.03%.\n"
     ]
    },
    {
     "name": "stderr",
     "output_type": "stream",
     "text": [
      "\r",
      "Calculating vectors of reference spectrums:  84%|████████████████████████████▋     | 3040/3601 [00:13<00:05, 99.03it/s]"
     ]
    },
    {
     "name": "stdout",
     "output_type": "stream",
     "text": [
      "Found 1 word(s) missing in the model. Weighted missing percentage not covered by the given model is 0.03%.\n",
      "Found 5 word(s) missing in the model. Weighted missing percentage not covered by the given model is 0.71%.\n",
      "Found 3 word(s) missing in the model. Weighted missing percentage not covered by the given model is 0.62%.\n",
      "Found 2 word(s) missing in the model. Weighted missing percentage not covered by the given model is 0.43%.\n",
      "Found 2 word(s) missing in the model. Weighted missing percentage not covered by the given model is 0.62%.\n",
      "Found 4 word(s) missing in the model. Weighted missing percentage not covered by the given model is 0.68%.\n",
      "Found 1 word(s) missing in the model. Weighted missing percentage not covered by the given model is 0.06%.\n",
      "Found 2 word(s) missing in the model. Weighted missing percentage not covered by the given model is 0.44%.\n",
      "Found 5 word(s) missing in the model. Weighted missing percentage not covered by the given model is 0.94%.\n",
      "Found 2 word(s) missing in the model. Weighted missing percentage not covered by the given model is 0.73%.\n",
      "Found 3 word(s) missing in the model. Weighted missing percentage not covered by the given model is 0.43%.\n",
      "Found 4 word(s) missing in the model. Weighted missing percentage not covered by the given model is 0.40%.\n",
      "Found 3 word(s) missing in the model. Weighted missing percentage not covered by the given model is 0.09%.\n"
     ]
    },
    {
     "name": "stderr",
     "output_type": "stream",
     "text": [
      "\r",
      "Calculating vectors of reference spectrums:  85%|████████████████████████████▊     | 3053/3601 [00:13<00:06, 82.13it/s]"
     ]
    },
    {
     "name": "stdout",
     "output_type": "stream",
     "text": [
      "Found 3 word(s) missing in the model. Weighted missing percentage not covered by the given model is 0.05%.\n",
      "Found 3 word(s) missing in the model. Weighted missing percentage not covered by the given model is 0.31%.\n",
      "Found 11 word(s) missing in the model. Weighted missing percentage not covered by the given model is 1.15%.\n",
      "Found 2 word(s) missing in the model. Weighted missing percentage not covered by the given model is 0.07%.\n",
      "Found 4 word(s) missing in the model. Weighted missing percentage not covered by the given model is 0.10%.\n"
     ]
    },
    {
     "name": "stderr",
     "output_type": "stream",
     "text": [
      "\r",
      "Calculating vectors of reference spectrums:  85%|████████████████████████████▉     | 3064/3601 [00:13<00:07, 74.79it/s]"
     ]
    },
    {
     "name": "stdout",
     "output_type": "stream",
     "text": [
      "Found 1 word(s) missing in the model. Weighted missing percentage not covered by the given model is 0.02%.\n",
      "Found 2 word(s) missing in the model. Weighted missing percentage not covered by the given model is 0.09%.\n",
      "Found 1 word(s) missing in the model. Weighted missing percentage not covered by the given model is 0.04%.\n",
      "Found 1 word(s) missing in the model. Weighted missing percentage not covered by the given model is 0.03%.\n",
      "Found 1 word(s) missing in the model. Weighted missing percentage not covered by the given model is 0.06%.\n"
     ]
    },
    {
     "name": "stderr",
     "output_type": "stream",
     "text": [
      "Calculating vectors of reference spectrums:  86%|█████████████████████████████     | 3082/3601 [00:14<00:06, 75.16it/s]"
     ]
    },
    {
     "name": "stdout",
     "output_type": "stream",
     "text": [
      "Found 1 word(s) missing in the model. Weighted missing percentage not covered by the given model is 0.71%.\n",
      "Found 2 word(s) missing in the model. Weighted missing percentage not covered by the given model is 0.58%.\n",
      "Found 1 word(s) missing in the model. Weighted missing percentage not covered by the given model is 0.12%.\n",
      "Found 8 word(s) missing in the model. Weighted missing percentage not covered by the given model is 0.96%.\n",
      "Found 7 word(s) missing in the model. Weighted missing percentage not covered by the given model is 0.70%.\n",
      "Found 1 word(s) missing in the model. Weighted missing percentage not covered by the given model is 0.19%.\n",
      "Found 4 word(s) missing in the model. Weighted missing percentage not covered by the given model is 0.65%.\n",
      "Found 4 word(s) missing in the model. Weighted missing percentage not covered by the given model is 0.54%.\n",
      "Found 2 word(s) missing in the model. Weighted missing percentage not covered by the given model is 0.20%.\n",
      "Found 5 word(s) missing in the model. Weighted missing percentage not covered by the given model is 0.41%.\n",
      "Found 5 word(s) missing in the model. Weighted missing percentage not covered by the given model is 0.26%.\n",
      "Found 4 word(s) missing in the model. Weighted missing percentage not covered by the given model is 0.40%.\n"
     ]
    },
    {
     "name": "stderr",
     "output_type": "stream",
     "text": [
      "Calculating vectors of reference spectrums:  86%|█████████████████████████████▎    | 3107/3601 [00:14<00:05, 87.14it/s]"
     ]
    },
    {
     "name": "stdout",
     "output_type": "stream",
     "text": [
      "Found 4 word(s) missing in the model. Weighted missing percentage not covered by the given model is 0.27%.\n",
      "Found 1 word(s) missing in the model. Weighted missing percentage not covered by the given model is 0.08%.\n",
      "Found 2 word(s) missing in the model. Weighted missing percentage not covered by the given model is 0.32%.\n",
      "Found 2 word(s) missing in the model. Weighted missing percentage not covered by the given model is 0.65%.\n",
      "Found 2 word(s) missing in the model. Weighted missing percentage not covered by the given model is 0.50%.\n",
      "Found 1 word(s) missing in the model. Weighted missing percentage not covered by the given model is 0.13%.\n",
      "Found 3 word(s) missing in the model. Weighted missing percentage not covered by the given model is 0.29%.\n",
      "Found 1 word(s) missing in the model. Weighted missing percentage not covered by the given model is 0.10%.\n",
      "Found 1 word(s) missing in the model. Weighted missing percentage not covered by the given model is 0.02%.\n"
     ]
    },
    {
     "name": "stderr",
     "output_type": "stream",
     "text": [
      "\r",
      "Calculating vectors of reference spectrums:  87%|█████████████████████████████▍    | 3117/3601 [00:14<00:06, 77.05it/s]"
     ]
    },
    {
     "name": "stdout",
     "output_type": "stream",
     "text": [
      "Found 1 word(s) missing in the model. Weighted missing percentage not covered by the given model is 0.06%.\n",
      "Found 1 word(s) missing in the model. Weighted missing percentage not covered by the given model is 0.05%.\n",
      "Found 1 word(s) missing in the model. Weighted missing percentage not covered by the given model is 0.01%.\n",
      "Found 1 word(s) missing in the model. Weighted missing percentage not covered by the given model is 0.03%.\n",
      "Found 1 word(s) missing in the model. Weighted missing percentage not covered by the given model is 0.08%.\n",
      "Found 1 word(s) missing in the model. Weighted missing percentage not covered by the given model is 0.03%.\n",
      "Found 2 word(s) missing in the model. Weighted missing percentage not covered by the given model is 0.05%.\n",
      "Found 2 word(s) missing in the model. Weighted missing percentage not covered by the given model is 0.21%.\n",
      "Found 1 word(s) missing in the model. Weighted missing percentage not covered by the given model is 0.22%.\n",
      "Found 1 word(s) missing in the model. Weighted missing percentage not covered by the given model is 0.18%.\n"
     ]
    },
    {
     "name": "stderr",
     "output_type": "stream",
     "text": [
      "Calculating vectors of reference spectrums:  87%|█████████████████████████████▋    | 3141/3601 [00:14<00:05, 86.12it/s]"
     ]
    },
    {
     "name": "stdout",
     "output_type": "stream",
     "text": [
      "Found 2 word(s) missing in the model. Weighted missing percentage not covered by the given model is 0.10%.\n",
      "Found 4 word(s) missing in the model. Weighted missing percentage not covered by the given model is 0.14%.\n",
      "Found 1 word(s) missing in the model. Weighted missing percentage not covered by the given model is 0.07%.\n",
      "Found 1 word(s) missing in the model. Weighted missing percentage not covered by the given model is 0.09%.\n",
      "Found 1 word(s) missing in the model. Weighted missing percentage not covered by the given model is 0.07%.\n",
      "Found 1 word(s) missing in the model. Weighted missing percentage not covered by the given model is 0.04%.\n",
      "Found 1 word(s) missing in the model. Weighted missing percentage not covered by the given model is 0.03%.\n",
      "Found 1 word(s) missing in the model. Weighted missing percentage not covered by the given model is 0.05%.\n",
      "Found 2 word(s) missing in the model. Weighted missing percentage not covered by the given model is 0.59%.\n",
      "Found 2 word(s) missing in the model. Weighted missing percentage not covered by the given model is 0.44%.\n",
      "Found 1 word(s) missing in the model. Weighted missing percentage not covered by the given model is 0.28%.\n",
      "Found 4 word(s) missing in the model. Weighted missing percentage not covered by the given model is 0.76%.\n",
      "Found 1 word(s) missing in the model. Weighted missing percentage not covered by the given model is 0.09%.\n"
     ]
    },
    {
     "name": "stderr",
     "output_type": "stream",
     "text": [
      "Calculating vectors of reference spectrums:  88%|█████████████████████████████    | 3172/3601 [00:15<00:03, 112.09it/s]"
     ]
    },
    {
     "name": "stdout",
     "output_type": "stream",
     "text": [
      "Found 2 word(s) missing in the model. Weighted missing percentage not covered by the given model is 1.36%.\n",
      "Found 2 word(s) missing in the model. Weighted missing percentage not covered by the given model is 0.78%.\n",
      "Found 2 word(s) missing in the model. Weighted missing percentage not covered by the given model is 0.39%.\n",
      "Found 29 word(s) missing in the model. Weighted missing percentage not covered by the given model is 3.16%.\n",
      "Found 37 word(s) missing in the model. Weighted missing percentage not covered by the given model is 4.24%.\n",
      "Found 3 word(s) missing in the model. Weighted missing percentage not covered by the given model is 0.57%.\n",
      "Found 23 word(s) missing in the model. Weighted missing percentage not covered by the given model is 1.23%.\n",
      "Found 35 word(s) missing in the model. Weighted missing percentage not covered by the given model is 1.91%.\n",
      "Found 4 word(s) missing in the model. Weighted missing percentage not covered by the given model is 0.76%.\n",
      "Found 16 word(s) missing in the model. Weighted missing percentage not covered by the given model is 1.47%.\n",
      "Found 2 word(s) missing in the model. Weighted missing percentage not covered by the given model is 0.41%.\n",
      "Found 3 word(s) missing in the model. Weighted missing percentage not covered by the given model is 0.57%.\n",
      "Found 3 word(s) missing in the model. Weighted missing percentage not covered by the given model is 0.18%.\n",
      "Found 3 word(s) missing in the model. Weighted missing percentage not covered by the given model is 0.21%.\n"
     ]
    },
    {
     "name": "stderr",
     "output_type": "stream",
     "text": [
      "\r",
      "Calculating vectors of reference spectrums:  89%|█████████████████████████████▏   | 3189/3601 [00:15<00:03, 125.92it/s]"
     ]
    },
    {
     "name": "stdout",
     "output_type": "stream",
     "text": [
      "Found 2 word(s) missing in the model. Weighted missing percentage not covered by the given model is 0.36%.\n",
      "Found 2 word(s) missing in the model. Weighted missing percentage not covered by the given model is 0.28%.\n",
      "Found 1 word(s) missing in the model. Weighted missing percentage not covered by the given model is 0.07%.\n",
      "Found 3 word(s) missing in the model. Weighted missing percentage not covered by the given model is 0.14%.\n",
      "Found 2 word(s) missing in the model. Weighted missing percentage not covered by the given model is 0.32%.\n",
      "Found 1 word(s) missing in the model. Weighted missing percentage not covered by the given model is 0.28%.\n",
      "Found 1 word(s) missing in the model. Weighted missing percentage not covered by the given model is 0.18%.\n",
      "Found 2 word(s) missing in the model. Weighted missing percentage not covered by the given model is 0.34%.\n",
      "Found 10 word(s) missing in the model. Weighted missing percentage not covered by the given model is 1.15%.\n",
      "Found 9 word(s) missing in the model. Weighted missing percentage not covered by the given model is 0.87%.\n",
      "Found 3 word(s) missing in the model. Weighted missing percentage not covered by the given model is 0.14%.\n",
      "Found 2 word(s) missing in the model. Weighted missing percentage not covered by the given model is 0.08%.\n"
     ]
    },
    {
     "name": "stderr",
     "output_type": "stream",
     "text": [
      "\r",
      "Calculating vectors of reference spectrums:  89%|█████████████████████████████▎   | 3203/3601 [00:15<00:03, 110.66it/s]"
     ]
    },
    {
     "name": "stdout",
     "output_type": "stream",
     "text": [
      "Found 1 word(s) missing in the model. Weighted missing percentage not covered by the given model is 0.03%.\n",
      "Found 1 word(s) missing in the model. Weighted missing percentage not covered by the given model is 0.04%.\n",
      "Found 1 word(s) missing in the model. Weighted missing percentage not covered by the given model is 0.01%.\n"
     ]
    },
    {
     "name": "stderr",
     "output_type": "stream",
     "text": [
      "Calculating vectors of reference spectrums:  90%|██████████████████████████████▍   | 3226/3601 [00:15<00:03, 94.95it/s]"
     ]
    },
    {
     "name": "stdout",
     "output_type": "stream",
     "text": [
      "Found 5 word(s) missing in the model. Weighted missing percentage not covered by the given model is 0.79%.\n",
      "Found 3 word(s) missing in the model. Weighted missing percentage not covered by the given model is 0.49%.\n",
      "Found 5 word(s) missing in the model. Weighted missing percentage not covered by the given model is 0.21%.\n",
      "Found 9 word(s) missing in the model. Weighted missing percentage not covered by the given model is 0.56%.\n",
      "Found 5 word(s) missing in the model. Weighted missing percentage not covered by the given model is 0.37%.\n",
      "Found 2 word(s) missing in the model. Weighted missing percentage not covered by the given model is 0.12%.\n",
      "Found 1 word(s) missing in the model. Weighted missing percentage not covered by the given model is 0.06%.\n",
      "Found 2 word(s) missing in the model. Weighted missing percentage not covered by the given model is 0.14%.\n",
      "Found 1 word(s) missing in the model. Weighted missing percentage not covered by the given model is 0.06%.\n",
      "Found 1 word(s) missing in the model. Weighted missing percentage not covered by the given model is 0.08%.\n",
      "Found 1 word(s) missing in the model. Weighted missing percentage not covered by the given model is 0.04%.\n"
     ]
    },
    {
     "name": "stderr",
     "output_type": "stream",
     "text": [
      "Calculating vectors of reference spectrums:  90%|██████████████████████████████▋   | 3249/3601 [00:15<00:04, 86.61it/s]"
     ]
    },
    {
     "name": "stdout",
     "output_type": "stream",
     "text": [
      "Found 1 word(s) missing in the model. Weighted missing percentage not covered by the given model is 0.05%.\n",
      "Found 1 word(s) missing in the model. Weighted missing percentage not covered by the given model is 1.45%.\n",
      "Found 13 word(s) missing in the model. Weighted missing percentage not covered by the given model is 2.48%.\n",
      "Found 10 word(s) missing in the model. Weighted missing percentage not covered by the given model is 1.83%.\n",
      "Found 1 word(s) missing in the model. Weighted missing percentage not covered by the given model is 0.26%.\n",
      "Found 1 word(s) missing in the model. Weighted missing percentage not covered by the given model is 0.18%.\n",
      "Found 2 word(s) missing in the model. Weighted missing percentage not covered by the given model is 0.79%.\n",
      "Found 2 word(s) missing in the model. Weighted missing percentage not covered by the given model is 0.43%.\n",
      "Found 2 word(s) missing in the model. Weighted missing percentage not covered by the given model is 0.31%.\n",
      "Found 1 word(s) missing in the model. Weighted missing percentage not covered by the given model is 0.39%.\n",
      "Found 3 word(s) missing in the model. Weighted missing percentage not covered by the given model is 0.80%.\n",
      "Found 1 word(s) missing in the model. Weighted missing percentage not covered by the given model is 0.25%.\n",
      "Found 6 word(s) missing in the model. Weighted missing percentage not covered by the given model is 2.90%.\n",
      "Found 4 word(s) missing in the model. Weighted missing percentage not covered by the given model is 2.77%.\n",
      "Found 3 word(s) missing in the model. Weighted missing percentage not covered by the given model is 3.14%.\n",
      "Found 1 word(s) missing in the model. Weighted missing percentage not covered by the given model is 0.21%.\n"
     ]
    },
    {
     "name": "stderr",
     "output_type": "stream",
     "text": [
      "Calculating vectors of reference spectrums:  91%|██████████████████████████████▏  | 3289/3601 [00:16<00:02, 117.76it/s]"
     ]
    },
    {
     "name": "stdout",
     "output_type": "stream",
     "text": [
      "Found 2 word(s) missing in the model. Weighted missing percentage not covered by the given model is 0.06%.\n",
      "Found 1 word(s) missing in the model. Weighted missing percentage not covered by the given model is 0.03%.\n",
      "Found 1 word(s) missing in the model. Weighted missing percentage not covered by the given model is 0.02%.\n",
      "Found 3 word(s) missing in the model. Weighted missing percentage not covered by the given model is 0.54%.\n",
      "Found 1 word(s) missing in the model. Weighted missing percentage not covered by the given model is 0.88%.\n",
      "Found 1 word(s) missing in the model. Weighted missing percentage not covered by the given model is 1.25%.\n",
      "Found 1 word(s) missing in the model. Weighted missing percentage not covered by the given model is 1.18%.\n",
      "Found 1 word(s) missing in the model. Weighted missing percentage not covered by the given model is 0.28%.\n",
      "Found 1 word(s) missing in the model. Weighted missing percentage not covered by the given model is 0.27%.\n",
      "Found 3 word(s) missing in the model. Weighted missing percentage not covered by the given model is 0.17%.\n"
     ]
    },
    {
     "name": "stderr",
     "output_type": "stream",
     "text": [
      "Calculating vectors of reference spectrums:  92%|██████████████████████████████▍  | 3322/3601 [00:16<00:02, 131.47it/s]"
     ]
    },
    {
     "name": "stdout",
     "output_type": "stream",
     "text": [
      "Found 6 word(s) missing in the model. Weighted missing percentage not covered by the given model is 0.85%.\n",
      "Found 5 word(s) missing in the model. Weighted missing percentage not covered by the given model is 0.51%.\n",
      "Found 3 word(s) missing in the model. Weighted missing percentage not covered by the given model is 0.19%.\n",
      "Found 9 word(s) missing in the model. Weighted missing percentage not covered by the given model is 0.83%.\n",
      "Found 5 word(s) missing in the model. Weighted missing percentage not covered by the given model is 0.39%.\n",
      "Found 1 word(s) missing in the model. Weighted missing percentage not covered by the given model is 0.09%.\n",
      "Found 3 word(s) missing in the model. Weighted missing percentage not covered by the given model is 1.43%.\n",
      "Found 3 word(s) missing in the model. Weighted missing percentage not covered by the given model is 1.84%.\n",
      "Found 3 word(s) missing in the model. Weighted missing percentage not covered by the given model is 1.55%.\n",
      "Found 1 word(s) missing in the model. Weighted missing percentage not covered by the given model is 0.09%.\n",
      "Found 4 word(s) missing in the model. Weighted missing percentage not covered by the given model is 0.98%.\n",
      "Found 4 word(s) missing in the model. Weighted missing percentage not covered by the given model is 1.06%.\n",
      "Found 3 word(s) missing in the model. Weighted missing percentage not covered by the given model is 0.63%.\n",
      "Found 59 word(s) missing in the model. Weighted missing percentage not covered by the given model is 4.32%.\n"
     ]
    },
    {
     "name": "stderr",
     "output_type": "stream",
     "text": [
      "\r",
      "Calculating vectors of reference spectrums:  93%|██████████████████████████████▌  | 3336/3601 [00:16<00:02, 125.58it/s]"
     ]
    },
    {
     "name": "stdout",
     "output_type": "stream",
     "text": [
      "Found 45 word(s) missing in the model. Weighted missing percentage not covered by the given model is 3.11%.\n",
      "Found 40 word(s) missing in the model. Weighted missing percentage not covered by the given model is 2.82%.\n",
      "Found 1 word(s) missing in the model. Weighted missing percentage not covered by the given model is 0.74%.\n",
      "Found 1 word(s) missing in the model. Weighted missing percentage not covered by the given model is 0.29%.\n",
      "Found 1 word(s) missing in the model. Weighted missing percentage not covered by the given model is 0.07%.\n",
      "Found 8 word(s) missing in the model. Weighted missing percentage not covered by the given model is 0.37%.\n",
      "Found 4 word(s) missing in the model. Weighted missing percentage not covered by the given model is 0.30%.\n",
      "Found 2 word(s) missing in the model. Weighted missing percentage not covered by the given model is 0.12%.\n",
      "Found 2 word(s) missing in the model. Weighted missing percentage not covered by the given model is 0.58%.\n",
      "Found 1 word(s) missing in the model. Weighted missing percentage not covered by the given model is 0.32%.\n",
      "Found 60 word(s) missing in the model. Weighted missing percentage not covered by the given model is 4.95%.\n",
      "Found 43 word(s) missing in the model. Weighted missing percentage not covered by the given model is 3.28%.\n",
      "Found 53 word(s) missing in the model. Weighted missing percentage not covered by the given model is 4.14%.\n"
     ]
    },
    {
     "name": "stderr",
     "output_type": "stream",
     "text": [
      "Calculating vectors of reference spectrums:  93%|██████████████████████████████▊  | 3366/3601 [00:16<00:01, 135.99it/s]"
     ]
    },
    {
     "name": "stdout",
     "output_type": "stream",
     "text": [
      "Found 5 word(s) missing in the model. Weighted missing percentage not covered by the given model is 1.73%.\n",
      "Found 45 word(s) missing in the model. Weighted missing percentage not covered by the given model is 3.40%.\n",
      "Found 48 word(s) missing in the model. Weighted missing percentage not covered by the given model is 3.53%.\n",
      "Found 2 word(s) missing in the model. Weighted missing percentage not covered by the given model is 0.60%.\n",
      "Found 2 word(s) missing in the model. Weighted missing percentage not covered by the given model is 0.89%.\n",
      "Found 5 word(s) missing in the model. Weighted missing percentage not covered by the given model is 3.22%.\n",
      "Found 3 word(s) missing in the model. Weighted missing percentage not covered by the given model is 3.00%.\n",
      "Found 4 word(s) missing in the model. Weighted missing percentage not covered by the given model is 1.40%.\n",
      "Found 1 word(s) missing in the model. Weighted missing percentage not covered by the given model is 0.31%.\n",
      "Found 1 word(s) missing in the model. Weighted missing percentage not covered by the given model is 0.20%.\n",
      "Found 1 word(s) missing in the model. Weighted missing percentage not covered by the given model is 0.10%.\n",
      "Found 1 word(s) missing in the model. Weighted missing percentage not covered by the given model is 0.09%.\n",
      "Found 2 word(s) missing in the model. Weighted missing percentage not covered by the given model is 0.24%.\n",
      "Found 2 word(s) missing in the model. Weighted missing percentage not covered by the given model is 0.44%.\n",
      "Found 2 word(s) missing in the model. Weighted missing percentage not covered by the given model is 0.63%.\n"
     ]
    },
    {
     "name": "stderr",
     "output_type": "stream",
     "text": [
      "Calculating vectors of reference spectrums:  95%|███████████████████████████████▎ | 3422/3601 [00:16<00:00, 197.76it/s]"
     ]
    },
    {
     "name": "stdout",
     "output_type": "stream",
     "text": [
      "Found 2 word(s) missing in the model. Weighted missing percentage not covered by the given model is 0.29%.\n",
      "Found 1 word(s) missing in the model. Weighted missing percentage not covered by the given model is 0.08%.\n",
      "Found 1 word(s) missing in the model. Weighted missing percentage not covered by the given model is 0.19%.\n",
      "Found 1 word(s) missing in the model. Weighted missing percentage not covered by the given model is 0.35%.\n",
      "Found 1 word(s) missing in the model. Weighted missing percentage not covered by the given model is 0.46%.\n",
      "Found 2 word(s) missing in the model. Weighted missing percentage not covered by the given model is 0.38%.\n",
      "Found 2 word(s) missing in the model. Weighted missing percentage not covered by the given model is 0.28%.\n",
      "Found 1 word(s) missing in the model. Weighted missing percentage not covered by the given model is 0.07%.\n",
      "Found 1 word(s) missing in the model. Weighted missing percentage not covered by the given model is 0.29%.\n",
      "Found 1 word(s) missing in the model. Weighted missing percentage not covered by the given model is 0.37%.\n",
      "Found 2 word(s) missing in the model. Weighted missing percentage not covered by the given model is 0.54%.\n",
      "Found 1 word(s) missing in the model. Weighted missing percentage not covered by the given model is 0.08%.\n",
      "Found 1 word(s) missing in the model. Weighted missing percentage not covered by the given model is 3.90%.\n",
      "Found 1 word(s) missing in the model. Weighted missing percentage not covered by the given model is 6.32%.\n",
      "Found 1 word(s) missing in the model. Weighted missing percentage not covered by the given model is 11.17%.\n",
      "Found 1 word(s) missing in the model. Weighted missing percentage not covered by the given model is 16.70%.\n",
      "Found 1 word(s) missing in the model. Weighted missing percentage not covered by the given model is 9.88%.\n",
      "Found 5 word(s) missing in the model. Weighted missing percentage not covered by the given model is 2.02%.\n",
      "Found 1 word(s) missing in the model. Weighted missing percentage not covered by the given model is 1.66%.\n"
     ]
    },
    {
     "name": "stderr",
     "output_type": "stream",
     "text": [
      "Calculating vectors of reference spectrums: 100%|█████████████████████████████████| 3601/3601 [00:17<00:00, 211.21it/s]\n"
     ]
    },
    {
     "name": "stdout",
     "output_type": "stream",
     "text": [
      "Found 2 word(s) missing in the model. Weighted missing percentage not covered by the given model is 1.89%.\n",
      "Found 3 word(s) missing in the model. Weighted missing percentage not covered by the given model is 3.21%.\n",
      "Found 5 word(s) missing in the model. Weighted missing percentage not covered by the given model is 1.87%.\n",
      "Found 1 word(s) missing in the model. Weighted missing percentage not covered by the given model is 1.86%.\n",
      "Found 22 word(s) missing in the model. Weighted missing percentage not covered by the given model is 2.10%.\n"
     ]
    }
   ],
   "source": [
    "from matchms import calculate_scores\n",
    "from spec2vec import Spec2Vec\n",
    "\n",
    "spec2vec_similarity = Spec2Vec(model=model, intensity_weighting_power=0.5,\n",
    "                               allowed_missing_percentage=50.0, progress_bar=True)\n",
    "\n",
    "scores = calculate_scores(spectrums_test, spectrums_test, spec2vec_similarity, is_symmetric=True)"
   ]
  },
  {
   "cell_type": "code",
   "execution_count": 8,
   "id": "blank-integer",
   "metadata": {},
   "outputs": [
    {
     "data": {
      "text/plain": [
       "(3601, 3601)"
      ]
     },
     "execution_count": 8,
     "metadata": {},
     "output_type": "execute_result"
    }
   ],
   "source": [
    "scores.scores.shape"
   ]
  },
  {
   "cell_type": "markdown",
   "id": "hispanic-technician",
   "metadata": {},
   "source": [
    "## Get reference scores"
   ]
  },
  {
   "cell_type": "code",
   "execution_count": 9,
   "id": "golden-links",
   "metadata": {},
   "outputs": [
    {
     "data": {
      "text/html": [
       "<div>\n",
       "<style scoped>\n",
       "    .dataframe tbody tr th:only-of-type {\n",
       "        vertical-align: middle;\n",
       "    }\n",
       "\n",
       "    .dataframe tbody tr th {\n",
       "        vertical-align: top;\n",
       "    }\n",
       "\n",
       "    .dataframe thead th {\n",
       "        text-align: right;\n",
       "    }\n",
       "</style>\n",
       "<table border=\"1\" class=\"dataframe\">\n",
       "  <thead>\n",
       "    <tr style=\"text-align: right;\">\n",
       "      <th></th>\n",
       "      <th>TXZUPPVCNIMVHW</th>\n",
       "      <th>DGYASNDHNSXGSL</th>\n",
       "      <th>JWYUFVNJZUSCSM</th>\n",
       "      <th>ZQXBVPNSSGEUCM</th>\n",
       "      <th>WIOKWEJDRXNVSH</th>\n",
       "      <th>NJMQSVWMCODQIP</th>\n",
       "      <th>VBFKEZGCUWHGSK</th>\n",
       "      <th>KJAYXCCGPDNITQ</th>\n",
       "      <th>NTAHMPNXQOYXSX</th>\n",
       "      <th>YALMHTJLWDGANA</th>\n",
       "      <th>...</th>\n",
       "      <th>DCPZWPYLSMMJKM</th>\n",
       "      <th>BFZHCUBIASXHPK</th>\n",
       "      <th>IYUIDAWSRJAFII</th>\n",
       "      <th>YMGXBGVMAOTRFZ</th>\n",
       "      <th>ZOVBJSDLILDXCH</th>\n",
       "      <th>ZBAVIUQLFUYWMT</th>\n",
       "      <th>LBZHBTVSBILXAE</th>\n",
       "      <th>FQXXSQDCDRQNQE</th>\n",
       "      <th>PKKTXAMCHLIVDS</th>\n",
       "      <th>HDDNZVWBRRAOGK</th>\n",
       "    </tr>\n",
       "  </thead>\n",
       "  <tbody>\n",
       "    <tr>\n",
       "      <th>TXZUPPVCNIMVHW</th>\n",
       "      <td>1.000000</td>\n",
       "      <td>0.351169</td>\n",
       "      <td>0.097595</td>\n",
       "      <td>0.454490</td>\n",
       "      <td>0.232465</td>\n",
       "      <td>0.350913</td>\n",
       "      <td>0.220788</td>\n",
       "      <td>0.369819</td>\n",
       "      <td>0.553414</td>\n",
       "      <td>0.488411</td>\n",
       "      <td>...</td>\n",
       "      <td>0.245836</td>\n",
       "      <td>0.197547</td>\n",
       "      <td>0.319240</td>\n",
       "      <td>0.170619</td>\n",
       "      <td>0.419412</td>\n",
       "      <td>0.111339</td>\n",
       "      <td>0.502242</td>\n",
       "      <td>0.609171</td>\n",
       "      <td>0.456767</td>\n",
       "      <td>0.364198</td>\n",
       "    </tr>\n",
       "    <tr>\n",
       "      <th>DGYASNDHNSXGSL</th>\n",
       "      <td>0.351169</td>\n",
       "      <td>1.000000</td>\n",
       "      <td>0.095344</td>\n",
       "      <td>0.311426</td>\n",
       "      <td>0.266393</td>\n",
       "      <td>0.306679</td>\n",
       "      <td>0.187037</td>\n",
       "      <td>0.241550</td>\n",
       "      <td>0.352905</td>\n",
       "      <td>0.346228</td>\n",
       "      <td>...</td>\n",
       "      <td>0.239921</td>\n",
       "      <td>0.196926</td>\n",
       "      <td>0.248181</td>\n",
       "      <td>0.224319</td>\n",
       "      <td>0.328424</td>\n",
       "      <td>0.134894</td>\n",
       "      <td>0.371523</td>\n",
       "      <td>0.395833</td>\n",
       "      <td>0.325097</td>\n",
       "      <td>0.267617</td>\n",
       "    </tr>\n",
       "    <tr>\n",
       "      <th>JWYUFVNJZUSCSM</th>\n",
       "      <td>0.097595</td>\n",
       "      <td>0.095344</td>\n",
       "      <td>1.000000</td>\n",
       "      <td>0.087488</td>\n",
       "      <td>0.096552</td>\n",
       "      <td>0.089779</td>\n",
       "      <td>0.075710</td>\n",
       "      <td>0.078571</td>\n",
       "      <td>0.101093</td>\n",
       "      <td>0.111277</td>\n",
       "      <td>...</td>\n",
       "      <td>0.087171</td>\n",
       "      <td>0.076667</td>\n",
       "      <td>0.090069</td>\n",
       "      <td>0.086042</td>\n",
       "      <td>0.097539</td>\n",
       "      <td>0.082902</td>\n",
       "      <td>0.100224</td>\n",
       "      <td>0.097547</td>\n",
       "      <td>0.091977</td>\n",
       "      <td>0.091603</td>\n",
       "    </tr>\n",
       "    <tr>\n",
       "      <th>ZQXBVPNSSGEUCM</th>\n",
       "      <td>0.454490</td>\n",
       "      <td>0.311426</td>\n",
       "      <td>0.087488</td>\n",
       "      <td>1.000000</td>\n",
       "      <td>0.158416</td>\n",
       "      <td>0.403968</td>\n",
       "      <td>0.223629</td>\n",
       "      <td>0.428328</td>\n",
       "      <td>0.476427</td>\n",
       "      <td>0.356584</td>\n",
       "      <td>...</td>\n",
       "      <td>0.190833</td>\n",
       "      <td>0.303226</td>\n",
       "      <td>0.309870</td>\n",
       "      <td>0.151724</td>\n",
       "      <td>0.382889</td>\n",
       "      <td>0.200405</td>\n",
       "      <td>0.419784</td>\n",
       "      <td>0.455195</td>\n",
       "      <td>0.301105</td>\n",
       "      <td>0.505532</td>\n",
       "    </tr>\n",
       "    <tr>\n",
       "      <th>WIOKWEJDRXNVSH</th>\n",
       "      <td>0.232465</td>\n",
       "      <td>0.266393</td>\n",
       "      <td>0.096552</td>\n",
       "      <td>0.158416</td>\n",
       "      <td>1.000000</td>\n",
       "      <td>0.170429</td>\n",
       "      <td>0.115108</td>\n",
       "      <td>0.148259</td>\n",
       "      <td>0.213307</td>\n",
       "      <td>0.193948</td>\n",
       "      <td>...</td>\n",
       "      <td>0.235054</td>\n",
       "      <td>0.100985</td>\n",
       "      <td>0.156159</td>\n",
       "      <td>0.146067</td>\n",
       "      <td>0.189189</td>\n",
       "      <td>0.065600</td>\n",
       "      <td>0.208011</td>\n",
       "      <td>0.223117</td>\n",
       "      <td>0.272388</td>\n",
       "      <td>0.147978</td>\n",
       "    </tr>\n",
       "  </tbody>\n",
       "</table>\n",
       "<p>5 rows × 15062 columns</p>\n",
       "</div>"
      ],
      "text/plain": [
       "                TXZUPPVCNIMVHW  DGYASNDHNSXGSL  JWYUFVNJZUSCSM  \\\n",
       "TXZUPPVCNIMVHW        1.000000        0.351169        0.097595   \n",
       "DGYASNDHNSXGSL        0.351169        1.000000        0.095344   \n",
       "JWYUFVNJZUSCSM        0.097595        0.095344        1.000000   \n",
       "ZQXBVPNSSGEUCM        0.454490        0.311426        0.087488   \n",
       "WIOKWEJDRXNVSH        0.232465        0.266393        0.096552   \n",
       "\n",
       "                ZQXBVPNSSGEUCM  WIOKWEJDRXNVSH  NJMQSVWMCODQIP  \\\n",
       "TXZUPPVCNIMVHW        0.454490        0.232465        0.350913   \n",
       "DGYASNDHNSXGSL        0.311426        0.266393        0.306679   \n",
       "JWYUFVNJZUSCSM        0.087488        0.096552        0.089779   \n",
       "ZQXBVPNSSGEUCM        1.000000        0.158416        0.403968   \n",
       "WIOKWEJDRXNVSH        0.158416        1.000000        0.170429   \n",
       "\n",
       "                VBFKEZGCUWHGSK  KJAYXCCGPDNITQ  NTAHMPNXQOYXSX  \\\n",
       "TXZUPPVCNIMVHW        0.220788        0.369819        0.553414   \n",
       "DGYASNDHNSXGSL        0.187037        0.241550        0.352905   \n",
       "JWYUFVNJZUSCSM        0.075710        0.078571        0.101093   \n",
       "ZQXBVPNSSGEUCM        0.223629        0.428328        0.476427   \n",
       "WIOKWEJDRXNVSH        0.115108        0.148259        0.213307   \n",
       "\n",
       "                YALMHTJLWDGANA  ...  DCPZWPYLSMMJKM  BFZHCUBIASXHPK  \\\n",
       "TXZUPPVCNIMVHW        0.488411  ...        0.245836        0.197547   \n",
       "DGYASNDHNSXGSL        0.346228  ...        0.239921        0.196926   \n",
       "JWYUFVNJZUSCSM        0.111277  ...        0.087171        0.076667   \n",
       "ZQXBVPNSSGEUCM        0.356584  ...        0.190833        0.303226   \n",
       "WIOKWEJDRXNVSH        0.193948  ...        0.235054        0.100985   \n",
       "\n",
       "                IYUIDAWSRJAFII  YMGXBGVMAOTRFZ  ZOVBJSDLILDXCH  \\\n",
       "TXZUPPVCNIMVHW        0.319240        0.170619        0.419412   \n",
       "DGYASNDHNSXGSL        0.248181        0.224319        0.328424   \n",
       "JWYUFVNJZUSCSM        0.090069        0.086042        0.097539   \n",
       "ZQXBVPNSSGEUCM        0.309870        0.151724        0.382889   \n",
       "WIOKWEJDRXNVSH        0.156159        0.146067        0.189189   \n",
       "\n",
       "                ZBAVIUQLFUYWMT  LBZHBTVSBILXAE  FQXXSQDCDRQNQE  \\\n",
       "TXZUPPVCNIMVHW        0.111339        0.502242        0.609171   \n",
       "DGYASNDHNSXGSL        0.134894        0.371523        0.395833   \n",
       "JWYUFVNJZUSCSM        0.082902        0.100224        0.097547   \n",
       "ZQXBVPNSSGEUCM        0.200405        0.419784        0.455195   \n",
       "WIOKWEJDRXNVSH        0.065600        0.208011        0.223117   \n",
       "\n",
       "                PKKTXAMCHLIVDS  HDDNZVWBRRAOGK  \n",
       "TXZUPPVCNIMVHW        0.456767        0.364198  \n",
       "DGYASNDHNSXGSL        0.325097        0.267617  \n",
       "JWYUFVNJZUSCSM        0.091977        0.091603  \n",
       "ZQXBVPNSSGEUCM        0.301105        0.505532  \n",
       "WIOKWEJDRXNVSH        0.272388        0.147978  \n",
       "\n",
       "[5 rows x 15062 columns]"
      ]
     },
     "execution_count": 9,
     "metadata": {},
     "output_type": "execute_result"
    }
   ],
   "source": [
    "filename = os.path.join(path_data, 'ALL_GNPS_210125_positive_tanimoto_scores.pickle')\n",
    "tanimoto_df = pd.read_pickle(filename)\n",
    "tanimoto_df.head()"
   ]
  },
  {
   "cell_type": "code",
   "execution_count": 10,
   "id": "polar-antibody",
   "metadata": {},
   "outputs": [],
   "source": [
    "inchikey_idx_test = np.zeros(len(spectrums_test))\n",
    "for i, spec in enumerate(spectrums_test):\n",
    "    inchikey_idx_test[i] = np.where(tanimoto_df.index.values == spec.get(\"inchikey\")[:14])[0]\n",
    "\n",
    "inchikey_idx_test = inchikey_idx_test.astype(\"int\")\n",
    "\n",
    "scores_ref = tanimoto_df.values[np.ix_(inchikey_idx_test[:], inchikey_idx_test[:])].copy()"
   ]
  },
  {
   "cell_type": "code",
   "execution_count": 17,
   "id": "sporting-block",
   "metadata": {},
   "outputs": [
    {
     "data": {
      "image/png": "[encoded data removed]",
      "text/plain": [
       "<Figure size 720x720 with 1 Axes>"
      ]
     },
     "metadata": {},
     "output_type": "display_data"
    }
   ],
   "source": [
    "from ms2deepscore.plotting import create_histograms_plot\n",
    "\n",
    "create_histograms_plot(scores_ref, scores.scores, n_bins=10, hist_resolution=100,\n",
    "                          ref_score_name=\"Tanimoto similarity\", compare_score_name=\"Spec2Vec\")\n",
    "plt.savefig(\"histogram_spec2vec_210311_ALL_GNPS_testset.pdf\")"
   ]
  },
  {
   "cell_type": "code",
   "execution_count": null,
   "id": "injured-wrestling",
   "metadata": {},
   "outputs": [],
   "source": []
  },
  {
   "cell_type": "code",
   "execution_count": 18,
   "id": "charged-might",
   "metadata": {},
   "outputs": [
    {
     "data": {
      "image/png": "[encoded data removed]",
      "text/plain": [
       "<Figure size 720x576 with 2 Axes>"
      ]
     },
     "metadata": {},
     "output_type": "display_data"
    }
   ],
   "source": [
    "from ms2deepscore.plotting import create_confusion_matrix_plot\n",
    "\n",
    "fig = create_confusion_matrix_plot(scores_ref, scores.scores, n_bins=5,\n",
    "                                   ref_score_name=\"Tanimoto similarity\", compare_score_name=\"Spec2Vec\",\n",
    "                                   max_square_size=5000)\n",
    "plt.savefig(\"confusion_spec2vec_210311_ALL_GNPS_testset.pdf\")"
   ]
  },
  {
   "cell_type": "code",
   "execution_count": 35,
   "id": "unexpected-explanation",
   "metadata": {},
   "outputs": [],
   "source": [
    "import numpy as np\n",
    "from matplotlib import pyplot as plt\n",
    "from matplotlib.colors import LinearSegmentedColormap\n",
    "\n",
    "\n",
    "def create_histograms_plot(reference_scores, comparison_scores, n_bins=10, hist_resolution=100,\n",
    "                          ref_score_name=\"Tanimoto similarity\", compare_score_name=\"MS2DeepScore\"):\n",
    "    \"\"\"\n",
    "    Plot histograms to compare reference and comparison scores.\n",
    "\n",
    "    Parameters\n",
    "    ----------\n",
    "    reference_scores\n",
    "        Reference score array.\n",
    "    comparison_scores\n",
    "        Comparison score array.\n",
    "    n_bins\n",
    "        Number of bins. The default is 5.\n",
    "    hist_resolution\n",
    "        Histogram resolution. The default is 100.\n",
    "    ref_score_name\n",
    "        Label string. The default is \"Tanimoto similarity\".\n",
    "    compare_score_name\n",
    "        Label string. The default is \"MS2DeepScore\".\n",
    "\n",
    "    \"\"\"\n",
    "    # pylint: disable=too-many-arguments\n",
    "    histograms, used_bins, bin_content = calculate_histograms(reference_scores, comparison_scores,\n",
    "                                                 n_bins, hist_resolution)\n",
    "\n",
    "    plot_histograms(histograms, used_bins, bin_content, xlabel=compare_score_name, ylabel=ref_score_name)\n",
    "\n",
    "\n",
    "def plot_histograms(histograms, y_score_bins, bin_content=None,\n",
    "                    xlabel=\"MS2DeepScore\", ylabel=\"Tanimoto similarity\"):\n",
    "    \"\"\"Create histogram based score comparison.\n",
    "    \"\"\"\n",
    "\n",
    "    # Setup plotting stuff\n",
    "    colors = [\"crimson\", \"lightblue\", \"teal\"]\n",
    "    cmap1 = LinearSegmentedColormap.from_list(\"mycmap\", colors)\n",
    "    plt.style.use('seaborn-white')\n",
    "    shift = 0.7\n",
    "    alpha = 1.0 #0.5\n",
    "\n",
    "    # Create plot\n",
    "    plt.figure(figsize=(10,10))\n",
    "\n",
    "    for i in range(0, len(histograms)):\n",
    "        data = histograms[len(histograms)-i-1][0]\n",
    "        data = data/max(data)\n",
    "        plt.fill_between(histograms[0][1][:100], -shift*i, [(-shift*i + x) for x in data], color=cmap1(i/10), alpha=alpha)\n",
    "        if i > 0:\n",
    "            plt.plot(histograms[0][1][:100], [(-shift*i + x) for x in data], color=\"white\")\n",
    "        if bin_content:\n",
    "            plt.text(0.01, -shift*i+shift/6, f\"{bin_content[::-1][i]} pairs\")#, color=\"white\")\n",
    "\n",
    "    plt.yticks(-shift*np.arange(len(histograms)),\n",
    "               [f\"{a:.2f} to < {b:.2f}\" for (a, b) in y_score_bins[::-1]], fontsize=12)\n",
    "    plt.xlabel(xlabel, fontsize=12)\n",
    "    plt.ylabel(ylabel, fontsize=12)\n",
    "    plt.xlim([0, 1])\n",
    "\n",
    "\n",
    "def calculate_histograms(reference_scores, comparison_scores, n_bins=10, hist_resolution=100):\n",
    "    \"\"\"Calcualte a series of histograms, one for every bin.\"\"\"\n",
    "    d_bin = 1/n_bins\n",
    "    hist_bins = np.linspace(0, 1, hist_resolution)\n",
    "    hist_bins = np.concatenate((hist_bins, np.array([2.0])))\n",
    "\n",
    "    histograms = []\n",
    "    used_bins = []\n",
    "    bin_content = []\n",
    "    for i in range(n_bins+1):\n",
    "        used_bins.append((i*d_bin, (i + 1) * d_bin))\n",
    "        idx = np.where((reference_scores >= i*d_bin) & (reference_scores < (i + 1) * d_bin))\n",
    "        bin_content.append(idx[0].shape[0])\n",
    "        a, b = np.histogram(comparison_scores[idx], bins=hist_bins)\n",
    "        histograms.append((a, b))\n",
    "\n",
    "    return histograms, used_bins, bin_content\n",
    "\n",
    "\n",
    "def create_confusion_matrix_plot(reference_scores, comparison_scores, n_bins=5,\n",
    "                                 ref_score_name=\"Tanimoto similarity\", compare_score_name=\"MS2DeepScore\",\n",
    "                                 max_square_size=5000,\n",
    "                                 lower_bound=0, upper_bound=1,\n",
    "                                 color_by_reference_fraction=True,\n",
    "                                 add_numbers=True):\n",
    "    \"\"\"\n",
    "    Plot histograms to compare reference and comparison scores.\n",
    "\n",
    "    Parameters\n",
    "    ----------\n",
    "    reference_scores\n",
    "        Reference score array.\n",
    "    comparison_scores\n",
    "        Comparison score array.\n",
    "    n_bins\n",
    "        Number of bins. The default is 5.\n",
    "    ref_score_name\n",
    "        Label string. The default is \"Tanimoto similarity\".\n",
    "    compare_score_name\n",
    "        Label string. The default is \"MS2DeepScore\".\n",
    "    max_square_size\n",
    "        Maximum square size.\n",
    "    lower_bound\n",
    "        Lower bound for scores to include in plot (scores < lower_bound will be added to lowest bin).\n",
    "    upper_bound\n",
    "        Upper bound for scores to include in plot\n",
    "    color_by_reference_fraction\n",
    "        When True, color squares by fractions within the reference score bin. Default is True.\n",
    "    \"\"\"\n",
    "    # pylint: disable=too-many-arguments\n",
    "    confusion_like_matrix, confusion_like_matrix_scatter = derive_scatter_data(reference_scores,\n",
    "                                                                               comparison_scores,\n",
    "                                                                               lower_bound, upper_bound,\n",
    "                                                                               n_bins, n_bins)\n",
    "    fig = plot_confusion_like_matrix(confusion_like_matrix_scatter, confusion_like_matrix,\n",
    "                                     xlabel=compare_score_name, ylabel=ref_score_name,\n",
    "                                     max_size=max_square_size,\n",
    "                                     lower_bound=lower_bound, upper_bound=upper_bound,\n",
    "                                     color_by_reference_fraction=color_by_reference_fraction,\n",
    "                                     add_numbers=add_numbers)\n",
    "    return fig\n",
    "\n",
    "\n",
    "def plot_confusion_like_matrix(confusion_like_matrix_scatter, confusion_like_matrix,\n",
    "                              xlabel, ylabel, max_size=5000,\n",
    "                              lower_bound=0, upper_bound=1,\n",
    "                               color_by_reference_fraction=True,\n",
    "                               add_numbers=True):\n",
    "    \"\"\"Do the actual plotting\"\"\"\n",
    "    # pylint: disable=too-many-arguments\n",
    "    summed_tanimoto = []\n",
    "    for i in range(confusion_like_matrix.shape[0]):\n",
    "        for _ in range(confusion_like_matrix.shape[1]):\n",
    "            summed_tanimoto.append(confusion_like_matrix[i,:].sum())\n",
    "\n",
    "    sizes = np.array([x[2] for x in confusion_like_matrix_scatter])\n",
    "    colors = 100*sizes/np.array(summed_tanimoto)  # color percentage\n",
    "    sizes = sizes/np.max(sizes)\n",
    "\n",
    "    plt.style.use('seaborn-white')\n",
    "    if color_by_reference_fraction:\n",
    "        fig = plt.figure(figsize=(10, 8))\n",
    "        plt.scatter([x[1] for x in confusion_like_matrix_scatter],\n",
    "                    [x[0] for x in confusion_like_matrix_scatter], marker='s', c=colors, cmap=\"plasma\",\n",
    "                    s=sizes*max_size)\n",
    "    else:\n",
    "        fig = plt.figure(figsize=(8, 8))\n",
    "        plt.scatter([x[1] for x in confusion_like_matrix_scatter],\n",
    "                    [x[0] for x in confusion_like_matrix_scatter], marker='s', c=\"dodgerblue\",\n",
    "                    s=sizes*max_size)\n",
    "    if add_numbers:\n",
    "        cell_size = (upper_bound - lower_bound) / int(len(confusion_like_matrix_scatter)**0.5)\n",
    "        for x in confusion_like_matrix_scatter:\n",
    "            plt.text(x[1], x[0]-0.2*cell_size, str(x[2]), ha=\"center\")\n",
    "    if color_by_reference_fraction:\n",
    "        cbar = plt.colorbar()\n",
    "        cbar.ax.tick_params(labelsize=14)\n",
    "        cbar.set_label('% within respective Tanimoto bin', rotation=90, fontsize=14)\n",
    "\n",
    "    plt.xlabel(xlabel, fontsize=14)\n",
    "    plt.ylabel(ylabel, fontsize=14)\n",
    "    plt.xticks(fontsize=14)\n",
    "    plt.yticks(fontsize=14)\n",
    "    plt.xlim(lower_bound, upper_bound)\n",
    "    plt.ylim(lower_bound, upper_bound)\n",
    "    plt.clim(0)\n",
    "    plt.grid(True)\n",
    "    return fig\n",
    "\n",
    "\n",
    "def derive_scatter_data(reference_scores, comparison_scores,\n",
    "                        lower_bound, upper_bound,\n",
    "                        n_bins_x, n_bins_y):\n",
    "    \"\"\"Helper function to collect actual scatter plot data\"\"\"\n",
    "    # pylint: disable=too-many-arguments\n",
    "    bins_x = np.linspace(lower_bound,upper_bound+0.0001, n_bins_x+1)\n",
    "    bins_y = np.linspace(lower_bound,upper_bound+0.0001, n_bins_y+1)\n",
    "    confusion_like_matrix = np.zeros((n_bins_x, n_bins_y))\n",
    "    confusion_like_matrix_scatter = []\n",
    "    for i in range(n_bins_x):\n",
    "        for j in range(n_bins_y):\n",
    "            if i > 0:\n",
    "                low_x = bins_x[i]\n",
    "            else:\n",
    "                low_x = np.min(reference_scores)\n",
    "            if j > 0:\n",
    "                low_y = bins_y[j]\n",
    "            else:\n",
    "                low_y = np.min(comparison_scores)\n",
    "            idx = np.where((reference_scores>=low_x) & (reference_scores<bins_x[i+1]) &\n",
    "                          (comparison_scores>=low_y) & (comparison_scores<bins_y[j+1]))\n",
    "            confusion_like_matrix[i, j] = idx[0].shape[0]\n",
    "            confusion_like_matrix_scatter.append(((bins_x[i] + bins_x[i+1])/2,\n",
    "                                                 (bins_y[j] + bins_y[j+1])/2,\n",
    "                                                 idx[0].shape[0]))\n",
    "    return confusion_like_matrix, confusion_like_matrix_scatter\n"
   ]
  },
  {
   "cell_type": "code",
   "execution_count": 36,
   "id": "beneficial-muslim",
   "metadata": {},
   "outputs": [
    {
     "data": {
      "image/png": "[encoded data removed]",
      "text/plain": [
       "<Figure size 576x576 with 1 Axes>"
      ]
     },
     "metadata": {},
     "output_type": "display_data"
    }
   ],
   "source": [
    "fig = create_confusion_matrix_plot(scores_ref, scores.scores, n_bins=5,\n",
    "                                   ref_score_name=\"Tanimoto similarity\", compare_score_name=\"Spec2Vec\",\n",
    "                                   max_square_size=5000, color_by_reference_fraction=False)\n",
    "plt.savefig(\"confusion_spec2vec_210323_ALL_GNPS_testset.pdf\")"
   ]
  },
  {
   "cell_type": "code",
   "execution_count": 20,
   "id": "general-french",
   "metadata": {},
   "outputs": [],
   "source": [
    "def precision_recall_plot(scores_test, scores_ref,\n",
    "                          high_sim_threshold=0.6,\n",
    "                          n_bins = 20):\n",
    "    \"\"\"Basic precision recall plot\"\"\"\n",
    "    precisions = []\n",
    "    recalls = []\n",
    "\n",
    "    above_thres_total = np.sum(scores_ref >= high_sim_threshold)\n",
    "    max_score = scores_test.max()\n",
    "    min_score = scores_test.min()\n",
    "    score_thresholds = np.linspace(min_score, max_score, n_bins+1)\n",
    "    for low in score_thresholds:\n",
    "        idx = np.where(scores_test>=low)\n",
    "        above_thres = np.sum(scores_ref[idx] >= high_sim_threshold)\n",
    "        below_thres = np.sum(scores_ref[idx] < high_sim_threshold)\n",
    "\n",
    "        precisions.append(above_thres/(below_thres+above_thres))\n",
    "        recalls.append(above_thres/above_thres_total)\n",
    "\n",
    "    plt.figure(figsize=(6,5), dpi=120)\n",
    "    plt.plot(recalls, precisions, \"o--\", color=\"crimson\", label=\"precision/recall\")\n",
    "    #plt.plot(score_thresholds, precisions, \"o--\", color=\"crimson\", label=\"precision\")\n",
    "    #plt.plot(score_thresholds, recalls, \"o--\", color=\"dodgerblue\", label=\"recall\")\n",
    "    plt.legend()\n",
    "    plt.xlabel(\"recall\", fontsize=12)\n",
    "    plt.ylabel(\"precision\", fontsize=12)\n",
    "    plt.title(f\"precision/recall (high-similarity if Tanimoto > {high_sim_threshold })\")\n",
    "    plt.grid(True)\n",
    "    \n",
    "    return precisions, recalls"
   ]
  },
  {
   "cell_type": "code",
   "execution_count": 21,
   "id": "worst-anxiety",
   "metadata": {},
   "outputs": [
    {
     "data": {
      "image/png": "[encoded data removed]",
      "text/plain": [
       "<Figure size 720x600 with 1 Axes>"
      ]
     },
     "metadata": {
      "needs_background": "light"
     },
     "output_type": "display_data"
    }
   ],
   "source": [
    "precisions, recalls = precision_recall_plot(scores.scores, scores_ref, high_sim_threshold=0.6, n_bins=30)\n",
    "plt.savefig(\"precision_recall_spec2vec_230319.pdf\")"
   ]
  },
  {
   "cell_type": "code",
   "execution_count": 23,
   "id": "hidden-conservation",
   "metadata": {},
   "outputs": [],
   "source": [
    "np.save(\"recall_tanimoto06_spec2vec.npy\", np.array(recalls))\n",
    "np.save(\"precision_tanimoto06_spec2vec.npy\", np.array(precisions))"
   ]
  },
  {
   "cell_type": "markdown",
   "id": "bottom-packing",
   "metadata": {},
   "source": [
    "## Compare to others"
   ]
  },
  {
   "cell_type": "code",
   "execution_count": 7,
   "id": "sharp-dancing",
   "metadata": {},
   "outputs": [],
   "source": [
    "import numpy as np\n",
    "recalls_ms2ds = np.load(\"recall_tanimoto06_ms2ds.npy\")\n",
    "precisions_ms2ds = np.load(\"precision_tanimoto06_ms2ds.npy\")\n",
    "\n",
    "recalls_spec2vec = np.load(\"recall_tanimoto06_spec2vec.npy\")\n",
    "precisions_spec2vec = np.load(\"precision_tanimoto06_spec2vec.npy\")\n",
    "\n",
    "recalls_modcos_mm2 = np.load(\"recall_tanimoto06_modcos_mm2.npy\")\n",
    "precisions_modcos_mm2 = np.load(\"precision_tanimoto06_modcos_mm2.npy\")\n",
    "\n",
    "recalls_modcos_mm6 = np.load(\"recall_tanimoto06_modcos_mm6.npy\")\n",
    "precisions_modcos_mm6 = np.load(\"precision_tanimoto06_modcos_mm6.npy\")"
   ]
  },
  {
   "cell_type": "code",
   "execution_count": 16,
   "id": "personalized-classics",
   "metadata": {},
   "outputs": [
    {
     "data": {
      "image/png": "[encoded data removed]",
      "text/plain": [
       "<Figure size 720x600 with 1 Axes>"
      ]
     },
     "metadata": {
      "needs_background": "light"
     },
     "output_type": "display_data"
    }
   ],
   "source": [
    "high_sim_threshold = 0.6\n",
    "\n",
    "plt.figure(figsize=(6,5), dpi=120)\n",
    "plt.plot(recalls_spec2vec[1:], precisions_spec2vec[1:], \"o--\", color=\"teal\", label=\"precision/recall Spec2Vec\")\n",
    "plt.plot(recalls_ms2ds[1:], precisions_ms2ds[1:], \"o--\", color=\"crimson\", label=\"precision/recall MS2DeepScore\")\n",
    "plt.plot(recalls_modcos_mm2[1:], precisions_modcos_mm2[1:], \"o--\", color=\"dodgerblue\", label=\"precision/recall modified Cosine min_match=2)\")\n",
    "plt.plot(recalls_modcos_mm6[1:], precisions_modcos_mm6[1:], \"o--\", color=\"blue\", label=\"precision/recall modified Cosine (min_match=6)\")\n",
    "plt.legend(fontsize=8)\n",
    "plt.xlabel(\"recall\", fontsize=12)\n",
    "plt.ylabel(\"precision\", fontsize=12)\n",
    "plt.title(f\"precision/recall (high-similarity if Tanimoto > {high_sim_threshold })\")\n",
    "plt.grid(True)\n",
    "\n",
    "plt.savefig(\"precision_recall_comparison.pdf\")"
   ]
  },
  {
   "cell_type": "code",
   "execution_count": 19,
   "id": "canadian-indie",
   "metadata": {},
   "outputs": [],
   "source": [
    "high_sim_threshold = 0.6\n",
    "\n",
    "precisions = []\n",
    "recalls = []\n",
    "\n",
    "above_thres_total = np.sum(scores_ref >= high_sim_threshold)\n",
    "score_thresholds = np.linspace(0.05,1,20)\n",
    "for low in score_thresholds:\n",
    "    idx = np.where(scores.scores>low)\n",
    "    above_thres = np.sum(scores_ref[idx] >= high_sim_threshold)\n",
    "    below_thres = np.sum(scores_ref[idx] < high_sim_threshold)\n",
    "    \n",
    "    precisions.append(above_thres/(below_thres+above_thres))\n",
    "    recalls.append(above_thres/above_thres_total)\n",
    "    "
   ]
  },
  {
   "cell_type": "code",
   "execution_count": 20,
   "id": "compact-canada",
   "metadata": {},
   "outputs": [
    {
     "data": {
      "image/png": "[encoded data removed]",
      "text/plain": [
       "<Figure size 504x432 with 1 Axes>"
      ]
     },
     "metadata": {},
     "output_type": "display_data"
    }
   ],
   "source": [
    "plt.figure(figsize=(7,6))\n",
    "plt.plot(score_thresholds, precisions, \"o--\", color=\"crimson\", label=\"precision\")\n",
    "plt.plot(score_thresholds, recalls, \"o--\", color=\"dodgerblue\", label=\"recall\")\n",
    "plt.legend()\n",
    "plt.xlabel(\"Spec2Vec threshold\", fontsize=12)\n",
    "plt.title(f\"precision/recall (high-similarity if Tanimoto > {high_sim_threshold })\")\n",
    "plt.grid(True)"
   ]
  }
 ],
 "metadata": {
  "kernelspec": {
   "display_name": "Python 3",
   "language": "python",
   "name": "python3"
  },
  "language_info": {
   "codemirror_mode": {
    "name": "ipython",
    "version": 3
   },
   "file_extension": ".py",
   "mimetype": "text/x-python",
   "name": "python",
   "nbconvert_exporter": "python",
   "pygments_lexer": "ipython3",
   "version": "3.8.5"
  }
 },
 "nbformat": 4,
 "nbformat_minor": 5
}
