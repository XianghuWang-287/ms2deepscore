{
 "cells": [
  {
   "cell_type": "code",
   "execution_count": 2,
   "id": "significant-coordinator",
   "metadata": {},
   "outputs": [],
   "source": [
    "import os\n",
    "import sys\n",
    "import pickle\n",
    "import pandas as pd\n",
    "from matplotlib import pyplot as plt\n",
    "import numpy as np\n",
    "from ms2deepscore import SpectrumBinner\n",
    "from ms2deepscore.models import SiameseModel\n",
    "\n",
    "ROOT = os.path.dirname(os.getcwd())\n",
    "sys.path.insert(0, ROOT)\n",
    "path_data = 'C:\\\\OneDrive - Netherlands eScience Center\\\\Project_Wageningen_iOMEGA\\\\Data\\\\'"
   ]
  },
  {
   "cell_type": "markdown",
   "id": "solar-express",
   "metadata": {},
   "source": [
    "### Load annotated spectrums"
   ]
  },
  {
   "cell_type": "code",
   "execution_count": 3,
   "id": "postal-reception",
   "metadata": {},
   "outputs": [
    {
     "name": "stdout",
     "output_type": "stream",
     "text": [
      "109734 spectra imported.\n"
     ]
    }
   ],
   "source": [
    "filename = os.path.join(path_data, 'GNPS_all', 'ALL_GNPS_210125_positive_processed_annotated.pickle')\n",
    "with open(filename, 'rb') as file:\n",
    "    spectrums = pickle.load(file)\n",
    "\n",
    "print(f\"{len(spectrums)} spectra imported.\")"
   ]
  },
  {
   "cell_type": "code",
   "execution_count": 4,
   "id": "animal-cuisine",
   "metadata": {},
   "outputs": [
    {
     "name": "stdout",
     "output_type": "stream",
     "text": [
      "Found 109734 spectrums with inchikey\n"
     ]
    }
   ],
   "source": [
    "from matchms.utils import is_valid_inchikey\n",
    "\n",
    "inchikey_count = 0\n",
    "for spec in spectrums:\n",
    "    if is_valid_inchikey(spec.get(\"inchikey\")):\n",
    "        inchikey_count += 1\n",
    "\n",
    "print(f\"Found {inchikey_count} spectrums with inchikey\")"
   ]
  },
  {
   "cell_type": "markdown",
   "id": "answering-honor",
   "metadata": {},
   "source": [
    "### Created binned spectrums"
   ]
  },
  {
   "cell_type": "code",
   "execution_count": 11,
   "id": "rotary-hamilton",
   "metadata": {},
   "outputs": [
    {
     "data": {
      "text/plain": [
       "(0.0, 1000.0)"
      ]
     },
     "execution_count": 11,
     "metadata": {},
     "output_type": "execute_result"
    },
    {
     "data": {
      "image/png": "[encoded data removed]",
      "text/plain": [
       "<Figure size 432x288 with 1 Axes>"
      ]
     },
     "metadata": {
      "needs_background": "light"
     },
     "output_type": "display_data"
    }
   ],
   "source": [
    "numbers_of_peaks = [len(s.peaks) for s in spectrums]\n",
    "plt.hist(numbers_of_peaks, np.linspace(0,1000,20))\n",
    "plt.xlim(0, 1000)"
   ]
  },
  {
   "cell_type": "code",
   "execution_count": 16,
   "id": "corrected-inspection",
   "metadata": {},
   "outputs": [
    {
     "data": {
      "text/plain": [
       "(5, 37922)"
      ]
     },
     "execution_count": 16,
     "metadata": {},
     "output_type": "execute_result"
    }
   ],
   "source": [
    "np.min(np.array(numbers_of_peaks)), np.max(np.array(numbers_of_peaks))"
   ]
  },
  {
   "cell_type": "markdown",
   "id": "informative-calendar",
   "metadata": {},
   "source": [
    "## Remove very small peaks (<0.001 max intensity)"
   ]
  },
  {
   "cell_type": "code",
   "execution_count": 5,
   "id": "color-income",
   "metadata": {},
   "outputs": [],
   "source": [
    "from matchms.filtering import reduce_to_number_of_peaks\n",
    "from matchms.filtering import select_by_relative_intensity\n",
    "\n",
    "def process_peaks(s):\n",
    "    s = select_by_relative_intensity(s, intensity_from=0.001)\n",
    "    s = reduce_to_number_of_peaks(s, n_max=1000)\n",
    "    return s\n",
    "    \n",
    "spectrums = [process_peaks(s) for s in spectrums]"
   ]
  },
  {
   "cell_type": "code",
   "execution_count": 8,
   "id": "civil-trail",
   "metadata": {},
   "outputs": [
    {
     "name": "stdout",
     "output_type": "stream",
     "text": [
      "1 1000\n"
     ]
    },
    {
     "data": {
      "image/png": "[encoded data removed]",
      "text/plain": [
       "<Figure size 432x288 with 1 Axes>"
      ]
     },
     "metadata": {
      "needs_background": "light"
     },
     "output_type": "display_data"
    }
   ],
   "source": [
    "numbers_of_peaks = [len(s.peaks) for s in spectrums]\n",
    "plt.hist(numbers_of_peaks, np.linspace(0,1000,20))\n",
    "plt.xlim(0, 1000)\n",
    "\n",
    "print(np.min(np.array(numbers_of_peaks)), np.max(np.array(numbers_of_peaks)))"
   ]
  },
  {
   "cell_type": "markdown",
   "id": "liable-offering",
   "metadata": {},
   "source": [
    "## Load model"
   ]
  },
  {
   "cell_type": "code",
   "execution_count": 8,
   "id": "maritime-material",
   "metadata": {},
   "outputs": [
    {
     "name": "stdout",
     "output_type": "stream",
     "text": [
      "Model: \"base\"\n",
      "_________________________________________________________________\n",
      "Layer (type)                 Output Shape              Param #   \n",
      "=================================================================\n",
      "base_input (InputLayer)      [(None, 9947)]            0         \n",
      "_________________________________________________________________\n",
      "dense1 (Dense)               (None, 1000)              9948000   \n",
      "_________________________________________________________________\n",
      "normalization1 (BatchNormali (None, 1000)              4000      \n",
      "_________________________________________________________________\n",
      "dropout1 (Dropout)           (None, 1000)              0         \n",
      "_________________________________________________________________\n",
      "dense2 (Dense)               (None, 700)               700700    \n",
      "_________________________________________________________________\n",
      "normalization2 (BatchNormali (None, 700)               2800      \n",
      "_________________________________________________________________\n",
      "dropout2 (Dropout)           (None, 700)               0         \n",
      "_________________________________________________________________\n",
      "dense3 (Dense)               (None, 600)               420600    \n",
      "_________________________________________________________________\n",
      "normalization3 (BatchNormali (None, 600)               2400      \n",
      "_________________________________________________________________\n",
      "dropout3 (Dropout)           (None, 600)               0         \n",
      "_________________________________________________________________\n",
      "embedding (Dense)            (None, 400)               240400    \n",
      "=================================================================\n",
      "Total params: 11,318,900\n",
      "Trainable params: 11,314,300\n",
      "Non-trainable params: 4,600\n",
      "_________________________________________________________________\n",
      "Model: \"head\"\n",
      "__________________________________________________________________________________________________\n",
      "Layer (type)                    Output Shape         Param #     Connected to                     \n",
      "==================================================================================================\n",
      "input_a (InputLayer)            [(None, 9947)]       0                                            \n",
      "__________________________________________________________________________________________________\n",
      "input_b (InputLayer)            [(None, 9947)]       0                                            \n",
      "__________________________________________________________________________________________________\n",
      "base (Functional)               (None, 400)          11318900    input_a[0][0]                    \n",
      "                                                                 input_b[0][0]                    \n",
      "__________________________________________________________________________________________________\n",
      "cosine_similarity (Dot)         (None, 1)            0           base[0][0]                       \n",
      "                                                                 base[1][0]                       \n",
      "==================================================================================================\n",
      "Total params: 11,318,900\n",
      "Trainable params: 11,314,300\n",
      "Non-trainable params: 4,600\n",
      "__________________________________________________________________________________________________\n"
     ]
    }
   ],
   "source": [
    "from ms2deepscore.models import load_model\n",
    "\n",
    "model_file = \"ms2ds_siamese_210207_ALL_GNPS_positive_L1L2.hdf5\" #\"ms2ds_siamese_210210_ALL_GNPS_positive_600_500_500_400.hdf5\"\n",
    "model = load_model(model_file)\n",
    "model.summary()"
   ]
  },
  {
   "cell_type": "code",
   "execution_count": 14,
   "id": "acute-registration",
   "metadata": {},
   "outputs": [
    {
     "name": "stderr",
     "output_type": "stream",
     "text": [
      "Spectrum binning: 100%|█████████████| 1/1 [00:00<00:00, 224.07it/s]\n",
      "Create BinnedSpectrum instances: 100%|█| 1/1 [00:00<00:00, 2014.56i\n"
     ]
    }
   ],
   "source": [
    "binned_spec = model.spectrum_binner.transform([spec])[0]"
   ]
  },
  {
   "cell_type": "code",
   "execution_count": 15,
   "id": "weekly-albert",
   "metadata": {},
   "outputs": [
    {
     "data": {
      "text/plain": [
       "{946: 0.11638598286982411,\n",
       " 1068: 0.09321851972969362,\n",
       " 1222: 0.057279504269199776,\n",
       " 1492: 0.06394737697088601,\n",
       " 1532: 0.0619167815104723,\n",
       " 1614: 0.10483274831923761,\n",
       " 1755: 0.06546276575116497,\n",
       " 1917: 0.059817293851983366,\n",
       " 2038: 0.06186517506941746,\n",
       " 2220: 0.0619167815104723,\n",
       " 2241: 0.11856161008630521,\n",
       " 2322: 0.11416890395765793,\n",
       " 2332: 0.059817293851983366,\n",
       " 2361: 0.06782643584280894,\n",
       " 2463: 0.08756355215060162,\n",
       " 2483: 0.08609179099304469,\n",
       " 2504: 0.13375553528311504,\n",
       " 2524: 0.11076010592433454,\n",
       " 2787: 0.06968503848014805,\n",
       " 2888: 0.07149534094485285,\n",
       " 2948: 0.06394737697088601,\n",
       " 2989: 0.07149534094485285,\n",
       " 3069: 0.09183742827275947,\n",
       " 3089: 0.0749849461859034,\n",
       " 3151: 0.0799342212136075,\n",
       " 3211: 0.10604472786992127,\n",
       " 3251: 0.06968503848014805,\n",
       " 3272: 0.13279670187934486,\n",
       " 3282: 0.095921065456329,\n",
       " 3312: 0.0985495265131164,\n",
       " 3343: 0.07826021885777396,\n",
       " 3353: 0.08609179099304469,\n",
       " 3372: 0.07149534094485285,\n",
       " 3373: 0.13272814183724876,\n",
       " 3376: 0.0619167815104723,\n",
       " 3545: 0.0619167815104723,\n",
       " 3555: 0.09043524779041191,\n",
       " 3616: 0.07733445338537706,\n",
       " 3626: 0.07149534094485285,\n",
       " 3636: 0.09043524779041191,\n",
       " 3797: 0.06968503848014805,\n",
       " 3899: 0.10483274831923761,\n",
       " 4101: 0.0830700794432509,\n",
       " 4202: 0.10604472786992127,\n",
       " 4222: 0.059817293851983366,\n",
       " 4444: 0.11963458770396673,\n",
       " 4449: 0.0799342212136075,\n",
       " 4807: 0.0890109816487391,\n",
       " 4808: 0.06591544743303833,\n",
       " 5152: 0.0830700794432509,\n",
       " 5191: 0.06591544743303833,\n",
       " 5193: 0.0619167815104723,\n",
       " 5354: 0.0799342212136075,\n",
       " 5395: 0.07326092386574025,\n",
       " 5496: 0.11076010592433454,\n",
       " 5617: 0.059817293851983366,\n",
       " 5637: 0.106182399041907,\n",
       " 5648: 0.10483274831923761,\n",
       " 5658: 0.30777777164598447,\n",
       " 5668: 0.11877758567814638,\n",
       " 5678: 0.2773613813081272,\n",
       " 5688: 0.05764138664998864,\n",
       " 5900: 0.0799342212136075,\n",
       " 5917: 0.0619167815104723,\n",
       " 5920: 0.4891956123162903,\n",
       " 5931: 0.252772227346969,\n",
       " 5937: 0.059817293851983366,\n",
       " 5940: 0.07022642556584895,\n",
       " 5941: 0.5239570447767825,\n",
       " 5951: 0.2514098841492464,\n",
       " 5961: 0.14341486195672012,\n",
       " 5997: 0.06394737697088601,\n",
       " 6092: 0.1130440597380149,\n",
       " 6203: 0.1377549531556922,\n",
       " 6204: 0.11676627750803946,\n",
       " 6214: 0.11326322172275324,\n",
       " 6224: 0.36542117955305586,\n",
       " 6234: 0.23360248085524718,\n",
       " 6244: 0.1130440597380149,\n",
       " 6254: 0.06591544743303833,\n",
       " 6332: 0.059817293851983366,\n",
       " 6345: 0.0749849461859034,\n",
       " 6355: 0.057066755294257185,\n",
       " 6356: 0.08120082049470016,\n",
       " 6466: 0.07337573494002719,\n",
       " 6487: 0.22072734968849497,\n",
       " 6497: 0.24404955262221598,\n",
       " 6507: 0.2612271873686907,\n",
       " 6517: 0.13659165708562052,\n",
       " 6524: 0.06394737697088601,\n",
       " 6537: 0.05833993755032042,\n",
       " 6538: 0.06591544743303833,\n",
       " 6639: 0.07149534094485285,\n",
       " 6648: 0.0749849461859034,\n",
       " 6659: 0.06782643584280894,\n",
       " 6708: 0.06591544743303833,\n",
       " 6749: 0.0890109816487391,\n",
       " 6750: 0.11528277329997728,\n",
       " 6768: 0.07831922198403725,\n",
       " 6770: 1.0,\n",
       " 6779: 0.059817293851983366,\n",
       " 6780: 0.5539562191398983,\n",
       " 6790: 0.5005411904086432,\n",
       " 6791: 0.059817293851983366,\n",
       " 6800: 0.2745830670454864,\n",
       " 6870: 0.0619167815104723,\n",
       " 6911: 0.0890109816487391,\n",
       " 6912: 0.06936567733944654,\n",
       " 6926: 0.059817293851983366,\n",
       " 6936: 0.06782643584280894,\n",
       " 7022: 0.0749849461859034,\n",
       " 7033: 0.18848211387000155,\n",
       " 7043: 0.1238335630209446,\n",
       " 7053: 0.24768356440185027,\n",
       " 7063: 0.25926304531342853,\n",
       " 7084: 0.08609179099304469,\n",
       " 7194: 0.06394737697088601,\n",
       " 7280: 0.06782643584280894,\n",
       " 7316: 0.09043524779041191,\n",
       " 7488: 0.07667021157753424,\n",
       " 7528: 0.06968503848014805,\n",
       " 7931: 0.0799342212136075,\n",
       " 7933: 0.06782643584280894,\n",
       " 8125: 0.06591544743303833,\n",
       " 8146: 0.08151723075440541,\n",
       " 8216: 0.06782643584280894,\n",
       " 8318: 0.0619167815104723,\n",
       " 8612: 0.07831922198403725,\n",
       " 8877: 0.0619167815104723,\n",
       " 8953: 0.10842805304296362,\n",
       " 9023: 0.0619167815104723,\n",
       " 9439: 0.095921065456329,\n",
       " 9600: 0.08151723075440541,\n",
       " 9608: 0.0749849461859034,\n",
       " 9621: 0.36244682791313454,\n",
       " 9631: 0.21530527597284846,\n",
       " 9772: 0.07149534094485285,\n",
       " 9782: 0.14799113764331212,\n",
       " 9783: 0.12207385621887949,\n",
       " 9790: 0.09724417713734017,\n",
       " 9791: 0.09043524779041191,\n",
       " 9792: 0.20340953230769418,\n",
       " 9793: 0.7622511654863757,\n",
       " 9799: 0.05798049990688223,\n",
       " 9800: 0.05958546491023394,\n",
       " 9801: 0.14931712180371168,\n",
       " 9802: 0.17596573488624925,\n",
       " 9803: 0.5581604109461487,\n",
       " 9807: 0.08609179099304469,\n",
       " 9808: 0.0619167815104723,\n",
       " 9856: 0.06394737697088601}"
      ]
     },
     "execution_count": 15,
     "metadata": {},
     "output_type": "execute_result"
    }
   ],
   "source": [
    "binned_spec.binned_peaks"
   ]
  },
  {
   "cell_type": "markdown",
   "id": "billion-integer",
   "metadata": {},
   "source": [
    "## Compute embeddings"
   ]
  },
  {
   "cell_type": "code",
   "execution_count": 19,
   "id": "variable-forum",
   "metadata": {},
   "outputs": [],
   "source": [
    "from ms2deepscore import MS2DeepScore\n",
    "ms2ds_score = MS2DeepScore(model)"
   ]
  },
  {
   "cell_type": "code",
   "execution_count": 20,
   "id": "focused-booking",
   "metadata": {},
   "outputs": [
    {
     "name": "stderr",
     "output_type": "stream",
     "text": [
      "  5%|█▏                    | 5721/109734 [06:26<1:57:01, 14.81it/s]\n"
     ]
    },
    {
     "ename": "KeyboardInterrupt",
     "evalue": "",
     "output_type": "error",
     "traceback": [
      "\u001b[1;31m--------------------------------------------------------------------\u001b[0m",
      "\u001b[1;31mKeyboardInterrupt\u001b[0m                  Traceback (most recent call last)",
      "\u001b[1;32m<ipython-input-20-d70d3c701fe0>\u001b[0m in \u001b[0;36m<module>\u001b[1;34m\u001b[0m\n\u001b[0;32m      4\u001b[0m \u001b[1;32mfor\u001b[0m \u001b[0mspec\u001b[0m \u001b[1;32min\u001b[0m \u001b[0mtqdm\u001b[0m\u001b[1;33m(\u001b[0m\u001b[0mspectrums\u001b[0m\u001b[1;33m)\u001b[0m\u001b[1;33m:\u001b[0m\u001b[1;33m\u001b[0m\u001b[1;33m\u001b[0m\u001b[0m\n\u001b[0;32m      5\u001b[0m     \u001b[0mbinned_spec\u001b[0m \u001b[1;33m=\u001b[0m \u001b[0mmodel\u001b[0m\u001b[1;33m.\u001b[0m\u001b[0mspectrum_binner\u001b[0m\u001b[1;33m.\u001b[0m\u001b[0mtransform\u001b[0m\u001b[1;33m(\u001b[0m\u001b[1;33m[\u001b[0m\u001b[0mspec\u001b[0m\u001b[1;33m]\u001b[0m\u001b[1;33m,\u001b[0m \u001b[0mprogress_bar\u001b[0m\u001b[1;33m=\u001b[0m\u001b[1;32mFalse\u001b[0m\u001b[1;33m)\u001b[0m\u001b[1;33m[\u001b[0m\u001b[1;36m0\u001b[0m\u001b[1;33m]\u001b[0m\u001b[1;33m\u001b[0m\u001b[1;33m\u001b[0m\u001b[0m\n\u001b[1;32m----> 6\u001b[1;33m     \u001b[0membeddings\u001b[0m\u001b[1;33m.\u001b[0m\u001b[0mappend\u001b[0m\u001b[1;33m(\u001b[0m\u001b[0mmodel\u001b[0m\u001b[1;33m.\u001b[0m\u001b[0mbase\u001b[0m\u001b[1;33m.\u001b[0m\u001b[0mpredict\u001b[0m\u001b[1;33m(\u001b[0m\u001b[0mms2ds_score\u001b[0m\u001b[1;33m.\u001b[0m\u001b[0m_create_input_vector\u001b[0m\u001b[1;33m(\u001b[0m\u001b[0mbinned_spec\u001b[0m\u001b[1;33m)\u001b[0m\u001b[1;33m)\u001b[0m\u001b[1;33m)\u001b[0m\u001b[1;33m\u001b[0m\u001b[1;33m\u001b[0m\u001b[0m\n\u001b[0m\u001b[0;32m      7\u001b[0m \u001b[1;33m\u001b[0m\u001b[0m\n",
      "\u001b[1;32mc:\\users\\florianhuber\\anaconda3\\envs\\ms2deepscore\\lib\\site-packages\\tensorflow\\python\\keras\\engine\\training.py\u001b[0m in \u001b[0;36mpredict\u001b[1;34m(self, x, batch_size, verbose, steps, callbacks, max_queue_size, workers, use_multiprocessing)\u001b[0m\n\u001b[0;32m   1596\u001b[0m                         '. Consider setting it to AutoShardPolicy.DATA.')\n\u001b[0;32m   1597\u001b[0m \u001b[1;33m\u001b[0m\u001b[0m\n\u001b[1;32m-> 1598\u001b[1;33m       data_handler = data_adapter.DataHandler(\n\u001b[0m\u001b[0;32m   1599\u001b[0m           \u001b[0mx\u001b[0m\u001b[1;33m=\u001b[0m\u001b[0mx\u001b[0m\u001b[1;33m,\u001b[0m\u001b[1;33m\u001b[0m\u001b[1;33m\u001b[0m\u001b[0m\n\u001b[0;32m   1600\u001b[0m           \u001b[0mbatch_size\u001b[0m\u001b[1;33m=\u001b[0m\u001b[0mbatch_size\u001b[0m\u001b[1;33m,\u001b[0m\u001b[1;33m\u001b[0m\u001b[1;33m\u001b[0m\u001b[0m\n",
      "\u001b[1;32mc:\\users\\florianhuber\\anaconda3\\envs\\ms2deepscore\\lib\\site-packages\\tensorflow\\python\\keras\\engine\\data_adapter.py\u001b[0m in \u001b[0;36m__init__\u001b[1;34m(self, x, y, sample_weight, batch_size, steps_per_epoch, initial_epoch, epochs, shuffle, class_weight, max_queue_size, workers, use_multiprocessing, model, steps_per_execution)\u001b[0m\n\u001b[0;32m   1098\u001b[0m \u001b[1;33m\u001b[0m\u001b[0m\n\u001b[0;32m   1099\u001b[0m     \u001b[0madapter_cls\u001b[0m \u001b[1;33m=\u001b[0m \u001b[0mselect_data_adapter\u001b[0m\u001b[1;33m(\u001b[0m\u001b[0mx\u001b[0m\u001b[1;33m,\u001b[0m \u001b[0my\u001b[0m\u001b[1;33m)\u001b[0m\u001b[1;33m\u001b[0m\u001b[1;33m\u001b[0m\u001b[0m\n\u001b[1;32m-> 1100\u001b[1;33m     self._adapter = adapter_cls(\n\u001b[0m\u001b[0;32m   1101\u001b[0m         \u001b[0mx\u001b[0m\u001b[1;33m,\u001b[0m\u001b[1;33m\u001b[0m\u001b[1;33m\u001b[0m\u001b[0m\n\u001b[0;32m   1102\u001b[0m         \u001b[0my\u001b[0m\u001b[1;33m,\u001b[0m\u001b[1;33m\u001b[0m\u001b[1;33m\u001b[0m\u001b[0m\n",
      "\u001b[1;32mc:\\users\\florianhuber\\anaconda3\\envs\\ms2deepscore\\lib\\site-packages\\tensorflow\\python\\keras\\engine\\data_adapter.py\u001b[0m in \u001b[0;36m__init__\u001b[1;34m(self, x, y, sample_weights, sample_weight_modes, batch_size, epochs, steps, shuffle, **kwargs)\u001b[0m\n\u001b[0;32m    300\u001b[0m     \u001b[1;31m# 5. disabled static optimizations\u001b[0m\u001b[1;33m\u001b[0m\u001b[1;33m\u001b[0m\u001b[1;33m\u001b[0m\u001b[0m\n\u001b[0;32m    301\u001b[0m \u001b[1;33m\u001b[0m\u001b[0m\n\u001b[1;32m--> 302\u001b[1;33m     \u001b[0mindices_dataset\u001b[0m \u001b[1;33m=\u001b[0m \u001b[0mdataset_ops\u001b[0m\u001b[1;33m.\u001b[0m\u001b[0mDatasetV2\u001b[0m\u001b[1;33m.\u001b[0m\u001b[0mrange\u001b[0m\u001b[1;33m(\u001b[0m\u001b[1;36m1\u001b[0m\u001b[1;33m)\u001b[0m\u001b[1;33m\u001b[0m\u001b[1;33m\u001b[0m\u001b[0m\n\u001b[0m\u001b[0;32m    303\u001b[0m     \u001b[1;32mif\u001b[0m \u001b[0mshuffle\u001b[0m \u001b[1;33m!=\u001b[0m \u001b[1;34m\"batch\"\u001b[0m\u001b[1;33m:\u001b[0m\u001b[1;33m\u001b[0m\u001b[1;33m\u001b[0m\u001b[0m\n\u001b[0;32m    304\u001b[0m       \u001b[0mindices_dataset\u001b[0m \u001b[1;33m=\u001b[0m \u001b[0mindices_dataset\u001b[0m\u001b[1;33m.\u001b[0m\u001b[0mrepeat\u001b[0m\u001b[1;33m(\u001b[0m\u001b[0mepochs\u001b[0m\u001b[1;33m)\u001b[0m\u001b[1;33m\u001b[0m\u001b[1;33m\u001b[0m\u001b[0m\n",
      "\u001b[1;32mc:\\users\\florianhuber\\anaconda3\\envs\\ms2deepscore\\lib\\site-packages\\tensorflow\\python\\data\\ops\\dataset_ops.py\u001b[0m in \u001b[0;36mrange\u001b[1;34m(*args, **kwargs)\u001b[0m\n\u001b[0;32m   1063\u001b[0m       \u001b[0mValueError\u001b[0m\u001b[1;33m:\u001b[0m \u001b[1;32mif\u001b[0m \u001b[0mlen\u001b[0m\u001b[1;33m(\u001b[0m\u001b[0margs\u001b[0m\u001b[1;33m)\u001b[0m \u001b[1;33m==\u001b[0m \u001b[1;36m0.\u001b[0m\u001b[1;33m\u001b[0m\u001b[1;33m\u001b[0m\u001b[0m\n\u001b[0;32m   1064\u001b[0m     \"\"\"\n\u001b[1;32m-> 1065\u001b[1;33m     \u001b[1;32mreturn\u001b[0m \u001b[0mRangeDataset\u001b[0m\u001b[1;33m(\u001b[0m\u001b[1;33m*\u001b[0m\u001b[0margs\u001b[0m\u001b[1;33m,\u001b[0m \u001b[1;33m**\u001b[0m\u001b[0mkwargs\u001b[0m\u001b[1;33m)\u001b[0m\u001b[1;33m\u001b[0m\u001b[1;33m\u001b[0m\u001b[0m\n\u001b[0m\u001b[0;32m   1066\u001b[0m \u001b[1;33m\u001b[0m\u001b[0m\n\u001b[0;32m   1067\u001b[0m   \u001b[1;33m@\u001b[0m\u001b[0mstaticmethod\u001b[0m\u001b[1;33m\u001b[0m\u001b[1;33m\u001b[0m\u001b[0m\n",
      "\u001b[1;32mc:\\users\\florianhuber\\anaconda3\\envs\\ms2deepscore\\lib\\site-packages\\tensorflow\\python\\data\\ops\\dataset_ops.py\u001b[0m in \u001b[0;36m__init__\u001b[1;34m(self, *args, **kwargs)\u001b[0m\n\u001b[0;32m   3732\u001b[0m     \u001b[0mself\u001b[0m\u001b[1;33m.\u001b[0m\u001b[0m_parse_args\u001b[0m\u001b[1;33m(\u001b[0m\u001b[1;33m*\u001b[0m\u001b[0margs\u001b[0m\u001b[1;33m,\u001b[0m \u001b[1;33m**\u001b[0m\u001b[0mkwargs\u001b[0m\u001b[1;33m)\u001b[0m\u001b[1;33m\u001b[0m\u001b[1;33m\u001b[0m\u001b[0m\n\u001b[0;32m   3733\u001b[0m     \u001b[0mself\u001b[0m\u001b[1;33m.\u001b[0m\u001b[0m_structure\u001b[0m \u001b[1;33m=\u001b[0m \u001b[0mtensor_spec\u001b[0m\u001b[1;33m.\u001b[0m\u001b[0mTensorSpec\u001b[0m\u001b[1;33m(\u001b[0m\u001b[1;33m[\u001b[0m\u001b[1;33m]\u001b[0m\u001b[1;33m,\u001b[0m \u001b[0mself\u001b[0m\u001b[1;33m.\u001b[0m\u001b[0m_output_type\u001b[0m\u001b[1;33m)\u001b[0m\u001b[1;33m\u001b[0m\u001b[1;33m\u001b[0m\u001b[0m\n\u001b[1;32m-> 3734\u001b[1;33m     variant_tensor = gen_dataset_ops.range_dataset(\n\u001b[0m\u001b[0;32m   3735\u001b[0m         \u001b[0mstart\u001b[0m\u001b[1;33m=\u001b[0m\u001b[0mself\u001b[0m\u001b[1;33m.\u001b[0m\u001b[0m_start\u001b[0m\u001b[1;33m,\u001b[0m\u001b[1;33m\u001b[0m\u001b[1;33m\u001b[0m\u001b[0m\n\u001b[0;32m   3736\u001b[0m         \u001b[0mstop\u001b[0m\u001b[1;33m=\u001b[0m\u001b[0mself\u001b[0m\u001b[1;33m.\u001b[0m\u001b[0m_stop\u001b[0m\u001b[1;33m,\u001b[0m\u001b[1;33m\u001b[0m\u001b[1;33m\u001b[0m\u001b[0m\n",
      "\u001b[1;32mc:\\users\\florianhuber\\anaconda3\\envs\\ms2deepscore\\lib\\site-packages\\tensorflow\\python\\ops\\gen_dataset_ops.py\u001b[0m in \u001b[0;36mrange_dataset\u001b[1;34m(start, stop, step, output_types, output_shapes, name)\u001b[0m\n\u001b[0;32m   5400\u001b[0m   \u001b[1;32mif\u001b[0m \u001b[0mtld\u001b[0m\u001b[1;33m.\u001b[0m\u001b[0mis_eager\u001b[0m\u001b[1;33m:\u001b[0m\u001b[1;33m\u001b[0m\u001b[1;33m\u001b[0m\u001b[0m\n\u001b[0;32m   5401\u001b[0m     \u001b[1;32mtry\u001b[0m\u001b[1;33m:\u001b[0m\u001b[1;33m\u001b[0m\u001b[1;33m\u001b[0m\u001b[0m\n\u001b[1;32m-> 5402\u001b[1;33m       _result = pywrap_tfe.TFE_Py_FastPathExecute(\n\u001b[0m\u001b[0;32m   5403\u001b[0m         \u001b[0m_ctx\u001b[0m\u001b[1;33m,\u001b[0m \u001b[1;34m\"RangeDataset\"\u001b[0m\u001b[1;33m,\u001b[0m \u001b[0mname\u001b[0m\u001b[1;33m,\u001b[0m \u001b[0mstart\u001b[0m\u001b[1;33m,\u001b[0m \u001b[0mstop\u001b[0m\u001b[1;33m,\u001b[0m \u001b[0mstep\u001b[0m\u001b[1;33m,\u001b[0m \u001b[1;34m\"output_types\"\u001b[0m\u001b[1;33m,\u001b[0m\u001b[1;33m\u001b[0m\u001b[1;33m\u001b[0m\u001b[0m\n\u001b[0;32m   5404\u001b[0m         output_types, \"output_shapes\", output_shapes)\n",
      "\u001b[1;31mKeyboardInterrupt\u001b[0m: "
     ]
    }
   ],
   "source": [
    "from tqdm import tqdm\n",
    "\n",
    "embeddings = []\n",
    "for spec in tqdm(spectrums):\n",
    "    binned_spec = model.spectrum_binner.transform([spec], progress_bar=False)[0]\n",
    "    embeddings.append(model.base.predict(ms2ds_score._create_input_vector(binned_spec)))\n",
    "    "
   ]
  },
  {
   "cell_type": "markdown",
   "id": "inclusive-matrix",
   "metadata": {},
   "source": [
    "## Check if faster: do in batches..."
   ]
  },
  {
   "cell_type": "code",
   "execution_count": 38,
   "id": "direct-aircraft",
   "metadata": {},
   "outputs": [
    {
     "name": "stderr",
     "output_type": "stream",
     "text": [
      "100%|████████████████████████| 2195/2195 [1:44:37<00:00,  2.86s/it]\n"
     ]
    }
   ],
   "source": [
    "from tqdm import tqdm\n",
    "\n",
    "n_spectrums = len(spectrums)\n",
    "batch_size = 50\n",
    "n_batches = int(np.ceil(n_spectrums/batch_size))\n",
    "\n",
    "# Initialize embeddings array\n",
    "embeddings = np.zeros((n_spectrums, ms2ds_score.output_vector_dim))\n",
    "\n",
    "ms2ds_score.progress_bar = False\n",
    "for count in tqdm(range(n_batches)):\n",
    "    low = count*batch_size\n",
    "    high = (count+1)*batch_size\n",
    "    embeddings[low:high, :] = ms2ds_score.calculate_vectors(spectrums[low:high])"
   ]
  },
  {
   "cell_type": "code",
   "execution_count": 40,
   "id": "specified-independence",
   "metadata": {},
   "outputs": [
    {
     "data": {
      "text/plain": [
       "(109734, 400)"
      ]
     },
     "execution_count": 40,
     "metadata": {},
     "output_type": "execute_result"
    }
   ],
   "source": [
    "embeddings.shape"
   ]
  },
  {
   "cell_type": "code",
   "execution_count": 39,
   "id": "derived-electronics",
   "metadata": {},
   "outputs": [],
   "source": [
    "np.save(\"ms2ds_embeddings_model210207_ALL_GNPS_positive_L1L2.npy\", embeddings)"
   ]
  },
  {
   "cell_type": "code",
   "execution_count": 22,
   "id": "integrated-handbook",
   "metadata": {},
   "outputs": [
    {
     "name": "stderr",
     "output_type": "stream",
     "text": [
      "100%|██████████████████| 109734/109734 [00:00<00:00, 599561.73it/s]\n"
     ]
    }
   ],
   "source": [
    "spectrum_ids = []\n",
    "for spec in tqdm(spectrums):\n",
    "    spectrum_ids.append(spec.get(\"spectrumid\"))"
   ]
  },
  {
   "cell_type": "code",
   "execution_count": 21,
   "id": "accompanied-framework",
   "metadata": {},
   "outputs": [
    {
     "name": "stderr",
     "output_type": "stream",
     "text": [
      "100%|██████████████████| 109734/109734 [00:00<00:00, 516584.01it/s]\n"
     ]
    }
   ],
   "source": [
    "# just checking something\n",
    "for spec in tqdm(spectrums):\n",
    "    if not spec.get(\"spectrumid\"):\n",
    "        if spec.get(\"spectrum id\"):\n",
    "            print(spec.get(\"spectrum id\"))\n",
    "        else:\n",
    "            print(spec.metadata)"
   ]
  },
  {
   "cell_type": "code",
   "execution_count": 42,
   "id": "checked-chamber",
   "metadata": {},
   "outputs": [
    {
     "data": {
      "text/html": [
       "<div>\n",
       "<style scoped>\n",
       "    .dataframe tbody tr th:only-of-type {\n",
       "        vertical-align: middle;\n",
       "    }\n",
       "\n",
       "    .dataframe tbody tr th {\n",
       "        vertical-align: top;\n",
       "    }\n",
       "\n",
       "    .dataframe thead th {\n",
       "        text-align: right;\n",
       "    }\n",
       "</style>\n",
       "<table border=\"1\" class=\"dataframe\">\n",
       "  <thead>\n",
       "    <tr style=\"text-align: right;\">\n",
       "      <th></th>\n",
       "      <th>0</th>\n",
       "      <th>1</th>\n",
       "      <th>2</th>\n",
       "      <th>3</th>\n",
       "      <th>4</th>\n",
       "      <th>5</th>\n",
       "      <th>6</th>\n",
       "      <th>7</th>\n",
       "      <th>8</th>\n",
       "      <th>9</th>\n",
       "      <th>...</th>\n",
       "      <th>390</th>\n",
       "      <th>391</th>\n",
       "      <th>392</th>\n",
       "      <th>393</th>\n",
       "      <th>394</th>\n",
       "      <th>395</th>\n",
       "      <th>396</th>\n",
       "      <th>397</th>\n",
       "      <th>398</th>\n",
       "      <th>399</th>\n",
       "    </tr>\n",
       "  </thead>\n",
       "  <tbody>\n",
       "    <tr>\n",
       "      <th>CCMSLIB00000001547</th>\n",
       "      <td>0.0</td>\n",
       "      <td>0.0</td>\n",
       "      <td>0.0</td>\n",
       "      <td>0.000000</td>\n",
       "      <td>0.0</td>\n",
       "      <td>0.0</td>\n",
       "      <td>0.000000</td>\n",
       "      <td>0.000000</td>\n",
       "      <td>3.476796</td>\n",
       "      <td>20.291985</td>\n",
       "      <td>...</td>\n",
       "      <td>18.685604</td>\n",
       "      <td>0.000000</td>\n",
       "      <td>16.104929</td>\n",
       "      <td>0.0</td>\n",
       "      <td>0.000000</td>\n",
       "      <td>0.0</td>\n",
       "      <td>0.000000</td>\n",
       "      <td>0.0</td>\n",
       "      <td>22.626669</td>\n",
       "      <td>0.000000</td>\n",
       "    </tr>\n",
       "    <tr>\n",
       "      <th>CCMSLIB00000001548</th>\n",
       "      <td>0.0</td>\n",
       "      <td>0.0</td>\n",
       "      <td>0.0</td>\n",
       "      <td>0.000000</td>\n",
       "      <td>0.0</td>\n",
       "      <td>0.0</td>\n",
       "      <td>27.889698</td>\n",
       "      <td>0.000000</td>\n",
       "      <td>1.514147</td>\n",
       "      <td>9.358854</td>\n",
       "      <td>...</td>\n",
       "      <td>11.398055</td>\n",
       "      <td>0.000000</td>\n",
       "      <td>6.999692</td>\n",
       "      <td>0.0</td>\n",
       "      <td>0.000000</td>\n",
       "      <td>0.0</td>\n",
       "      <td>20.042799</td>\n",
       "      <td>0.0</td>\n",
       "      <td>21.461294</td>\n",
       "      <td>6.365351</td>\n",
       "    </tr>\n",
       "    <tr>\n",
       "      <th>CCMSLIB00000001549</th>\n",
       "      <td>0.0</td>\n",
       "      <td>0.0</td>\n",
       "      <td>0.0</td>\n",
       "      <td>24.830593</td>\n",
       "      <td>0.0</td>\n",
       "      <td>0.0</td>\n",
       "      <td>40.770763</td>\n",
       "      <td>0.000000</td>\n",
       "      <td>0.000000</td>\n",
       "      <td>21.494141</td>\n",
       "      <td>...</td>\n",
       "      <td>2.923690</td>\n",
       "      <td>37.494492</td>\n",
       "      <td>6.250359</td>\n",
       "      <td>0.0</td>\n",
       "      <td>34.624268</td>\n",
       "      <td>0.0</td>\n",
       "      <td>0.000000</td>\n",
       "      <td>0.0</td>\n",
       "      <td>3.956780</td>\n",
       "      <td>0.000000</td>\n",
       "    </tr>\n",
       "    <tr>\n",
       "      <th>CCMSLIB00000001550</th>\n",
       "      <td>0.0</td>\n",
       "      <td>0.0</td>\n",
       "      <td>0.0</td>\n",
       "      <td>0.000000</td>\n",
       "      <td>0.0</td>\n",
       "      <td>0.0</td>\n",
       "      <td>30.164677</td>\n",
       "      <td>0.000000</td>\n",
       "      <td>9.577003</td>\n",
       "      <td>21.558676</td>\n",
       "      <td>...</td>\n",
       "      <td>0.000000</td>\n",
       "      <td>0.000000</td>\n",
       "      <td>17.673256</td>\n",
       "      <td>0.0</td>\n",
       "      <td>0.000000</td>\n",
       "      <td>0.0</td>\n",
       "      <td>0.000000</td>\n",
       "      <td>0.0</td>\n",
       "      <td>16.931871</td>\n",
       "      <td>4.567202</td>\n",
       "    </tr>\n",
       "    <tr>\n",
       "      <th>CCMSLIB00000001552</th>\n",
       "      <td>0.0</td>\n",
       "      <td>0.0</td>\n",
       "      <td>0.0</td>\n",
       "      <td>5.834791</td>\n",
       "      <td>0.0</td>\n",
       "      <td>0.0</td>\n",
       "      <td>19.156965</td>\n",
       "      <td>9.777411</td>\n",
       "      <td>0.000000</td>\n",
       "      <td>7.137674</td>\n",
       "      <td>...</td>\n",
       "      <td>16.553169</td>\n",
       "      <td>23.736992</td>\n",
       "      <td>6.935493</td>\n",
       "      <td>0.0</td>\n",
       "      <td>35.172691</td>\n",
       "      <td>0.0</td>\n",
       "      <td>0.000000</td>\n",
       "      <td>0.0</td>\n",
       "      <td>19.771908</td>\n",
       "      <td>0.000000</td>\n",
       "    </tr>\n",
       "  </tbody>\n",
       "</table>\n",
       "<p>5 rows × 400 columns</p>\n",
       "</div>"
      ],
      "text/plain": [
       "                    0    1    2          3    4    5          6         7    \\\n",
       "CCMSLIB00000001547  0.0  0.0  0.0   0.000000  0.0  0.0   0.000000  0.000000   \n",
       "CCMSLIB00000001548  0.0  0.0  0.0   0.000000  0.0  0.0  27.889698  0.000000   \n",
       "CCMSLIB00000001549  0.0  0.0  0.0  24.830593  0.0  0.0  40.770763  0.000000   \n",
       "CCMSLIB00000001550  0.0  0.0  0.0   0.000000  0.0  0.0  30.164677  0.000000   \n",
       "CCMSLIB00000001552  0.0  0.0  0.0   5.834791  0.0  0.0  19.156965  9.777411   \n",
       "\n",
       "                         8          9    ...        390        391        392  \\\n",
       "CCMSLIB00000001547  3.476796  20.291985  ...  18.685604   0.000000  16.104929   \n",
       "CCMSLIB00000001548  1.514147   9.358854  ...  11.398055   0.000000   6.999692   \n",
       "CCMSLIB00000001549  0.000000  21.494141  ...   2.923690  37.494492   6.250359   \n",
       "CCMSLIB00000001550  9.577003  21.558676  ...   0.000000   0.000000  17.673256   \n",
       "CCMSLIB00000001552  0.000000   7.137674  ...  16.553169  23.736992   6.935493   \n",
       "\n",
       "                    393        394  395        396  397        398       399  \n",
       "CCMSLIB00000001547  0.0   0.000000  0.0   0.000000  0.0  22.626669  0.000000  \n",
       "CCMSLIB00000001548  0.0   0.000000  0.0  20.042799  0.0  21.461294  6.365351  \n",
       "CCMSLIB00000001549  0.0  34.624268  0.0   0.000000  0.0   3.956780  0.000000  \n",
       "CCMSLIB00000001550  0.0   0.000000  0.0   0.000000  0.0  16.931871  4.567202  \n",
       "CCMSLIB00000001552  0.0  35.172691  0.0   0.000000  0.0  19.771908  0.000000  \n",
       "\n",
       "[5 rows x 400 columns]"
      ]
     },
     "execution_count": 42,
     "metadata": {},
     "output_type": "execute_result"
    }
   ],
   "source": [
    "ms2ds_embeddings = pd.DataFrame(embeddings, index=spectrum_ids)\n",
    "ms2ds_embeddings.head()"
   ]
  },
  {
   "cell_type": "code",
   "execution_count": null,
   "id": "experimental-module",
   "metadata": {},
   "outputs": [],
   "source": [
    "ms2ds_embeddings.to_csv(\"ms2ds_embeddings_model210207_ALL_GNPS_positive_L1L2.csv\")"
   ]
  },
  {
   "cell_type": "code",
   "execution_count": 21,
   "id": "hawaiian-nepal",
   "metadata": {},
   "outputs": [],
   "source": [
    "pickle.dump(spectrum_binner, \n",
    "            open(os.path.join(path_data, 'GNPS_all', 'ALL_GNPS_positive_training_spectrum_binner_1.pickle'), \"wb\"))\n"
   ]
  }
 ],
 "metadata": {
  "kernelspec": {
   "display_name": "Python 3",
   "language": "python",
   "name": "python3"
  },
  "language_info": {
   "codemirror_mode": {
    "name": "ipython",
    "version": 3
   },
   "file_extension": ".py",
   "mimetype": "text/x-python",
   "name": "python",
   "nbconvert_exporter": "python",
   "pygments_lexer": "ipython3",
   "version": "3.8.5"
  }
 },
 "nbformat": 4,
 "nbformat_minor": 5
}
