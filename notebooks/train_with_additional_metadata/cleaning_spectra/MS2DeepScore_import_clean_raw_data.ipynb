{
 "cells": [
  {
   "cell_type": "markdown",
   "metadata": {},
   "source": [
    "# Import and clean large GNPS MS/MS dataset"
   ]
  },
  {
   "cell_type": "markdown",
   "metadata": {},
   "source": [
    "## Using matchms to harmonize, clean, and complete metadata\n",
    "Here we run matchms filters and additional custom filters to do extensive cleaning of a large spectral dataset (>210,000 spectra).\n",
    "\n",
    "This notebook will expect that you have ``spec2vec`` installed via conda, which (currently) automatically include ``matchms`` and ``rdkit`` as well.\n",
    "You can do this by creating an environment in anaconda and installing matchms via conda:\n",
    "\n",
    "``conda create --name spec2vec_analysis python=3.8\n",
    "conda activate spec2vec_analysis\n",
    "conda install --channel bioconda --channel conda-forge spec2vec``"
   ]
  },
  {
   "cell_type": "code",
   "execution_count": 1,
   "metadata": {},
   "outputs": [
    {
     "name": "stderr",
     "output_type": "stream",
     "text": [
      "C:\\Users\\flori\\.conda\\envs\\matchms-dev\\lib\\site-packages\\scipy\\__init__.py:146: UserWarning: A NumPy version >=1.16.5 and <1.23.0 is required for this version of SciPy (detected version 1.23.5\n",
      "  warnings.warn(f\"A NumPy version >={np_minversion} and <{np_maxversion}\"\n"
     ]
    }
   ],
   "source": [
    "import os\n",
    "from pathlib import Path\n",
    "import pickle\n",
    "import numpy as np\n",
    "from matchms.importing import load_from_mgf\n",
    "#import tensorflow as tf\n",
    "#from tensorflow.keras.utils import to_categorical\n",
    "\n",
    "ROOT = Path(os.getcwd()).parents[0]\n",
    "\n",
    "#path_data = os.path.join(Path(ROOT).parents[0], \"Data\", \"ms_ms_data_230201\")  # add your local data folder here\n",
    "path_data = os.path.join(Path(ROOT), \"ms_ms_data_230201\")"
   ]
  },
  {
   "cell_type": "markdown",
   "metadata": {},
   "source": [
    "## Load spectra raw data from GNPS and convert to pickle files\n",
    "- Retrieved on 01/02/2023 from https://gnps-external.ucsd.edu/gnpslibrary"
   ]
  },
  {
   "cell_type": "code",
   "execution_count": 13,
   "metadata": {},
   "outputs": [],
   "source": [
    "def load_and_pickle(filename):\n",
    "    spectrums = list(load_from_mgf(filename))\n",
    "    print(f\"number of spectra: {len(spectrums)}\")\n",
    "    count_annotations(spectrums)\n",
    "    \n",
    "    # pickle\n",
    "    filename_pickle = filename.split(\".\")[0] + \".pickle\"\n",
    "    pickle.dump(spectrums, \n",
    "        open(os.path.join(path_data, filename_pickle), \"wb\"))\n",
    "\n",
    "\n",
    "def count_annotations(spectra):\n",
    "    inchi_lst = []\n",
    "    smiles_lst = []\n",
    "    inchikey_lst = []\n",
    "    for i, spec in enumerate(spectra):\n",
    "        inchi_lst.append(spec.get(\"inchi\"))\n",
    "        smiles_lst.append(spec.get(\"smiles\"))\n",
    "        inchikey = spec.get(\"inchikey\")\n",
    "        if inchikey is None:\n",
    "            inchikey = spec.get(\"inchikey_inchi\")\n",
    "        inchikey_lst.append(inchikey)\n",
    "\n",
    "    inchi_count = sum([1 for x in inchi_lst if x])\n",
    "    smiles_count = sum([1 for x in smiles_lst if x])\n",
    "    inchikey_count = sum([1 for x in inchikey_lst if x])\n",
    "    print(\"Inchis:\", inchi_count, \"--\", len(set(inchi_lst)), \"unique\")\n",
    "    print(\"Smiles:\", smiles_count, \"--\", len(set(smiles_lst)), \"unique\")\n",
    "    print(\"Inchikeys:\", inchikey_count, \"--\", \n",
    "          len(set([x[:14] for x in inchikey_lst if x])), \"unique (first 14 characters)\")"
   ]
  },
  {
   "cell_type": "markdown",
   "metadata": {},
   "source": [
    "### Convert all mgf to pickle files (faster to work with later on...)"
   ]
  },
  {
   "cell_type": "code",
   "execution_count": 10,
   "metadata": {},
   "outputs": [
    {
     "name": "stdout",
     "output_type": "stream",
     "text": [
      "number of spectra: 587756\n",
      "Inchis: 582926 -- 81535 unique\n",
      "Smiles: 584940 -- 38613 unique\n",
      "Inchikeys: 0 -- 0 unique (first 14 characters)\n",
      "number of spectra: 7232\n",
      "Inchis: 7232 -- 1 unique\n",
      "Smiles: 6947 -- 550 unique\n",
      "Inchikeys: 0 -- 0 unique (first 14 characters)\n",
      "number of spectra: 7058\n",
      "Inchis: 7058 -- 1 unique\n",
      "Smiles: 6908 -- 548 unique\n",
      "Inchikeys: 0 -- 0 unique (first 14 characters)\n",
      "number of spectra: 227307\n",
      "Inchis: 227307 -- 2579 unique\n",
      "Smiles: 227307 -- 2581 unique\n",
      "Inchikeys: 0 -- 0 unique (first 14 characters)\n",
      "number of spectra: 562\n",
      "Inchis: 562 -- 489 unique\n",
      "Smiles: 562 -- 450 unique\n",
      "Inchikeys: 0 -- 0 unique (first 14 characters)\n",
      "number of spectra: 2235\n",
      "Inchis: 2235 -- 743 unique\n",
      "Smiles: 2235 -- 746 unique\n",
      "Inchikeys: 0 -- 0 unique (first 14 characters)\n",
      "number of spectra: 64783\n",
      "Inchis: 64782 -- 7097 unique\n",
      "Smiles: 64783 -- 9207 unique\n",
      "Inchikeys: 0 -- 0 unique (first 14 characters)\n",
      "number of spectra: 1492\n",
      "Inchis: 1492 -- 654 unique\n",
      "Smiles: 1492 -- 694 unique\n",
      "Inchikeys: 0 -- 0 unique (first 14 characters)\n",
      "number of spectra: 56292\n",
      "Inchis: 56292 -- 5328 unique\n",
      "Smiles: 56292 -- 3150 unique\n",
      "Inchikeys: 0 -- 0 unique (first 14 characters)\n",
      "number of spectra: 7112\n",
      "Inchis: 7111 -- 1187 unique\n",
      "Smiles: 7112 -- 1405 unique\n",
      "Inchikeys: 0 -- 0 unique (first 14 characters)\n",
      "number of spectra: 904\n",
      "Inchis: 904 -- 260 unique\n",
      "Smiles: 904 -- 262 unique\n",
      "Inchikeys: 0 -- 0 unique (first 14 characters)\n"
     ]
    }
   ],
   "source": [
    "for filename in os.listdir(path_data):\n",
    "    if filename.endswith(\".mgf\"):\n",
    "        load_and_pickle(os.path.join(path_data, filename))"
   ]
  },
  {
   "cell_type": "code",
   "execution_count": null,
   "metadata": {},
   "outputs": [],
   "source": [
    "import pickle\n",
    "outfile = os.path.join(path_data, 'GNPS_all', 'ALL_GNPS.pickle')\n",
    "with open(outfile, 'rb') as file:\n",
    "    spectrums = pickle.load(file)"
   ]
  },
  {
   "cell_type": "code",
   "execution_count": null,
   "metadata": {},
   "outputs": [],
   "source": []
  },
  {
   "cell_type": "code",
   "execution_count": null,
   "metadata": {},
   "outputs": [],
   "source": [
    "count_annotations(spectrums) "
   ]
  },
  {
   "cell_type": "markdown",
   "metadata": {},
   "source": [
    "## Run basic matchs filters"
   ]
  },
  {
   "cell_type": "code",
   "execution_count": 4,
   "metadata": {},
   "outputs": [],
   "source": [
    "# set logger\n",
    "from matchms.logging_functions import add_logging_to_file, reset_matchms_logger, set_matchms_logger_level\n",
    "\n",
    "reset_matchms_logger(logger_name=\"matchms\")\n",
    "set_matchms_logger_level(\"INFO\")\n",
    "add_logging_to_file(\"ms_ms_data_cleaning_230203.log\",\n",
    "                    loglevel=\"INFO\",\n",
    "                    remove_stream_handlers=True)"
   ]
  },
  {
   "cell_type": "code",
   "execution_count": null,
   "metadata": {},
   "outputs": [],
   "source": [
    "formulas = []\n",
    "name_to_formulas = []\n",
    "for spec in spectrums:\n",
    "    if spec.get(\"formula\"):\n",
    "        formulas.append(spec.get(\"formula\"))\n",
    "        name_to_formulas.append(spec.get(\"compound_name\") + \"---\" + spec.get(\"formula\"))"
   ]
  },
  {
   "cell_type": "code",
   "execution_count": null,
   "metadata": {},
   "outputs": [],
   "source": [
    "name_to_formulas[:1000]"
   ]
  },
  {
   "cell_type": "code",
   "execution_count": null,
   "metadata": {},
   "outputs": [],
   "source": [
    "len(formulas)"
   ]
  },
  {
   "cell_type": "code",
   "execution_count": null,
   "metadata": {},
   "outputs": [],
   "source": [
    "len(list(set(formulas)))"
   ]
  },
  {
   "cell_type": "code",
   "execution_count": null,
   "metadata": {},
   "outputs": [],
   "source": [
    "list(set(formulas))"
   ]
  },
  {
   "cell_type": "markdown",
   "metadata": {},
   "source": [
    "## Clean (and extend) metadata\n",
    "\n",
    "### 1) Harmization\n",
    "+ Here, undefiend entries will be harmonized (instead of having a huge variation of None,\"\", \"N/A\" etc.)\n",
    "+ The ``repair_inchi_inchikey_smiles`` function will correct misplaced metadata (e.g. inchikeys entered as inchi etc.) and harmonize the entry strings."
   ]
  },
  {
   "cell_type": "code",
   "execution_count": 5,
   "metadata": {},
   "outputs": [],
   "source": [
    "from tqdm.notebook import tqdm\n",
    "import matchms.filtering as ms_filters\n",
    "\n",
    "def apply_basic_filters(s):\n",
    "    s = ms_filters.default_filters(s)\n",
    "    s = ms_filters.derive_adduct_from_name(s)\n",
    "    s = ms_filters.add_parent_mass(s, estimate_from_adduct=True)\n",
    "    return s\n",
    "\n",
    "\n",
    "def clean_metadata(s):\n",
    "    s = ms_filters.harmonize_undefined_inchikey(s)\n",
    "    s = ms_filters.harmonize_undefined_inchi(s)\n",
    "    s = ms_filters.harmonize_undefined_smiles(s)\n",
    "    s = ms_filters.repair_inchi_inchikey_smiles(s)\n",
    "    return s\n",
    "\n",
    "#spectrums = [clean_metadata(apply_basic_filters(s)) for s in tqdm(spectrums)]"
   ]
  },
  {
   "cell_type": "code",
   "execution_count": null,
   "metadata": {},
   "outputs": [],
   "source": [
    "#count_annotations(spectrums)"
   ]
  },
  {
   "cell_type": "markdown",
   "metadata": {},
   "source": [
    "### 2) Convert entries where possible\n",
    "Where possible (and necessary, i.e. missing): Convert between smiles, inchi, inchikey to complete metadata. This is done using functions from rdkit."
   ]
  },
  {
   "cell_type": "code",
   "execution_count": 6,
   "metadata": {},
   "outputs": [],
   "source": [
    "from tqdm.notebook import tqdm\n",
    "import matchms.filtering as ms_filters\n",
    "\n",
    "def clean_metadata2(s):\n",
    "    s = ms_filters.derive_inchi_from_smiles(s)\n",
    "    s = ms_filters.derive_smiles_from_inchi(s)\n",
    "    s = ms_filters.derive_inchikey_from_inchi(s)\n",
    "    return s\n",
    "\n",
    "#spectrums = [clean_metadata2(s) for s in tqdm(spectrums)]"
   ]
  },
  {
   "cell_type": "markdown",
   "metadata": {},
   "source": [
    "### Below part was not really necessary. All seems to be included in ALL_GNPS.mgf already!!"
   ]
  },
  {
   "cell_type": "code",
   "execution_count": 14,
   "metadata": {},
   "outputs": [
    {
     "name": "stdout",
     "output_type": "stream",
     "text": [
      "Inchis: 582926 -- 81535 unique\n",
      "Smiles: 584940 -- 38613 unique\n",
      "Inchikeys: 0 -- 0 unique (first 14 characters)\n"
     ]
    },
    {
     "data": {
      "application/vnd.jupyter.widget-view+json": {
       "model_id": "92e68e09fee14715a0d1549ed0481f7d",
       "version_major": 2,
       "version_minor": 0
      },
      "text/plain": [
       "  0%|          | 0/587756 [00:00<?, ?it/s]"
      ]
     },
     "metadata": {},
     "output_type": "display_data"
    }
   ],
   "source": [
    "for filename in os.listdir(path_data):\n",
    "    if not filename.endswith(\".pickle\") or \"cleaned_by_matchms\" in filename:\n",
    "        continue\n",
    "        \n",
    "    # Load pickle file:\n",
    "    with open(os.path.join(path_data, filename), 'rb') as file:\n",
    "        spectrums = pickle.load(file)\n",
    "    count_annotations(spectrums)\n",
    "\n",
    "    # First processing part\n",
    "    spectrums = [clean_metadata(apply_basic_filters(s)) for s in tqdm(spectrums)]\n",
    "    count_annotations(spectrums)\n",
    "    \n",
    "    # Second processing part\n",
    "    spectrums = [clean_metadata2(s) for s in tqdm(spectrums)]\n",
    "    count_annotations(spectrums) \n",
    "\n",
    "    # Save as pickle\n",
    "    filename_new = filename.split(\".pickle\")[0] + \"cleaned_by_matchms\" + \".pickle\"\n",
    "    pickle.dump(spectrums, \n",
    "        open(filename_new, \"wb\"))"
   ]
  },
  {
   "cell_type": "code",
   "execution_count": 7,
   "metadata": {},
   "outputs": [
    {
     "name": "stdout",
     "output_type": "stream",
     "text": [
      "Inchis: 582926 -- 81535 unique\n",
      "Smiles: 584940 -- 38613 unique\n",
      "Inchikeys: 0 -- 0 unique (first 14 characters)\n"
     ]
    },
    {
     "data": {
      "application/vnd.jupyter.widget-view+json": {
       "model_id": "a122ef403f224f378a8826967b1c50cd",
       "version_major": 2,
       "version_minor": 0
      },
      "text/plain": [
       "  0%|          | 0/587756 [00:00<?, ?it/s]"
      ]
     },
     "metadata": {},
     "output_type": "display_data"
    }
   ],
   "source": [
    "# Load pickle file:\n",
    "filename = \"ALL_GNPS.pickle\"\n",
    "\n",
    "with open(os.path.join(path_data, filename), 'rb') as file:\n",
    "    spectrums = pickle.load(file)\n",
    "count_annotations(spectrums)\n",
    "\n",
    "# First processing part\n",
    "spectrums = [clean_metadata(apply_basic_filters(s)) for s in tqdm(spectrums)]\n",
    "count_annotations(spectrums)\n",
    "\n",
    "# Second processing part\n",
    "spectrums = [clean_metadata2(s) for s in tqdm(spectrums)]\n",
    "count_annotations(spectrums) \n",
    "\n",
    "# Save as pickle\n",
    "filename_new = filename.split(\".pickle\")[0] + \"cleaned_by_matchms\" + \".pickle\"\n",
    "pickle.dump(spectrums, \n",
    "    open(filename_new, \"wb\"))\n",
    "\n",
    "len(spectrums)"
   ]
  },
  {
   "cell_type": "code",
   "execution_count": 7,
   "metadata": {},
   "outputs": [],
   "source": [
    "import pickle\n",
    "filename = os.path.join(path_data, 'ALL_GNPS_cleaned_by_matchms.pickle')\n",
    "with open(filename, 'rb') as file:\n",
    "    spectrums = pickle.load(file)"
   ]
  },
  {
   "cell_type": "code",
   "execution_count": 10,
   "metadata": {},
   "outputs": [],
   "source": [
    "\"\"\"\n",
    "# Load ALL GNPS:\n",
    "with open(os.path.join(path_data, \"ALL_GNPScleaned_by_matchms.pickle\"), 'rb') as file:\n",
    "    spectrums = pickle.load(file)\n",
    "\n",
    "spectrum_ids = set([s.get(\"spectrum_id\") for s in spectrums])\n",
    "\n",
    "for filename in os.listdir(path_data):\n",
    "    if not filename.endswith(\"cleaned_by_matchms.pickle\"):\n",
    "        continue\n",
    "    if \"ALL_GNPS\" in filename:\n",
    "        continue\n",
    "        \n",
    "    # Load pickle file:\n",
    "    with open(os.path.join(path_data, filename), 'rb') as file:\n",
    "        additional_spectrums = pickle.load(file)\n",
    "        \n",
    "    for spec in additional_spectrums:\n",
    "        if spec.get(\"spectrum_id\") not in spectrum_ids:\n",
    "            print(f\"Found spectrum not contained in ALL_GNPS.mgf --> {spec.get('spectrum_id')}\")\n",
    "            spectrums.append(spec)\n",
    "            \n",
    "# Save as pickle\n",
    "filename_new = \"all_spectra_230201_matchms_filtered.pickle\"\n",
    "pickle.dump(spectrums, \n",
    "    open(filename_new, \"wb\"))  \n",
    "\"\"\""
   ]
  },
  {
   "cell_type": "markdown",
   "metadata": {},
   "source": [
    "## Manual + additional cleaning of compound names\n",
    "--> as preparation for later pubchem searches"
   ]
  },
  {
   "cell_type": "code",
   "execution_count": 8,
   "metadata": {},
   "outputs": [
    {
     "name": "stdout",
     "output_type": "stream",
     "text": [
      "587756\n"
     ]
    }
   ],
   "source": [
    "print(len(spectrums))"
   ]
  },
  {
   "cell_type": "code",
   "execution_count": 10,
   "metadata": {},
   "outputs": [
    {
     "data": {
      "application/vnd.jupyter.widget-view+json": {
       "model_id": "06566b429168411783df24d36eabd07a",
       "version_major": 2,
       "version_minor": 0
      },
      "text/plain": [
       "  0%|          | 0/587756 [00:00<?, ?it/s]"
      ]
     },
     "metadata": {},
     "output_type": "display_data"
    },
    {
     "data": {
      "application/vnd.jupyter.widget-view+json": {
       "model_id": "c64bb7614525456eae43ff2d0507583e",
       "version_major": 2,
       "version_minor": 0
      },
      "text/plain": [
       "  0%|          | 0/587756 [00:00<?, ?it/s]"
      ]
     },
     "metadata": {},
     "output_type": "display_data"
    }
   ],
   "source": [
    "import logging\n",
    "import re\n",
    "\n",
    "\n",
    "logger = logging.getLogger(\"matchms\")\n",
    "logger.info(\"\\n-----Additional heuristic compound name cleaning-----\\n\")\n",
    "\n",
    "\n",
    "def remove_misplaced_collision_energy(name):\n",
    "    \"\"\"Remove occasionally occurring collision energy addition to name.\"\"\"\n",
    "    regex_collision1 = r\"[Cc]ollision[Ee]nergy:[0-9]*\"\n",
    "    regex_collision2 = r\"[ -]*[0-9]{1,2}.[0-9 ]*e[vV]\"\n",
    "    regex_collision3 = r\"[ _]*[0-9]{1,2}e[vV]\"\n",
    "    name = re.sub(regex_collision1, \"\", name)\n",
    "    name = re.sub(regex_collision2, \"\", name)\n",
    "    return re.sub(regex_collision3, \"\", name)\n",
    "\n",
    "\n",
    "final_names = []\n",
    "def clean_compound_name(spectrum_in):\n",
    "    if spectrum_in is None:\n",
    "        return None\n",
    "\n",
    "    spectrum = spectrum_in.clone()\n",
    "\n",
    "    name_original = spectrum.get(\"compound_name\")\n",
    "    name = name_original.replace(\"F dial M\", \"\")\n",
    "    name = re.sub(r\"_1[0-9]{4,6}\", \"\", name)  # Notoamide R_130070\n",
    "    name = re.sub(r\"dereplictor_pv_[0-9.e-]+\", \"\", name)  # symplostatin_1_11773_dereplictor_pv_1.19169e-18\n",
    "    name = name.replace(\"_\", \" \")\n",
    "    #removals = [\"F dial M\", \"\"]\n",
    "\n",
    "    name = remove_misplaced_collision_energy(name)\n",
    "\n",
    "    # Remove last word if likely not correct:\n",
    "    if name.split(\" \")[-1] in [\"M\", \"M?\", \"?\", \"M+2H/2\", \"MS34+Na\", \"M]\", \"Cat+M]\", \"Unk\", \"--\"]:\n",
    "        name = \" \".join(name.split(\" \")[:-1]).strip()\n",
    "\n",
    "    name = name.strip(\"._ \")\n",
    "    if name != name_original:\n",
    "        final_names.append((name_original, name))\n",
    "        logger.info(f\"Changed compound name from {name_original} to: {name}\")\n",
    "        spectrum.set(\"compound_name\", name)\n",
    "    return spectrum\n",
    "\n",
    "spectrums = [clean_compound_name(s) for s in tqdm(spectrums)]\n",
    "\n",
    "# now re-run formula extractor (since \"_\" was removed/replaced)\n",
    "spectrums = [ms_filters.derive_formula_from_name(s) for s in tqdm(spectrums)]"
   ]
  },
  {
   "cell_type": "code",
   "execution_count": 11,
   "metadata": {},
   "outputs": [],
   "source": [
    "# Save as pickle\n",
    "filename_new = \"all_spectra_230201_matchms_manual_filtered.pickle\"\n",
    "#pickle.dump(spectrums, \n",
    "#    open(filename_new, \"wb\"))"
   ]
  },
  {
   "cell_type": "code",
   "execution_count": 35,
   "metadata": {},
   "outputs": [],
   "source": []
  },
  {
   "cell_type": "code",
   "execution_count": 7,
   "metadata": {},
   "outputs": [],
   "source": [
    "#!pip install pubchempy\n",
    "#!pip install --upgrade matchmsextras"
   ]
  },
  {
   "cell_type": "code",
   "execution_count": 7,
   "metadata": {},
   "outputs": [
    {
     "name": "stdout",
     "output_type": "stream",
     "text": [
      "Inchis: 505984 -- 81571 unique\n",
      "Smiles: 445998 -- 41299 unique\n",
      "Inchikeys: 446006 -- 25532 unique (first 14 characters)\n"
     ]
    }
   ],
   "source": [
    "filename = \"all_spectra_230201_matchms_manual_filtered.pickle\"\n",
    "\n",
    "# Load pickle file:\n",
    "with open(os.path.join(path_data, filename), 'rb') as file:\n",
    "    spectrums = pickle.load(file)\n",
    "\n",
    "count_annotations(spectrums)"
   ]
  },
  {
   "cell_type": "markdown",
   "metadata": {},
   "source": [
    "## Run spectra with missing SMILES/InChI against PubChem\n",
    "\n",
    "- Using function from `matchmsextras` which can be installed with `pip install matchmsextras`"
   ]
  },
  {
   "cell_type": "code",
   "execution_count": 9,
   "metadata": {},
   "outputs": [
    {
     "data": {
      "text/plain": [
       "([(0, 58776),\n",
       "  (58776, 117552),\n",
       "  (117552, 176328),\n",
       "  (176328, 235104),\n",
       "  (235104, 293880),\n",
       "  (293880, 352656),\n",
       "  (352656, 411432),\n",
       "  (411432, 470208),\n",
       "  (470208, 528984),\n",
       "  (528984, 587760)],\n",
       " 587756)"
      ]
     },
     "execution_count": 9,
     "metadata": {},
     "output_type": "execute_result"
    }
   ],
   "source": [
    "n_batches = 10\n",
    "binsize = int(np.ceil(len(spectrums)/n_batches))\n",
    "batches = []\n",
    "for i in range(n_batches):\n",
    "    batches.append((i*binsize, (i+1)*binsize))\n",
    "batches, len(spectrums)"
   ]
  },
  {
   "cell_type": "code",
   "execution_count": 10,
   "metadata": {},
   "outputs": [
    {
     "name": "stdout",
     "output_type": "stream",
     "text": [
      "********************************************************************************\n",
      " ----- 0 ----- \n",
      "\n"
     ]
    },
    {
     "data": {
      "application/vnd.jupyter.widget-view+json": {
       "model_id": "7821a34f291840d2b2a5b103cfc3f233",
       "version_major": 2,
       "version_minor": 0
      },
      "text/plain": [
       "  0%|          | 0/58776 [00:00<?, ?it/s]"
      ]
     },
     "metadata": {},
     "output_type": "display_data"
    },
    {
     "ename": "UnboundLocalError",
     "evalue": "local variable 'inchikey_pubchem' referenced before assignment",
     "output_type": "error",
     "traceback": [
      "\u001b[1;31m---------------------------------------------------------------------------\u001b[0m",
      "\u001b[1;31mUnboundLocalError\u001b[0m                         Traceback (most recent call last)",
      "Cell \u001b[1;32mIn[10], line 5\u001b[0m\n\u001b[0;32m      3\u001b[0m \u001b[38;5;28;01mfor\u001b[39;00m i, batch \u001b[38;5;129;01min\u001b[39;00m \u001b[38;5;28menumerate\u001b[39m(batches):\n\u001b[0;32m      4\u001b[0m     \u001b[38;5;28mprint\u001b[39m(\u001b[38;5;241m40\u001b[39m \u001b[38;5;241m*\u001b[39m \u001b[38;5;124m\"\u001b[39m\u001b[38;5;124m**\u001b[39m\u001b[38;5;124m\"\u001b[39m \u001b[38;5;241m+\u001b[39m \u001b[38;5;124mf\u001b[39m\u001b[38;5;124m\"\u001b[39m\u001b[38;5;130;01m\\n\u001b[39;00m\u001b[38;5;124m ----- \u001b[39m\u001b[38;5;132;01m{\u001b[39;00mi\u001b[38;5;132;01m}\u001b[39;00m\u001b[38;5;124m ----- \u001b[39m\u001b[38;5;130;01m\\n\u001b[39;00m\u001b[38;5;124m\"\u001b[39m)\n\u001b[1;32m----> 5\u001b[0m     spectrums_pubchem \u001b[38;5;241m=\u001b[39m [pubchem_metadata_lookup(s, name_search_depth\u001b[38;5;241m=\u001b[39m\u001b[38;5;241m10\u001b[39m, match_precursor_mz\u001b[38;5;241m=\u001b[39m\u001b[38;5;28;01mFalse\u001b[39;00m, formula_search\u001b[38;5;241m=\u001b[39m\u001b[38;5;28;01mTrue\u001b[39;00m) \u001b[38;5;28;01mfor\u001b[39;00m s \u001b[38;5;129;01min\u001b[39;00m tqdm(spectrums[batch[\u001b[38;5;241m0\u001b[39m]:batch[\u001b[38;5;241m1\u001b[39m]])]\n\u001b[0;32m      7\u001b[0m     \u001b[38;5;66;03m# Save as pickle\u001b[39;00m\n\u001b[0;32m      8\u001b[0m     filename_new \u001b[38;5;241m=\u001b[39m \u001b[38;5;124mf\u001b[39m\u001b[38;5;124m\"\u001b[39m\u001b[38;5;124mall_spectra_230201_matchms_manual_pubchem_\u001b[39m\u001b[38;5;132;01m{\u001b[39;00mi\u001b[38;5;132;01m}\u001b[39;00m\u001b[38;5;124m.pickle\u001b[39m\u001b[38;5;124m\"\u001b[39m\n",
      "Cell \u001b[1;32mIn[10], line 5\u001b[0m, in \u001b[0;36m<listcomp>\u001b[1;34m(.0)\u001b[0m\n\u001b[0;32m      3\u001b[0m \u001b[38;5;28;01mfor\u001b[39;00m i, batch \u001b[38;5;129;01min\u001b[39;00m \u001b[38;5;28menumerate\u001b[39m(batches):\n\u001b[0;32m      4\u001b[0m     \u001b[38;5;28mprint\u001b[39m(\u001b[38;5;241m40\u001b[39m \u001b[38;5;241m*\u001b[39m \u001b[38;5;124m\"\u001b[39m\u001b[38;5;124m**\u001b[39m\u001b[38;5;124m\"\u001b[39m \u001b[38;5;241m+\u001b[39m \u001b[38;5;124mf\u001b[39m\u001b[38;5;124m\"\u001b[39m\u001b[38;5;130;01m\\n\u001b[39;00m\u001b[38;5;124m ----- \u001b[39m\u001b[38;5;132;01m{\u001b[39;00mi\u001b[38;5;132;01m}\u001b[39;00m\u001b[38;5;124m ----- \u001b[39m\u001b[38;5;130;01m\\n\u001b[39;00m\u001b[38;5;124m\"\u001b[39m)\n\u001b[1;32m----> 5\u001b[0m     spectrums_pubchem \u001b[38;5;241m=\u001b[39m [\u001b[43mpubchem_metadata_lookup\u001b[49m\u001b[43m(\u001b[49m\u001b[43ms\u001b[49m\u001b[43m,\u001b[49m\u001b[43m \u001b[49m\u001b[43mname_search_depth\u001b[49m\u001b[38;5;241;43m=\u001b[39;49m\u001b[38;5;241;43m10\u001b[39;49m\u001b[43m,\u001b[49m\u001b[43m \u001b[49m\u001b[43mmatch_precursor_mz\u001b[49m\u001b[38;5;241;43m=\u001b[39;49m\u001b[38;5;28;43;01mFalse\u001b[39;49;00m\u001b[43m,\u001b[49m\u001b[43m \u001b[49m\u001b[43mformula_search\u001b[49m\u001b[38;5;241;43m=\u001b[39;49m\u001b[38;5;28;43;01mTrue\u001b[39;49;00m\u001b[43m)\u001b[49m \u001b[38;5;28;01mfor\u001b[39;00m s \u001b[38;5;129;01min\u001b[39;00m tqdm(spectrums[batch[\u001b[38;5;241m0\u001b[39m]:batch[\u001b[38;5;241m1\u001b[39m]])]\n\u001b[0;32m      7\u001b[0m     \u001b[38;5;66;03m# Save as pickle\u001b[39;00m\n\u001b[0;32m      8\u001b[0m     filename_new \u001b[38;5;241m=\u001b[39m \u001b[38;5;124mf\u001b[39m\u001b[38;5;124m\"\u001b[39m\u001b[38;5;124mall_spectra_230201_matchms_manual_pubchem_\u001b[39m\u001b[38;5;132;01m{\u001b[39;00mi\u001b[38;5;132;01m}\u001b[39;00m\u001b[38;5;124m.pickle\u001b[39m\u001b[38;5;124m\"\u001b[39m\n",
      "File \u001b[1;32m~\\.conda\\envs\\ms2deepscore\\lib\\site-packages\\matchmsextras\\pubchem_lookup.py:108\u001b[0m, in \u001b[0;36mpubchem_metadata_lookup\u001b[1;34m(spectrum_in, name_search_depth, match_precursor_mz, formula_search, mass_tolerance, allowed_differences, min_formula_length, formula_search_depth, verbose)\u001b[0m\n\u001b[0;32m    105\u001b[0m     inchi_pubchem, inchikey_pubchem, smiles_pubchem \u001b[38;5;241m=\u001b[39m find_pubchem_inchi_match(results_pubchem, inchi,\n\u001b[0;32m    106\u001b[0m                                                                                verbose\u001b[38;5;241m=\u001b[39mverbose)\n\u001b[0;32m    107\u001b[0m \u001b[38;5;66;03m# 2b) Search for matching parent mass\u001b[39;00m\n\u001b[1;32m--> 108\u001b[0m \u001b[38;5;28;01mif\u001b[39;00m \u001b[43minchikey_pubchem\u001b[49m \u001b[38;5;129;01mis\u001b[39;00m \u001b[38;5;28;01mNone\u001b[39;00m:\n\u001b[0;32m    109\u001b[0m     inchi_pubchem, inchikey_pubchem, smiles_pubchem \u001b[38;5;241m=\u001b[39m find_pubchem_mass_match(results_pubchem,\n\u001b[0;32m    110\u001b[0m                                                                               parent_mass,\n\u001b[0;32m    111\u001b[0m                                                                               given_mass\u001b[38;5;241m=\u001b[39m\u001b[38;5;124m\"\u001b[39m\u001b[38;5;124mparent mass\u001b[39m\u001b[38;5;124m\"\u001b[39m,\n\u001b[0;32m    112\u001b[0m                                                                               mass_tolerance\u001b[38;5;241m=\u001b[39mmass_tolerance,\n\u001b[0;32m    113\u001b[0m                                                                               allowed_differences\u001b[38;5;241m=\u001b[39mallowed_differences,\n\u001b[0;32m    114\u001b[0m                                                                               verbose\u001b[38;5;241m=\u001b[39mverbose)\n\u001b[0;32m    115\u001b[0m \u001b[38;5;66;03m# 2c) Search for matching precursor mass (optional)\u001b[39;00m\n",
      "\u001b[1;31mUnboundLocalError\u001b[0m: local variable 'inchikey_pubchem' referenced before assignment"
     ]
    }
   ],
   "source": [
    "from matchmsextras.pubchem_lookup import pubchem_metadata_lookup\n",
    "\n",
    "for i, batch in enumerate(batches):\n",
    "    print(40 * \"**\" + f\"\\n ----- {i} ----- \\n\")\n",
    "    spectrums_pubchem = [pubchem_metadata_lookup(s, name_search_depth=10, match_precursor_mz=False, formula_search=True) for s in tqdm(spectrums[batch[0]:batch[1]])]\n",
    "\n",
    "    # Save as pickle\n",
    "    filename_new = f\"all_spectra_230201_matchms_manual_pubchem_{i}.pickle\"\n",
    "    pickle.dump(spectrums_pubchem, \n",
    "        open(filename_new, \"wb\"))"
   ]
  },
  {
   "cell_type": "code",
   "execution_count": null,
   "metadata": {},
   "outputs": [],
   "source": [
    "import csv\n",
    "\n",
    "filename_pubchem_results = \"pubchem_matches.csv\"\n",
    "header = f\"i,spectrum_id,compound_name,inchikey,inchi,smiles\\n\"\n",
    "with open(filename_pubchem_results, 'a', newline ='') as file:\n",
    "    file.write(header)"
   ]
  },
  {
   "cell_type": "code",
   "execution_count": 16,
   "metadata": {},
   "outputs": [],
   "source": [
    "import logging\n",
    "import re\n",
    "import time\n",
    "import pubchempy as pcp\n",
    "import numpy as np\n",
    "from matchms.metadata_utils import is_valid_inchikey\n",
    "\n",
    "\n",
    "logger = logging.getLogger(\"matchms\")\n",
    "\n",
    "\n",
    "def pubchem_metadata_lookup(spectrum_in, name_search_depth=10, match_precursor_mz=False,\n",
    "                            formula_search=False,\n",
    "                            mass_tolerance=2.0,\n",
    "                            allowed_differences=[(18.03, 0.01)],\n",
    "                            min_formula_length=6,\n",
    "                            formula_search_depth=25,\n",
    "                            pause_per_request=0,\n",
    "                            verbose=2):\n",
    "    \"\"\"\n",
    "    Parameters\n",
    "    ----------\n",
    "    spectrum_in\n",
    "        Matchms type spectrum as input.\n",
    "    name_search_depth: int\n",
    "        How many of the most relevant name matches to explore deeper. Default = 10.\n",
    "    \"\"\"\n",
    "    if spectrum_in is None:\n",
    "        return None\n",
    "\n",
    "    # Only run search if no valid-looking inchikey is found\n",
    "    if is_valid_inchikey(spectrum_in.get(\"inchikey\")):\n",
    "        return spectrum_in\n",
    "\n",
    "    spectrum = spectrum_in.clone()\n",
    "\n",
    "    def _plausible_name(compound_name):\n",
    "        return (isinstance(compound_name, str) and len(compound_name) > 4)\n",
    "\n",
    "    # Only run search if (more or less) plausible name is found\n",
    "    compound_name = spectrum.get(\"compound_name\")\n",
    "    if not _plausible_name(compound_name):\n",
    "        logger.info(\"No plausible compound name found (%s)\", compound_name)\n",
    "        return spectrum\n",
    "\n",
    "    # Start pubchem search\n",
    "    time.sleep(pause_per_request)\n",
    "    inchi = spectrum.get(\"inchi\")\n",
    "    parent_mass = spectrum.get(\"parent_mass\")\n",
    "    if isinstance(parent_mass, np.ndarray):\n",
    "        parent_mass = parent_mass[0]\n",
    "    formula = spectrum.get(\"formula\")\n",
    "\n",
    "    # 1) Search for matching compound name\n",
    "    results_pubchem = pubchem_name_search(compound_name, name_search_depth=name_search_depth,\n",
    "                                          verbose=verbose)\n",
    "\n",
    "    if len(results_pubchem) > 0:\n",
    "        logger.info(\"Found potential matches for compound name (%s) on PubChem\",\n",
    "                   compound_name)\n",
    "\n",
    "        # 1a) Search for matching inchi\n",
    "        if likely_has_inchi(inchi):\n",
    "            inchi_pubchem, inchikey_pubchem, smiles_pubchem = find_pubchem_inchi_match(results_pubchem, inchi,\n",
    "                                                                                       verbose=verbose)\n",
    "        # 1b) Search for matching parent mass\n",
    "        if not likely_has_inchi(inchi) or inchikey_pubchem is None:\n",
    "            inchi_pubchem, inchikey_pubchem, smiles_pubchem = find_pubchem_mass_match(results_pubchem,\n",
    "                                                                                      parent_mass,\n",
    "                                                                                      given_mass=\"parent mass\",\n",
    "                                                                                      mass_tolerance=mass_tolerance,\n",
    "                                                                                      allowed_differences=allowed_differences,\n",
    "                                                                                      verbose=verbose)\n",
    "\n",
    "        # 1c) Search for matching precursor mass (optional)\n",
    "        if match_precursor_mz and inchikey_pubchem is None:\n",
    "            precursor_mz = spectrum.get(\"precursor_mz\")\n",
    "            inchi_pubchem, inchikey_pubchem, smiles_pubchem = find_pubchem_mass_match(results_pubchem,\n",
    "                                                                                      precursor_mz,\n",
    "                                                                                      given_mass=\"precursor mass\",\n",
    "                                                                                      mass_tolerance=mass_tolerance,\n",
    "                                                                                      allowed_differences=allowed_differences,\n",
    "                                                                                      verbose=verbose)\n",
    "\n",
    "        if inchikey_pubchem is not None and inchi_pubchem is not None:\n",
    "            logger.info(\"Matching compound name: %s\", compound_name)\n",
    "            spectrum.set(\"inchikey\", inchikey_pubchem)\n",
    "            spectrum.set(\"inchi\", inchi_pubchem)\n",
    "            spectrum.set(\"smiles\", smiles_pubchem)\n",
    "            return spectrum\n",
    "\n",
    "        if verbose >= 2:\n",
    "            logger.info(\"No matches found for compound name: %s\", compound_name)\n",
    "\n",
    "    else:\n",
    "        logger.info(\"No matches for compound name (%s) on PubChem\",\n",
    "                   compound_name)\n",
    "\n",
    "    # 2) Search for matching formula\n",
    "    if formula_search and formula and len(formula) >= min_formula_length:\n",
    "        results_pubchem = pubchem_formula_search(formula, formula_search_depth=formula_search_depth,\n",
    "                                                 verbose=verbose)\n",
    "\n",
    "        if len(results_pubchem) > 0:\n",
    "            inchikey_pubchem = None\n",
    "            logger.info(\"Found potential matches for formula (%s) on PubChem\",\n",
    "                       formula)\n",
    "            # 2a) Search for matching inchi\n",
    "            if likely_has_inchi(inchi):\n",
    "                inchi_pubchem, inchikey_pubchem, smiles_pubchem = find_pubchem_inchi_match(results_pubchem, inchi,\n",
    "                                                                                           verbose=verbose)\n",
    "            # 2b) Search for matching parent mass\n",
    "            if inchikey_pubchem is None:\n",
    "                inchi_pubchem, inchikey_pubchem, smiles_pubchem = find_pubchem_mass_match(results_pubchem,\n",
    "                                                                                          parent_mass,\n",
    "                                                                                          given_mass=\"parent mass\",\n",
    "                                                                                          mass_tolerance=mass_tolerance,\n",
    "                                                                                          allowed_differences=allowed_differences,\n",
    "                                                                                          verbose=verbose)\n",
    "            # 2c) Search for matching precursor mass (optional)\n",
    "            if match_precursor_mz and inchikey_pubchem is None:\n",
    "                precursor_mz = spectrum.get(\"precursor_mz\")\n",
    "                inchi_pubchem, inchikey_pubchem, smiles_pubchem = find_pubchem_mass_match(results_pubchem,\n",
    "                                                                                          precursor_mz,\n",
    "                                                                                          given_mass=\"precursor mass\",\n",
    "                                                                                          mass_tolerance=mass_tolerance,\n",
    "                                                                                          allowed_differences=allowed_differences,\n",
    "                                                                                          verbose=verbose)\n",
    "            if inchikey_pubchem is not None and inchi_pubchem is not None:\n",
    "                logger.info(\"Matching formula: %s\", formula)\n",
    "                if verbose >= 1:\n",
    "                    logger.info(\"Matching formula: %s\", formula)\n",
    "                spectrum.set(\"inchikey\", inchikey_pubchem)\n",
    "                spectrum.set(\"inchi\", inchi_pubchem)\n",
    "                spectrum.set(\"smiles\", smiles_pubchem)\n",
    "                return spectrum\n",
    "\n",
    "            if verbose >= 2:\n",
    "                logger.info(\"No matches found for formula: %s\", formula)\n",
    "        else:\n",
    "            logger.info(\"No matches for formula (%s) on PubChem\",\n",
    "                       formula)\n",
    "\n",
    "    return spectrum\n",
    "\n",
    "\n",
    "def likely_has_inchi(inchi):\n",
    "    \"\"\"Quick test to avoid excess in-depth testing\"\"\"\n",
    "    if inchi is None:\n",
    "        return False\n",
    "    inchi = inchi.strip('\"')\n",
    "    regexp = r\"(InChI=1|1)(S\\/|\\/)[0-9, A-Z, a-z,\\.]{2,}\\/(c|h)[0-9]\"\n",
    "    if not re.search(regexp, inchi):\n",
    "        return False\n",
    "    return True\n",
    "\n",
    "\n",
    "def likely_inchi_match(inchi_1, inchi_2, min_agreement=3):\n",
    "    \"\"\"Try to match defective inchi to non-defective ones.\n",
    "    Compares inchi parts seperately. Match is found if at least the first\n",
    "    'min_agreement' parts are a good enough match.\n",
    "    The main 'defects' this method accounts for are missing '-' in the inchi.\n",
    "    In addition, differences between '-', '+', and '?'will be ignored.\n",
    "    Parameters\n",
    "    ----------\n",
    "    inchi_1: str\n",
    "        inchi of molecule.\n",
    "    inchi_2: str\n",
    "        inchi of molecule.\n",
    "    min_agreement: int\n",
    "        Minimum number of first parts that MUST be a match between both input\n",
    "        inchi to finally consider it a match. Default is min_agreement=3.\n",
    "    \"\"\"\n",
    "    if min_agreement < 2:\n",
    "        logger.warning(\"Warning! 'min_agreement' < 2 has no discriminative power. Should be => 2.\")\n",
    "    if min_agreement == 2:\n",
    "        logger.warning(\"Warning! 'min_agreement' == 2 has little discriminative power\",\n",
    "                       \"(only looking at structure formula. Better use > 2.\")\n",
    "    agreement = 0\n",
    "\n",
    "    # Remove spaces and '\"' to account for different notations.\n",
    "    # Remove everything with little discriminative power.\n",
    "    ignore_lst = ['\"', ' ', '-', '+', '?']\n",
    "    for ignore in ignore_lst:\n",
    "        inchi_1 = inchi_1.replace(ignore, '')\n",
    "        inchi_2 = inchi_2.replace(ignore, '')\n",
    "\n",
    "    # Split inchi in parts.\n",
    "    inchi_1_parts = inchi_1.split('/')\n",
    "    inchi_2_parts = inchi_2.split('/')\n",
    "\n",
    "    # Check if both inchi have sufficient parts (seperated by '/')\n",
    "    if len(inchi_1_parts) >= min_agreement and len(\n",
    "            inchi_2_parts) >= min_agreement:\n",
    "        # Count how many parts agree well\n",
    "        for i in range(min_agreement):\n",
    "            agreement += (inchi_1_parts[i] == inchi_2_parts[i])\n",
    "\n",
    "    return bool(agreement == min_agreement)\n",
    "\n",
    "\n",
    "def likely_inchikey_match(inchikey_1, inchikey_2, min_agreement=1):\n",
    "    \"\"\"Try to match inchikeys.\n",
    "    Compares inchikey parts seperately. Match is found if at least the first\n",
    "    'min_agreement' parts are a good enough match.\n",
    "    Parameters\n",
    "    ----------\n",
    "    inchikey_1: str\n",
    "        inchikey of molecule.\n",
    "    inchikey_2: str\n",
    "        inchikey of molecule.\n",
    "    min_agreement: int\n",
    "        Minimum number of first parts that MUST be a match between both input\n",
    "        inchikey to finally consider it a match. Default is min_agreement=1.\n",
    "    \"\"\"\n",
    "    if min_agreement not in [1, 2, 3]:\n",
    "        logger.error(\"Warning! 'min_agreement' should be 1, 2, or 3.\")\n",
    "    agreement = 0\n",
    "\n",
    "    # Harmonize strings\n",
    "    inchikey_1 = inchikey_1.upper().replace('\"', '').replace(' ', '')\n",
    "    inchikey_2 = inchikey_2.upper().replace('\"', '').replace(' ', '')\n",
    "\n",
    "    # Split inchikey in parts.\n",
    "    inchikey_1_parts = inchikey_1.split('-')\n",
    "    inchikey_2_parts = inchikey_2.split('-')\n",
    "\n",
    "    # Check if both inchikey have sufficient parts (seperated by '/')\n",
    "    if len(inchikey_1_parts) >= min_agreement and len(\n",
    "            inchikey_2_parts) >= min_agreement:\n",
    "        # Count how many parts mostly agree\n",
    "        for i in range(min_agreement):\n",
    "            agreement += (inchikey_1_parts[i] == inchikey_2_parts[i])\n",
    "\n",
    "    return agreement == min_agreement\n",
    "\n",
    "\n",
    "def pubchem_name_search(compound_name: str, name_search_depth=10, verbose=1):\n",
    "    \"\"\"Search pubmed for compound name\"\"\"\n",
    "    results_pubchem = pcp.get_compounds(compound_name,\n",
    "                                        'name',\n",
    "                                        listkey_count=name_search_depth)\n",
    "    if len(results_pubchem) == 0 and \"_\" in compound_name:\n",
    "        results_pubchem = pcp.get_compounds(compound_name.replace(\"_\", \" \"),\n",
    "                                            'name',\n",
    "                                            listkey_count=name_search_depth)\n",
    "    if len(results_pubchem) == 0:\n",
    "        return []\n",
    "\n",
    "    logger.debug(\"Found at least %s compounds of that name on pubchem.\", len(results_pubchem))\n",
    "    return results_pubchem\n",
    "\n",
    "\n",
    "def pubchem_formula_search(compound_formula: str, formula_search_depth=25, verbose=1):\n",
    "    \"\"\"Search pubmed for compound formula\"\"\"\n",
    "    sids_pubchem = pcp.get_sids(compound_formula,\n",
    "                                'formula',\n",
    "                                listkey_count=formula_search_depth)\n",
    "\n",
    "    results_pubchem = []\n",
    "    for sid in sids_pubchem:\n",
    "        result = pcp.Compound.from_cid(sid['CID'])\n",
    "        results_pubchem.append(result)\n",
    "\n",
    "    logger.debug(\"Found at least %s compounds of with formula: %s.\",\n",
    "                 len(results_pubchem), compound_formula)\n",
    "    return results_pubchem\n",
    "\n",
    "\n",
    "def find_pubchem_inchi_match(results_pubchem,\n",
    "                             inchi,\n",
    "                             min_inchi_match=3,\n",
    "                             verbose=1):\n",
    "    \"\"\"Searches pubmed matches for inchi match.\n",
    "    Then check if inchi can be matched to (defective) input inchi.\n",
    "    Outputs found inchi and found inchikey (will be None if none is found).\n",
    "    Parameters\n",
    "    ----------\n",
    "    results_pubchem: List[dict]\n",
    "        List of name search results from Pubchem.\n",
    "    inchi: str\n",
    "        Inchi (correct, or defective...). Set to None to ignore.\n",
    "    min_inchi_match: int\n",
    "        Minimum number of first parts that MUST be a match between both input\n",
    "        inchi to finally consider it a match. Default is min_inchi_match=3.\n",
    "    \"\"\"\n",
    "\n",
    "    inchi_pubchem = None\n",
    "    inchikey_pubchem = None\n",
    "    smiles_pubchem = None\n",
    "\n",
    "    # Loop through first 'name_search_depth' results found on pubchem. Stop once first match is found.\n",
    "    for result in results_pubchem:\n",
    "        inchi_pubchem = '\"' + result.inchi + '\"'\n",
    "        inchikey_pubchem = result.inchikey\n",
    "        smiles_pubchem = result.isomeric_smiles\n",
    "        if smiles_pubchem is None:\n",
    "            smiles_pubchem = result.canonical_smiles\n",
    "\n",
    "        match_inchi = likely_inchi_match(inchi, inchi_pubchem,\n",
    "                                         min_agreement=min_inchi_match)\n",
    "\n",
    "        if match_inchi:\n",
    "            logger.info(\"Matching inchi: %s\", inchi)\n",
    "            if verbose >= 1:\n",
    "                logger.info(\"Found matching compound for inchi: %s (Pubchem: %s)\",\n",
    "                            inchi, inchi_pubchem)\n",
    "            break\n",
    "\n",
    "    if not match_inchi:\n",
    "        inchi_pubchem = None\n",
    "        inchikey_pubchem = None\n",
    "        smiles_pubchem = None\n",
    "\n",
    "        if verbose >= 2:\n",
    "            logger.info(\"No matches found for inchi %s.\", inchi)\n",
    "\n",
    "    return inchi_pubchem, inchikey_pubchem, smiles_pubchem\n",
    "\n",
    "\n",
    "def find_pubchem_mass_match(results_pubchem,\n",
    "                            parent_mass,\n",
    "                            mass_tolerance,\n",
    "                            given_mass=\"parent mass\",\n",
    "                            allowed_differences=[(18.03, 0.01)],\n",
    "                            verbose=1):\n",
    "    \"\"\"Searches pubmed matches for inchi match.\n",
    "    Then check if inchi can be matched to (defective) input inchi.\n",
    "    Outputs found inchi and found inchikey (will be None if none is found).\n",
    "    Parameters\n",
    "    ----------\n",
    "    results_pubchem: List[dict]\n",
    "        List of name search results from Pubchem.\n",
    "    parent_mass: float\n",
    "        Spectrum\"s guessed parent mass.\n",
    "    mass_tolerance: float\n",
    "        Acceptable mass difference between query compound and pubchem result.\n",
    "    given_mass\n",
    "        String to specify the type of the given mass (e.g. \"parent mass\").\n",
    "    \"\"\"\n",
    "    inchi_pubchem = None\n",
    "    inchikey_pubchem = None\n",
    "    smiles_pubchem = None\n",
    "    mass_difference = None\n",
    "    lowest_mass_difference = [np.inf, None]\n",
    "\n",
    "    for result in results_pubchem:\n",
    "        inchi_pubchem = '\"' + result.inchi + '\"'\n",
    "        inchikey_pubchem = result.inchikey\n",
    "        smiles_pubchem = result.isomeric_smiles\n",
    "        if smiles_pubchem is None:\n",
    "            smiles_pubchem = result.canonical_smiles\n",
    "\n",
    "        pubchem_mass = float(results_pubchem[0].exact_mass)\n",
    "        mass_difference = np.abs(pubchem_mass - parent_mass)\n",
    "        if mass_difference < lowest_mass_difference[0]:\n",
    "            lowest_mass_difference[0] = mass_difference\n",
    "            lowest_mass_difference[1] = inchi_pubchem\n",
    "        match_mass = (mass_difference <= mass_tolerance)\n",
    "        for diff in allowed_differences:\n",
    "            match_mass = match_mass or np.isclose(mass_difference, diff[0], atol=diff[1])\n",
    "\n",
    "        if match_mass:\n",
    "            logger.info(\"Matching molecular weight (%s vs %s of %s)\",\n",
    "                        pubchem_mass, given_mass, parent_mass)\n",
    "            break\n",
    "\n",
    "    if not match_mass:\n",
    "        inchi_pubchem = None\n",
    "        inchikey_pubchem = None\n",
    "        smiles_pubchem = None\n",
    "\n",
    "        logger.info(\"No matching molecular weight (best mass difference was %s for inchi: %s)\",\n",
    "                    lowest_mass_difference[0], lowest_mass_difference[1])\n",
    "\n",
    "    return inchi_pubchem, inchikey_pubchem, smiles_pubchem"
   ]
  },
  {
   "cell_type": "code",
   "execution_count": 30,
   "metadata": {},
   "outputs": [
    {
     "data": {
      "application/vnd.jupyter.widget-view+json": {
       "model_id": "7475ba5ff9684a60ad63c681e18f44b8",
       "version_major": 2,
       "version_minor": 0
      },
      "text/plain": [
       "  0%|          | 0/414353 [00:00<?, ?it/s]"
      ]
     },
     "metadata": {},
     "output_type": "display_data"
    }
   ],
   "source": [
    "import time\n",
    "#from matchmsextras.pubchem_lookup import pubchem_metadata_lookup\n",
    "filename_pubchem_results = \"pubchem_matches.csv\"\n",
    "\n",
    "i_start = 173403 #158460  #136144 # 73870  #61315  # 59915# 57915 #44272\n",
    "\n",
    "\n",
    "for i_count, spec in enumerate(tqdm(spectrums[i_start:])):\n",
    "    name_lower = spec.get(\"compound_name\", \"unknown\").lower()\n",
    "    if \"suspect\" in name_lower:\n",
    "        continue\n",
    "    if (\"putative\" in name_lower) and (\"delta m\" in name_lower):\n",
    "        continue\n",
    "    def get_pubchem_results(spec):\n",
    "        spectrum = pubchem_metadata_lookup(spec, name_search_depth=10,\n",
    "                                                match_precursor_mz=False,\n",
    "                                                formula_search=False,\n",
    "                                                pause_per_request=0.15)\n",
    "        return spectrum\n",
    "\n",
    "    i = i_count + i_start\n",
    "    spectrum = get_pubchem_results(spec)\n",
    "    \n",
    "    compound_name = spectrum.get(\"compound_name\")\n",
    "    spectrum_id = spectrum.get(\"spectrum_id\")\n",
    "    inchikey = spectrum.get(\"inchikey\")\n",
    "    inchi = spectrum.get(\"inchi\")\n",
    "    smiles = spectrum.get(\"smiles\")\n",
    "    # Original content\n",
    "    inchikey_orig = spec.get(\"inchikey\")\n",
    "    inchi_orig = spec.get(\"inchi\")\n",
    "    smiles_orig = spec.get(\"smiles\")\n",
    "    if (inchi_orig != inchi) or (inchikey_orig != inchikey) or (smiles_orig != smiles):\n",
    "        data = f\"{i},{spectrum_id},{compound_name},{inchikey},{inchi},{smiles}\\n\"  # \",\" is a BAD delimiter here!\n",
    "        with open(filename_pubchem_results, 'a', newline ='') as file:\n",
    "            file.write(data)\n",
    "    "
   ]
  },
  {
   "cell_type": "code",
   "execution_count": 73,
   "metadata": {},
   "outputs": [],
   "source": [
    "filename = \"pubchem_matches.csv\"\n",
    "filename_new = \"pubchem_matches_metadata.csv\"\n",
    "with open(filename, \"r\") as file:\n",
    "    for line in file:\n",
    "        if line.startswith(\"i,spectrum_id\"):\n",
    "            new_line = line.replace(\",\", \"\\t\")\n",
    "        else:\n",
    "            new_line = re.sub(r\"(,)([A-Z]{14}-[A-Z]{10}-[A-Z])(,)\", r\"\\t\\g<2>\\t\", line)\n",
    "            new_line = re.sub(r\"(^[0-9]*)(,)(CCMSLIB[0-9]*)(,)\", r\"\\g<1>\\t\\g<3>\\t\", new_line)\n",
    "        with open(filename_new, \"a\") as newfile:\n",
    "            newfile.write(new_line)\n",
    "        "
   ]
  },
  {
   "cell_type": "code",
   "execution_count": 53,
   "metadata": {},
   "outputs": [
    {
     "data": {
      "text/plain": [
       "'4845,CCMSLIB00005436304,Tris(2-butoxyethyl) phosphate\\tWTLBZVNBAKMVDP-UHFFFAOYSA-N\\t\"InChI=1S/C18H39O7P/c1-4-7-10-20-13-16-23-26(19,24-17-14-21-11-8-5-2)25-18-15-22-12-9-6-3/h4-18H2,1-3H3\",CCCCOCCOP(=O)(OCCOCCCC)OCCOCCCC\\n\\n4960,CCMSLIB00005436437,N-[1,3-dihydroxyoctadec-4-en-2-yl]hexadecanamide\\tYDNKGFDKKRUKPY-UHFFFAOYSA-N\\t\"InChI=1S/C34H67NO3/c1-3-5-7-9-11-13-15-17-19-21-23-25-27-29-33('"
      ]
     },
     "execution_count": 53,
     "metadata": {},
     "output_type": "execute_result"
    }
   ],
   "source": [
    "import re\n",
    "testline = \"\"\"4845,CCMSLIB00005436304,Tris(2-butoxyethyl) phosphate,WTLBZVNBAKMVDP-UHFFFAOYSA-N,\"InChI=1S/C18H39O7P/c1-4-7-10-20-13-16-23-26(19,24-17-14-21-11-8-5-2)25-18-15-22-12-9-6-3/h4-18H2,1-3H3\",CCCCOCCOP(=O)(OCCOCCCC)OCCOCCCC\n",
    "\\n4960,CCMSLIB00005436437,N-[1,3-dihydroxyoctadec-4-en-2-yl]hexadecanamide,YDNKGFDKKRUKPY-UHFFFAOYSA-N,\"InChI=1S/C34H67NO3/c1-3-5-7-9-11-13-15-17-19-21-23-25-27-29-33(\"\"\"\n",
    "re.sub(r\"(,)([A-Z]{14}-[A-Z]{10}-N)(,)\", r\"\\t\\g<2>\\t\", testline)"
   ]
  },
  {
   "cell_type": "markdown",
   "metadata": {},
   "source": [
    "#### Problem here: still saved \"inchi,smiles\" --> split:"
   ]
  },
  {
   "cell_type": "code",
   "execution_count": 2,
   "metadata": {},
   "outputs": [],
   "source": [
    "filename = \"pubchem_matches_metadata.csv\"\n",
    "filename_new = \"pubchem_matches_metadata_cleaned.csv\"\n",
    "with open(filename, \"r\") as file:\n",
    "    for line in file:\n",
    "        new_line = line.replace(\"\\\",\", \"\\\"\\t\")    \n",
    "        with open(filename_new, \"a\") as newfile:\n",
    "            newfile.write(new_line)"
   ]
  },
  {
   "cell_type": "code",
   "execution_count": 3,
   "metadata": {},
   "outputs": [
    {
     "data": {
      "text/html": [
       "<div>\n",
       "<style scoped>\n",
       "    .dataframe tbody tr th:only-of-type {\n",
       "        vertical-align: middle;\n",
       "    }\n",
       "\n",
       "    .dataframe tbody tr th {\n",
       "        vertical-align: top;\n",
       "    }\n",
       "\n",
       "    .dataframe thead th {\n",
       "        text-align: right;\n",
       "    }\n",
       "</style>\n",
       "<table border=\"1\" class=\"dataframe\">\n",
       "  <thead>\n",
       "    <tr style=\"text-align: right;\">\n",
       "      <th></th>\n",
       "      <th>i</th>\n",
       "      <th>spectrum_id</th>\n",
       "      <th>compound_name</th>\n",
       "      <th>inchikey</th>\n",
       "      <th>inchi</th>\n",
       "      <th>smiles</th>\n",
       "    </tr>\n",
       "  </thead>\n",
       "  <tbody>\n",
       "    <tr>\n",
       "      <th>0</th>\n",
       "      <td>273</td>\n",
       "      <td>CCMSLIB00000006817</td>\n",
       "      <td>None</td>\n",
       "      <td>DOGSUNBGLRKXBL-UHFFFAOYSA-N</td>\n",
       "      <td>InChI=1S/C18H23NO/c1-2-3-4-5-6-7-8-11-15-14-18...</td>\n",
       "      <td>CCCCCCCC=CC1=NC2=CC=CC=C2C(=O)C1</td>\n",
       "    </tr>\n",
       "    <tr>\n",
       "      <th>1</th>\n",
       "      <td>279</td>\n",
       "      <td>CCMSLIB00000006826</td>\n",
       "      <td>None</td>\n",
       "      <td>GEKPVLASKAWWBZ-UHFFFAOYSA-N</td>\n",
       "      <td>InChI=1S/C18H25NO/c1-2-3-4-5-6-7-8-11-15-14-18...</td>\n",
       "      <td>CCCCCCCCCC1=NC2=CC=CC=C2C(=O)C1</td>\n",
       "    </tr>\n",
       "    <tr>\n",
       "      <th>2</th>\n",
       "      <td>487</td>\n",
       "      <td>CCMSLIB00000068208</td>\n",
       "      <td>None</td>\n",
       "      <td>LCVJEYNJCXTRIQ-UHFFFAOYSA-N</td>\n",
       "      <td>InChI=1S/C15H21Br2ClO/c1-12(2)9(16)7-11-14(4,1...</td>\n",
       "      <td>CC1(C(=CC2C(C13CCC(C(C3)Br)(C)Cl)(O2)C)Br)C</td>\n",
       "    </tr>\n",
       "    <tr>\n",
       "      <th>3</th>\n",
       "      <td>488</td>\n",
       "      <td>CCMSLIB00000068209</td>\n",
       "      <td>None</td>\n",
       "      <td>LCVJEYNJCXTRIQ-UHFFFAOYSA-N</td>\n",
       "      <td>InChI=1S/C15H21Br2ClO/c1-12(2)9(16)7-11-14(4,1...</td>\n",
       "      <td>CC1(C(=CC2C(C13CCC(C(C3)Br)(C)Cl)(O2)C)Br)C</td>\n",
       "    </tr>\n",
       "    <tr>\n",
       "      <th>4</th>\n",
       "      <td>489</td>\n",
       "      <td>CCMSLIB00000068210</td>\n",
       "      <td>None</td>\n",
       "      <td>GZNRNQVZDUCYFB-SOVGUPCDSA-N</td>\n",
       "      <td>InChI=1S/C18H26O3/c1-2-15-14-12-16-18(21-16)13...</td>\n",
       "      <td>CC[C@H]1[C@@H]2C[C@H]3[C@@H]([C@H]2/C=C\\C/C=C\\...</td>\n",
       "    </tr>\n",
       "  </tbody>\n",
       "</table>\n",
       "</div>"
      ],
      "text/plain": [
       "     i         spectrum_id compound_name                     inchikey  \\\n",
       "0  273  CCMSLIB00000006817          None  DOGSUNBGLRKXBL-UHFFFAOYSA-N   \n",
       "1  279  CCMSLIB00000006826          None  GEKPVLASKAWWBZ-UHFFFAOYSA-N   \n",
       "2  487  CCMSLIB00000068208          None  LCVJEYNJCXTRIQ-UHFFFAOYSA-N   \n",
       "3  488  CCMSLIB00000068209          None  LCVJEYNJCXTRIQ-UHFFFAOYSA-N   \n",
       "4  489  CCMSLIB00000068210          None  GZNRNQVZDUCYFB-SOVGUPCDSA-N   \n",
       "\n",
       "                                               inchi  \\\n",
       "0  InChI=1S/C18H23NO/c1-2-3-4-5-6-7-8-11-15-14-18...   \n",
       "1  InChI=1S/C18H25NO/c1-2-3-4-5-6-7-8-11-15-14-18...   \n",
       "2  InChI=1S/C15H21Br2ClO/c1-12(2)9(16)7-11-14(4,1...   \n",
       "3  InChI=1S/C15H21Br2ClO/c1-12(2)9(16)7-11-14(4,1...   \n",
       "4  InChI=1S/C18H26O3/c1-2-15-14-12-16-18(21-16)13...   \n",
       "\n",
       "                                              smiles  \n",
       "0                   CCCCCCCC=CC1=NC2=CC=CC=C2C(=O)C1  \n",
       "1                    CCCCCCCCCC1=NC2=CC=CC=C2C(=O)C1  \n",
       "2        CC1(C(=CC2C(C13CCC(C(C3)Br)(C)Cl)(O2)C)Br)C  \n",
       "3        CC1(C(=CC2C(C13CCC(C(C3)Br)(C)Cl)(O2)C)Br)C  \n",
       "4  CC[C@H]1[C@@H]2C[C@H]3[C@@H]([C@H]2/C=C\\C/C=C\\...  "
      ]
     },
     "execution_count": 3,
     "metadata": {},
     "output_type": "execute_result"
    }
   ],
   "source": [
    "import pandas as pd\n",
    "\n",
    "metadata_pubchem = pd.read_csv(\"pubchem_matches_metadata_cleaned.csv\", delimiter=\"\\t\")\n",
    "metadata_pubchem.head()"
   ]
  },
  {
   "cell_type": "code",
   "execution_count": 4,
   "metadata": {},
   "outputs": [
    {
     "data": {
      "text/plain": [
       "i                                                             5444\n",
       "spectrum_id                                     CCMSLIB00005467761\n",
       "compound_name                                            Succinate\n",
       "inchikey                               KDYFGRWQOYBRFD-UHFFFAOYSA-L\n",
       "inchi            InChI=1S/C4H6O4/c5-3(6)1-2-4(7)8/h1-2H2,(H,5,6...\n",
       "smiles                                      C(CC(=O)[O-])C(=O)[O-]\n",
       "Name: 555, dtype: object"
      ]
     },
     "execution_count": 4,
     "metadata": {},
     "output_type": "execute_result"
    }
   ],
   "source": [
    "metadata_pubchem.iloc[555, :]"
   ]
  },
  {
   "cell_type": "code",
   "execution_count": 5,
   "metadata": {},
   "outputs": [
    {
     "ename": "NameError",
     "evalue": "name 'ms_filters' is not defined",
     "output_type": "error",
     "traceback": [
      "\u001b[1;31m---------------------------------------------------------------------------\u001b[0m",
      "\u001b[1;31mNameError\u001b[0m                                 Traceback (most recent call last)",
      "\u001b[1;32m~\\AppData\\Local\\Temp\\ipykernel_11208\\3727422016.py\u001b[0m in \u001b[0;36m<cell line: 1>\u001b[1;34m()\u001b[0m\n\u001b[1;32m----> 1\u001b[1;33m \u001b[0mms_filters\u001b[0m\u001b[1;33m.\u001b[0m\u001b[0mderive_smiles_from_inchi\u001b[0m\u001b[1;33m(\u001b[0m\u001b[0mspectrums\u001b[0m\u001b[1;33m[\u001b[0m\u001b[0mid\u001b[0m\u001b[1;33m]\u001b[0m\u001b[1;33m)\u001b[0m\u001b[1;33m.\u001b[0m\u001b[0mget\u001b[0m\u001b[1;33m(\u001b[0m\u001b[1;34m\"inchi\"\u001b[0m\u001b[1;33m)\u001b[0m\u001b[1;33m\u001b[0m\u001b[1;33m\u001b[0m\u001b[0m\n\u001b[0m",
      "\u001b[1;31mNameError\u001b[0m: name 'ms_filters' is not defined"
     ]
    }
   ],
   "source": [
    "ms_filters.derive_smiles_from_inchi(spectrums[id]).get(\"inchi\")"
   ]
  },
  {
   "cell_type": "code",
   "execution_count": 8,
   "metadata": {},
   "outputs": [
    {
     "data": {
      "text/plain": [
       "587756"
      ]
     },
     "execution_count": 8,
     "metadata": {},
     "output_type": "execute_result"
    }
   ],
   "source": [
    "len(spectrums)"
   ]
  },
  {
   "cell_type": "code",
   "execution_count": 9,
   "metadata": {},
   "outputs": [],
   "source": [
    "for i, row in metadata_pubchem.iterrows():\n",
    "    id = int(row[\"i\"])\n",
    "    spectrum_id = row[\"spectrum_id\"]\n",
    "    if spectrums[id].get(\"spectrum_id\") == spectrum_id:\n",
    "        spectrums[id].set(\"inchikey\", row[\"inchikey\"])\n",
    "        spectrums[id].set(\"inchi\", row[\"inchi\"])\n",
    "        spectrums[id].set(\"metadata_processing\", \"matchms + pubchem for inchi and inchikey\")\n",
    "    else:\n",
    "        print(f\"------ {spectrum_id}\")"
   ]
  },
  {
   "cell_type": "code",
   "execution_count": 10,
   "metadata": {},
   "outputs": [
    {
     "data": {
      "text/plain": [
       "(i                                                           573243\n",
       " spectrum_id                                     CCMSLIB00004683917\n",
       " compound_name                                Acacetin-5-O-xyloside\n",
       " inchikey                               NCCOYBTYDAMVTO-ZQEFQCJFSA-N\n",
       " inchi            InChI=1S/C21H20O9/c1-27-12-4-2-10(3-5-12)15-8-...\n",
       " smiles           COC1=CC=C(C=C1)C2=CC(=O)C3=C(O2)C=C(C=C3O[C@H]...\n",
       " Name: 34624, dtype: object,\n",
       " 34624)"
      ]
     },
     "execution_count": 10,
     "metadata": {},
     "output_type": "execute_result"
    }
   ],
   "source": [
    "row, i"
   ]
  },
  {
   "cell_type": "code",
   "execution_count": 11,
   "metadata": {},
   "outputs": [
    {
     "data": {
      "text/plain": [
       "{'pepmass': (950.487, None),\n",
       " 'charge': 1,\n",
       " 'mslevel': '2',\n",
       " 'source_instrument': 'LC-ESI-qToF',\n",
       " 'seq': '*..*',\n",
       " 'ionmode': 'positive',\n",
       " 'organism': 'GNPS-LIBRARY',\n",
       " 'smiles': '',\n",
       " 'inchi': 'InChI=1S/C47H69N5O14/c1-26-18-32(65-47(48)58)20-42(57)66-40(21-39(59-8)27(2)14-15-37(55)30(5)43(60-9)28(3)16-17-52(7)25-53)29(4)36(54)12-11-13-41-49-34(23-62-41)45-51-35(24-64-45)46-50-33(22-63-46)44(61-10)31(6)38(56)19-26/h11,13,16-17,22-32,36,38-40,43-44,54,56H,12,14-15,18-21H2,1-10H3,(H2,48,58)/b13-11-,17-16+',\n",
       " 'inchiaux': 'N/A',\n",
       " 'pubmed': '21410162',\n",
       " 'libraryquality': '2',\n",
       " 'scans': '1964',\n",
       " 'file_name': '2C7_KabiramideB_MNa_950.mzXML',\n",
       " 'compound_name': 'Kabiramide B',\n",
       " 'principal_investigator': 'Dorrestein/Gerwick',\n",
       " 'data_collector': 'Luzzatto/Garg',\n",
       " 'submit_user': 'tal_lk',\n",
       " 'spectrum_id': 'CCMSLIB00000070267',\n",
       " 'precursor_mz': 950.487,\n",
       " 'adduct': '[M+Na]+',\n",
       " 'parent_mass': 927.4977819999999,\n",
       " 'inchikey': 'SVDMAXBQMZIUPX-YHQKBTMFSA-N',\n",
       " 'metadata_processing': 'matchms + pubchem for inchi and inchikey'}"
      ]
     },
     "execution_count": 11,
     "metadata": {},
     "output_type": "execute_result"
    }
   ],
   "source": [
    "spectrums[555].metadata"
   ]
  },
  {
   "cell_type": "code",
   "execution_count": 12,
   "metadata": {},
   "outputs": [],
   "source": [
    "# Save as pickle\n",
    "filename_new = f\"all_spectra_230201_matchms_manual_pubchem.pickle\"\n",
    "pickle.dump(spectrums,\n",
    "    open(filename_new, \"wb\"))"
   ]
  },
  {
   "cell_type": "code",
   "execution_count": 14,
   "metadata": {},
   "outputs": [
    {
     "name": "stdout",
     "output_type": "stream",
     "text": [
      "Inchis: 540214 -- 82486 unique\n",
      "Smiles: 445998 -- 41299 unique\n",
      "Inchikeys: 480631 -- 26352 unique (first 14 characters)\n"
     ]
    }
   ],
   "source": [
    "count_annotations(spectrums)"
   ]
  },
  {
   "cell_type": "code",
   "execution_count": null,
   "metadata": {},
   "outputs": [],
   "source": []
  }
 ],
 "metadata": {
  "kernelspec": {
   "display_name": "Python 3 (ipykernel)",
   "language": "python",
   "name": "python3"
  },
  "language_info": {
   "codemirror_mode": {
    "name": "ipython",
    "version": 3
   },
   "file_extension": ".py",
   "mimetype": "text/x-python",
   "name": "python",
   "nbconvert_exporter": "python",
   "pygments_lexer": "ipython3",
   "version": "3.8.12"
  }
 },
 "nbformat": 4,
 "nbformat_minor": 4
}
