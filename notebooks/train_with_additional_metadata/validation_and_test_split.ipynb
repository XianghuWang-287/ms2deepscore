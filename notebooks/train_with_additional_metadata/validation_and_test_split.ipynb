{
 "cells": [
  {
   "cell_type": "markdown",
   "metadata": {
    "collapsed": true,
    "pycharm": {
     "name": "#%% md\n"
    }
   },
   "source": [
    "Loading data"
   ]
  },
  {
   "cell_type": "code",
   "source": [
    "import pickle\n",
    "import os\n",
    "\n",
    "def load_pickled_file(filename: str):\n",
    "    with open(filename, 'rb') as file:\n",
    "        loaded_object = pickle.load(file)\n",
    "    return loaded_object\n",
    "\n",
    "data_folder = \"../../../data\"\n",
    "file_name = \"all_spectra_230201_matchms_manual_pubchem.pickle\"\n",
    "cleaned_library_spectra = load_pickled_file(os.path.join(data_folder, file_name))"
   ],
   "metadata": {
    "collapsed": false,
    "pycharm": {
     "name": "#%%\n"
    }
   },
   "execution_count": 4,
   "outputs": []
  },
  {
   "cell_type": "code",
   "execution_count": 5,
   "outputs": [
    {
     "name": "stdout",
     "output_type": "stream",
     "text": [
      "587756\n"
     ]
    }
   ],
   "source": [
    "print(len(cleaned_library_spectra))"
   ],
   "metadata": {
    "collapsed": false,
    "pycharm": {
     "name": "#%%\n"
    }
   }
  },
  {
   "cell_type": "code",
   "execution_count": 10,
   "outputs": [],
   "source": [
    "import numpy as np\n",
    "from typing import List, Tuple\n",
    "from matchms import Spectrum\n",
    "import random\n",
    "from tqdm import tqdm\n",
    "\n",
    "random.seed(42)\n",
    "\n",
    "def select_unique_inchikeys(spectra):\n",
    "    \"\"\"Creates a list with all the unique first 14 character inchikeys\"\"\"\n",
    "    inchikey_list = []\n",
    "    for spectrum in spectra:\n",
    "        inchikey = spectrum.get(\"inchikey\")[:14]\n",
    "        inchikey_list.append(inchikey)\n",
    "    inchikey_set = set(inchikey_list)\n",
    "    return sorted(list(inchikey_set))\n",
    "\n",
    "def select_spectra_belonging_to_inchikey(spectra: List[Spectrum],\n",
    "                                         inchikeys: List[str]) -> List[Spectrum, ]:\n",
    "    # Select spectra belonging to the selected inchikeys\n",
    "    spectra_containing_inchikey = []\n",
    "    for spectrum in tqdm(spectra, desc=\"Finding spectra belonging to inchikeys\"):\n",
    "        inchikey = spectrum.get(\"inchikey\")[:14]\n",
    "        if inchikey in inchikeys:\n",
    "            spectra_containing_inchikey.append(spectrum)\n",
    "    return spectra_containing_inchikey\n",
    "\n",
    "def split_spectra_in_random_inchikey_sets(spectra: List[Spectrum],\n",
    "                                          k: int) -> Tuple[List[Spectrum], List[Spectrum], List[Spectrum]]:\n",
    "    \"\"\"Splits a set of inchikeys into k sets with the same number of inchikeys\"\"\"\n",
    "    unique_inchikeys = select_unique_inchikeys(spectra)\n",
    "    random.shuffle(unique_inchikeys)\n",
    "    fraction_size = len(unique_inchikeys) // k\n",
    "\n",
    "    validation_inchikeys = unique_inchikeys[-fraction_size:]\n",
    "    test_inchikeys = unique_inchikeys[:fraction_size]\n",
    "    train_inchikeys = unique_inchikeys[fraction_size:-fraction_size]\n",
    "    assert len(unique_inchikeys) == len(validation_inchikeys + test_inchikeys + train_inchikeys)\n",
    "\n",
    "    validation_spectra = select_spectra_belonging_to_inchikey(spectra, validation_inchikeys)\n",
    "    test_spectra = select_spectra_belonging_to_inchikey(spectra, test_inchikeys)\n",
    "    train_spectra = select_spectra_belonging_to_inchikey(spectra, train_inchikeys)\n",
    "    assert len(spectra) == len(validation_spectra + test_spectra + train_spectra)\n",
    "\n",
    "    return validation_spectra, test_spectra, train_spectra"
   ],
   "metadata": {
    "collapsed": false,
    "pycharm": {
     "name": "#%%\n"
    }
   }
  },
  {
   "cell_type": "code",
   "execution_count": 11,
   "outputs": [
    {
     "name": "stderr",
     "output_type": "stream",
     "text": [
      "Finding spectra belonging to inchikeys: 100%|██████████| 587756/587756 [00:59<00:00, 9832.74it/s] \n",
      "Finding spectra belonging to inchikeys: 100%|██████████| 587756/587756 [00:56<00:00, 10366.23it/s]\n",
      "Finding spectra belonging to inchikeys: 100%|██████████| 587756/587756 [07:12<00:00, 1359.05it/s]\n"
     ]
    }
   ],
   "source": [
    "validation_spectra, test_spectra, train_spectra = split_spectra_in_random_inchikey_sets(cleaned_library_spectra, 20)"
   ],
   "metadata": {
    "collapsed": false,
    "pycharm": {
     "name": "#%%\n"
    }
   }
  },
  {
   "cell_type": "code",
   "execution_count": 12,
   "outputs": [
    {
     "name": "stdout",
     "output_type": "stream",
     "text": [
      "24556\n",
      "22190\n",
      "541010\n"
     ]
    }
   ],
   "source": [
    "print(len(validation_spectra))\n",
    "print(len(test_spectra))\n",
    "print(len(train_spectra))"
   ],
   "metadata": {
    "collapsed": false,
    "pycharm": {
     "name": "#%%\n"
    }
   }
  },
  {
   "cell_type": "code",
   "execution_count": 13,
   "outputs": [],
   "source": [
    "import pickle\n",
    "\n",
    "def save_pickled_file(obj, filename: str):\n",
    "    assert not os.path.exists(filename), \"File already exists\"\n",
    "    with open(filename, \"wb\") as f:\n",
    "        pickle.dump(obj, f)\n"
   ],
   "metadata": {
    "collapsed": false,
    "pycharm": {
     "name": "#%%\n"
    }
   }
  },
  {
   "cell_type": "code",
   "execution_count": 14,
   "outputs": [],
   "source": [
    "save_pickled_file(validation_spectra, os.path.join(data_folder, \"validation_spectra\"))\n",
    "save_pickled_file(test_spectra, os.path.join(data_folder, \"test_spectra\"))\n",
    "save_pickled_file(train_spectra, os.path.join(data_folder, \"training_spectra\"))\n"
   ],
   "metadata": {
    "collapsed": false,
    "pycharm": {
     "name": "#%%\n"
    }
   }
  }
 ],
 "metadata": {
  "kernelspec": {
   "name": "pycharm-fa943600",
   "language": "python",
   "display_name": "PyCharm (ms2deepscore)"
  },
  "language_info": {
   "codemirror_mode": {
    "name": "ipython",
    "version": 2
   },
   "file_extension": ".py",
   "mimetype": "text/x-python",
   "name": "python",
   "nbconvert_exporter": "python",
   "pygments_lexer": "ipython2",
   "version": "2.7.6"
  }
 },
 "nbformat": 4,
 "nbformat_minor": 0
}