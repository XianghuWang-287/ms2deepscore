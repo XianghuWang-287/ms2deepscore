{
 "cells": [
  {
   "cell_type": "markdown",
   "metadata": {},
   "source": [
    "## Calculate reference scores aka \"structural similarities\" between all spetra\n",
    "### Here: structural similarity as measure by Tanimoto using circular fingerprints \n",
    "We here use Morgan type fingerprints, the rdkit version of ECFP type fingerprints"
   ]
  },
  {
   "cell_type": "code",
   "execution_count": 1,
   "metadata": {},
   "outputs": [],
   "source": [
    "import os\n",
    "import numpy as np\n",
    "import pandas as pd\n",
    "from tqdm.notebook import tqdm\n",
    "from matchms.importing import load_from_json\n",
    "import tensorflow as tf\n",
    "from tensorflow.keras.utils import to_categorical\n",
    "\n",
    "path_root = os.path.dirname(os.path.dirname(os.getcwd()))\n",
    "path_data = os.path.join(path_root, 'Data')"
   ]
  },
  {
   "cell_type": "code",
   "execution_count": 2,
   "metadata": {},
   "outputs": [],
   "source": [
    "def tanimoto_distribution(scores_ref, ref_score_bins):\n",
    "    bin_content = []\n",
    "    ref_score_bins_inclusive = ref_score_bins.copy()\n",
    "    ref_score_bins_inclusive[0] = -np.inf\n",
    "    ref_score_bins_inclusive[-1] = np.inf\n",
    "    for i in range(len(ref_score_bins)-1):\n",
    "        low = ref_score_bins_inclusive[i]\n",
    "        high = ref_score_bins_inclusive[i+1]\n",
    "        idx = np.where((scores_ref >= low) & (scores_ref < high))\n",
    "        bin_content.append(idx[0].shape[0])\n",
    "    return bin_content"
   ]
  },
  {
   "cell_type": "markdown",
   "metadata": {},
   "source": [
    "## Load annotated spectra"
   ]
  },
  {
   "cell_type": "code",
   "execution_count": 2,
   "metadata": {},
   "outputs": [
    {
     "name": "stdout",
     "output_type": "stream",
     "text": [
      "109734 spectra imported.\n"
     ]
    }
   ],
   "source": [
    "import pickle\n",
    "\n",
    "filename = os.path.join(path_data, 'GNPS_all', 'ALL_GNPS_210125_positive_processed_annotated.pickle')\n",
    "with open(filename, 'rb') as file:\n",
    "    spectrums = pickle.load(file)\n",
    "\n",
    "print(f\"{len(spectrums)} spectra imported.\")"
   ]
  },
  {
   "cell_type": "markdown",
   "metadata": {},
   "source": [
    "## Create reference scores (Tanimoto)\n",
    "- Check better alternatives?"
   ]
  },
  {
   "cell_type": "code",
   "execution_count": 3,
   "metadata": {},
   "outputs": [],
   "source": [
    "from collections import Counter \n",
    "  \n",
    "def most_frequent(List): \n",
    "    occurence_count = Counter(List) \n",
    "    return occurence_count.most_common(1)[0][0] "
   ]
  },
  {
   "cell_type": "code",
   "execution_count": 4,
   "metadata": {},
   "outputs": [],
   "source": [
    "inchikeys_list = []\n",
    "for s in spectrums:\n",
    "    inchikeys_list.append(s.get(\"inchikey\"))\n",
    "\n",
    "inchikeys14_array = np.array([x[:14] for x in inchikeys_list])"
   ]
  },
  {
   "cell_type": "code",
   "execution_count": 5,
   "metadata": {},
   "outputs": [
    {
     "data": {
      "text/plain": [
       "15062"
      ]
     },
     "execution_count": 5,
     "metadata": {},
     "output_type": "execute_result"
    }
   ],
   "source": [
    "inchikeys14_unique = list({x[:14] for x in inchikeys_list})\n",
    "len(inchikeys14_unique)"
   ]
  },
  {
   "cell_type": "code",
   "execution_count": 6,
   "metadata": {},
   "outputs": [
    {
     "name": "stdout",
     "output_type": "stream",
     "text": [
      "VVIAGPKUTFNRDU\n",
      "C1C(N(C2=C(N1)N=C(NC2=O)N)C=O)CNC3=CC=C(C=C3)C(=O)N[C@@H](CCC(=O)O)C(=O)O\n",
      "\n",
      "C1C(N(C2=C(N1)N=C(NC2=O)N)C=O)CNC3=CC=C(C=C3)C(=O)N[C@@H](CCC(=O)O)C(=O)O\n",
      "\n",
      "C1C(N(C2=C(N1)N=C(NC2=O)N)C=O)CNC3=CC=C(C=C3)C(=O)N[C@@H](CCC(=O)O)C(=O)O\n",
      "\n",
      "most frequent: C1C(N(C2=C(N1)N=C(NC2=O)N)C=O)CNC3=CC=C(C=C3)C(=O)N[C@@H](CCC(=O)O)C(=O)O\n"
     ]
    }
   ],
   "source": [
    "inchikey14 = inchikeys14_unique[1000]\n",
    "print(inchikey14)\n",
    "\n",
    "idx = np.where(inchikeys14_array == inchikey14)[0]\n",
    "for i in idx:\n",
    "    print(spectrums[i].get(\"smiles\") + \"\\n\")\n",
    "\n",
    "print(\"most frequent:\", most_frequent([spectrums[i].get(\"smiles\") for i in idx]))"
   ]
  },
  {
   "cell_type": "code",
   "execution_count": 7,
   "metadata": {},
   "outputs": [],
   "source": [
    "inchi_list = []\n",
    "for s in spectrums:\n",
    "    inchi_list.append(s.get(\"inchi\"))\n",
    "\n",
    "inchi_array = np.array(inchi_list)"
   ]
  },
  {
   "cell_type": "code",
   "execution_count": 8,
   "metadata": {},
   "outputs": [],
   "source": [
    "inchi_mapping = []\n",
    "ID_mapping = []\n",
    "\n",
    "for inchikey14 in inchikeys14_unique:\n",
    "    idx = np.where(inchikeys14_array == inchikey14)[0]\n",
    "    \n",
    "    inchi = most_frequent([spectrums[i].get(\"inchi\") for i in idx])\n",
    "    inchi_mapping.append(inchi)\n",
    "    ID = idx[np.where(inchi_array[idx] == inchi)[0][0]]\n",
    "    ID_mapping.append(ID)"
   ]
  },
  {
   "cell_type": "code",
   "execution_count": 9,
   "metadata": {},
   "outputs": [
    {
     "data": {
      "text/html": [
       "<div>\n",
       "<style scoped>\n",
       "    .dataframe tbody tr th:only-of-type {\n",
       "        vertical-align: middle;\n",
       "    }\n",
       "\n",
       "    .dataframe tbody tr th {\n",
       "        vertical-align: top;\n",
       "    }\n",
       "\n",
       "    .dataframe thead th {\n",
       "        text-align: right;\n",
       "    }\n",
       "</style>\n",
       "<table border=\"1\" class=\"dataframe\">\n",
       "  <thead>\n",
       "    <tr style=\"text-align: right;\">\n",
       "      <th></th>\n",
       "      <th>inchikey14</th>\n",
       "      <th>inchi</th>\n",
       "      <th>ID</th>\n",
       "    </tr>\n",
       "  </thead>\n",
       "  <tbody>\n",
       "    <tr>\n",
       "      <th>0</th>\n",
       "      <td>GWLHFNKLJRZBAI</td>\n",
       "      <td>InChI=1S/C33H47N5O6/c1-5-23(39)13-7-6-8-15-25-...</td>\n",
       "      <td>1141</td>\n",
       "    </tr>\n",
       "    <tr>\n",
       "      <th>1</th>\n",
       "      <td>ZIYVHBGGAOATLY</td>\n",
       "      <td>InChI=1S/C4H6O4/c1-2(3(5)6)4(7)8/h2H,1H3,(H,5,...</td>\n",
       "      <td>23955</td>\n",
       "    </tr>\n",
       "    <tr>\n",
       "      <th>2</th>\n",
       "      <td>FAKRSMQSSFJEIM</td>\n",
       "      <td>InChI=1S/C9H15NO3S/c1-6(5-14)8(11)10-4-2-3-7(1...</td>\n",
       "      <td>1677</td>\n",
       "    </tr>\n",
       "    <tr>\n",
       "      <th>3</th>\n",
       "      <td>IAYOHSHBLLHXFB</td>\n",
       "      <td>InChI=1S/C17H16O5/c1-21-13-10-14(22-2)16(19)17...</td>\n",
       "      <td>7594</td>\n",
       "    </tr>\n",
       "    <tr>\n",
       "      <th>4</th>\n",
       "      <td>MQTHRHQDRZPYGH</td>\n",
       "      <td>InChI=1S/C12H18O4/c1-11(2,15)5-4-8-6-10(14)12(...</td>\n",
       "      <td>11699</td>\n",
       "    </tr>\n",
       "  </tbody>\n",
       "</table>\n",
       "</div>"
      ],
      "text/plain": [
       "       inchikey14                                              inchi     ID\n",
       "0  GWLHFNKLJRZBAI  InChI=1S/C33H47N5O6/c1-5-23(39)13-7-6-8-15-25-...   1141\n",
       "1  ZIYVHBGGAOATLY  InChI=1S/C4H6O4/c1-2(3(5)6)4(7)8/h2H,1H3,(H,5,...  23955\n",
       "2  FAKRSMQSSFJEIM  InChI=1S/C9H15NO3S/c1-6(5-14)8(11)10-4-2-3-7(1...   1677\n",
       "3  IAYOHSHBLLHXFB  InChI=1S/C17H16O5/c1-21-13-10-14(22-2)16(19)17...   7594\n",
       "4  MQTHRHQDRZPYGH  InChI=1S/C12H18O4/c1-11(2,15)5-4-8-6-10(14)12(...  11699"
      ]
     },
     "execution_count": 9,
     "metadata": {},
     "output_type": "execute_result"
    }
   ],
   "source": [
    "import pandas as pd\n",
    "metadata = pd.DataFrame(list(zip(inchikeys14_unique, inchi_mapping, ID_mapping)), columns=[\"inchikey14\", \"inchi\", \"ID\"])\n",
    "metadata.head()"
   ]
  },
  {
   "cell_type": "code",
   "execution_count": 5,
   "metadata": {},
   "outputs": [
    {
     "data": {
      "text/html": [
       "<div>\n",
       "<style scoped>\n",
       "    .dataframe tbody tr th:only-of-type {\n",
       "        vertical-align: middle;\n",
       "    }\n",
       "\n",
       "    .dataframe tbody tr th {\n",
       "        vertical-align: top;\n",
       "    }\n",
       "\n",
       "    .dataframe thead th {\n",
       "        text-align: right;\n",
       "    }\n",
       "</style>\n",
       "<table border=\"1\" class=\"dataframe\">\n",
       "  <thead>\n",
       "    <tr style=\"text-align: right;\">\n",
       "      <th></th>\n",
       "      <th>Unnamed: 0</th>\n",
       "      <th>inchikey14</th>\n",
       "      <th>inchi</th>\n",
       "      <th>ID</th>\n",
       "    </tr>\n",
       "  </thead>\n",
       "  <tbody>\n",
       "    <tr>\n",
       "      <th>0</th>\n",
       "      <td>0</td>\n",
       "      <td>JJGYRVZPUJUFTR</td>\n",
       "      <td>InChI=1S/C20H32O3/c1-13(11-17(22)23)7-8-15-14(...</td>\n",
       "      <td>11893</td>\n",
       "    </tr>\n",
       "    <tr>\n",
       "      <th>1</th>\n",
       "      <td>1</td>\n",
       "      <td>CSVWQRLFFUNUND</td>\n",
       "      <td>\"InChI=1S/C38H44N4O/c1-3-21-18-40-14-13-38-28-...</td>\n",
       "      <td>1690</td>\n",
       "    </tr>\n",
       "    <tr>\n",
       "      <th>2</th>\n",
       "      <td>2</td>\n",
       "      <td>PXWNBAGCFUDYBE</td>\n",
       "      <td>InChI=1S/C15H15NO2/c16-14-9-5-4-8-13(14)15(17)...</td>\n",
       "      <td>65190</td>\n",
       "    </tr>\n",
       "    <tr>\n",
       "      <th>3</th>\n",
       "      <td>3</td>\n",
       "      <td>DFJVUWAHTQPQCV</td>\n",
       "      <td>InChI=1S/C13H22N4O4S/c1-14-13(8-16(18)19)15-6-...</td>\n",
       "      <td>45927</td>\n",
       "    </tr>\n",
       "    <tr>\n",
       "      <th>4</th>\n",
       "      <td>4</td>\n",
       "      <td>PNOLBYVRLYUCIC</td>\n",
       "      <td>InChI=1S/C29H33NO10/c1-36-18-4-2-17(3-5-18)21-...</td>\n",
       "      <td>60397</td>\n",
       "    </tr>\n",
       "  </tbody>\n",
       "</table>\n",
       "</div>"
      ],
      "text/plain": [
       "   Unnamed: 0      inchikey14  \\\n",
       "0           0  JJGYRVZPUJUFTR   \n",
       "1           1  CSVWQRLFFUNUND   \n",
       "2           2  PXWNBAGCFUDYBE   \n",
       "3           3  DFJVUWAHTQPQCV   \n",
       "4           4  PNOLBYVRLYUCIC   \n",
       "\n",
       "                                               inchi     ID  \n",
       "0  InChI=1S/C20H32O3/c1-13(11-17(22)23)7-8-15-14(...  11893  \n",
       "1  \"InChI=1S/C38H44N4O/c1-3-21-18-40-14-13-38-28-...   1690  \n",
       "2  InChI=1S/C15H15NO2/c16-14-9-5-4-8-13(14)15(17)...  65190  \n",
       "3  InChI=1S/C13H22N4O4S/c1-14-13(8-16(18)19)15-6-...  45927  \n",
       "4  InChI=1S/C29H33NO10/c1-36-18-4-2-17(3-5-18)21-...  60397  "
      ]
     },
     "execution_count": 5,
     "metadata": {},
     "output_type": "execute_result"
    }
   ],
   "source": [
    "metadata = pd.read_csv(\"metadata_AllInchikeys_210317.csv\")\n",
    "metadata.head()"
   ]
  },
  {
   "cell_type": "code",
   "execution_count": 6,
   "metadata": {},
   "outputs": [
    {
     "data": {
      "text/plain": [
       "'CSVWQRLFFUNUND-KJSNTNJZSA-N'"
      ]
     },
     "execution_count": 6,
     "metadata": {},
     "output_type": "execute_result"
    }
   ],
   "source": [
    "spectrums[1690].get(\"inchikey\")"
   ]
  },
  {
   "cell_type": "code",
   "execution_count": 16,
   "metadata": {},
   "outputs": [
    {
     "data": {
      "text/html": [
       "<div>\n",
       "<style scoped>\n",
       "    .dataframe tbody tr th:only-of-type {\n",
       "        vertical-align: middle;\n",
       "    }\n",
       "\n",
       "    .dataframe tbody tr th {\n",
       "        vertical-align: top;\n",
       "    }\n",
       "\n",
       "    .dataframe thead th {\n",
       "        text-align: right;\n",
       "    }\n",
       "</style>\n",
       "<table border=\"1\" class=\"dataframe\">\n",
       "  <thead>\n",
       "    <tr style=\"text-align: right;\">\n",
       "      <th></th>\n",
       "      <th>inchikey14</th>\n",
       "      <th>inchi</th>\n",
       "      <th>ID</th>\n",
       "    </tr>\n",
       "  </thead>\n",
       "  <tbody>\n",
       "    <tr>\n",
       "      <th>0</th>\n",
       "      <td>JJGYRVZPUJUFTR</td>\n",
       "      <td>InChI=1S/C20H32O3/c1-13(11-17(22)23)7-8-15-14(...</td>\n",
       "      <td>11893</td>\n",
       "    </tr>\n",
       "    <tr>\n",
       "      <th>1</th>\n",
       "      <td>CSVWQRLFFUNUND</td>\n",
       "      <td>\"InChI=1S/C38H44N4O/c1-3-21-18-40-14-13-38-28-...</td>\n",
       "      <td>1690</td>\n",
       "    </tr>\n",
       "    <tr>\n",
       "      <th>2</th>\n",
       "      <td>PXWNBAGCFUDYBE</td>\n",
       "      <td>InChI=1S/C15H15NO2/c16-14-9-5-4-8-13(14)15(17)...</td>\n",
       "      <td>65190</td>\n",
       "    </tr>\n",
       "    <tr>\n",
       "      <th>3</th>\n",
       "      <td>DFJVUWAHTQPQCV</td>\n",
       "      <td>InChI=1S/C13H22N4O4S/c1-14-13(8-16(18)19)15-6-...</td>\n",
       "      <td>45927</td>\n",
       "    </tr>\n",
       "    <tr>\n",
       "      <th>4</th>\n",
       "      <td>PNOLBYVRLYUCIC</td>\n",
       "      <td>InChI=1S/C29H33NO10/c1-36-18-4-2-17(3-5-18)21-...</td>\n",
       "      <td>60397</td>\n",
       "    </tr>\n",
       "  </tbody>\n",
       "</table>\n",
       "</div>"
      ],
      "text/plain": [
       "       inchikey14                                              inchi     ID\n",
       "0  JJGYRVZPUJUFTR  InChI=1S/C20H32O3/c1-13(11-17(22)23)7-8-15-14(...  11893\n",
       "1  CSVWQRLFFUNUND  \"InChI=1S/C38H44N4O/c1-3-21-18-40-14-13-38-28-...   1690\n",
       "2  PXWNBAGCFUDYBE  InChI=1S/C15H15NO2/c16-14-9-5-4-8-13(14)15(17)...  65190\n",
       "3  DFJVUWAHTQPQCV  InChI=1S/C13H22N4O4S/c1-14-13(8-16(18)19)15-6-...  45927\n",
       "4  PNOLBYVRLYUCIC  InChI=1S/C29H33NO10/c1-36-18-4-2-17(3-5-18)21-...  60397"
      ]
     },
     "execution_count": 16,
     "metadata": {},
     "output_type": "execute_result"
    }
   ],
   "source": [
    "#metadata.to_csv(\"metadata_AllInchikeys_210317.csv\")\n",
    "\n",
    "metadata.head()"
   ]
  },
  {
   "cell_type": "code",
   "execution_count": 7,
   "metadata": {},
   "outputs": [
    {
     "data": {
      "text/plain": [
       "(15062,)"
      ]
     },
     "execution_count": 7,
     "metadata": {},
     "output_type": "execute_result"
    }
   ],
   "source": [
    "metadata.ID.values.shape"
   ]
  },
  {
   "cell_type": "markdown",
   "metadata": {},
   "source": [
    "## Add fingerprints (where necessary) --> morgan-2, 2048 bits"
   ]
  },
  {
   "cell_type": "code",
   "execution_count": 8,
   "metadata": {},
   "outputs": [
    {
     "data": {
      "application/vnd.jupyter.widget-view+json": {
       "model_id": "3c5075a3ffda40e186c5742613277f2f",
       "version_major": 2,
       "version_minor": 0
      },
      "text/plain": [
       "  0%|          | 0/15062 [00:00<?, ?it/s]"
      ]
     },
     "metadata": {},
     "output_type": "display_data"
    }
   ],
   "source": [
    "from matchms.filtering.add_fingerprint import add_fingerprint\n",
    "\n",
    "for i in tqdm(metadata.ID.values):\n",
    "    spectrums[i] = add_fingerprint(spectrums[i],\n",
    "                                   fingerprint_type=\"morgan2\", nbits=2048)"
   ]
  },
  {
   "cell_type": "code",
   "execution_count": 9,
   "metadata": {},
   "outputs": [
    {
     "data": {
      "application/vnd.jupyter.widget-view+json": {
       "model_id": "65775d7533f54572aaa6eba3af8c2ff9",
       "version_major": 2,
       "version_minor": 0
      },
      "text/plain": [
       "  0%|          | 0/15062 [00:00<?, ?it/s]"
      ]
     },
     "metadata": {},
     "output_type": "display_data"
    }
   ],
   "source": [
    "for i in tqdm(metadata.ID.values):\n",
    "    if np.any(np.isnan(spectrums[i].get(\"fingerprint\"))):\n",
    "        print(i)"
   ]
  },
  {
   "cell_type": "markdown",
   "metadata": {},
   "source": [
    "### Pick one spectrum per InChIKey and calculate fingerprint based similarities"
   ]
  },
  {
   "cell_type": "code",
   "execution_count": 23,
   "metadata": {},
   "outputs": [],
   "source": [
    "from matchms.similarity import FingerprintSimilarity\n",
    "\n",
    "spectrums_represent = [spectrums[i] for i in metadata.ID.values]\n",
    "\n",
    "similarity_measure = FingerprintSimilarity(similarity_measure=\"jaccard\")\n",
    "scores_mol_similarity = similarity_measure.matrix(spectrums_represent, spectrums_represent)"
   ]
  },
  {
   "cell_type": "code",
   "execution_count": 24,
   "metadata": {},
   "outputs": [],
   "source": [
    "filename = os.path.join(path_data, \"ALL_GNPS_210125_positive_morgan2_tanimoto_scores.npy\")\n",
    "np.save(filename, scores_mol_similarity)"
   ]
  },
  {
   "cell_type": "code",
   "execution_count": 3,
   "metadata": {},
   "outputs": [],
   "source": [
    "filename = os.path.join(path_data, \"ALL_GNPS_210125_positive_morgan2_tanimoto_scores.npy\")\n",
    "scores_mol_similarity = np.load(filename)"
   ]
  },
  {
   "cell_type": "code",
   "execution_count": 25,
   "metadata": {},
   "outputs": [
    {
     "data": {
      "text/plain": [
       "(15062, 15062)"
      ]
     },
     "execution_count": 25,
     "metadata": {},
     "output_type": "execute_result"
    }
   ],
   "source": [
    "scores_mol_similarity.shape"
   ]
  },
  {
   "cell_type": "code",
   "execution_count": 28,
   "metadata": {},
   "outputs": [
    {
     "data": {
      "text/html": [
       "<div>\n",
       "<style scoped>\n",
       "    .dataframe tbody tr th:only-of-type {\n",
       "        vertical-align: middle;\n",
       "    }\n",
       "\n",
       "    .dataframe tbody tr th {\n",
       "        vertical-align: top;\n",
       "    }\n",
       "\n",
       "    .dataframe thead th {\n",
       "        text-align: right;\n",
       "    }\n",
       "</style>\n",
       "<table border=\"1\" class=\"dataframe\">\n",
       "  <thead>\n",
       "    <tr style=\"text-align: right;\">\n",
       "      <th></th>\n",
       "      <th>JJGYRVZPUJUFTR</th>\n",
       "      <th>CSVWQRLFFUNUND</th>\n",
       "      <th>PXWNBAGCFUDYBE</th>\n",
       "      <th>DFJVUWAHTQPQCV</th>\n",
       "      <th>PNOLBYVRLYUCIC</th>\n",
       "      <th>HBNPJJILLOYFJU</th>\n",
       "      <th>IVKGLRZLTNXWKF</th>\n",
       "      <th>WHZAJDSPQDCUBB</th>\n",
       "      <th>LFVSQVHIKFDYFI</th>\n",
       "      <th>LBBJNGFCXDOYMQ</th>\n",
       "      <th>...</th>\n",
       "      <th>NBWDKCDWCBQNQQ</th>\n",
       "      <th>WKHWTIZYRUWECB</th>\n",
       "      <th>HYIFFZAQXPUEAU</th>\n",
       "      <th>GYOZYWVXFNDGLU</th>\n",
       "      <th>YNDYKPRNFWPPFU</th>\n",
       "      <th>IYODIJVWGPRBGQ</th>\n",
       "      <th>XHCADAYNFIFUHF</th>\n",
       "      <th>OJAGBDHRHPCDLN</th>\n",
       "      <th>POUZLUJYBWGJJO</th>\n",
       "      <th>JAYJEXYYCNLGOQ</th>\n",
       "    </tr>\n",
       "  </thead>\n",
       "  <tbody>\n",
       "    <tr>\n",
       "      <th>JJGYRVZPUJUFTR</th>\n",
       "      <td>1.000000</td>\n",
       "      <td>0.075000</td>\n",
       "      <td>0.102941</td>\n",
       "      <td>0.070588</td>\n",
       "      <td>0.107843</td>\n",
       "      <td>0.134615</td>\n",
       "      <td>0.097561</td>\n",
       "      <td>0.080460</td>\n",
       "      <td>0.112500</td>\n",
       "      <td>0.088235</td>\n",
       "      <td>...</td>\n",
       "      <td>0.101124</td>\n",
       "      <td>0.132353</td>\n",
       "      <td>0.115942</td>\n",
       "      <td>0.139241</td>\n",
       "      <td>0.083333</td>\n",
       "      <td>0.027397</td>\n",
       "      <td>0.086420</td>\n",
       "      <td>0.122449</td>\n",
       "      <td>0.089552</td>\n",
       "      <td>0.125000</td>\n",
       "    </tr>\n",
       "    <tr>\n",
       "      <th>CSVWQRLFFUNUND</th>\n",
       "      <td>0.075000</td>\n",
       "      <td>1.000000</td>\n",
       "      <td>0.065421</td>\n",
       "      <td>0.083333</td>\n",
       "      <td>0.070423</td>\n",
       "      <td>0.113475</td>\n",
       "      <td>0.066116</td>\n",
       "      <td>0.090164</td>\n",
       "      <td>0.075630</td>\n",
       "      <td>0.076190</td>\n",
       "      <td>...</td>\n",
       "      <td>0.104839</td>\n",
       "      <td>0.026549</td>\n",
       "      <td>0.026549</td>\n",
       "      <td>0.093220</td>\n",
       "      <td>0.026316</td>\n",
       "      <td>0.096154</td>\n",
       "      <td>0.058333</td>\n",
       "      <td>0.087591</td>\n",
       "      <td>0.037037</td>\n",
       "      <td>0.064516</td>\n",
       "    </tr>\n",
       "    <tr>\n",
       "      <th>PXWNBAGCFUDYBE</th>\n",
       "      <td>0.102941</td>\n",
       "      <td>0.065421</td>\n",
       "      <td>1.000000</td>\n",
       "      <td>0.101449</td>\n",
       "      <td>0.101124</td>\n",
       "      <td>0.119565</td>\n",
       "      <td>0.171875</td>\n",
       "      <td>0.128571</td>\n",
       "      <td>0.121212</td>\n",
       "      <td>0.092593</td>\n",
       "      <td>...</td>\n",
       "      <td>0.169014</td>\n",
       "      <td>0.169811</td>\n",
       "      <td>0.107143</td>\n",
       "      <td>0.086957</td>\n",
       "      <td>0.105263</td>\n",
       "      <td>0.090909</td>\n",
       "      <td>0.106061</td>\n",
       "      <td>0.104651</td>\n",
       "      <td>0.160000</td>\n",
       "      <td>0.057143</td>\n",
       "    </tr>\n",
       "    <tr>\n",
       "      <th>DFJVUWAHTQPQCV</th>\n",
       "      <td>0.070588</td>\n",
       "      <td>0.083333</td>\n",
       "      <td>0.101449</td>\n",
       "      <td>1.000000</td>\n",
       "      <td>0.075472</td>\n",
       "      <td>0.081818</td>\n",
       "      <td>0.123457</td>\n",
       "      <td>0.067416</td>\n",
       "      <td>0.097561</td>\n",
       "      <td>0.071429</td>\n",
       "      <td>...</td>\n",
       "      <td>0.087912</td>\n",
       "      <td>0.068493</td>\n",
       "      <td>0.083333</td>\n",
       "      <td>0.083333</td>\n",
       "      <td>0.053333</td>\n",
       "      <td>0.055556</td>\n",
       "      <td>0.112500</td>\n",
       "      <td>0.099010</td>\n",
       "      <td>0.104478</td>\n",
       "      <td>0.067227</td>\n",
       "    </tr>\n",
       "    <tr>\n",
       "      <th>PNOLBYVRLYUCIC</th>\n",
       "      <td>0.107843</td>\n",
       "      <td>0.070423</td>\n",
       "      <td>0.101124</td>\n",
       "      <td>0.075472</td>\n",
       "      <td>1.000000</td>\n",
       "      <td>0.128000</td>\n",
       "      <td>0.130000</td>\n",
       "      <td>0.093458</td>\n",
       "      <td>0.120000</td>\n",
       "      <td>0.127907</td>\n",
       "      <td>...</td>\n",
       "      <td>0.287234</td>\n",
       "      <td>0.098901</td>\n",
       "      <td>0.075269</td>\n",
       "      <td>0.177083</td>\n",
       "      <td>0.086022</td>\n",
       "      <td>0.065217</td>\n",
       "      <td>0.290698</td>\n",
       "      <td>0.242991</td>\n",
       "      <td>0.090909</td>\n",
       "      <td>0.103704</td>\n",
       "    </tr>\n",
       "  </tbody>\n",
       "</table>\n",
       "<p>5 rows × 15062 columns</p>\n",
       "</div>"
      ],
      "text/plain": [
       "                JJGYRVZPUJUFTR  CSVWQRLFFUNUND  PXWNBAGCFUDYBE  \\\n",
       "JJGYRVZPUJUFTR        1.000000        0.075000        0.102941   \n",
       "CSVWQRLFFUNUND        0.075000        1.000000        0.065421   \n",
       "PXWNBAGCFUDYBE        0.102941        0.065421        1.000000   \n",
       "DFJVUWAHTQPQCV        0.070588        0.083333        0.101449   \n",
       "PNOLBYVRLYUCIC        0.107843        0.070423        0.101124   \n",
       "\n",
       "                DFJVUWAHTQPQCV  PNOLBYVRLYUCIC  HBNPJJILLOYFJU  \\\n",
       "JJGYRVZPUJUFTR        0.070588        0.107843        0.134615   \n",
       "CSVWQRLFFUNUND        0.083333        0.070423        0.113475   \n",
       "PXWNBAGCFUDYBE        0.101449        0.101124        0.119565   \n",
       "DFJVUWAHTQPQCV        1.000000        0.075472        0.081818   \n",
       "PNOLBYVRLYUCIC        0.075472        1.000000        0.128000   \n",
       "\n",
       "                IVKGLRZLTNXWKF  WHZAJDSPQDCUBB  LFVSQVHIKFDYFI  \\\n",
       "JJGYRVZPUJUFTR        0.097561        0.080460        0.112500   \n",
       "CSVWQRLFFUNUND        0.066116        0.090164        0.075630   \n",
       "PXWNBAGCFUDYBE        0.171875        0.128571        0.121212   \n",
       "DFJVUWAHTQPQCV        0.123457        0.067416        0.097561   \n",
       "PNOLBYVRLYUCIC        0.130000        0.093458        0.120000   \n",
       "\n",
       "                LBBJNGFCXDOYMQ  ...  NBWDKCDWCBQNQQ  WKHWTIZYRUWECB  \\\n",
       "JJGYRVZPUJUFTR        0.088235  ...        0.101124        0.132353   \n",
       "CSVWQRLFFUNUND        0.076190  ...        0.104839        0.026549   \n",
       "PXWNBAGCFUDYBE        0.092593  ...        0.169014        0.169811   \n",
       "DFJVUWAHTQPQCV        0.071429  ...        0.087912        0.068493   \n",
       "PNOLBYVRLYUCIC        0.127907  ...        0.287234        0.098901   \n",
       "\n",
       "                HYIFFZAQXPUEAU  GYOZYWVXFNDGLU  YNDYKPRNFWPPFU  \\\n",
       "JJGYRVZPUJUFTR        0.115942        0.139241        0.083333   \n",
       "CSVWQRLFFUNUND        0.026549        0.093220        0.026316   \n",
       "PXWNBAGCFUDYBE        0.107143        0.086957        0.105263   \n",
       "DFJVUWAHTQPQCV        0.083333        0.083333        0.053333   \n",
       "PNOLBYVRLYUCIC        0.075269        0.177083        0.086022   \n",
       "\n",
       "                IYODIJVWGPRBGQ  XHCADAYNFIFUHF  OJAGBDHRHPCDLN  \\\n",
       "JJGYRVZPUJUFTR        0.027397        0.086420        0.122449   \n",
       "CSVWQRLFFUNUND        0.096154        0.058333        0.087591   \n",
       "PXWNBAGCFUDYBE        0.090909        0.106061        0.104651   \n",
       "DFJVUWAHTQPQCV        0.055556        0.112500        0.099010   \n",
       "PNOLBYVRLYUCIC        0.065217        0.290698        0.242991   \n",
       "\n",
       "                POUZLUJYBWGJJO  JAYJEXYYCNLGOQ  \n",
       "JJGYRVZPUJUFTR        0.089552        0.125000  \n",
       "CSVWQRLFFUNUND        0.037037        0.064516  \n",
       "PXWNBAGCFUDYBE        0.160000        0.057143  \n",
       "DFJVUWAHTQPQCV        0.104478        0.067227  \n",
       "PNOLBYVRLYUCIC        0.090909        0.103704  \n",
       "\n",
       "[5 rows x 15062 columns]"
      ]
     },
     "execution_count": 28,
     "metadata": {},
     "output_type": "execute_result"
    }
   ],
   "source": [
    "tanimoto_df = pd.DataFrame(scores_mol_similarity, columns=metadata.inchikey14.values, index=metadata.inchikey14.values)\n",
    "tanimoto_df.head()"
   ]
  },
  {
   "cell_type": "code",
   "execution_count": 29,
   "metadata": {},
   "outputs": [],
   "source": [
    "filename = os.path.join(path_data, \"ALL_GNPS_210125_positive_morgan2_tanimoto_scores.pickle\")\n",
    "tanimoto_df.to_pickle(filename)"
   ]
  },
  {
   "cell_type": "code",
   "execution_count": 30,
   "metadata": {},
   "outputs": [],
   "source": [
    "filename = os.path.join(path_data, \"ALL_GNPS_210125_positive_morgan2_tanimoto_labels.csv\")\n",
    "metadata.inchikey14.to_csv(filename)"
   ]
  },
  {
   "cell_type": "code",
   "execution_count": 4,
   "metadata": {},
   "outputs": [],
   "source": [
    "ref_score_bins = np.linspace(0,1.0, 11)\n",
    "bin_content = tanimoto_distribution(scores_mol_similarity, ref_score_bins)"
   ]
  },
  {
   "cell_type": "code",
   "execution_count": 8,
   "metadata": {},
   "outputs": [],
   "source": [
    "filename = os.path.join(path_data, \"pair_distribution_Tanimoto_morgan2_2048.npy\")\n",
    "np.save(filename, bin_content)"
   ]
  },
  {
   "cell_type": "code",
   "execution_count": 9,
   "metadata": {},
   "outputs": [
    {
     "data": {
      "text/plain": [
       "Text(0, 0.5, 'pair occurences in full training data set')"
      ]
     },
     "execution_count": 9,
     "metadata": {},
     "output_type": "execute_result"
    },
    {
     "data": {
      "image/png": "[encoded data removed]",
      "text/plain": [
       "<Figure size 600x420 with 1 Axes>"
      ]
     },
     "metadata": {
      "needs_background": "light"
     },
     "output_type": "display_data"
    }
   ],
   "source": [
    "from matplotlib import pyplot as plt \n",
    "\n",
    "bounds = [f\"{a:.1f} to {a+0.1:.1f}\" for a in ref_score_bins[:-1]]\n",
    "\n",
    "plt.figure(figsize=(5,3.5), dpi=120)\n",
    "plt.plot(ref_score_bins[:-1], bin_content, \"o--\")\n",
    "plt.yscale('log')\n",
    "plt.xticks(ref_score_bins[:-1],\n",
    "           bounds, fontsize=9, rotation='vertical')\n",
    "plt.xlabel(\"Tanimoto scores (morgan2, 2048bits)\")\n",
    "plt.ylim(1e4)\n",
    "plt.ylabel(\"pair occurences in full training data set\")"
   ]
  },
  {
   "cell_type": "code",
   "execution_count": 31,
   "metadata": {},
   "outputs": [],
   "source": [
    "import csv\n",
    "labels =[]\n",
    "with open(filename, 'r') as file:\n",
    "    reader = csv.reader(file)\n",
    "    for row in reader:\n",
    "        labels+=row"
   ]
  },
  {
   "cell_type": "code",
   "execution_count": 33,
   "metadata": {},
   "outputs": [
    {
     "data": {
      "text/plain": [
       "15062"
      ]
     },
     "execution_count": 33,
     "metadata": {},
     "output_type": "execute_result"
    }
   ],
   "source": [
    "len(labels)"
   ]
  },
  {
   "cell_type": "markdown",
   "metadata": {},
   "source": [
    "## Morgan 2 - 1024 bits"
   ]
  },
  {
   "cell_type": "code",
   "execution_count": 37,
   "metadata": {},
   "outputs": [
    {
     "data": {
      "application/vnd.jupyter.widget-view+json": {
       "model_id": "8c0b566f2df64e709aba0c64e4f17603",
       "version_major": 2,
       "version_minor": 0
      },
      "text/plain": [
       "  0%|          | 0/15062 [00:00<?, ?it/s]"
      ]
     },
     "metadata": {},
     "output_type": "display_data"
    }
   ],
   "source": [
    "from matchms.filtering.add_fingerprint import add_fingerprint\n",
    "\n",
    "for i in tqdm(metadata.ID.values):\n",
    "    spectrums[i] = add_fingerprint(spectrums[i],\n",
    "                                   fingerprint_type=\"morgan2\", nbits=1024)"
   ]
  },
  {
   "cell_type": "code",
   "execution_count": 38,
   "metadata": {},
   "outputs": [],
   "source": [
    "spectrums_represent = [spectrums[i] for i in metadata.ID.values]\n",
    "\n",
    "similarity_measure = FingerprintSimilarity(similarity_measure=\"jaccard\")\n",
    "scores_mol_similarity = similarity_measure.matrix(spectrums_represent, spectrums_represent)"
   ]
  },
  {
   "cell_type": "code",
   "execution_count": 39,
   "metadata": {},
   "outputs": [],
   "source": [
    "filename = os.path.join(path_data, \"ALL_GNPS_210125_positive_morgan2_1024_tanimoto_scores.npy\")\n",
    "np.save(filename, scores_mol_similarity)"
   ]
  },
  {
   "cell_type": "code",
   "execution_count": 10,
   "metadata": {},
   "outputs": [],
   "source": [
    "filename = os.path.join(path_data, \"ALL_GNPS_210125_positive_morgan2_1024_tanimoto_scores.npy\")\n",
    "scores_mol_similarity = np.load(filename)"
   ]
  },
  {
   "cell_type": "code",
   "execution_count": 40,
   "metadata": {},
   "outputs": [
    {
     "data": {
      "text/html": [
       "<div>\n",
       "<style scoped>\n",
       "    .dataframe tbody tr th:only-of-type {\n",
       "        vertical-align: middle;\n",
       "    }\n",
       "\n",
       "    .dataframe tbody tr th {\n",
       "        vertical-align: top;\n",
       "    }\n",
       "\n",
       "    .dataframe thead th {\n",
       "        text-align: right;\n",
       "    }\n",
       "</style>\n",
       "<table border=\"1\" class=\"dataframe\">\n",
       "  <thead>\n",
       "    <tr style=\"text-align: right;\">\n",
       "      <th></th>\n",
       "      <th>JJGYRVZPUJUFTR</th>\n",
       "      <th>CSVWQRLFFUNUND</th>\n",
       "      <th>PXWNBAGCFUDYBE</th>\n",
       "      <th>DFJVUWAHTQPQCV</th>\n",
       "      <th>PNOLBYVRLYUCIC</th>\n",
       "      <th>HBNPJJILLOYFJU</th>\n",
       "      <th>IVKGLRZLTNXWKF</th>\n",
       "      <th>WHZAJDSPQDCUBB</th>\n",
       "      <th>LFVSQVHIKFDYFI</th>\n",
       "      <th>LBBJNGFCXDOYMQ</th>\n",
       "      <th>...</th>\n",
       "      <th>NBWDKCDWCBQNQQ</th>\n",
       "      <th>WKHWTIZYRUWECB</th>\n",
       "      <th>HYIFFZAQXPUEAU</th>\n",
       "      <th>GYOZYWVXFNDGLU</th>\n",
       "      <th>YNDYKPRNFWPPFU</th>\n",
       "      <th>IYODIJVWGPRBGQ</th>\n",
       "      <th>XHCADAYNFIFUHF</th>\n",
       "      <th>OJAGBDHRHPCDLN</th>\n",
       "      <th>POUZLUJYBWGJJO</th>\n",
       "      <th>JAYJEXYYCNLGOQ</th>\n",
       "    </tr>\n",
       "  </thead>\n",
       "  <tbody>\n",
       "    <tr>\n",
       "      <th>JJGYRVZPUJUFTR</th>\n",
       "      <td>1.000000</td>\n",
       "      <td>0.075630</td>\n",
       "      <td>0.104478</td>\n",
       "      <td>0.109756</td>\n",
       "      <td>0.118812</td>\n",
       "      <td>0.135922</td>\n",
       "      <td>0.126582</td>\n",
       "      <td>0.081395</td>\n",
       "      <td>0.112500</td>\n",
       "      <td>0.088235</td>\n",
       "      <td>...</td>\n",
       "      <td>0.102273</td>\n",
       "      <td>0.132353</td>\n",
       "      <td>0.149254</td>\n",
       "      <td>0.173333</td>\n",
       "      <td>0.098592</td>\n",
       "      <td>0.027397</td>\n",
       "      <td>0.087500</td>\n",
       "      <td>0.135417</td>\n",
       "      <td>0.089552</td>\n",
       "      <td>0.145455</td>\n",
       "    </tr>\n",
       "    <tr>\n",
       "      <th>CSVWQRLFFUNUND</th>\n",
       "      <td>0.075630</td>\n",
       "      <td>1.000000</td>\n",
       "      <td>0.066667</td>\n",
       "      <td>0.093220</td>\n",
       "      <td>0.102190</td>\n",
       "      <td>0.131387</td>\n",
       "      <td>0.076271</td>\n",
       "      <td>0.100840</td>\n",
       "      <td>0.085470</td>\n",
       "      <td>0.087379</td>\n",
       "      <td>...</td>\n",
       "      <td>0.125000</td>\n",
       "      <td>0.045455</td>\n",
       "      <td>0.055046</td>\n",
       "      <td>0.095652</td>\n",
       "      <td>0.054545</td>\n",
       "      <td>0.097087</td>\n",
       "      <td>0.068376</td>\n",
       "      <td>0.113636</td>\n",
       "      <td>0.037383</td>\n",
       "      <td>0.123288</td>\n",
       "    </tr>\n",
       "    <tr>\n",
       "      <th>PXWNBAGCFUDYBE</th>\n",
       "      <td>0.104478</td>\n",
       "      <td>0.066667</td>\n",
       "      <td>1.000000</td>\n",
       "      <td>0.136364</td>\n",
       "      <td>0.114943</td>\n",
       "      <td>0.122222</td>\n",
       "      <td>0.196721</td>\n",
       "      <td>0.132353</td>\n",
       "      <td>0.140625</td>\n",
       "      <td>0.094340</td>\n",
       "      <td>...</td>\n",
       "      <td>0.208955</td>\n",
       "      <td>0.173077</td>\n",
       "      <td>0.129630</td>\n",
       "      <td>0.090909</td>\n",
       "      <td>0.107143</td>\n",
       "      <td>0.113208</td>\n",
       "      <td>0.126984</td>\n",
       "      <td>0.134146</td>\n",
       "      <td>0.163265</td>\n",
       "      <td>0.078431</td>\n",
       "    </tr>\n",
       "    <tr>\n",
       "      <th>DFJVUWAHTQPQCV</th>\n",
       "      <td>0.109756</td>\n",
       "      <td>0.093220</td>\n",
       "      <td>0.136364</td>\n",
       "      <td>1.000000</td>\n",
       "      <td>0.096154</td>\n",
       "      <td>0.102804</td>\n",
       "      <td>0.139241</td>\n",
       "      <td>0.080460</td>\n",
       "      <td>0.111111</td>\n",
       "      <td>0.071429</td>\n",
       "      <td>...</td>\n",
       "      <td>0.126437</td>\n",
       "      <td>0.083333</td>\n",
       "      <td>0.114286</td>\n",
       "      <td>0.085366</td>\n",
       "      <td>0.067568</td>\n",
       "      <td>0.055556</td>\n",
       "      <td>0.128205</td>\n",
       "      <td>0.111111</td>\n",
       "      <td>0.121212</td>\n",
       "      <td>0.094828</td>\n",
       "    </tr>\n",
       "    <tr>\n",
       "      <th>PNOLBYVRLYUCIC</th>\n",
       "      <td>0.118812</td>\n",
       "      <td>0.102190</td>\n",
       "      <td>0.114943</td>\n",
       "      <td>0.096154</td>\n",
       "      <td>1.000000</td>\n",
       "      <td>0.166667</td>\n",
       "      <td>0.131313</td>\n",
       "      <td>0.094340</td>\n",
       "      <td>0.120000</td>\n",
       "      <td>0.127907</td>\n",
       "      <td>...</td>\n",
       "      <td>0.304348</td>\n",
       "      <td>0.111111</td>\n",
       "      <td>0.098901</td>\n",
       "      <td>0.180851</td>\n",
       "      <td>0.086022</td>\n",
       "      <td>0.065217</td>\n",
       "      <td>0.309524</td>\n",
       "      <td>0.257143</td>\n",
       "      <td>0.090909</td>\n",
       "      <td>0.128788</td>\n",
       "    </tr>\n",
       "  </tbody>\n",
       "</table>\n",
       "<p>5 rows × 15062 columns</p>\n",
       "</div>"
      ],
      "text/plain": [
       "                JJGYRVZPUJUFTR  CSVWQRLFFUNUND  PXWNBAGCFUDYBE  \\\n",
       "JJGYRVZPUJUFTR        1.000000        0.075630        0.104478   \n",
       "CSVWQRLFFUNUND        0.075630        1.000000        0.066667   \n",
       "PXWNBAGCFUDYBE        0.104478        0.066667        1.000000   \n",
       "DFJVUWAHTQPQCV        0.109756        0.093220        0.136364   \n",
       "PNOLBYVRLYUCIC        0.118812        0.102190        0.114943   \n",
       "\n",
       "                DFJVUWAHTQPQCV  PNOLBYVRLYUCIC  HBNPJJILLOYFJU  \\\n",
       "JJGYRVZPUJUFTR        0.109756        0.118812        0.135922   \n",
       "CSVWQRLFFUNUND        0.093220        0.102190        0.131387   \n",
       "PXWNBAGCFUDYBE        0.136364        0.114943        0.122222   \n",
       "DFJVUWAHTQPQCV        1.000000        0.096154        0.102804   \n",
       "PNOLBYVRLYUCIC        0.096154        1.000000        0.166667   \n",
       "\n",
       "                IVKGLRZLTNXWKF  WHZAJDSPQDCUBB  LFVSQVHIKFDYFI  \\\n",
       "JJGYRVZPUJUFTR        0.126582        0.081395        0.112500   \n",
       "CSVWQRLFFUNUND        0.076271        0.100840        0.085470   \n",
       "PXWNBAGCFUDYBE        0.196721        0.132353        0.140625   \n",
       "DFJVUWAHTQPQCV        0.139241        0.080460        0.111111   \n",
       "PNOLBYVRLYUCIC        0.131313        0.094340        0.120000   \n",
       "\n",
       "                LBBJNGFCXDOYMQ  ...  NBWDKCDWCBQNQQ  WKHWTIZYRUWECB  \\\n",
       "JJGYRVZPUJUFTR        0.088235  ...        0.102273        0.132353   \n",
       "CSVWQRLFFUNUND        0.087379  ...        0.125000        0.045455   \n",
       "PXWNBAGCFUDYBE        0.094340  ...        0.208955        0.173077   \n",
       "DFJVUWAHTQPQCV        0.071429  ...        0.126437        0.083333   \n",
       "PNOLBYVRLYUCIC        0.127907  ...        0.304348        0.111111   \n",
       "\n",
       "                HYIFFZAQXPUEAU  GYOZYWVXFNDGLU  YNDYKPRNFWPPFU  \\\n",
       "JJGYRVZPUJUFTR        0.149254        0.173333        0.098592   \n",
       "CSVWQRLFFUNUND        0.055046        0.095652        0.054545   \n",
       "PXWNBAGCFUDYBE        0.129630        0.090909        0.107143   \n",
       "DFJVUWAHTQPQCV        0.114286        0.085366        0.067568   \n",
       "PNOLBYVRLYUCIC        0.098901        0.180851        0.086022   \n",
       "\n",
       "                IYODIJVWGPRBGQ  XHCADAYNFIFUHF  OJAGBDHRHPCDLN  \\\n",
       "JJGYRVZPUJUFTR        0.027397        0.087500        0.135417   \n",
       "CSVWQRLFFUNUND        0.097087        0.068376        0.113636   \n",
       "PXWNBAGCFUDYBE        0.113208        0.126984        0.134146   \n",
       "DFJVUWAHTQPQCV        0.055556        0.128205        0.111111   \n",
       "PNOLBYVRLYUCIC        0.065217        0.309524        0.257143   \n",
       "\n",
       "                POUZLUJYBWGJJO  JAYJEXYYCNLGOQ  \n",
       "JJGYRVZPUJUFTR        0.089552        0.145455  \n",
       "CSVWQRLFFUNUND        0.037383        0.123288  \n",
       "PXWNBAGCFUDYBE        0.163265        0.078431  \n",
       "DFJVUWAHTQPQCV        0.121212        0.094828  \n",
       "PNOLBYVRLYUCIC        0.090909        0.128788  \n",
       "\n",
       "[5 rows x 15062 columns]"
      ]
     },
     "execution_count": 40,
     "metadata": {},
     "output_type": "execute_result"
    }
   ],
   "source": [
    "tanimoto_df = pd.DataFrame(scores_mol_similarity, columns=metadata.inchikey14.values, index=metadata.inchikey14.values)\n",
    "tanimoto_df.head()"
   ]
  },
  {
   "cell_type": "code",
   "execution_count": 41,
   "metadata": {},
   "outputs": [],
   "source": [
    "filename = os.path.join(path_data, \"ALL_GNPS_210125_positive_morgan2_1024_tanimoto_scores.pickle\")\n",
    "tanimoto_df.to_pickle(filename)"
   ]
  },
  {
   "cell_type": "code",
   "execution_count": 42,
   "metadata": {},
   "outputs": [],
   "source": [
    "filename = os.path.join(path_data, \"ALL_GNPS_210125_positive_morgan2_1024_tanimoto_labels.csv\")\n",
    "metadata.inchikey14.to_csv(filename)"
   ]
  },
  {
   "cell_type": "code",
   "execution_count": 11,
   "metadata": {},
   "outputs": [],
   "source": [
    "ref_score_bins = np.linspace(0,1.0, 11)\n",
    "bin_content = tanimoto_distribution(scores_mol_similarity, ref_score_bins)"
   ]
  },
  {
   "cell_type": "code",
   "execution_count": 12,
   "metadata": {},
   "outputs": [],
   "source": [
    "filename = os.path.join(path_data, \"pair_distribution_Tanimoto_morgan2_1024.npy\")\n",
    "np.save(filename, bin_content)"
   ]
  },
  {
   "cell_type": "code",
   "execution_count": 13,
   "metadata": {},
   "outputs": [
    {
     "data": {
      "text/plain": [
       "Text(0, 0.5, 'pair occurences in full training data set')"
      ]
     },
     "execution_count": 13,
     "metadata": {},
     "output_type": "execute_result"
    },
    {
     "data": {
      "image/png": "[encoded data removed]",
      "text/plain": [
       "<Figure size 600x420 with 1 Axes>"
      ]
     },
     "metadata": {
      "needs_background": "light"
     },
     "output_type": "display_data"
    }
   ],
   "source": [
    "from matplotlib import pyplot as plt \n",
    "\n",
    "bounds = [f\"{a:.1f} to {a+0.1:.1f}\" for a in ref_score_bins[:-1]]\n",
    "\n",
    "plt.figure(figsize=(5,3.5), dpi=120)\n",
    "plt.plot(ref_score_bins[:-1], bin_content, \"o--\")\n",
    "plt.yscale('log')\n",
    "plt.xticks(ref_score_bins[:-1],\n",
    "           bounds, fontsize=9, rotation='vertical')\n",
    "plt.xlabel(\"Tanimoto scores (morgan2, 1024bits)\")\n",
    "plt.ylim(1e4)\n",
    "plt.ylabel(\"pair occurences in full training data set\")"
   ]
  },
  {
   "cell_type": "code",
   "execution_count": null,
   "metadata": {},
   "outputs": [],
   "source": []
  },
  {
   "cell_type": "markdown",
   "metadata": {},
   "source": [
    "## Add fingerprints (where necessary) --> morgan-3, 2048 bits"
   ]
  },
  {
   "cell_type": "code",
   "execution_count": 14,
   "metadata": {},
   "outputs": [
    {
     "data": {
      "application/vnd.jupyter.widget-view+json": {
       "model_id": "0c697bd1a8a94ecb8efb4e378e9b3517",
       "version_major": 2,
       "version_minor": 0
      },
      "text/plain": [
       "  0%|          | 0/15062 [00:00<?, ?it/s]"
      ]
     },
     "metadata": {},
     "output_type": "display_data"
    }
   ],
   "source": [
    "from matchms.filtering.add_fingerprint import add_fingerprint\n",
    "\n",
    "for i in tqdm(metadata.ID.values):\n",
    "    spectrums[i] = add_fingerprint(spectrums[i],\n",
    "                                   fingerprint_type=\"morgan3\", nbits=2048)"
   ]
  },
  {
   "cell_type": "code",
   "execution_count": 15,
   "metadata": {},
   "outputs": [
    {
     "data": {
      "application/vnd.jupyter.widget-view+json": {
       "model_id": "99ac7489651142589c15457760e299db",
       "version_major": 2,
       "version_minor": 0
      },
      "text/plain": [
       "  0%|          | 0/15062 [00:00<?, ?it/s]"
      ]
     },
     "metadata": {},
     "output_type": "display_data"
    }
   ],
   "source": [
    "for i in tqdm(metadata.ID.values):\n",
    "    if np.any(np.isnan(spectrums[i].get(\"fingerprint\"))):\n",
    "        print(i)"
   ]
  },
  {
   "cell_type": "markdown",
   "metadata": {},
   "source": [
    "### Pick one spectrum per InChIKey and calculate fingerprint based similarities"
   ]
  },
  {
   "cell_type": "code",
   "execution_count": 16,
   "metadata": {},
   "outputs": [],
   "source": [
    "from matchms.similarity import FingerprintSimilarity\n",
    "\n",
    "spectrums_represent = [spectrums[i] for i in metadata.ID.values]\n",
    "\n",
    "similarity_measure = FingerprintSimilarity(similarity_measure=\"jaccard\")\n",
    "scores_mol_similarity = similarity_measure.matrix(spectrums_represent, spectrums_represent)"
   ]
  },
  {
   "cell_type": "code",
   "execution_count": 17,
   "metadata": {},
   "outputs": [],
   "source": [
    "filename = os.path.join(path_data, \"ALL_GNPS_210125_morgan3_2048_tanimoto_scores.npy\")\n",
    "np.save(filename, scores_mol_similarity)"
   ]
  },
  {
   "cell_type": "code",
   "execution_count": 18,
   "metadata": {},
   "outputs": [
    {
     "data": {
      "text/plain": [
       "(15062, 15062)"
      ]
     },
     "execution_count": 18,
     "metadata": {},
     "output_type": "execute_result"
    }
   ],
   "source": [
    "scores_mol_similarity.shape"
   ]
  },
  {
   "cell_type": "code",
   "execution_count": 19,
   "metadata": {},
   "outputs": [
    {
     "data": {
      "text/html": [
       "<div>\n",
       "<style scoped>\n",
       "    .dataframe tbody tr th:only-of-type {\n",
       "        vertical-align: middle;\n",
       "    }\n",
       "\n",
       "    .dataframe tbody tr th {\n",
       "        vertical-align: top;\n",
       "    }\n",
       "\n",
       "    .dataframe thead th {\n",
       "        text-align: right;\n",
       "    }\n",
       "</style>\n",
       "<table border=\"1\" class=\"dataframe\">\n",
       "  <thead>\n",
       "    <tr style=\"text-align: right;\">\n",
       "      <th></th>\n",
       "      <th>JJGYRVZPUJUFTR</th>\n",
       "      <th>CSVWQRLFFUNUND</th>\n",
       "      <th>PXWNBAGCFUDYBE</th>\n",
       "      <th>DFJVUWAHTQPQCV</th>\n",
       "      <th>PNOLBYVRLYUCIC</th>\n",
       "      <th>HBNPJJILLOYFJU</th>\n",
       "      <th>IVKGLRZLTNXWKF</th>\n",
       "      <th>WHZAJDSPQDCUBB</th>\n",
       "      <th>LFVSQVHIKFDYFI</th>\n",
       "      <th>LBBJNGFCXDOYMQ</th>\n",
       "      <th>...</th>\n",
       "      <th>NBWDKCDWCBQNQQ</th>\n",
       "      <th>WKHWTIZYRUWECB</th>\n",
       "      <th>HYIFFZAQXPUEAU</th>\n",
       "      <th>GYOZYWVXFNDGLU</th>\n",
       "      <th>YNDYKPRNFWPPFU</th>\n",
       "      <th>IYODIJVWGPRBGQ</th>\n",
       "      <th>XHCADAYNFIFUHF</th>\n",
       "      <th>OJAGBDHRHPCDLN</th>\n",
       "      <th>POUZLUJYBWGJJO</th>\n",
       "      <th>JAYJEXYYCNLGOQ</th>\n",
       "    </tr>\n",
       "  </thead>\n",
       "  <tbody>\n",
       "    <tr>\n",
       "      <th>JJGYRVZPUJUFTR</th>\n",
       "      <td>1.000000</td>\n",
       "      <td>0.077381</td>\n",
       "      <td>0.073684</td>\n",
       "      <td>0.054545</td>\n",
       "      <td>0.106383</td>\n",
       "      <td>0.105634</td>\n",
       "      <td>0.078947</td>\n",
       "      <td>0.066116</td>\n",
       "      <td>0.100917</td>\n",
       "      <td>0.075269</td>\n",
       "      <td>...</td>\n",
       "      <td>0.079365</td>\n",
       "      <td>0.094737</td>\n",
       "      <td>0.086957</td>\n",
       "      <td>0.116505</td>\n",
       "      <td>0.061224</td>\n",
       "      <td>0.020202</td>\n",
       "      <td>0.081818</td>\n",
       "      <td>0.105263</td>\n",
       "      <td>0.065934</td>\n",
       "      <td>0.085366</td>\n",
       "    </tr>\n",
       "    <tr>\n",
       "      <th>CSVWQRLFFUNUND</th>\n",
       "      <td>0.077381</td>\n",
       "      <td>1.000000</td>\n",
       "      <td>0.057692</td>\n",
       "      <td>0.078313</td>\n",
       "      <td>0.073529</td>\n",
       "      <td>0.094527</td>\n",
       "      <td>0.044944</td>\n",
       "      <td>0.066667</td>\n",
       "      <td>0.051724</td>\n",
       "      <td>0.058442</td>\n",
       "      <td>...</td>\n",
       "      <td>0.093407</td>\n",
       "      <td>0.030864</td>\n",
       "      <td>0.044872</td>\n",
       "      <td>0.078788</td>\n",
       "      <td>0.018293</td>\n",
       "      <td>0.078947</td>\n",
       "      <td>0.040000</td>\n",
       "      <td>0.071429</td>\n",
       "      <td>0.025641</td>\n",
       "      <td>0.080717</td>\n",
       "    </tr>\n",
       "    <tr>\n",
       "      <th>PXWNBAGCFUDYBE</th>\n",
       "      <td>0.073684</td>\n",
       "      <td>0.057692</td>\n",
       "      <td>1.000000</td>\n",
       "      <td>0.075269</td>\n",
       "      <td>0.068702</td>\n",
       "      <td>0.084615</td>\n",
       "      <td>0.126316</td>\n",
       "      <td>0.097087</td>\n",
       "      <td>0.094737</td>\n",
       "      <td>0.063291</td>\n",
       "      <td>...</td>\n",
       "      <td>0.111111</td>\n",
       "      <td>0.113924</td>\n",
       "      <td>0.090909</td>\n",
       "      <td>0.087912</td>\n",
       "      <td>0.086420</td>\n",
       "      <td>0.075949</td>\n",
       "      <td>0.084211</td>\n",
       "      <td>0.091667</td>\n",
       "      <td>0.109589</td>\n",
       "      <td>0.038462</td>\n",
       "    </tr>\n",
       "    <tr>\n",
       "      <th>DFJVUWAHTQPQCV</th>\n",
       "      <td>0.054545</td>\n",
       "      <td>0.078313</td>\n",
       "      <td>0.075269</td>\n",
       "      <td>1.000000</td>\n",
       "      <td>0.062069</td>\n",
       "      <td>0.068966</td>\n",
       "      <td>0.100000</td>\n",
       "      <td>0.058333</td>\n",
       "      <td>0.072727</td>\n",
       "      <td>0.053763</td>\n",
       "      <td>...</td>\n",
       "      <td>0.063492</td>\n",
       "      <td>0.073684</td>\n",
       "      <td>0.065217</td>\n",
       "      <td>0.066038</td>\n",
       "      <td>0.040816</td>\n",
       "      <td>0.042105</td>\n",
       "      <td>0.083333</td>\n",
       "      <td>0.074074</td>\n",
       "      <td>0.091954</td>\n",
       "      <td>0.066667</td>\n",
       "    </tr>\n",
       "    <tr>\n",
       "      <th>PNOLBYVRLYUCIC</th>\n",
       "      <td>0.106383</td>\n",
       "      <td>0.073529</td>\n",
       "      <td>0.068702</td>\n",
       "      <td>0.062069</td>\n",
       "      <td>1.000000</td>\n",
       "      <td>0.101695</td>\n",
       "      <td>0.087838</td>\n",
       "      <td>0.063694</td>\n",
       "      <td>0.089655</td>\n",
       "      <td>0.095238</td>\n",
       "      <td>...</td>\n",
       "      <td>0.234043</td>\n",
       "      <td>0.083969</td>\n",
       "      <td>0.053435</td>\n",
       "      <td>0.133333</td>\n",
       "      <td>0.059701</td>\n",
       "      <td>0.053030</td>\n",
       "      <td>0.207692</td>\n",
       "      <td>0.170886</td>\n",
       "      <td>0.062992</td>\n",
       "      <td>0.080000</td>\n",
       "    </tr>\n",
       "  </tbody>\n",
       "</table>\n",
       "<p>5 rows × 15062 columns</p>\n",
       "</div>"
      ],
      "text/plain": [
       "                JJGYRVZPUJUFTR  CSVWQRLFFUNUND  PXWNBAGCFUDYBE  \\\n",
       "JJGYRVZPUJUFTR        1.000000        0.077381        0.073684   \n",
       "CSVWQRLFFUNUND        0.077381        1.000000        0.057692   \n",
       "PXWNBAGCFUDYBE        0.073684        0.057692        1.000000   \n",
       "DFJVUWAHTQPQCV        0.054545        0.078313        0.075269   \n",
       "PNOLBYVRLYUCIC        0.106383        0.073529        0.068702   \n",
       "\n",
       "                DFJVUWAHTQPQCV  PNOLBYVRLYUCIC  HBNPJJILLOYFJU  \\\n",
       "JJGYRVZPUJUFTR        0.054545        0.106383        0.105634   \n",
       "CSVWQRLFFUNUND        0.078313        0.073529        0.094527   \n",
       "PXWNBAGCFUDYBE        0.075269        0.068702        0.084615   \n",
       "DFJVUWAHTQPQCV        1.000000        0.062069        0.068966   \n",
       "PNOLBYVRLYUCIC        0.062069        1.000000        0.101695   \n",
       "\n",
       "                IVKGLRZLTNXWKF  WHZAJDSPQDCUBB  LFVSQVHIKFDYFI  \\\n",
       "JJGYRVZPUJUFTR        0.078947        0.066116        0.100917   \n",
       "CSVWQRLFFUNUND        0.044944        0.066667        0.051724   \n",
       "PXWNBAGCFUDYBE        0.126316        0.097087        0.094737   \n",
       "DFJVUWAHTQPQCV        0.100000        0.058333        0.072727   \n",
       "PNOLBYVRLYUCIC        0.087838        0.063694        0.089655   \n",
       "\n",
       "                LBBJNGFCXDOYMQ  ...  NBWDKCDWCBQNQQ  WKHWTIZYRUWECB  \\\n",
       "JJGYRVZPUJUFTR        0.075269  ...        0.079365        0.094737   \n",
       "CSVWQRLFFUNUND        0.058442  ...        0.093407        0.030864   \n",
       "PXWNBAGCFUDYBE        0.063291  ...        0.111111        0.113924   \n",
       "DFJVUWAHTQPQCV        0.053763  ...        0.063492        0.073684   \n",
       "PNOLBYVRLYUCIC        0.095238  ...        0.234043        0.083969   \n",
       "\n",
       "                HYIFFZAQXPUEAU  GYOZYWVXFNDGLU  YNDYKPRNFWPPFU  \\\n",
       "JJGYRVZPUJUFTR        0.086957        0.116505        0.061224   \n",
       "CSVWQRLFFUNUND        0.044872        0.078788        0.018293   \n",
       "PXWNBAGCFUDYBE        0.090909        0.087912        0.086420   \n",
       "DFJVUWAHTQPQCV        0.065217        0.066038        0.040816   \n",
       "PNOLBYVRLYUCIC        0.053435        0.133333        0.059701   \n",
       "\n",
       "                IYODIJVWGPRBGQ  XHCADAYNFIFUHF  OJAGBDHRHPCDLN  \\\n",
       "JJGYRVZPUJUFTR        0.020202        0.081818        0.105263   \n",
       "CSVWQRLFFUNUND        0.078947        0.040000        0.071429   \n",
       "PXWNBAGCFUDYBE        0.075949        0.084211        0.091667   \n",
       "DFJVUWAHTQPQCV        0.042105        0.083333        0.074074   \n",
       "PNOLBYVRLYUCIC        0.053030        0.207692        0.170886   \n",
       "\n",
       "                POUZLUJYBWGJJO  JAYJEXYYCNLGOQ  \n",
       "JJGYRVZPUJUFTR        0.065934        0.085366  \n",
       "CSVWQRLFFUNUND        0.025641        0.080717  \n",
       "PXWNBAGCFUDYBE        0.109589        0.038462  \n",
       "DFJVUWAHTQPQCV        0.091954        0.066667  \n",
       "PNOLBYVRLYUCIC        0.062992        0.080000  \n",
       "\n",
       "[5 rows x 15062 columns]"
      ]
     },
     "execution_count": 19,
     "metadata": {},
     "output_type": "execute_result"
    }
   ],
   "source": [
    "tanimoto_df = pd.DataFrame(scores_mol_similarity, columns=metadata.inchikey14.values, index=metadata.inchikey14.values)\n",
    "tanimoto_df.head()"
   ]
  },
  {
   "cell_type": "code",
   "execution_count": 20,
   "metadata": {},
   "outputs": [],
   "source": [
    "filename = os.path.join(path_data, \"ALL_GNPS_210125_morgan3_2048_tanimoto_scores.pickle\")\n",
    "tanimoto_df.to_pickle(filename)"
   ]
  },
  {
   "cell_type": "code",
   "execution_count": 30,
   "metadata": {},
   "outputs": [],
   "source": [
    "filename = os.path.join(path_data, \"ALL_GNPS_210125_morgan3_2048_tanimoto_labels.csv\")\n",
    "metadata.inchikey14.to_csv(filename)"
   ]
  },
  {
   "cell_type": "code",
   "execution_count": 31,
   "metadata": {},
   "outputs": [],
   "source": [
    "import csv\n",
    "labels =[]\n",
    "with open(filename, 'r') as file:\n",
    "    reader = csv.reader(file)\n",
    "    for row in reader:\n",
    "        labels+=row"
   ]
  },
  {
   "cell_type": "code",
   "execution_count": 33,
   "metadata": {},
   "outputs": [
    {
     "data": {
      "text/plain": [
       "15062"
      ]
     },
     "execution_count": 33,
     "metadata": {},
     "output_type": "execute_result"
    }
   ],
   "source": [
    "len(labels)"
   ]
  },
  {
   "cell_type": "code",
   "execution_count": 38,
   "metadata": {},
   "outputs": [],
   "source": [
    "ref_score_bins = np.linspace(0,1.0, 11)\n",
    "bin_content = tanimoto_distribution(scores_mol_similarity, ref_score_bins)"
   ]
  },
  {
   "cell_type": "code",
   "execution_count": 43,
   "metadata": {},
   "outputs": [],
   "source": [
    "filename = os.path.join(path_data, \"pair_distribution_Tanimoto_morgan3_2048.npy\")\n",
    "np.save(filename, bin_content)"
   ]
  },
  {
   "cell_type": "code",
   "execution_count": 42,
   "metadata": {},
   "outputs": [
    {
     "data": {
      "text/plain": [
       "Text(0, 0.5, 'pair occurences in full training data set')"
      ]
     },
     "execution_count": 42,
     "metadata": {},
     "output_type": "execute_result"
    },
    {
     "data": {
      "image/png": "[encoded data removed]",
      "text/plain": [
       "<Figure size 600x420 with 1 Axes>"
      ]
     },
     "metadata": {
      "needs_background": "light"
     },
     "output_type": "display_data"
    }
   ],
   "source": [
    "from matplotlib import pyplot as plt \n",
    "\n",
    "bounds = [f\"{a:.1f} to {a+0.1:.1f}\" for a in ref_score_bins[:-1]]\n",
    "\n",
    "plt.figure(figsize=(5,3.5), dpi=120)\n",
    "plt.plot(bins[:-1], bin_content, \"o--\")\n",
    "plt.yscale('log')\n",
    "plt.xticks(ref_score_bins[:-1],\n",
    "           bounds, fontsize=9, rotation='vertical')\n",
    "plt.xlabel(\"Tanimoto scores\")\n",
    "plt.ylim(1e4)\n",
    "plt.ylabel(\"pair occurences in full training data set\")"
   ]
  },
  {
   "cell_type": "markdown",
   "metadata": {},
   "source": [
    "# Dice score (morgan2-2048 fingerprints)"
   ]
  },
  {
   "cell_type": "code",
   "execution_count": 11,
   "metadata": {},
   "outputs": [],
   "source": [
    "from matchms.similarity import FingerprintSimilarity\n",
    "\n",
    "spectrums_represent = [spectrums[i] for i in metadata.ID.values]\n",
    "\n",
    "similarity_measure = FingerprintSimilarity(similarity_measure=\"dice\")\n",
    "scores_mol_similarity = similarity_measure.matrix(spectrums_represent, spectrums_represent)"
   ]
  },
  {
   "cell_type": "code",
   "execution_count": 12,
   "metadata": {},
   "outputs": [],
   "source": [
    "filename = os.path.join(path_data, \"ALL_GNPS_210125_morgan2_2048_dice_scores.npy\")\n",
    "np.save(filename, scores_mol_similarity)"
   ]
  },
  {
   "cell_type": "code",
   "execution_count": 13,
   "metadata": {},
   "outputs": [
    {
     "data": {
      "text/plain": [
       "(15062, 15062)"
      ]
     },
     "execution_count": 13,
     "metadata": {},
     "output_type": "execute_result"
    }
   ],
   "source": [
    "scores_mol_similarity.shape"
   ]
  },
  {
   "cell_type": "code",
   "execution_count": 14,
   "metadata": {},
   "outputs": [
    {
     "data": {
      "text/html": [
       "<div>\n",
       "<style scoped>\n",
       "    .dataframe tbody tr th:only-of-type {\n",
       "        vertical-align: middle;\n",
       "    }\n",
       "\n",
       "    .dataframe tbody tr th {\n",
       "        vertical-align: top;\n",
       "    }\n",
       "\n",
       "    .dataframe thead th {\n",
       "        text-align: right;\n",
       "    }\n",
       "</style>\n",
       "<table border=\"1\" class=\"dataframe\">\n",
       "  <thead>\n",
       "    <tr style=\"text-align: right;\">\n",
       "      <th></th>\n",
       "      <th>JJGYRVZPUJUFTR</th>\n",
       "      <th>CSVWQRLFFUNUND</th>\n",
       "      <th>PXWNBAGCFUDYBE</th>\n",
       "      <th>DFJVUWAHTQPQCV</th>\n",
       "      <th>PNOLBYVRLYUCIC</th>\n",
       "      <th>HBNPJJILLOYFJU</th>\n",
       "      <th>IVKGLRZLTNXWKF</th>\n",
       "      <th>WHZAJDSPQDCUBB</th>\n",
       "      <th>LFVSQVHIKFDYFI</th>\n",
       "      <th>LBBJNGFCXDOYMQ</th>\n",
       "      <th>...</th>\n",
       "      <th>NBWDKCDWCBQNQQ</th>\n",
       "      <th>WKHWTIZYRUWECB</th>\n",
       "      <th>HYIFFZAQXPUEAU</th>\n",
       "      <th>GYOZYWVXFNDGLU</th>\n",
       "      <th>YNDYKPRNFWPPFU</th>\n",
       "      <th>IYODIJVWGPRBGQ</th>\n",
       "      <th>XHCADAYNFIFUHF</th>\n",
       "      <th>OJAGBDHRHPCDLN</th>\n",
       "      <th>POUZLUJYBWGJJO</th>\n",
       "      <th>JAYJEXYYCNLGOQ</th>\n",
       "    </tr>\n",
       "  </thead>\n",
       "  <tbody>\n",
       "    <tr>\n",
       "      <th>JJGYRVZPUJUFTR</th>\n",
       "      <td>1.000000</td>\n",
       "      <td>0.139535</td>\n",
       "      <td>0.186667</td>\n",
       "      <td>0.131868</td>\n",
       "      <td>0.194690</td>\n",
       "      <td>0.237288</td>\n",
       "      <td>0.177778</td>\n",
       "      <td>0.148936</td>\n",
       "      <td>0.202247</td>\n",
       "      <td>0.162162</td>\n",
       "      <td>...</td>\n",
       "      <td>0.183673</td>\n",
       "      <td>0.233766</td>\n",
       "      <td>0.207792</td>\n",
       "      <td>0.244444</td>\n",
       "      <td>0.153846</td>\n",
       "      <td>0.053333</td>\n",
       "      <td>0.159091</td>\n",
       "      <td>0.218182</td>\n",
       "      <td>0.164384</td>\n",
       "      <td>0.222222</td>\n",
       "    </tr>\n",
       "    <tr>\n",
       "      <th>CSVWQRLFFUNUND</th>\n",
       "      <td>0.139535</td>\n",
       "      <td>1.000000</td>\n",
       "      <td>0.122807</td>\n",
       "      <td>0.153846</td>\n",
       "      <td>0.131579</td>\n",
       "      <td>0.203822</td>\n",
       "      <td>0.124031</td>\n",
       "      <td>0.165414</td>\n",
       "      <td>0.140625</td>\n",
       "      <td>0.141593</td>\n",
       "      <td>...</td>\n",
       "      <td>0.189781</td>\n",
       "      <td>0.051724</td>\n",
       "      <td>0.051724</td>\n",
       "      <td>0.170543</td>\n",
       "      <td>0.051282</td>\n",
       "      <td>0.175439</td>\n",
       "      <td>0.110236</td>\n",
       "      <td>0.161074</td>\n",
       "      <td>0.071429</td>\n",
       "      <td>0.121212</td>\n",
       "    </tr>\n",
       "    <tr>\n",
       "      <th>PXWNBAGCFUDYBE</th>\n",
       "      <td>0.186667</td>\n",
       "      <td>0.122807</td>\n",
       "      <td>1.000000</td>\n",
       "      <td>0.184211</td>\n",
       "      <td>0.183673</td>\n",
       "      <td>0.213592</td>\n",
       "      <td>0.293333</td>\n",
       "      <td>0.227848</td>\n",
       "      <td>0.216216</td>\n",
       "      <td>0.169492</td>\n",
       "      <td>...</td>\n",
       "      <td>0.289157</td>\n",
       "      <td>0.290323</td>\n",
       "      <td>0.193548</td>\n",
       "      <td>0.160000</td>\n",
       "      <td>0.190476</td>\n",
       "      <td>0.166667</td>\n",
       "      <td>0.191781</td>\n",
       "      <td>0.189474</td>\n",
       "      <td>0.275862</td>\n",
       "      <td>0.108108</td>\n",
       "    </tr>\n",
       "    <tr>\n",
       "      <th>DFJVUWAHTQPQCV</th>\n",
       "      <td>0.131868</td>\n",
       "      <td>0.153846</td>\n",
       "      <td>0.184211</td>\n",
       "      <td>1.000000</td>\n",
       "      <td>0.140351</td>\n",
       "      <td>0.151261</td>\n",
       "      <td>0.219780</td>\n",
       "      <td>0.126316</td>\n",
       "      <td>0.177778</td>\n",
       "      <td>0.133333</td>\n",
       "      <td>...</td>\n",
       "      <td>0.161616</td>\n",
       "      <td>0.128205</td>\n",
       "      <td>0.153846</td>\n",
       "      <td>0.153846</td>\n",
       "      <td>0.101266</td>\n",
       "      <td>0.105263</td>\n",
       "      <td>0.202247</td>\n",
       "      <td>0.180180</td>\n",
       "      <td>0.189189</td>\n",
       "      <td>0.125984</td>\n",
       "    </tr>\n",
       "    <tr>\n",
       "      <th>PNOLBYVRLYUCIC</th>\n",
       "      <td>0.194690</td>\n",
       "      <td>0.131579</td>\n",
       "      <td>0.183673</td>\n",
       "      <td>0.140351</td>\n",
       "      <td>1.000000</td>\n",
       "      <td>0.226950</td>\n",
       "      <td>0.230088</td>\n",
       "      <td>0.170940</td>\n",
       "      <td>0.214286</td>\n",
       "      <td>0.226804</td>\n",
       "      <td>...</td>\n",
       "      <td>0.446281</td>\n",
       "      <td>0.180000</td>\n",
       "      <td>0.140000</td>\n",
       "      <td>0.300885</td>\n",
       "      <td>0.158416</td>\n",
       "      <td>0.122449</td>\n",
       "      <td>0.450450</td>\n",
       "      <td>0.390977</td>\n",
       "      <td>0.166667</td>\n",
       "      <td>0.187919</td>\n",
       "    </tr>\n",
       "  </tbody>\n",
       "</table>\n",
       "<p>5 rows × 15062 columns</p>\n",
       "</div>"
      ],
      "text/plain": [
       "                JJGYRVZPUJUFTR  CSVWQRLFFUNUND  PXWNBAGCFUDYBE  \\\n",
       "JJGYRVZPUJUFTR        1.000000        0.139535        0.186667   \n",
       "CSVWQRLFFUNUND        0.139535        1.000000        0.122807   \n",
       "PXWNBAGCFUDYBE        0.186667        0.122807        1.000000   \n",
       "DFJVUWAHTQPQCV        0.131868        0.153846        0.184211   \n",
       "PNOLBYVRLYUCIC        0.194690        0.131579        0.183673   \n",
       "\n",
       "                DFJVUWAHTQPQCV  PNOLBYVRLYUCIC  HBNPJJILLOYFJU  \\\n",
       "JJGYRVZPUJUFTR        0.131868        0.194690        0.237288   \n",
       "CSVWQRLFFUNUND        0.153846        0.131579        0.203822   \n",
       "PXWNBAGCFUDYBE        0.184211        0.183673        0.213592   \n",
       "DFJVUWAHTQPQCV        1.000000        0.140351        0.151261   \n",
       "PNOLBYVRLYUCIC        0.140351        1.000000        0.226950   \n",
       "\n",
       "                IVKGLRZLTNXWKF  WHZAJDSPQDCUBB  LFVSQVHIKFDYFI  \\\n",
       "JJGYRVZPUJUFTR        0.177778        0.148936        0.202247   \n",
       "CSVWQRLFFUNUND        0.124031        0.165414        0.140625   \n",
       "PXWNBAGCFUDYBE        0.293333        0.227848        0.216216   \n",
       "DFJVUWAHTQPQCV        0.219780        0.126316        0.177778   \n",
       "PNOLBYVRLYUCIC        0.230088        0.170940        0.214286   \n",
       "\n",
       "                LBBJNGFCXDOYMQ  ...  NBWDKCDWCBQNQQ  WKHWTIZYRUWECB  \\\n",
       "JJGYRVZPUJUFTR        0.162162  ...        0.183673        0.233766   \n",
       "CSVWQRLFFUNUND        0.141593  ...        0.189781        0.051724   \n",
       "PXWNBAGCFUDYBE        0.169492  ...        0.289157        0.290323   \n",
       "DFJVUWAHTQPQCV        0.133333  ...        0.161616        0.128205   \n",
       "PNOLBYVRLYUCIC        0.226804  ...        0.446281        0.180000   \n",
       "\n",
       "                HYIFFZAQXPUEAU  GYOZYWVXFNDGLU  YNDYKPRNFWPPFU  \\\n",
       "JJGYRVZPUJUFTR        0.207792        0.244444        0.153846   \n",
       "CSVWQRLFFUNUND        0.051724        0.170543        0.051282   \n",
       "PXWNBAGCFUDYBE        0.193548        0.160000        0.190476   \n",
       "DFJVUWAHTQPQCV        0.153846        0.153846        0.101266   \n",
       "PNOLBYVRLYUCIC        0.140000        0.300885        0.158416   \n",
       "\n",
       "                IYODIJVWGPRBGQ  XHCADAYNFIFUHF  OJAGBDHRHPCDLN  \\\n",
       "JJGYRVZPUJUFTR        0.053333        0.159091        0.218182   \n",
       "CSVWQRLFFUNUND        0.175439        0.110236        0.161074   \n",
       "PXWNBAGCFUDYBE        0.166667        0.191781        0.189474   \n",
       "DFJVUWAHTQPQCV        0.105263        0.202247        0.180180   \n",
       "PNOLBYVRLYUCIC        0.122449        0.450450        0.390977   \n",
       "\n",
       "                POUZLUJYBWGJJO  JAYJEXYYCNLGOQ  \n",
       "JJGYRVZPUJUFTR        0.164384        0.222222  \n",
       "CSVWQRLFFUNUND        0.071429        0.121212  \n",
       "PXWNBAGCFUDYBE        0.275862        0.108108  \n",
       "DFJVUWAHTQPQCV        0.189189        0.125984  \n",
       "PNOLBYVRLYUCIC        0.166667        0.187919  \n",
       "\n",
       "[5 rows x 15062 columns]"
      ]
     },
     "execution_count": 14,
     "metadata": {},
     "output_type": "execute_result"
    }
   ],
   "source": [
    "dice_df = pd.DataFrame(scores_mol_similarity, columns=metadata.inchikey14.values, index=metadata.inchikey14.values)\n",
    "dice_df.head()"
   ]
  },
  {
   "cell_type": "code",
   "execution_count": 21,
   "metadata": {},
   "outputs": [],
   "source": [
    "filename = os.path.join(path_data, \"ALL_GNPS_210125_morgan2_2048_dice_scores.pickle\")\n",
    "dice_df.to_pickle(filename)"
   ]
  },
  {
   "cell_type": "code",
   "execution_count": 16,
   "metadata": {},
   "outputs": [],
   "source": [
    "ref_score_bins = np.linspace(0,1.0, 11)\n",
    "bin_content = tanimoto_distribution(scores_mol_similarity, ref_score_bins)"
   ]
  },
  {
   "cell_type": "code",
   "execution_count": 17,
   "metadata": {},
   "outputs": [],
   "source": [
    "filename = os.path.join(path_data, \"pair_distribution_dice_morgan2_2048.npy\")\n",
    "np.save(filename, bin_content)"
   ]
  },
  {
   "cell_type": "code",
   "execution_count": 19,
   "metadata": {},
   "outputs": [
    {
     "data": {
      "text/plain": [
       "Text(0, 0.5, 'pair occurences in full training data set')"
      ]
     },
     "execution_count": 19,
     "metadata": {},
     "output_type": "execute_result"
    },
    {
     "data": {
      "image/png": "[encoded data removed]",
      "text/plain": [
       "<Figure size 600x420 with 1 Axes>"
      ]
     },
     "metadata": {
      "needs_background": "light"
     },
     "output_type": "display_data"
    }
   ],
   "source": [
    "from matplotlib import pyplot as plt \n",
    "\n",
    "bounds = [f\"{a:.1f} to {a+0.1:.1f}\" for a in ref_score_bins[:-1]]\n",
    "\n",
    "plt.figure(figsize=(5,3.5), dpi=120)\n",
    "plt.plot(ref_score_bins[:-1], bin_content, \"o--\")\n",
    "plt.yscale('log')\n",
    "plt.xticks(ref_score_bins[:-1],\n",
    "           bounds, fontsize=9, rotation='vertical')\n",
    "plt.xlabel(\"Dice scores (morgan2, 2048bits)\")\n",
    "plt.ylim(1e4)\n",
    "plt.ylabel(\"pair occurences in full training data set\")"
   ]
  },
  {
   "cell_type": "markdown",
   "metadata": {},
   "source": [
    "# Create distributions plot"
   ]
  },
  {
   "cell_type": "code",
   "execution_count": 14,
   "metadata": {},
   "outputs": [],
   "source": [
    "filename = os.path.join(path_data, \"similarities_ALL_GNPS_210125_positive_daylight2048_jaccard.npy\")\n",
    "scores_mol_similarity = np.load(filename)\n",
    "\n",
    "ref_score_bins = np.linspace(0,1.0, 11)\n",
    "bin_content = tanimoto_distribution(scores_mol_similarity, ref_score_bins)\n",
    "\n",
    "filename = os.path.join(path_data, \"pair_distribution_tanimoto_daylight_2048.npy\")\n",
    "np.save(filename, bin_content)"
   ]
  },
  {
   "cell_type": "code",
   "execution_count": 3,
   "metadata": {},
   "outputs": [],
   "source": [
    "bin_contents = []\n",
    "labels = []\n",
    "\n",
    "filename = os.path.join(path_data, \"pair_distribution_Tanimoto_morgan3_2048.npy\")\n",
    "bin_contents.append(np.load(filename))\n",
    "labels.append(\"Tanimoto (morgan3, 2048bits)\")\n",
    "\n",
    "filename = os.path.join(path_data, \"pair_distribution_Tanimoto_morgan2_1024.npy\")\n",
    "bin_contents.append(np.load(filename))\n",
    "labels.append(\"Tanimoto morgan2, 1024bits)\")\n",
    "\n",
    "filename = os.path.join(path_data, \"pair_distribution_Tanimoto_morgan2_2048.npy\")\n",
    "bin_contents.append(np.load(filename))\n",
    "labels.append(\"Tanimoto (morgan2, 2048bits)\")\n",
    "\n",
    "filename = os.path.join(path_data, \"pair_distribution_dice_morgan2_2048.npy\")\n",
    "bin_contents.append(np.load(filename))\n",
    "labels.append(\"Dice (morgan2, 2048bits)\")\n",
    "\n",
    "filename = os.path.join(path_data, \"pair_distribution_tanimoto_daylight_2048.npy\")\n",
    "bin_contents.append(np.load(filename))\n",
    "labels.append(\"Tanimoto (daylight, 2048bits)\")"
   ]
  },
  {
   "cell_type": "code",
   "execution_count": 60,
   "metadata": {},
   "outputs": [
    {
     "data": {
      "image/png": "[encoded data removed]",
      "text/plain": [
       "<Figure size 750x600 with 1 Axes>"
      ]
     },
     "metadata": {
      "needs_background": "light"
     },
     "output_type": "display_data"
    }
   ],
   "source": [
    "from matplotlib import pyplot as plt \n",
    "import matplotlib\n",
    "cmap = matplotlib.cm.get_cmap('inferno')\n",
    "\n",
    "markertypes = [\"o\", \"o\", \"o\", \"s\", \"^\"]\n",
    "bounds = [f\"{a:.1f} to {a+0.1:.1f}\" for a in ref_score_bins[:-1]]\n",
    "\n",
    "plt.figure(figsize=(5,4), dpi=150)\n",
    "for i, bin_content in enumerate(bin_contents):\n",
    "    plt.plot(ref_score_bins[:-1], bin_content, \"o:\", marker=markertypes[i],\n",
    "             markersize=5, color=cmap(i/5), label=labels[i])\n",
    "plt.yscale('log')\n",
    "plt.xticks(ref_score_bins[:-1],\n",
    "           bounds, fontsize=9, rotation='vertical')\n",
    "plt.xlabel(\"Dice scores (morgan2, 2048bits)\")\n",
    "plt.ylim(1e4)\n",
    "plt.ylabel(\"pair occurences in entire data set\")\n",
    "plt.legend(fontsize=7)\n",
    "plt.grid(True)\n",
    "plt.tight_layout()\n",
    "plt.savefig(\"pair_occurences_fingerprint_similaritiesOLD.pdf\")"
   ]
  },
  {
   "cell_type": "code",
   "execution_count": 6,
   "metadata": {},
   "outputs": [],
   "source": [
    "bin_contents_sorted = [bin_contents[i] for i in [0,2,3,4]]\n",
    "labels_sorted = [labels[i] for i in [0,2,3,4]]"
   ]
  },
  {
   "cell_type": "code",
   "execution_count": 8,
   "metadata": {},
   "outputs": [
    {
     "data": {
      "image/png": "[encoded data removed]",
      "text/plain": [
       "<Figure size 600x600 with 1 Axes>"
      ]
     },
     "metadata": {
      "needs_background": "light"
     },
     "output_type": "display_data"
    }
   ],
   "source": [
    "from matplotlib import pyplot as plt \n",
    "import matplotlib\n",
    "cmap = matplotlib.cm.get_cmap('inferno')\n",
    "\n",
    "ref_score_bins = np.linspace(0,1.0, 11)\n",
    "\n",
    "markertypes = [\"o\", \"o\", \"s\", \"^\"]\n",
    "bounds = [f\"{a:.1f} to {a+0.1:.1f}\" for a in ref_score_bins[:-1]]\n",
    "\n",
    "plt.figure(figsize=(4,4), dpi=150)\n",
    "for i in [0,1,2,3]:\n",
    "    bin_content = bin_contents_sorted[i]\n",
    "    plt.plot(ref_score_bins[:-1], bin_content, \"o:\", marker=markertypes[i],\n",
    "             markersize=5, color=cmap(i/4), label=labels_sorted[i])\n",
    "plt.yscale('log')\n",
    "plt.xticks(ref_score_bins[:-1],\n",
    "           bounds, fontsize=9, rotation='vertical')\n",
    "plt.xlabel(\"Structural similarity score\")\n",
    "plt.ylim(1e4)\n",
    "plt.ylabel(\"pair occurences in entire data set\")\n",
    "plt.legend(fontsize=7)\n",
    "plt.grid(True)\n",
    "plt.tight_layout()\n",
    "plt.savefig(\"pair_occurences_fingerprint_similarities.pdf\")"
   ]
  }
 ],
 "metadata": {
  "kernelspec": {
   "display_name": "Python 3",
   "language": "python",
   "name": "python3"
  },
  "language_info": {
   "codemirror_mode": {
    "name": "ipython",
    "version": 3
   },
   "file_extension": ".py",
   "mimetype": "text/x-python",
   "name": "python",
   "nbconvert_exporter": "python",
   "pygments_lexer": "ipython3",
   "version": "3.8.5"
  }
 },
 "nbformat": 4,
 "nbformat_minor": 4
}
