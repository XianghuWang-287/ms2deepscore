{
 "cells": [
  {
   "cell_type": "markdown",
   "metadata": {},
   "source": [
    "# Using ms2deepscore: How to load data, train a model, and compute similarities."
   ]
  },
  {
   "cell_type": "code",
   "execution_count": 9,
   "metadata": {},
   "outputs": [],
   "source": [
    "from pathlib import Path\n",
    "\n",
    "from matchms.importing import load_from_mgf\n",
    "from tensorflow import keras\n",
    "import pandas as pd\n",
    "\n",
    "from ms2deepscore import SpectrumBinner\n",
    "from ms2deepscore.data_generators import DataGeneratorAllSpectrums\n",
    "from ms2deepscore.models import SiameseModel\n",
    "from ms2deepscore import MS2DeepScore"
   ]
  },
  {
   "cell_type": "markdown",
   "metadata": {},
   "source": [
    "## Data loading"
   ]
  },
  {
   "cell_type": "markdown",
   "metadata": {},
   "source": [
    "Here we load in a small sample of test spectrum as well as reference scores data."
   ]
  },
  {
   "cell_type": "code",
   "execution_count": 2,
   "metadata": {},
   "outputs": [],
   "source": [
    "TEST_RESOURCES_PATH = Path.cwd().parent / 'tests' / 'resources'\n",
    "spectrums_filepath = str(TEST_RESOURCES_PATH / \"pesticides_processed.mgf\")\n",
    "score_filepath = str(TEST_RESOURCES_PATH / \"pesticides_tanimoto_scores.json\")"
   ]
  },
  {
   "cell_type": "markdown",
   "metadata": {},
   "source": [
    "Load processed spectrums from .mgf file. For processing itself see [matchms](https://github.com/matchms/matchms) documentation."
   ]
  },
  {
   "cell_type": "code",
   "execution_count": 3,
   "metadata": {},
   "outputs": [],
   "source": [
    "spectrums = list(load_from_mgf(spectrums_filepath))"
   ]
  },
  {
   "cell_type": "markdown",
   "metadata": {},
   "source": [
    "Load reference scores from a .json file. This is a Pandas DataFrame with reference similarity scores (=labels) for compounds identified by inchikeys. Columns and index should be inchikeys, the value in a row x column depicting the similarity score for that pair. Must be symmetric (reference_scores_df[i,j] == reference_scores_df[j,i]) and column names should be identical to the index."
   ]
  },
  {
   "cell_type": "code",
   "execution_count": 4,
   "metadata": {},
   "outputs": [],
   "source": [
    "tanimoto_scores_df = pd.read_json(score_filepath)"
   ]
  },
  {
   "cell_type": "markdown",
   "metadata": {},
   "source": [
    "## Data preprocessing"
   ]
  },
  {
   "cell_type": "markdown",
   "metadata": {},
   "source": [
    "Bin the spectrums using `ms2deepscore.SpectrumBinner`. In this binned form we can feed spectra to the model."
   ]
  },
  {
   "cell_type": "code",
   "execution_count": 5,
   "metadata": {},
   "outputs": [
    {
     "name": "stderr",
     "output_type": "stream",
     "text": [
      "Spectrum binning: 100%|██████████| 76/76 [00:00<00:00, 1366.15it/s]\n",
      "Create BinnedSpectrum instances: 100%|██████████| 76/76 [00:00<00:00, 69478.44it/s]"
     ]
    },
    {
     "name": "stdout",
     "output_type": "stream",
     "text": [
      "Collect spectrum peaks...\n",
      "Calculated embedding dimension: 543.\n",
      "Convert spectrums to binned spectrums...\n"
     ]
    },
    {
     "name": "stderr",
     "output_type": "stream",
     "text": [
      "\n"
     ]
    }
   ],
   "source": [
    "spectrum_binner = SpectrumBinner(1000, mz_min=10.0, mz_max=1000.0, peak_scaling=0.5)\n",
    "binned_spectrums = spectrum_binner.fit_transform(spectrums)"
   ]
  },
  {
   "cell_type": "markdown",
   "metadata": {},
   "source": [
    "Create a data generator that will generate batches of training examples.\n",
    "Each training example consists of a pair of binned spectra and the corresponding reference similarity score."
   ]
  },
  {
   "cell_type": "code",
   "execution_count": 11,
   "metadata": {},
   "outputs": [],
   "source": [
    "dimension = len(spectrum_binner.known_bins)\n",
    "data_generator = DataGeneratorAllSpectrums(binned_spectrums, tanimoto_scores_df,\n",
    "                                           dim=dimension)"
   ]
  },
  {
   "cell_type": "markdown",
   "metadata": {},
   "source": [
    "## Model training"
   ]
  },
  {
   "cell_type": "markdown",
   "metadata": {},
   "source": [
    "Initialize a SiameseModel. It consists of a dense 'base' network that produces an embedding for each of the 2 inputs. The 'head' model computes the cosine similarity between the embeddings."
   ]
  },
  {
   "cell_type": "code",
   "execution_count": 10,
   "metadata": {},
   "outputs": [
    {
     "name": "stdout",
     "output_type": "stream",
     "text": [
      "Model: \"base\"\n",
      "_________________________________________________________________\n",
      "Layer (type)                 Output Shape              Param #   \n",
      "=================================================================\n",
      "base_input (InputLayer)      [(None, 543)]             0         \n",
      "_________________________________________________________________\n",
      "dense1 (Dense)               (None, 200)               108800    \n",
      "_________________________________________________________________\n",
      "normalization1 (BatchNormali (None, 200)               800       \n",
      "_________________________________________________________________\n",
      "dropout1 (Dropout)           (None, 200)               0         \n",
      "_________________________________________________________________\n",
      "dense2 (Dense)               (None, 200)               40200     \n",
      "_________________________________________________________________\n",
      "normalization2 (BatchNormali (None, 200)               800       \n",
      "_________________________________________________________________\n",
      "dropout2 (Dropout)           (None, 200)               0         \n",
      "_________________________________________________________________\n",
      "dense3 (Dense)               (None, 200)               40200     \n",
      "_________________________________________________________________\n",
      "normalization3 (BatchNormali (None, 200)               800       \n",
      "_________________________________________________________________\n",
      "dropout3 (Dropout)           (None, 200)               0         \n",
      "_________________________________________________________________\n",
      "embedding (Dense)            (None, 200)               40200     \n",
      "=================================================================\n",
      "Total params: 231,800\n",
      "Trainable params: 230,600\n",
      "Non-trainable params: 1,200\n",
      "_________________________________________________________________\n",
      "Model: \"head\"\n",
      "__________________________________________________________________________________________________\n",
      "Layer (type)                    Output Shape         Param #     Connected to                     \n",
      "==================================================================================================\n",
      "input_a (InputLayer)            [(None, 543)]        0                                            \n",
      "__________________________________________________________________________________________________\n",
      "input_b (InputLayer)            [(None, 543)]        0                                            \n",
      "__________________________________________________________________________________________________\n",
      "base (Functional)               (None, 200)          231800      input_a[0][0]                    \n",
      "                                                                 input_b[0][0]                    \n",
      "__________________________________________________________________________________________________\n",
      "cosine_similarity (Dot)         (None, 1)            0           base[0][0]                       \n",
      "                                                                 base[1][0]                       \n",
      "==================================================================================================\n",
      "Total params: 231,800\n",
      "Trainable params: 230,600\n",
      "Non-trainable params: 1,200\n",
      "__________________________________________________________________________________________________\n"
     ]
    }
   ],
   "source": [
    "model = SiameseModel(spectrum_binner, base_dims=(200, 200, 200), embedding_dim=200,\n",
    "                     dropout_rate=0.2)\n",
    "model.compile(loss='mse', optimizer=keras.optimizers.Adam(lr=0.001))\n",
    "model.summary()"
   ]
  },
  {
   "cell_type": "markdown",
   "metadata": {},
   "source": [
    "Train the model on the data, for the sake of simplicity we use the same dataset for training and validation."
   ]
  },
  {
   "cell_type": "code",
   "execution_count": 12,
   "metadata": {},
   "outputs": [
    {
     "name": "stdout",
     "output_type": "stream",
     "text": [
      "Epoch 1/2\n",
      "2/2 [==============================] - 2s 413ms/step - loss: 0.0799 - val_loss: 0.0490\n",
      "Epoch 2/2\n",
      "2/2 [==============================] - 0s 167ms/step - loss: 0.1049 - val_loss: 0.0576\n"
     ]
    }
   ],
   "source": [
    "model.fit(data_generator,\n",
    "          validation_data=data_generator,\n",
    "          epochs=2)"
   ]
  },
  {
   "cell_type": "markdown",
   "metadata": {},
   "source": [
    "## Model inference"
   ]
  },
  {
   "cell_type": "markdown",
   "metadata": {},
   "source": [
    "Calculate similariteis for a pair of spectra"
   ]
  },
  {
   "cell_type": "code",
   "execution_count": 15,
   "metadata": {},
   "outputs": [
    {
     "name": "stderr",
     "output_type": "stream",
     "text": [
      "Spectrum binning: 100%|██████████| 1/1 [00:00<00:00, 1144.11it/s]\n",
      "Create BinnedSpectrum instances: 100%|██████████| 1/1 [00:00<00:00, 9532.51it/s]\n",
      "Spectrum binning: 100%|██████████| 1/1 [00:00<00:00, 870.91it/s]\n",
      "Create BinnedSpectrum instances: 100%|██████████| 1/1 [00:00<00:00, 8830.11it/s]"
     ]
    },
    {
     "name": "stdout",
     "output_type": "stream",
     "text": [
      "0.7736728371253915\n"
     ]
    },
    {
     "name": "stderr",
     "output_type": "stream",
     "text": [
      "\n"
     ]
    }
   ],
   "source": [
    "similarity_measure = MS2DeepScore(model)\n",
    "score = similarity_measure.pair(spectrums[0], spectrums[1])\n",
    "print(score)"
   ]
  },
  {
   "cell_type": "markdown",
   "metadata": {},
   "source": [
    "Calculate similarities for a 3x3 matrix of spectra"
   ]
  },
  {
   "cell_type": "code",
   "execution_count": 17,
   "metadata": {},
   "outputs": [
    {
     "name": "stderr",
     "output_type": "stream",
     "text": [
      "Spectrum binning: 100%|██████████| 3/3 [00:00<00:00, 1661.99it/s]\n",
      "Create BinnedSpectrum instances: 100%|██████████| 3/3 [00:00<00:00, 14074.85it/s]\n",
      "Calculating vectors of reference spectrums: 100%|██████████| 3/3 [00:00<00:00, 21.24it/s]\n",
      "Spectrum binning: 100%|██████████| 3/3 [00:00<00:00, 1515.83it/s]\n",
      "Create BinnedSpectrum instances: 100%|██████████| 3/3 [00:00<00:00, 11949.58it/s]\n",
      "Calculating vectors of reference spectrums: 100%|██████████| 3/3 [00:00<00:00, 19.07it/s]"
     ]
    },
    {
     "name": "stdout",
     "output_type": "stream",
     "text": [
      "[[1.         0.77367284 0.76113528]\n",
      " [0.77367284 1.         0.79715826]\n",
      " [0.76113528 0.79715826 1.        ]]\n"
     ]
    },
    {
     "name": "stderr",
     "output_type": "stream",
     "text": [
      "\n"
     ]
    }
   ],
   "source": [
    "scores = similarity_measure.matrix(spectrums[:3], spectrums[:3])\n",
    "print(scores)"
   ]
  },
  {
   "cell_type": "code",
   "execution_count": null,
   "metadata": {},
   "outputs": [],
   "source": []
  }
 ],
 "metadata": {
  "kernelspec": {
   "display_name": "Python 3",
   "language": "python",
   "name": "python3"
  },
  "language_info": {
   "codemirror_mode": {
    "name": "ipython",
    "version": 3
   },
   "file_extension": ".py",
   "mimetype": "text/x-python",
   "name": "python",
   "nbconvert_exporter": "python",
   "pygments_lexer": "ipython3",
   "version": "3.7.9"
  }
 },
 "nbformat": 4,
 "nbformat_minor": 4
}
